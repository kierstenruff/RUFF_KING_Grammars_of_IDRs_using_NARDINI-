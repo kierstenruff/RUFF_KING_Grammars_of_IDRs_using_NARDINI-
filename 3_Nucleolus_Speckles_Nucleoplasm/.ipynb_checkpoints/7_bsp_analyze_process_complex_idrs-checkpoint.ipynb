{
 "cells": [
  {
   "cell_type": "markdown",
   "metadata": {},
   "source": [
    "# Part 0: Load in libraries"
   ]
  },
  {
   "cell_type": "code",
   "execution_count": 1,
   "metadata": {},
   "outputs": [
    {
     "name": "stdout",
     "output_type": "stream",
     "text": [
      "/home/research/kiersten.ruff/fonts/ARIAL.TTF\n"
     ]
    }
   ],
   "source": [
    "import numpy as np\n",
    "import pandas as pd\n",
    "import seaborn as sbn\n",
    "import matplotlib as mpl\n",
    "import matplotlib.pyplot as plt\n",
    "from matplotlib import cm\n",
    "import localcider\n",
    "from localcider.sequenceParameters import SequenceParameters\n",
    "import re\n",
    "import math\n",
    "import scipy\n",
    "from scipy.stats import ks_2samp\n",
    "from matplotlib.patches import Rectangle\n",
    "import pathlib\n",
    "from matplotlib import font_manager\n",
    "from scipy.stats import fisher_exact\n",
    "\n",
    "\n",
    "# Setup the fonts\n",
    "fonts_path = pathlib.Path.home().joinpath('fonts') # i.e. `~/fonts` (update as needed)\n",
    "font_filename = 'ARIAL.TTF'\n",
    "font_path = fonts_path.joinpath(font_filename)\n",
    "print(font_path)\n",
    "\n",
    "font_manager.fontManager.addfont(str(font_path))\n",
    "prop = font_manager.FontProperties(fname=font_path)\n",
    "\n",
    "plt.rcParams['font.family'] = 'sans-serif'\n",
    "plt.rcParams['font.sans-serif'] = prop.get_name()\n",
    "plt.rcParams['pdf.fonttype'] = 42 # Makes text editiable\n",
    "plt.rcParams['ps.fonttype'] = 42\n",
    "\n",
    "COLOR_MAP = dict()\n",
    "COLOR_MAP['A']         = '#8c8c8c'\n",
    "COLOR_MAP['CHNQST']    = '#077a15'\n",
    "COLOR_MAP['DE']        = '#e23a36'\n",
    "COLOR_MAP['FWY']       = '#f58220'\n",
    "COLOR_MAP['G']         = '#86bd8d'\n",
    "COLOR_MAP['ILMV']      = '#231f20'\n",
    "COLOR_MAP['KR']        = '#1725c2'\n",
    "COLOR_MAP['P']         = '#c25fc9'\n",
    "\n",
    "\n",
    "# Using the global color map, we convert the colormap of amino acid\n",
    "# groups, to a map against individual amino acids. This\n",
    "# serves as our internal color map which is used for styling.\n",
    "aacolor_map=dict()\n",
    "for amino_acids in COLOR_MAP:\n",
    "    for amino_acid in amino_acids:\n",
    "        aacolor_map[amino_acid] = COLOR_MAP[amino_acids]"
   ]
  },
  {
   "cell_type": "markdown",
   "metadata": {},
   "source": [
    "# Part 1: Get and Analyze IDR clusters"
   ]
  },
  {
   "cell_type": "markdown",
   "metadata": {},
   "source": [
    "## 1.1 - Load in IDR information"
   ]
  },
  {
   "cell_type": "code",
   "execution_count": 2,
   "metadata": {},
   "outputs": [
    {
     "name": "stdout",
     "output_type": "stream",
     "text": [
      "Unnamed: 0              False\n",
      "Uniprot                 False\n",
      "Uniprot w IDRnum        False\n",
      "Gene                    False\n",
      "Cluster Number          False\n",
      "IDR Length              False\n",
      "Start Pos               False\n",
      "End Pos                 False\n",
      "Full Protein Length     False\n",
      "Min Inter Clust Dist    False\n",
      "IDR Position            False\n",
      "HPA Location             True\n",
      "Sequence                False\n",
      "dtype: bool\n",
      "       Unnamed: 0 Uniprot Uniprot w IDRnum            Gene  Cluster Number  \\\n",
      "0               0  G5E9R7         G5E9R7_1  KRTAP4-16 IDR1              27   \n",
      "1               1  Q9NRJ4         Q9NRJ4_1      TULP4 IDR1              17   \n",
      "2               2  Q9NRJ4         Q9NRJ4_2      TULP4 IDR2               1   \n",
      "3               3  Q9NRJ4         Q9NRJ4_3      TULP4 IDR3              27   \n",
      "4               4  Q9NRJ4         Q9NRJ4_4      TULP4 IDR4              27   \n",
      "...           ...     ...              ...             ...             ...   \n",
      "24503       24503  Q7Z739         Q7Z739_2     YTHDF3 IDR2              11   \n",
      "24504       24504  Q17RB8         Q17RB8_1     LONRF1 IDR1              29   \n",
      "24505       24505  Q17RB8         Q17RB8_2     LONRF1 IDR2              24   \n",
      "24506       24506  Q6P1J9         Q6P1J9_1      CDC73 IDR1              17   \n",
      "24507       24507  Q6P1J9         Q6P1J9_2      CDC73 IDR2              17   \n",
      "\n",
      "       IDR Length  Start Pos  End Pos  Full Protein Length  \\\n",
      "0              53        182      235                  235   \n",
      "1              50        527      577                 1543   \n",
      "2              43        767      810                 1543   \n",
      "3              34        828      862                 1543   \n",
      "4              36        993     1029                 1543   \n",
      "...           ...        ...      ...                  ...   \n",
      "24503         163        214      377                  585   \n",
      "24504          31          0       31                  773   \n",
      "24505          53        354      407                  773   \n",
      "24506          43        256      299                  531   \n",
      "24507          42        319      361                  531   \n",
      "\n",
      "       Min Inter Clust Dist    IDR Position              HPA Location  \\\n",
      "0                  8.592811  C-terminal IDR                             \n",
      "1                 14.569964      Linker IDR                             \n",
      "2                  4.777867      Linker IDR                             \n",
      "3                  0.753103      Linker IDR                             \n",
      "4                  3.491170      Linker IDR                             \n",
      "...                     ...             ...                       ...   \n",
      "24503             21.489673      Linker IDR                             \n",
      "24504              9.140638  N-terminal IDR  Cytosol, Plasma membrane   \n",
      "24505              2.253672      Linker IDR  Cytosol, Plasma membrane   \n",
      "24506              4.035674      Linker IDR               Nucleoplasm   \n",
      "24507              2.159379      Linker IDR               Nucleoplasm   \n",
      "\n",
      "                                                Sequence  \n",
      "0      LPSPPRPSPPLLSPVLIPSPSPSPSLPSLSPPLPSPPLPSPHFPSV...  \n",
      "1      KKSPKISRASKSPKLPRISIEARKSPKLPRAAQELSRSPRLPLRKP...  \n",
      "2            QNPPPLSLPPPPQGPMQLSTVGHGDRDHEHLQKSAKALRPTPQ  \n",
      "3                     TKINPPPPYPGTIPAAPTTAAPPPPLPPPQPPVD  \n",
      "4                   ATLKMAQLADSPRAPLQPLAKSKGGPGGVVTQLPAR  \n",
      "...                                                  ...  \n",
      "24503  SGMTSIATNSVPPVSSAAPKPTSWAAIARKPAKPQPKLKPKGNVGI...  \n",
      "24504                    MSSPAVARTSPGGSREMAPAPQGRGRFWEVG  \n",
      "24505  HSVMEESQSLNEPSPKQSEEIPEVTSEPVKGSLNRAQSAQSINSTE...  \n",
      "24506        KAREEGRAPEQRPAPNAAPVDPTLRTKQPIPAAYNRYDQERFK  \n",
      "24507         LKSVTEGASARKTQTPAAQPVPRPVSQARPPPNQKKGSRTPI  \n",
      "\n",
      "[24508 rows x 13 columns]\n"
     ]
    }
   ],
   "source": [
    "humandf=pd.read_excel('../general_data/All_sapiens_IDRs_clustermap_using_centroids.xlsx')\n",
    "\n",
    "print(humandf.isnull().any())\n",
    "humandf = humandf.fillna('')\n",
    "\n",
    "fullaccs=humandf['Uniprot'].tolist()\n",
    "fullaccswnums=humandf['Uniprot w IDRnum'].tolist()\n",
    "fullgeneswnums=humandf['Gene'].tolist()\n",
    "fullclusternum=humandf['Cluster Number'].tolist()\n",
    "fullseqlens=humandf['IDR Length'].tolist()\n",
    "fullstpos=humandf['Start Pos'].tolist()\n",
    "fullenpos=humandf['End Pos'].tolist()\n",
    "fullproteinlength=humandf['Full Protein Length'].tolist()\n",
    "fullmininterclustdist=humandf['Min Inter Clust Dist'].tolist()\n",
    "fulltermini=humandf['IDR Position'].tolist()\n",
    "fulllocationbyunistring=humandf['HPA Location'].tolist()\n",
    "fullseqs=humandf['Sequence'].tolist()\n",
    "\n",
    "print(humandf)\n"
   ]
  },
  {
   "cell_type": "markdown",
   "metadata": {},
   "source": [
    "## 1.2 - Load in IDR z-score data"
   ]
  },
  {
   "cell_type": "code",
   "execution_count": 3,
   "metadata": {},
   "outputs": [
    {
     "name": "stdout",
     "output_type": "stream",
     "text": [
      "90\n",
      "(24508, 90)\n"
     ]
    }
   ],
   "source": [
    "# make sure features match\n",
    "myfeat=['pol-pol','pol-hyd','pol-pos','pol-neg','pol-aro','pol-ala','pol-pro','pol-gly','hyd-hyd','hyd-pos','hyd-neg','hyd-aro','hyd-ala','hyd-pro','hyd-gly','pos-pos','pos-neg','pos-aro','pos-ala','pos-pro','pos-gly','neg-neg','neg-aro','neg-ala','neg-pro','neg-gly','aro-aro','aro-ala','aro-pro','aro-gly','ala-ala','ala-pro','ala-gly','pro-pro','pro-gly','gly-gly','Frac A','Frac C','Frac D','Frac E','Frac F','Frac G','Frac H','Frac I','Frac K','Frac L','Frac M','Frac N','Frac P','Frac Q','Frac R','Frac S','Frac T','Frac V','Frac W','Frac Y','Frac K+R','Frac D+E','Frac Polar','Frac Aliphatic','Frac Aromatic','R/K Ratio','E/D Ratio','Frac Chain Expanding','FCR','NCPR','Hydrophobicity','Disorder Promoting','Iso point','PPII','A Patch','C Patch','D Patch','E Patch','F Patch','G Patch','H Patch','I Patch','K Patch','L Patch','M Patch','N Patch','P Patch','Q Patch','R Patch','S Patch','T Patch','V Patch','Y Patch','RG Frac']\n",
    "print(len(myfeat))\n",
    "\n",
    "# Load in z-scores for all human IDRs\n",
    "# Made in /project/fava/work/kiersten.ruff/Collaborations/Su/2023/Library_design/map_clusters_for_all_human_IDRs.ipynb\n",
    "fullzvec=np.load('../general_data/sapiens_full_idrome_gte_30_nardini_compositional_RtoK.npy')\n",
    "print(fullzvec.shape)"
   ]
  },
  {
   "cell_type": "markdown",
   "metadata": {},
   "source": [
    "## 1.3 - Create subset of IDRs that want to analyze - all IDRs length gte 70 and non-linker IDRs gte 50 in length and min inter cluster distance gte 1.5"
   ]
  },
  {
   "cell_type": "code",
   "execution_count": 4,
   "metadata": {},
   "outputs": [
    {
     "name": "stdout",
     "output_type": "stream",
     "text": [
      "Unnamed: 0              False\n",
      "Uniprot                 False\n",
      "Uniprot w IDRnum        False\n",
      "Gene                    False\n",
      "Cluster Number          False\n",
      "IDR Length              False\n",
      "Start Pos               False\n",
      "End Pos                 False\n",
      "Full Protein Length     False\n",
      "Min Inter Clust Dist    False\n",
      "IDR Position            False\n",
      "HPA Location            False\n",
      "Sequence                False\n",
      "dtype: bool\n",
      "       Unnamed: 0 Uniprot Uniprot w IDRnum            Gene  Cluster Number  \\\n",
      "0               0  G5E9R7         G5E9R7_1  KRTAP4-16 IDR1              27   \n",
      "7               7  Q9NRJ4         Q9NRJ4_7      TULP4 IDR7              23   \n",
      "8               8  Q5MIZ7         Q5MIZ7_1    PPP4R3B IDR1              18   \n",
      "12             12  Q9NQ76         Q9NQ76_1       MEPE IDR1               4   \n",
      "14             14  Q9NQ76         Q9NQ76_3       MEPE IDR3              24   \n",
      "...           ...     ...              ...             ...             ...   \n",
      "24495       24495  Q6ZSZ5         Q6ZSZ5_1   ARHGEF18 IDR1              20   \n",
      "24498       24498  Q6ZSZ5         Q6ZSZ5_4   ARHGEF18 IDR4              27   \n",
      "24500       24500  Q6ZSZ5         Q6ZSZ5_6   ARHGEF18 IDR6               1   \n",
      "24502       24502  Q7Z739         Q7Z739_1     YTHDF3 IDR1               3   \n",
      "24503       24503  Q7Z739         Q7Z739_2     YTHDF3 IDR2              11   \n",
      "\n",
      "       IDR Length  Start Pos  End Pos  Full Protein Length  \\\n",
      "0              53        182      235                  235   \n",
      "7              93       1362     1455                 1543   \n",
      "8             140        709      849                  849   \n",
      "12            112         20      132                  525   \n",
      "14             99        233      332                  525   \n",
      "...           ...        ...      ...                  ...   \n",
      "24495          77          0       77                 1173   \n",
      "24498          77        952     1029                 1173   \n",
      "24500          92       1081     1173                 1173   \n",
      "24502          55          0       55                  585   \n",
      "24503         163        214      377                  585   \n",
      "\n",
      "       Min Inter Clust Dist    IDR Position                   HPA Location  \\\n",
      "0                  8.592811  C-terminal IDR                                  \n",
      "7                  6.154491      Linker IDR                                  \n",
      "8                 15.241590  C-terminal IDR  Nuclear speckles, Nucleoplasm   \n",
      "12                 3.322485      Linker IDR                                  \n",
      "14                 2.135569      Linker IDR                                  \n",
      "...                     ...             ...                            ...   \n",
      "24495              2.654861  N-terminal IDR                        Cytosol   \n",
      "24498              1.858534      Linker IDR                        Cytosol   \n",
      "24500             22.812167  C-terminal IDR                        Cytosol   \n",
      "24502              7.864178  N-terminal IDR                                  \n",
      "24503             21.489673      Linker IDR                                  \n",
      "\n",
      "                                                Sequence  \n",
      "0      LPSPPRPSPPLLSPVLIPSPSPSPSLPSLSPPLPSPPLPSPHFPSV...  \n",
      "7      RTLSDFNSLISSPHLGREKKKVKSQKDQLKSKKLNKTNEFQDSSES...  \n",
      "8      EEDEEMWFNEDEEEEGKAVVAPVEKPKPEDDFPDNYEKFMETKKAK...  \n",
      "12     QPQTEKTKQSCVEEQRQEEKNKDNIGFHHLGKRINQELSSKENIVQ...  \n",
      "14     SDFEGSGYTDLQERGDNDISPFSGDGQPFKDIPGKGEATGPDLEGK...  \n",
      "...                                                  ...  \n",
      "24495  MVTVGTNILPSRPAASANTAREDAALFSRRIPPRHKNGAAQPGAAP...  \n",
      "24498  RRLKKQNTAPGALPPDTLAEAQPPSHPPSFNGEGLEGPRVSMLPSG...  \n",
      "24500  QLLLNKLMGKDESTSRNRRSLSPILPGRHSPAPPPDPGFPAPSPPP...  \n",
      "24502  MSATSVDQRPKGQGNKVSVQNGSIHQKDAVNDDDFEPYLSSQTNQS...  \n",
      "24503  SGMTSIATNSVPPVSSAAPKPTSWAAIARKPAKPQPKLKPKGNVGI...  \n",
      "\n",
      "[8560 rows x 13 columns]\n"
     ]
    }
   ],
   "source": [
    "minidrlength=50\n",
    "minidrlinkerlength=70\n",
    "mininterclustdist=1.5\n",
    "\n",
    "subidrsdf=humandf[humandf['IDR Length']>=minidrlength]\n",
    "subidrsdf=subidrsdf[ (subidrsdf['IDR Length']>=minidrlinkerlength) | (subidrsdf['IDR Position'].isin(['IDR','N-terminal IDR','C-terminal IDR'])) ]\n",
    "subidrsdf=subidrsdf[subidrsdf['Min Inter Clust Dist']>=mininterclustdist]\n",
    "print(subidrsdf.isnull().any())\n",
    "subidrsdf = subidrsdf.fillna('')\n",
    "print(subidrsdf)\n",
    "\n",
    "subaccs=subidrsdf['Uniprot'].tolist()\n",
    "subaccswnums=subidrsdf['Uniprot w IDRnum'].tolist()\n",
    "subgeneswnums=subidrsdf['Gene'].tolist()\n",
    "subclusters=subidrsdf['Cluster Number'].tolist()\n",
    "subseqlens=subidrsdf['IDR Length'].tolist()\n",
    "substpos=subidrsdf['Start Pos'].tolist()\n",
    "subenpos=subidrsdf['End Pos'].tolist()\n",
    "subproteinlength=subidrsdf['Full Protein Length'].tolist()\n",
    "submininterclustdist=subidrsdf['Min Inter Clust Dist'].tolist()\n",
    "subtermini=subidrsdf['IDR Position'].tolist()\n",
    "subseqs=subidrsdf['Sequence'].tolist()\n",
    "sublocstring=subidrsdf['HPA Location'].tolist()\n",
    "\n",
    "\n",
    "sublocationbyunistring=sublocstring\n"
   ]
  },
  {
   "cell_type": "markdown",
   "metadata": {},
   "source": [
    "## 1.3b - Create subset of IDRs that want to analyze - all IDRs length gte 70 and non-linker IDRs gte 50 in length - used when don't care about cluster distance"
   ]
  },
  {
   "cell_type": "code",
   "execution_count": 5,
   "metadata": {},
   "outputs": [
    {
     "name": "stdout",
     "output_type": "stream",
     "text": [
      "Unnamed: 0              False\n",
      "Uniprot                 False\n",
      "Uniprot w IDRnum        False\n",
      "Gene                    False\n",
      "Cluster Number          False\n",
      "IDR Length              False\n",
      "Start Pos               False\n",
      "End Pos                 False\n",
      "Full Protein Length     False\n",
      "Min Inter Clust Dist    False\n",
      "IDR Position            False\n",
      "HPA Location            False\n",
      "Sequence                False\n",
      "dtype: bool\n",
      "       Unnamed: 0 Uniprot Uniprot w IDRnum            Gene  Cluster Number  \\\n",
      "0               0  G5E9R7         G5E9R7_1  KRTAP4-16 IDR1              27   \n",
      "7               7  Q9NRJ4         Q9NRJ4_7      TULP4 IDR7              23   \n",
      "8               8  Q5MIZ7         Q5MIZ7_1    PPP4R3B IDR1              18   \n",
      "12             12  Q9NQ76         Q9NQ76_1       MEPE IDR1               4   \n",
      "14             14  Q9NQ76         Q9NQ76_3       MEPE IDR3              24   \n",
      "...           ...     ...              ...             ...             ...   \n",
      "24498       24498  Q6ZSZ5         Q6ZSZ5_4   ARHGEF18 IDR4              27   \n",
      "24500       24500  Q6ZSZ5         Q6ZSZ5_6   ARHGEF18 IDR6               1   \n",
      "24501       24501  Q7Z2R9         Q7Z2R9_1  SSBP3-AS1 IDR1              29   \n",
      "24502       24502  Q7Z739         Q7Z739_1     YTHDF3 IDR1               3   \n",
      "24503       24503  Q7Z739         Q7Z739_2     YTHDF3 IDR2              11   \n",
      "\n",
      "       IDR Length  Start Pos  End Pos  Full Protein Length  \\\n",
      "0              53        182      235                  235   \n",
      "7              93       1362     1455                 1543   \n",
      "8             140        709      849                  849   \n",
      "12            112         20      132                  525   \n",
      "14             99        233      332                  525   \n",
      "...           ...        ...      ...                  ...   \n",
      "24498          77        952     1029                 1173   \n",
      "24500          92       1081     1173                 1173   \n",
      "24501          55         45      100                  100   \n",
      "24502          55          0       55                  585   \n",
      "24503         163        214      377                  585   \n",
      "\n",
      "       Min Inter Clust Dist    IDR Position                   HPA Location  \\\n",
      "0                  8.592811  C-terminal IDR                                  \n",
      "7                  6.154491      Linker IDR                                  \n",
      "8                 15.241590  C-terminal IDR  Nuclear speckles, Nucleoplasm   \n",
      "12                 3.322485      Linker IDR                                  \n",
      "14                 2.135569      Linker IDR                                  \n",
      "...                     ...             ...                            ...   \n",
      "24498              1.858534      Linker IDR                        Cytosol   \n",
      "24500             22.812167  C-terminal IDR                        Cytosol   \n",
      "24501              0.488506  C-terminal IDR                                  \n",
      "24502              7.864178  N-terminal IDR                                  \n",
      "24503             21.489673      Linker IDR                                  \n",
      "\n",
      "                                                Sequence  \n",
      "0      LPSPPRPSPPLLSPVLIPSPSPSPSLPSLSPPLPSPPLPSPHFPSV...  \n",
      "7      RTLSDFNSLISSPHLGREKKKVKSQKDQLKSKKLNKTNEFQDSSES...  \n",
      "8      EEDEEMWFNEDEEEEGKAVVAPVEKPKPEDDFPDNYEKFMETKKAK...  \n",
      "12     QPQTEKTKQSCVEEQRQEEKNKDNIGFHHLGKRINQELSSKENIVQ...  \n",
      "14     SDFEGSGYTDLQERGDNDISPFSGDGQPFKDIPGKGEATGPDLEGK...  \n",
      "...                                                  ...  \n",
      "24498  RRLKKQNTAPGALPPDTLAEAQPPSHPPSFNGEGLEGPRVSMLPSG...  \n",
      "24500  QLLLNKLMGKDESTSRNRRSLSPILPGRHSPAPPPDPGFPAPSPPP...  \n",
      "24501  RGLTRGVIRVSPQERSQQNQSAPKGPTPSTRPKPRTLGPQAHSLAL...  \n",
      "24502  MSATSVDQRPKGQGNKVSVQNGSIHQKDAVNDDDFEPYLSSQTNQS...  \n",
      "24503  SGMTSIATNSVPPVSSAAPKPTSWAAIARKPAKPQPKLKPKGNVGI...  \n",
      "\n",
      "[10091 rows x 13 columns]\n"
     ]
    }
   ],
   "source": [
    "subidrsdfNODIST=humandf[humandf['IDR Length']>=minidrlength]\n",
    "subidrsdfNODIST=subidrsdfNODIST[ (subidrsdfNODIST['IDR Length']>=minidrlinkerlength) | (subidrsdfNODIST['IDR Position'].isin(['IDR','N-terminal IDR','C-terminal IDR'])) ]\n",
    "print(subidrsdfNODIST.isnull().any())\n",
    "subidrsdfNODIST = subidrsdfNODIST.fillna('')\n",
    "print(subidrsdfNODIST)\n",
    "\n",
    "subaccsNODIST=subidrsdfNODIST['Uniprot'].tolist()\n",
    "subaccswnumsNODIST=subidrsdfNODIST['Uniprot w IDRnum'].tolist()\n",
    "subgeneswnumsNODIST=subidrsdfNODIST['Gene'].tolist()\n",
    "subclustersNODIST=subidrsdfNODIST['Cluster Number'].tolist()\n",
    "subseqlensNODIST=subidrsdfNODIST['IDR Length'].tolist()\n",
    "substposNODIST=subidrsdfNODIST['Start Pos'].tolist()\n",
    "subenposNODIST=subidrsdfNODIST['End Pos'].tolist()\n",
    "subproteinlengthNODIST=subidrsdfNODIST['Full Protein Length'].tolist()\n",
    "submininterclustdistNODIST=subidrsdfNODIST['Min Inter Clust Dist'].tolist()\n",
    "subterminiNODIST=subidrsdfNODIST['IDR Position'].tolist()\n",
    "subseqsNODIST=subidrsdfNODIST['Sequence'].tolist()\n",
    "sublocstringNODIST=subidrsdfNODIST['HPA Location'].tolist()\n",
    "\n",
    "\n",
    "sublocationbyunistringNODIST=sublocstringNODIST"
   ]
  },
  {
   "cell_type": "code",
   "execution_count": null,
   "metadata": {},
   "outputs": [],
   "source": []
  },
  {
   "cell_type": "markdown",
   "metadata": {},
   "source": [
    "# Part 2 - Analyze Ribosomal Biogenesis IDRs"
   ]
  },
  {
   "cell_type": "markdown",
   "metadata": {},
   "source": [
    "## 2.1 - Determine if have cluster 7, 18, or 23 IDRs in each ribosomal biogenesis protein"
   ]
  },
  {
   "cell_type": "code",
   "execution_count": 6,
   "metadata": {},
   "outputs": [
    {
     "name": "stdout",
     "output_type": "stream",
     "text": [
      "    Accession    Gene                                General Process  \\\n",
      "0      P19388  POLR2E                             rDNA Transcription   \n",
      "1      P61218  POLR2F                             rDNA Transcription   \n",
      "2      P52434  POLR2H                             rDNA Transcription   \n",
      "3      P62875  POLR2L                             rDNA Transcription   \n",
      "4      P53803  POLR2K                             rDNA Transcription   \n",
      "..        ...     ...                                            ...   \n",
      "269    Q92499    DDX1  Other factors involved in ribosome biogenesis   \n",
      "270    Q9ULT8  HECTD1  Other factors involved in ribosome biogenesis   \n",
      "271    Q9P275   USP36  Other factors involved in ribosome biogenesis   \n",
      "272    O95071    UBR5  Other factors involved in ribosome biogenesis   \n",
      "273    Q9Y4B6   DCAF1  Other factors involved in ribosome biogenesis   \n",
      "\n",
      "                      Category  \n",
      "0    RNA Polymerase I subunits  \n",
      "1    RNA Polymerase I subunits  \n",
      "2    RNA Polymerase I subunits  \n",
      "3    RNA Polymerase I subunits  \n",
      "4    RNA Polymerase I subunits  \n",
      "..                         ...  \n",
      "269               Other factor  \n",
      "270               Other factor  \n",
      "271               Other factor  \n",
      "272               Other factor  \n",
      "273               Other factor  \n",
      "\n",
      "[274 rows x 4 columns]\n",
      "    Accession    Gene                                General Process  \\\n",
      "0      P19388  POLR2E                             rDNA Transcription   \n",
      "1      P61218  POLR2F                             rDNA Transcription   \n",
      "2      P52434  POLR2H                             rDNA Transcription   \n",
      "3      P62875  POLR2L                             rDNA Transcription   \n",
      "4      P53803  POLR2K                             rDNA Transcription   \n",
      "..        ...     ...                                            ...   \n",
      "269    Q92499    DDX1  Other factors involved in ribosome biogenesis   \n",
      "270    Q9ULT8  HECTD1  Other factors involved in ribosome biogenesis   \n",
      "271    Q9P275   USP36  Other factors involved in ribosome biogenesis   \n",
      "272    O95071    UBR5  Other factors involved in ribosome biogenesis   \n",
      "273    Q9Y4B6   DCAF1  Other factors involved in ribosome biogenesis   \n",
      "\n",
      "                      Category  IDR Cluster 7 Cluster 18 Cluster 23  \\\n",
      "0    RNA Polymerase I subunits   No        No         No         No   \n",
      "1    RNA Polymerase I subunits  Yes       Yes         No         No   \n",
      "2    RNA Polymerase I subunits   No        No         No         No   \n",
      "3    RNA Polymerase I subunits   No        No         No         No   \n",
      "4    RNA Polymerase I subunits   No        No         No         No   \n",
      "..                         ...  ...       ...        ...        ...   \n",
      "269               Other factor   No        No         No         No   \n",
      "270               Other factor  Yes        No        Yes         No   \n",
      "271               Other factor  Yes        No         No         No   \n",
      "272               Other factor  Yes        No         No         No   \n",
      "273               Other factor  Yes       Yes         No         No   \n",
      "\n",
      "    Cluster 7, 18, or 23  \n",
      "0                     No  \n",
      "1                    Yes  \n",
      "2                     No  \n",
      "3                     No  \n",
      "4                     No  \n",
      "..                   ...  \n",
      "269                   No  \n",
      "270                  Yes  \n",
      "271                   No  \n",
      "272                   No  \n",
      "273                  Yes  \n",
      "\n",
      "[274 rows x 9 columns]\n"
     ]
    }
   ],
   "source": [
    "rbdf=pd.read_excel('data/Ribosomal_biogeneis_factors.xlsx',sheet_name='All_biogenesis_factors')\n",
    "print(rbdf)\n",
    "\n",
    "rbaccs=rbdf['Accession'].tolist()\n",
    "\n",
    "rbhasIDR=[]\n",
    "rbclustertypes=[]\n",
    "rb7=[]\n",
    "rb18=[]\n",
    "rb23=[]\n",
    "rb71823=[]\n",
    "for s in range(0,len(rbaccs)):\n",
    "    pos=[i for i, x in enumerate(subaccsNODIST) if x == rbaccs[s]]\n",
    "    if not pos:\n",
    "        rbhasIDR.append('No')\n",
    "        rb7.append('No')\n",
    "        rb18.append('No')\n",
    "        rb23.append('No')\n",
    "        rb71823.append('No')\n",
    "    else:\n",
    "        rbhasIDR.append('Yes')\n",
    "        tmplist=[]\n",
    "        for p in pos:\n",
    "            tmplist.append(subclustersNODIST[p])\n",
    "        #print(subgeneswnumsNODIST[p])\n",
    "        #print(tmplist)\n",
    "        \n",
    "        if 7 in tmplist:\n",
    "            rb7.append('Yes')\n",
    "        else:\n",
    "            rb7.append('No')\n",
    "            \n",
    "        if 18 in tmplist:\n",
    "            rb18.append('Yes')\n",
    "        else:\n",
    "            rb18.append('No')\n",
    "                        \n",
    "        if 23 in tmplist:\n",
    "            rb23.append('Yes')\n",
    "        else:\n",
    "            rb23.append('No')\n",
    "            \n",
    "        if 7 in tmplist or 18 in tmplist or 23 in tmplist:\n",
    "            rb71823.append('Yes')\n",
    "        else:\n",
    "            rb71823.append('No')\n",
    "\n",
    "rbdfwclust=rbdf\n",
    "rbdfwclust['IDR']=rbhasIDR\n",
    "rbdfwclust['Cluster 7']=rb7\n",
    "rbdfwclust['Cluster 18']=rb18\n",
    "rbdfwclust['Cluster 23']=rb23\n",
    "rbdfwclust['Cluster 7, 18, or 23']=rb71823\n",
    "\n",
    "print(rbdfwclust)\n",
    "\n",
    "#rbdfwclust.to_excel('data/Ribosomal_biogeneis_factors_w_clusters.xlsx')"
   ]
  },
  {
   "cell_type": "markdown",
   "metadata": {},
   "source": [
    "## 2.2 - Determine number of discreate processes with 7, 18, 23 or any"
   ]
  },
  {
   "cell_type": "code",
   "execution_count": 7,
   "metadata": {},
   "outputs": [
    {
     "name": "stdout",
     "output_type": "stream",
     "text": [
      "42\n",
      "[17, 12, 30, 35]\n",
      "[0.40476190476190477, 0.2857142857142857, 0.7142857142857143, 0.8333333333333334]\n"
     ]
    }
   ],
   "source": [
    "cccategory=rbdfwclust['Category'].tolist()\n",
    "ccgeneralprocess=rbdfwclust['General Process'].tolist()\n",
    "\n",
    "uniccgeneralprocess=[]\n",
    "unicccategory=[]\n",
    "for s in range(0,len(ccgeneralprocess)):\n",
    "    if ccgeneralprocess[s] not in uniccgeneralprocess:\n",
    "        uniccgeneralprocess.append(ccgeneralprocess[s])\n",
    "    if cccategory[s] not in unicccategory:\n",
    "        unicccategory.append(cccategory[s])\n",
    "print(len(unicccategory))\n",
    "\n",
    "colnames=['Cluster 7','Cluster 18','Cluster 23','Cluster 7, 18, or 23']\n",
    "haveclustmain=[0]*len(colnames)\n",
    "#print(haveclustmain)\n",
    "for i in range(0,len(unicccategory)):\n",
    "    dftmp=rbdfwclust[rbdfwclust['Category']==unicccategory[i]]\n",
    "    #print(dftmp)\n",
    "    for j in range(0,len(colnames)):\n",
    "        tmplist=dftmp[colnames[j]].tolist()\n",
    "        if 'Yes' in tmplist:\n",
    "            haveclustmain[j]=haveclustmain[j]+1\n",
    "            \n",
    "print(haveclustmain)\n",
    "haveclustmainfrac=[]\n",
    "for i in range(0,len(colnames)):\n",
    "    haveclustmainfrac.append(haveclustmain[i]/len(unicccategory))\n",
    "print(haveclustmainfrac)"
   ]
  },
  {
   "cell_type": "markdown",
   "metadata": {},
   "source": [
    "## 2.3 - Determine which GIN type IDRs in each ribosomal biogenesis protein"
   ]
  },
  {
   "cell_type": "code",
   "execution_count": 8,
   "metadata": {},
   "outputs": [
    {
     "name": "stdout",
     "output_type": "stream",
     "text": [
      "    Accession    Gene                                General Process  \\\n",
      "0      P19388  POLR2E                             rDNA Transcription   \n",
      "1      P61218  POLR2F                             rDNA Transcription   \n",
      "2      P52434  POLR2H                             rDNA Transcription   \n",
      "3      P62875  POLR2L                             rDNA Transcription   \n",
      "4      P53803  POLR2K                             rDNA Transcription   \n",
      "..        ...     ...                                            ...   \n",
      "269    Q92499    DDX1  Other factors involved in ribosome biogenesis   \n",
      "270    Q9ULT8  HECTD1  Other factors involved in ribosome biogenesis   \n",
      "271    Q9P275   USP36  Other factors involved in ribosome biogenesis   \n",
      "272    O95071    UBR5  Other factors involved in ribosome biogenesis   \n",
      "273    Q9Y4B6   DCAF1  Other factors involved in ribosome biogenesis   \n",
      "\n",
      "                      Category  IDR Cluster 0 Cluster 1 Cluster 2 Cluster 3  \\\n",
      "0    RNA Polymerase I subunits   No        No        No        No        No   \n",
      "1    RNA Polymerase I subunits  Yes        No        No        No        No   \n",
      "2    RNA Polymerase I subunits   No        No        No        No        No   \n",
      "3    RNA Polymerase I subunits   No        No        No        No        No   \n",
      "4    RNA Polymerase I subunits   No        No        No        No        No   \n",
      "..                         ...  ...       ...       ...       ...       ...   \n",
      "269               Other factor   No        No        No        No        No   \n",
      "270               Other factor  Yes        No        No        No        No   \n",
      "271               Other factor  Yes        No        No        No        No   \n",
      "272               Other factor  Yes        No        No        No        No   \n",
      "273               Other factor  Yes        No        No        No        No   \n",
      "\n",
      "    Cluster 4  ... Cluster 20 Cluster 21 Cluster 22 Cluster 23 Cluster 24  \\\n",
      "0          No  ...         No         No         No         No         No   \n",
      "1          No  ...         No         No         No         No         No   \n",
      "2          No  ...         No         No         No         No         No   \n",
      "3          No  ...         No         No         No         No         No   \n",
      "4          No  ...         No         No         No         No         No   \n",
      "..        ...  ...        ...        ...        ...        ...        ...   \n",
      "269        No  ...         No         No         No         No         No   \n",
      "270        No  ...         No         No         No         No         No   \n",
      "271        No  ...         No         No         No         No         No   \n",
      "272        No  ...         No         No         No         No         No   \n",
      "273        No  ...         No         No         No         No         No   \n",
      "\n",
      "    Cluster 25 Cluster 26 Cluster 27 Cluster 28 Cluster 29  \n",
      "0           No         No         No         No         No  \n",
      "1           No         No         No         No         No  \n",
      "2           No         No         No         No         No  \n",
      "3           No         No         No         No         No  \n",
      "4           No         No         No         No         No  \n",
      "..         ...        ...        ...        ...        ...  \n",
      "269         No         No         No         No         No  \n",
      "270         No         No         No         No         No  \n",
      "271         No         No         No         No         No  \n",
      "272         No        Yes         No         No         No  \n",
      "273         No         No         No         No         No  \n",
      "\n",
      "[274 rows x 35 columns]\n"
     ]
    }
   ],
   "source": [
    "numkclusts=max(fullclusternum)+1\n",
    "\n",
    "rbdf=pd.read_excel('data/Ribosomal_biogeneis_factors.xlsx',sheet_name='All_biogenesis_factors')\n",
    "#print(rbdf)\n",
    "\n",
    "rbaccs=rbdf['Accession'].tolist()\n",
    "\n",
    "rbhasIDR=[]\n",
    "rbclustertypes=[]\n",
    "rbc=[[] for _ in range(numkclusts)]\n",
    "for s in range(0,len(rbaccs)):\n",
    "    pos=[i for i, x in enumerate(subaccsNODIST) if x == rbaccs[s]]\n",
    "    if not pos:\n",
    "        rbhasIDR.append('No')\n",
    "        for i in range(0,numkclusts):\n",
    "            rbc[i].append('No')\n",
    "        \n",
    "    else:\n",
    "        rbhasIDR.append('Yes')\n",
    "\n",
    "        tmplist=[]\n",
    "        for p in pos:\n",
    "            tmplist.append(subclustersNODIST[p])\n",
    "        #print(subgeneswnumsNODIST[p])\n",
    "        #print(tmplist)\n",
    "        \n",
    "        for i in range(0,numkclusts):\n",
    "            if i in tmplist:\n",
    "                rbc[i].append('Yes')\n",
    "            else:\n",
    "                rbc[i].append('No')\n",
    "\n",
    "\n",
    "rbdfallclust=rbdf\n",
    "rbdfallclust['IDR']=rbhasIDR\n",
    "for i in range(0,numkclusts):\n",
    "    rbdfallclust['Cluster '+str(i)]=rbc[i]\n",
    "    \n",
    "\n",
    "print(rbdfallclust)"
   ]
  },
  {
   "cell_type": "markdown",
   "metadata": {},
   "source": [
    "## 2.4 - Determine number of discreate processes with each IDR GIN type"
   ]
  },
  {
   "cell_type": "code",
   "execution_count": 9,
   "metadata": {},
   "outputs": [
    {
     "name": "stdout",
     "output_type": "stream",
     "text": [
      "['Cluster 0', 'Cluster 1', 'Cluster 2', 'Cluster 3', 'Cluster 4', 'Cluster 5', 'Cluster 6', 'Cluster 7', 'Cluster 8', 'Cluster 9', 'Cluster 10', 'Cluster 11', 'Cluster 12', 'Cluster 13', 'Cluster 14', 'Cluster 15', 'Cluster 16', 'Cluster 17', 'Cluster 18', 'Cluster 19', 'Cluster 20', 'Cluster 21', 'Cluster 22', 'Cluster 23', 'Cluster 24', 'Cluster 25', 'Cluster 26', 'Cluster 27', 'Cluster 28', 'Cluster 29']\n",
      "[4, 0, 0, 1, 5, 7, 3, 17, 5, 7, 0, 3, 9, 5, 2, 1, 3, 10, 12, 5, 1, 1, 1, 30, 3, 5, 5, 1, 7, 3]\n",
      "[0.09523809523809523, 0.0, 0.0, 0.023809523809523808, 0.11904761904761904, 0.16666666666666666, 0.07142857142857142, 0.40476190476190477, 0.11904761904761904, 0.16666666666666666, 0.0, 0.07142857142857142, 0.21428571428571427, 0.11904761904761904, 0.047619047619047616, 0.023809523809523808, 0.07142857142857142, 0.23809523809523808, 0.2857142857142857, 0.11904761904761904, 0.023809523809523808, 0.023809523809523808, 0.023809523809523808, 0.7142857142857143, 0.07142857142857142, 0.11904761904761904, 0.11904761904761904, 0.023809523809523808, 0.16666666666666666, 0.07142857142857142]\n",
      "1.4512913580895117e-18\n",
      "4.369676212196482e-06\n",
      "0.003956808956083353\n"
     ]
    },
    {
     "data": {
      "text/plain": [
       "(array([10., 12.,  3.,  2.,  1.,  1.,  0.,  0.,  0.,  1.]),\n",
       " array([0.        , 0.07142857, 0.14285714, 0.21428571, 0.28571429,\n",
       "        0.35714286, 0.42857143, 0.5       , 0.57142857, 0.64285714,\n",
       "        0.71428571]),\n",
       " <BarContainer object of 10 artists>)"
      ]
     },
     "execution_count": 9,
     "metadata": {},
     "output_type": "execute_result"
    },
    {
     "data": {
      "image/png": "[encoded data removed]",
      "text/plain": [
       "<Figure size 432x288 with 1 Axes>"
      ]
     },
     "metadata": {
      "needs_background": "light"
     },
     "output_type": "display_data"
    },
    {
     "data": {
      "image/png": "[encoded data removed]",
      "text/plain": [
       "<Figure size 432x288 with 1 Axes>"
      ]
     },
     "metadata": {
      "needs_background": "light"
     },
     "output_type": "display_data"
    }
   ],
   "source": [
    "cccategory=rbdfallclust['Category'].tolist()\n",
    "ccgeneralprocess=rbdfallclust['General Process'].tolist()\n",
    "\n",
    "uniccgeneralprocess=[]\n",
    "unicccategory=[]\n",
    "for s in range(0,len(ccgeneralprocess)):\n",
    "    if ccgeneralprocess[s] not in uniccgeneralprocess:\n",
    "        uniccgeneralprocess.append(ccgeneralprocess[s])\n",
    "    if cccategory[s] not in unicccategory:\n",
    "        unicccategory.append(cccategory[s])\n",
    "\n",
    "colnames=rbdfallclust.columns.tolist()[5:]\n",
    "print(colnames)\n",
    "\n",
    "haveclust=[0]*len(colnames)\n",
    "for i in range(0,len(unicccategory)):\n",
    "    dftmp=rbdfallclust[rbdfallclust['Category']==unicccategory[i]]\n",
    "    #print(dftmp)\n",
    "    for j in range(0,len(colnames)):\n",
    "        tmplist=dftmp[colnames[j]].tolist()\n",
    "        if 'Yes' in tmplist:\n",
    "            haveclust[j]=haveclust[j]+1\n",
    "            \n",
    "print(haveclust)\n",
    "haveclustfrac=[]\n",
    "for i in range(0,len(colnames)):\n",
    "    haveclustfrac.append(haveclust[i]/len(unicccategory))\n",
    "print(haveclustfrac)\n",
    "\n",
    "plt.bar(np.arange(0,numkclusts,1),haveclustfrac)\n",
    "\n",
    "print(scipy.stats.binom_test(haveclust[23], 42, p=np.mean(haveclustfrac)))\n",
    "print(scipy.stats.binom_test(haveclust[7], 42, p=np.mean(haveclustfrac)))\n",
    "print(scipy.stats.binom_test(haveclust[18], 42, p=np.mean(haveclustfrac)))\n",
    "\n",
    "plt.figure()\n",
    "plt.hist(haveclustfrac)\n"
   ]
  },
  {
   "cell_type": "markdown",
   "metadata": {},
   "source": [
    "## 2.5 - Determine number of discreate processes with any 3 IDR cluster type"
   ]
  },
  {
   "cell_type": "code",
   "execution_count": 21,
   "metadata": {
    "scrolled": true
   },
   "outputs": [
    {
     "name": "stdout",
     "output_type": "stream",
     "text": [
      "['Cluster 0', 'Cluster 1', 'Cluster 2', 'Cluster 3', 'Cluster 4', 'Cluster 5', 'Cluster 6', 'Cluster 8', 'Cluster 9', 'Cluster 10', 'Cluster 11', 'Cluster 12', 'Cluster 13', 'Cluster 14', 'Cluster 15', 'Cluster 16', 'Cluster 17', 'Cluster 19', 'Cluster 20', 'Cluster 21', 'Cluster 22', 'Cluster 24', 'Cluster 25', 'Cluster 26', 'Cluster 27', 'Cluster 28', 'Cluster 29']\n",
      "2925\n",
      "20\n",
      "9.19897435897436\n",
      "0.219023199023199\n",
      "Ttest_indResult(statistic=12.911528839717365, pvalue=3.926224258748268e-37)\n",
      "4.1759424429302515e-17\n",
      "z-score = 7.46\n",
      "2925\n",
      "2925\n",
      "                          Which Clusters  Fraction of Processes\n",
      "0        Cluster 0, Cluster 1, Cluster 2               0.095238\n",
      "1        Cluster 0, Cluster 1, Cluster 3               0.119048\n",
      "2        Cluster 0, Cluster 1, Cluster 4               0.190476\n",
      "3        Cluster 0, Cluster 1, Cluster 5               0.238095\n",
      "4        Cluster 0, Cluster 1, Cluster 6               0.142857\n",
      "...                                  ...                    ...\n",
      "2924  Cluster 27, Cluster 28, Cluster 29               0.261905\n",
      "2925                           Cluster 7               0.404762\n",
      "2926                          Cluster 18               0.285714\n",
      "2927                          Cluster 23               0.714286\n",
      "2928   Cluster 7, Cluster 18, Cluster 23               0.833333\n",
      "\n",
      "[2929 rows x 2 columns]\n"
     ]
    }
   ],
   "source": [
    "cccategory=rbdfallclust['Category'].tolist()\n",
    "ccgeneralprocess=rbdfallclust['General Process'].tolist()\n",
    "\n",
    "uniccgeneralprocess=[]\n",
    "unicccategory=[]\n",
    "for s in range(0,len(ccgeneralprocess)):\n",
    "    if ccgeneralprocess[s] not in uniccgeneralprocess:\n",
    "        uniccgeneralprocess.append(ccgeneralprocess[s])\n",
    "    if cccategory[s] not in unicccategory:\n",
    "        unicccategory.append(cccategory[s])\n",
    "\n",
    "#colnames=rbdfallclust.columns.tolist()[5:]\n",
    "allcolnames=rbdfallclust.columns.tolist()[5:]\n",
    "subcolnames=['Cluster 7','Cluster 18','Cluster 23']\n",
    "colnames = [x for x in allcolnames if x not in subcolnames]\n",
    "print(colnames)\n",
    "\n",
    "haveclust=[0]*int(math.factorial(len(colnames))/(math.factorial(len(colnames)-3)*math.factorial(3)))\n",
    "setnames=[]\n",
    "print(len(haveclust))\n",
    "for i in range(0,len(unicccategory)):\n",
    "    dftmp=rbdfallclust[rbdfallclust['Category']==unicccategory[i]]\n",
    "    #print(dftmp)\n",
    "    count=-1\n",
    "    for j in range(0,len(colnames)):\n",
    "        for k in range(j+1,len(colnames)):\n",
    "            for l in range(k+1,len(colnames)):\n",
    "                count=count+1\n",
    "                tmplist1=dftmp[colnames[j]].tolist()\n",
    "                tmplist2=dftmp[colnames[k]].tolist()\n",
    "                tmplist3=dftmp[colnames[l]].tolist()\n",
    "                if i==0:\n",
    "                    setnames.append(colnames[j]+', '+colnames[k]+', '+colnames[l])\n",
    "                #print(str(i)+': '+str(count))\n",
    "                if 'Yes' in tmplist1 or 'Yes' in tmplist2 or 'Yes' in tmplist3:\n",
    "                    haveclust[count]=haveclust[count]+1\n",
    "                \n",
    "#print(haveclust)\n",
    "print(max(haveclust))\n",
    "print(np.mean(haveclust))\n",
    "\n",
    "haveclustfrac=[]\n",
    "for i in range(0,len(haveclust)):\n",
    "    haveclustfrac.append(haveclust[i]/len(unicccategory))\n",
    "print(np.mean(haveclustfrac))\n",
    "\n",
    "myval=scipy.stats.ttest_ind([35, 35, 35], haveclust)\n",
    "myval2=scipy.stats.binom_test(35, 42, p=np.mean(haveclustfrac))\n",
    "print(myval)\n",
    "print(myval2)\n",
    "\n",
    "myzscore=((35/42)-np.mean(haveclustfrac))/np.std(haveclustfrac)\n",
    "print('z-score = '+str(round(myzscore,2)))\n",
    "\n",
    "print(len(haveclustfrac))\n",
    "print(len(setnames))\n",
    "\n",
    "setnames.append('Cluster 7')\n",
    "setnames.append('Cluster 18')\n",
    "setnames.append('Cluster 23')\n",
    "setnames.append('Cluster 7, Cluster 18, Cluster 23')\n",
    "\n",
    "for i in range(0,len(haveclustmainfrac)):\n",
    "    haveclustfrac.append(haveclustmainfrac[i])\n",
    "\n",
    "tmpdf=pd.DataFrame()\n",
    "tmpdf['Which Clusters']=setnames\n",
    "tmpdf['Fraction of Processes']=haveclustfrac\n",
    "print(tmpdf)\n",
    "\n",
    "#with pd.ExcelWriter('../Supplementary_Tables/Table_S2.xlsx', engine='openpyxl',mode='a') as writer:\n",
    "#    tmpdf.to_excel(writer,sheet_name='Fig_S2E')"
   ]
  },
  {
   "cell_type": "markdown",
   "metadata": {},
   "source": [
    "## 2.6 - Plot distribution of number of occurences"
   ]
  },
  {
   "cell_type": "code",
   "execution_count": 11,
   "metadata": {
    "scrolled": true
   },
   "outputs": [
    {
     "data": {
      "text/plain": [
       "(-0.05, 1.05)"
      ]
     },
     "execution_count": 11,
     "metadata": {},
     "output_type": "execute_result"
    },
    {
     "data": {
      "image/png": "[encoded data removed]",
      "text/plain": [
       "<Figure size 432x288 with 1 Axes>"
      ]
     },
     "metadata": {
      "needs_background": "light"
     },
     "output_type": "display_data"
    }
   ],
   "source": [
    "plt.hist(haveclustfrac,color='#d7d7d7',edgecolor='black')\n",
    "\n",
    "mycolor=['#e23c36','#000000','#1d9bd7','#7c2880']\n",
    "for i in range(0,len(haveclustmainfrac)):\n",
    "    plt.plot([haveclustmainfrac[i],haveclustmainfrac[i]],[0,700],'--',color=mycolor[i])\n",
    "    \n",
    "plt.ylim([0,700])\n",
    "plt.ylabel('Number of Occurences',fontsize=12)\n",
    "plt.xlabel('Fraction of Discrete Processes Housing IDR Sets',fontsize=12)\n",
    "plt.xlim([-0.05, 1.05])\n",
    "#plt.savefig('Figures/2024_02/nucleolus/Fraction_discrete_ribosome_biogenesis_processes_housing_3_IDR_sets_'+str(minidrlinkerlength)+'_and_nonlinkers_gte_'+str(minidrlength)+'.pdf', transparent=True, bbox_inches = \"tight\") \n"
   ]
  },
  {
   "cell_type": "markdown",
   "metadata": {},
   "source": [
    "## 2.7 - Save data to excel file"
   ]
  },
  {
   "cell_type": "code",
   "execution_count": null,
   "metadata": {},
   "outputs": [],
   "source": [
    "setnames.append('Cluster 7')\n",
    "setnames.append('Cluster 18')\n",
    "setnames.append('Cluster 23')\n",
    "setnames.append('Cluster 7, Cluster 18, Cluster 23')\n",
    "\n",
    "haveclustfracall=haveclustfrac\n",
    "for i in range(0,len(haveclustmainfrac)):\n",
    "    haveclustfrac.append(haveclustmainfrac[i])\n",
    "\n",
    "print(len(haveclustfrac))\n",
    "print(len(haveclustfracall))\n",
    "    \n",
    "tmpdf=pd.DataFrame()\n",
    "tmpdf['Which Clusters']=setnames\n",
    "tmpdf['Fraction of Processes']=haveclustfracall\n",
    "print(tmpdf)\n",
    "\n",
    "#with pd.ExcelWriter('../Supplementary_Tables/Table_S2.xlsx', engine='openpyxl',mode='a') as writer:\n",
    "#    tmpdf.to_excel(writer,sheet_name='Fig_S2E')"
   ]
  },
  {
   "cell_type": "code",
   "execution_count": 52,
   "metadata": {},
   "outputs": [
    {
     "name": "stdout",
     "output_type": "stream",
     "text": [
      "4060.0\n",
      "0.09054186388118166\n"
     ]
    }
   ],
   "source": [
    "print((math.factorial(len(colnames))/(math.factorial(len(colnames)-3)*math.factorial(3))))\n",
    "\n",
    "totfrac=(763+413+1043)/24508\n",
    "print(totfrac)"
   ]
  },
  {
   "cell_type": "code",
   "execution_count": null,
   "metadata": {},
   "outputs": [],
   "source": []
  },
  {
   "cell_type": "code",
   "execution_count": null,
   "metadata": {},
   "outputs": [],
   "source": []
  },
  {
   "cell_type": "markdown",
   "metadata": {},
   "source": [
    "# Part 3 - Analyze Spliceosome IDRs"
   ]
  },
  {
   "cell_type": "markdown",
   "metadata": {},
   "source": [
    "## 3.1 - Determine if have cluster 18, or 26 IDRs in each ribosomal biogenesis protein"
   ]
  },
  {
   "cell_type": "code",
   "execution_count": 22,
   "metadata": {},
   "outputs": [
    {
     "name": "stdout",
     "output_type": "stream",
     "text": [
      "    Accession     Gene    General Process                         Category\n",
      "0      Q13838   DDX39B  Major Spliceosome           Spliceosomal E complex\n",
      "1      Q15637      SF1  Major Spliceosome           Spliceosomal E complex\n",
      "2      Q01081    U2AF1  Major Spliceosome           Spliceosomal E complex\n",
      "3      P26368    U2AF2  Major Spliceosome           Spliceosomal E complex\n",
      "4      Q8IX12    CCAR1  Major Spliceosome           Spliceosomal A complex\n",
      "..        ...      ...                ...                              ...\n",
      "526    P52739   ZNF131   Splicing factors  Other pre-mRNA splicing factors\n",
      "527    O43670   ZNF207   Splicing factors  Other pre-mRNA splicing factors\n",
      "528    Q5BKZ1   ZNF326   Splicing factors  Other pre-mRNA splicing factors\n",
      "529    Q9UL40   ZNF346   Splicing factors  Other pre-mRNA splicing factors\n",
      "530    Q15695  ZRSR2P1   Splicing factors  Other pre-mRNA splicing factors\n",
      "\n",
      "[531 rows x 4 columns]\n",
      "48\n",
      "92\n",
      "    Accession     Gene    General Process                         Category  \\\n",
      "0      Q13838   DDX39B  Major Spliceosome           Spliceosomal E complex   \n",
      "1      Q15637      SF1  Major Spliceosome           Spliceosomal E complex   \n",
      "2      Q01081    U2AF1  Major Spliceosome           Spliceosomal E complex   \n",
      "3      P26368    U2AF2  Major Spliceosome           Spliceosomal E complex   \n",
      "4      Q8IX12    CCAR1  Major Spliceosome           Spliceosomal A complex   \n",
      "..        ...      ...                ...                              ...   \n",
      "526    P52739   ZNF131   Splicing factors  Other pre-mRNA splicing factors   \n",
      "527    O43670   ZNF207   Splicing factors  Other pre-mRNA splicing factors   \n",
      "528    Q5BKZ1   ZNF326   Splicing factors  Other pre-mRNA splicing factors   \n",
      "529    Q9UL40   ZNF346   Splicing factors  Other pre-mRNA splicing factors   \n",
      "530    Q15695  ZRSR2P1   Splicing factors  Other pre-mRNA splicing factors   \n",
      "\n",
      "     IDR Cluster 18 Cluster 26 Cluster 18, or 26  \n",
      "0     No         No         No                No  \n",
      "1    Yes         No         No                No  \n",
      "2    Yes         No        Yes               Yes  \n",
      "3    Yes         No        Yes               Yes  \n",
      "4    Yes         No         No                No  \n",
      "..   ...        ...        ...               ...  \n",
      "526  Yes         No         No                No  \n",
      "527  Yes         No         No                No  \n",
      "528  Yes         No         No                No  \n",
      "529   No         No         No                No  \n",
      "530  Yes         No        Yes               Yes  \n",
      "\n",
      "[531 rows x 8 columns]\n"
     ]
    }
   ],
   "source": [
    "nsdf=pd.read_excel('data/Nuclear_speckles_complexes.xlsx',sheet_name='Nuclear_speckle_processes')\n",
    "print(nsdf)\n",
    "\n",
    "\n",
    "nsaccs=nsdf['Accession'].tolist()\n",
    "\n",
    "nshasIDR=[]\n",
    "nsclustertypes=[]\n",
    "ns18=[]\n",
    "ns26=[]\n",
    "ns1826=[]\n",
    "for s in range(0,len(nsaccs)):\n",
    "    pos=[i for i, x in enumerate(subaccsNODIST) if x == nsaccs[s]]\n",
    "    if not pos:\n",
    "        nshasIDR.append('No')\n",
    "        ns18.append('No')\n",
    "        ns26.append('No')\n",
    "        ns1826.append('No')\n",
    "    else:\n",
    "        nshasIDR.append('Yes')\n",
    "        tmplist=[]\n",
    "        for p in pos:\n",
    "            tmplist.append(subclustersNODIST[p])\n",
    "        #print(subgeneswnumsNODIST[p])\n",
    "        #print(tmplist)\n",
    "        \n",
    "            \n",
    "        if 18 in tmplist:\n",
    "            ns18.append('Yes')\n",
    "        else:\n",
    "            ns18.append('No')\n",
    "                        \n",
    "        if 26 in tmplist:\n",
    "            ns26.append('Yes')\n",
    "        else:\n",
    "            ns26.append('No')\n",
    "            \n",
    "        if 18 in tmplist or 26 in tmplist:\n",
    "            ns1826.append('Yes')\n",
    "        else:\n",
    "            ns1826.append('No')\n",
    "\n",
    "nsdfwclust=nsdf\n",
    "nsdfwclust['IDR']=nshasIDR\n",
    "nsdfwclust['Cluster 18']=ns18\n",
    "nsdfwclust['Cluster 26']=ns26\n",
    "nsdfwclust['Cluster 18, or 26']=ns1826\n",
    "\n",
    "print(ns18.count('Yes'))\n",
    "print(ns26.count('Yes'))\n",
    "\n",
    "print(nsdfwclust)\n",
    "\n",
    "#nsdfwclust.to_excel('data/Nuclear_speckles_complexes_w_clusters_IDRs_gte_'+str(minidrlinkerlength)+'_and_nonlinkers_gte_'+str(minidrlength)+'.xlsx')"
   ]
  },
  {
   "cell_type": "markdown",
   "metadata": {},
   "source": [
    "## 3.2 - Determine number of discreate processes with 18, 26 or any"
   ]
  },
  {
   "cell_type": "code",
   "execution_count": 23,
   "metadata": {},
   "outputs": [
    {
     "name": "stdout",
     "output_type": "stream",
     "text": [
      "24\n",
      "[15, 15, 18]\n",
      "[0.625, 0.625, 0.75]\n"
     ]
    }
   ],
   "source": [
    "cccategory=nsdfwclust['Category'].tolist()\n",
    "ccgeneralprocess=nsdfwclust['General Process'].tolist()\n",
    "\n",
    "uniccgeneralprocess=[]\n",
    "unicccategory=[]\n",
    "for s in range(0,len(ccgeneralprocess)):\n",
    "    if ccgeneralprocess[s] not in uniccgeneralprocess:\n",
    "        uniccgeneralprocess.append(ccgeneralprocess[s])\n",
    "    if cccategory[s] not in unicccategory:\n",
    "        unicccategory.append(cccategory[s])\n",
    "print(len(unicccategory))\n",
    "\n",
    "colnames=['Cluster 18','Cluster 26','Cluster 18, or 26']\n",
    "haveclustmain=[0]*len(colnames)\n",
    "#print(haveclustmain)\n",
    "for i in range(0,len(unicccategory)):\n",
    "    dftmp=nsdfwclust[nsdfwclust['Category']==unicccategory[i]]\n",
    "    #print(dftmp)\n",
    "    for j in range(0,len(colnames)):\n",
    "        tmplist=dftmp[colnames[j]].tolist()\n",
    "        if 'Yes' in tmplist:\n",
    "            haveclustmain[j]=haveclustmain[j]+1\n",
    "            \n",
    "print(haveclustmain)\n",
    "haveclustmainfrac=[]\n",
    "for i in range(0,len(colnames)):\n",
    "    haveclustmainfrac.append(haveclustmain[i]/len(unicccategory))\n",
    "print(haveclustmainfrac)"
   ]
  },
  {
   "cell_type": "markdown",
   "metadata": {},
   "source": [
    "## 3.3 - Determine which IDRs in each spliceosome protein"
   ]
  },
  {
   "cell_type": "code",
   "execution_count": 25,
   "metadata": {},
   "outputs": [
    {
     "name": "stdout",
     "output_type": "stream",
     "text": [
      "    Accession     Gene    General Process                         Category\n",
      "0      Q13838   DDX39B  Major Spliceosome           Spliceosomal E complex\n",
      "1      Q15637      SF1  Major Spliceosome           Spliceosomal E complex\n",
      "2      Q01081    U2AF1  Major Spliceosome           Spliceosomal E complex\n",
      "3      P26368    U2AF2  Major Spliceosome           Spliceosomal E complex\n",
      "4      Q8IX12    CCAR1  Major Spliceosome           Spliceosomal A complex\n",
      "..        ...      ...                ...                              ...\n",
      "526    P52739   ZNF131   Splicing factors  Other pre-mRNA splicing factors\n",
      "527    O43670   ZNF207   Splicing factors  Other pre-mRNA splicing factors\n",
      "528    Q5BKZ1   ZNF326   Splicing factors  Other pre-mRNA splicing factors\n",
      "529    Q9UL40   ZNF346   Splicing factors  Other pre-mRNA splicing factors\n",
      "530    Q15695  ZRSR2P1   Splicing factors  Other pre-mRNA splicing factors\n",
      "\n",
      "[531 rows x 4 columns]\n",
      "    Accession     Gene    General Process                         Category  \\\n",
      "0      Q13838   DDX39B  Major Spliceosome           Spliceosomal E complex   \n",
      "1      Q15637      SF1  Major Spliceosome           Spliceosomal E complex   \n",
      "2      Q01081    U2AF1  Major Spliceosome           Spliceosomal E complex   \n",
      "3      P26368    U2AF2  Major Spliceosome           Spliceosomal E complex   \n",
      "4      Q8IX12    CCAR1  Major Spliceosome           Spliceosomal A complex   \n",
      "..        ...      ...                ...                              ...   \n",
      "526    P52739   ZNF131   Splicing factors  Other pre-mRNA splicing factors   \n",
      "527    O43670   ZNF207   Splicing factors  Other pre-mRNA splicing factors   \n",
      "528    Q5BKZ1   ZNF326   Splicing factors  Other pre-mRNA splicing factors   \n",
      "529    Q9UL40   ZNF346   Splicing factors  Other pre-mRNA splicing factors   \n",
      "530    Q15695  ZRSR2P1   Splicing factors  Other pre-mRNA splicing factors   \n",
      "\n",
      "     IDR Cluster 0 Cluster 1 Cluster 2 Cluster 3 Cluster 4  ... Cluster 20  \\\n",
      "0     No        No        No        No        No        No  ...         No   \n",
      "1    Yes        No       Yes        No        No        No  ...         No   \n",
      "2    Yes        No        No        No        No        No  ...         No   \n",
      "3    Yes        No        No        No        No        No  ...         No   \n",
      "4    Yes        No        No        No        No        No  ...         No   \n",
      "..   ...       ...       ...       ...       ...       ...  ...        ...   \n",
      "526  Yes        No        No        No        No        No  ...         No   \n",
      "527  Yes        No       Yes        No        No        No  ...         No   \n",
      "528  Yes        No        No        No        No        No  ...         No   \n",
      "529   No        No        No        No        No        No  ...         No   \n",
      "530  Yes        No        No        No        No        No  ...         No   \n",
      "\n",
      "    Cluster 21 Cluster 22 Cluster 23 Cluster 24 Cluster 25 Cluster 26  \\\n",
      "0           No         No         No         No         No         No   \n",
      "1           No         No         No         No         No         No   \n",
      "2           No         No         No         No         No        Yes   \n",
      "3           No         No         No         No         No        Yes   \n",
      "4           No         No        Yes         No        Yes         No   \n",
      "..         ...        ...        ...        ...        ...        ...   \n",
      "526         No         No         No         No         No         No   \n",
      "527         No         No         No         No         No         No   \n",
      "528         No         No         No         No         No         No   \n",
      "529         No         No         No         No         No         No   \n",
      "530         No         No        Yes         No         No        Yes   \n",
      "\n",
      "    Cluster 27 Cluster 28 Cluster 29  \n",
      "0           No         No         No  \n",
      "1           No         No         No  \n",
      "2           No         No         No  \n",
      "3           No         No         No  \n",
      "4           No         No         No  \n",
      "..         ...        ...        ...  \n",
      "526         No         No         No  \n",
      "527         No         No         No  \n",
      "528         No        Yes         No  \n",
      "529         No         No         No  \n",
      "530         No         No         No  \n",
      "\n",
      "[531 rows x 35 columns]\n"
     ]
    }
   ],
   "source": [
    "numkclusts=max(fullclusternum)+1\n",
    "\n",
    "nsdf=pd.read_excel('data/Nuclear_speckles_complexes.xlsx',sheet_name='Nuclear_speckle_processes')\n",
    "print(nsdf)\n",
    "\n",
    "nsaccs=nsdf['Accession'].tolist()\n",
    "\n",
    "\n",
    "nshasIDR=[]\n",
    "nsclustertypes=[]\n",
    "nsc=[[] for _ in range(numkclusts)]\n",
    "for s in range(0,len(nsaccs)):\n",
    "    pos=[i for i, x in enumerate(subaccsNODIST) if x == nsaccs[s]]\n",
    "    if not pos:\n",
    "        nshasIDR.append('No')\n",
    "        for i in range(0,numkclusts):\n",
    "            nsc[i].append('No')\n",
    "        \n",
    "    else:\n",
    "        nshasIDR.append('Yes')\n",
    "\n",
    "        tmplist=[]\n",
    "        for p in pos:\n",
    "            tmplist.append(subclustersNODIST[p])\n",
    "        #print(subgeneswnumsNODIST[p])\n",
    "        #print(tmplist)\n",
    "        \n",
    "        for i in range(0,numkclusts):\n",
    "            if i in tmplist:\n",
    "                nsc[i].append('Yes')\n",
    "            else:\n",
    "                nsc[i].append('No')\n",
    "\n",
    "\n",
    "nsdfallclust=nsdf\n",
    "nsdfallclust['IDR']=nshasIDR\n",
    "for i in range(0,numkclusts):\n",
    "    nsdfallclust['Cluster '+str(i)]=nsc[i]\n",
    "    \n",
    "\n",
    "print(nsdfallclust)"
   ]
  },
  {
   "cell_type": "markdown",
   "metadata": {},
   "source": [
    "## 3.4 - Determine number of discreate processes with each IDR cluster type"
   ]
  },
  {
   "cell_type": "code",
   "execution_count": 26,
   "metadata": {},
   "outputs": [
    {
     "name": "stdout",
     "output_type": "stream",
     "text": [
      "['Cluster 0', 'Cluster 1', 'Cluster 2', 'Cluster 3', 'Cluster 4', 'Cluster 5', 'Cluster 6', 'Cluster 7', 'Cluster 8', 'Cluster 9', 'Cluster 10', 'Cluster 11', 'Cluster 12', 'Cluster 13', 'Cluster 14', 'Cluster 15', 'Cluster 16', 'Cluster 17', 'Cluster 18', 'Cluster 19', 'Cluster 20', 'Cluster 21', 'Cluster 22', 'Cluster 23', 'Cluster 24', 'Cluster 25', 'Cluster 26', 'Cluster 27', 'Cluster 28', 'Cluster 29']\n",
      "[5, 12, 3, 2, 2, 3, 3, 9, 1, 6, 3, 2, 5, 6, 5, 2, 1, 3, 15, 8, 8, 2, 1, 8, 7, 5, 15, 5, 2, 6]\n",
      "[0.20833333333333334, 0.5, 0.125, 0.08333333333333333, 0.08333333333333333, 0.125, 0.125, 0.375, 0.041666666666666664, 0.25, 0.125, 0.08333333333333333, 0.20833333333333334, 0.25, 0.20833333333333334, 0.08333333333333333, 0.041666666666666664, 0.125, 0.625, 0.3333333333333333, 0.3333333333333333, 0.08333333333333333, 0.041666666666666664, 0.3333333333333333, 0.2916666666666667, 0.20833333333333334, 0.625, 0.20833333333333334, 0.08333333333333333, 0.25]\n",
      "0.0366727506983007\n",
      "0.0366727506983007\n"
     ]
    },
    {
     "data": {
      "text/plain": [
       "(array([9., 5., 5., 3., 4., 1., 0., 1., 0., 2.]),\n",
       " array([0.04166667, 0.1       , 0.15833333, 0.21666667, 0.275     ,\n",
       "        0.33333333, 0.39166667, 0.45      , 0.50833333, 0.56666667,\n",
       "        0.625     ]),\n",
       " <BarContainer object of 10 artists>)"
      ]
     },
     "execution_count": 26,
     "metadata": {},
     "output_type": "execute_result"
    },
    {
     "data": {
      "image/png": "[encoded data removed]",
      "text/plain": [
       "<Figure size 432x288 with 1 Axes>"
      ]
     },
     "metadata": {
      "needs_background": "light"
     },
     "output_type": "display_data"
    },
    {
     "data": {
      "image/png": "[encoded data removed]",
      "text/plain": [
       "<Figure size 432x288 with 1 Axes>"
      ]
     },
     "metadata": {
      "needs_background": "light"
     },
     "output_type": "display_data"
    }
   ],
   "source": [
    "cccategory=nsdfallclust['Category'].tolist()\n",
    "ccgeneralprocess=nsdfallclust['General Process'].tolist()\n",
    "\n",
    "uniccgeneralprocess=[]\n",
    "unicccategory=[]\n",
    "for s in range(0,len(ccgeneralprocess)):\n",
    "    if ccgeneralprocess[s] not in uniccgeneralprocess:\n",
    "        uniccgeneralprocess.append(ccgeneralprocess[s])\n",
    "    if cccategory[s] not in unicccategory:\n",
    "        unicccategory.append(cccategory[s])\n",
    "\n",
    "colnames=nsdfallclust.columns.tolist()[5:]\n",
    "print(colnames)\n",
    "\n",
    "haveclust=[0]*len(colnames)\n",
    "for i in range(0,len(unicccategory)):\n",
    "    dftmp=nsdfallclust[nsdfallclust['Category']==unicccategory[i]]\n",
    "    #print(dftmp)\n",
    "    for j in range(0,len(colnames)):\n",
    "        tmplist=dftmp[colnames[j]].tolist()\n",
    "        if 'Yes' in tmplist:\n",
    "            haveclust[j]=haveclust[j]+1\n",
    "            \n",
    "print(haveclust)\n",
    "haveclustfrac=[]\n",
    "for i in range(0,len(colnames)):\n",
    "    haveclustfrac.append(haveclust[i]/len(unicccategory))\n",
    "print(haveclustfrac)\n",
    "\n",
    "plt.bar(np.arange(0,numkclusts,1),haveclustfrac)\n",
    "\n",
    "print(scipy.stats.binom_test(haveclust[26], 42, p=np.mean(haveclustfrac)))\n",
    "print(scipy.stats.binom_test(haveclust[18], 42, p=np.mean(haveclustfrac)))\n",
    "\n",
    "plt.figure()\n",
    "plt.hist(haveclustfrac)\n"
   ]
  },
  {
   "cell_type": "markdown",
   "metadata": {},
   "source": [
    "## 3.5 - Determine number of discreate processes with any 2 IDR cluster type"
   ]
  },
  {
   "cell_type": "code",
   "execution_count": 38,
   "metadata": {},
   "outputs": [
    {
     "name": "stdout",
     "output_type": "stream",
     "text": [
      "['Cluster 0', 'Cluster 1', 'Cluster 2', 'Cluster 3', 'Cluster 4', 'Cluster 5', 'Cluster 6', 'Cluster 7', 'Cluster 8', 'Cluster 9', 'Cluster 10', 'Cluster 11', 'Cluster 12', 'Cluster 13', 'Cluster 14', 'Cluster 15', 'Cluster 16', 'Cluster 17', 'Cluster 19', 'Cluster 20', 'Cluster 21', 'Cluster 22', 'Cluster 23', 'Cluster 24', 'Cluster 25', 'Cluster 27', 'Cluster 28', 'Cluster 29']\n",
      "378\n",
      "16\n",
      "7.243386243386244\n",
      "0.3018077601410935\n",
      "378\n",
      "378\n"
     ]
    }
   ],
   "source": [
    "cccategory=nsdfallclust['Category'].tolist()\n",
    "ccgeneralprocess=nsdfallclust['General Process'].tolist()\n",
    "\n",
    "uniccgeneralprocess=[]\n",
    "unicccategory=[]\n",
    "for s in range(0,len(ccgeneralprocess)):\n",
    "    if ccgeneralprocess[s] not in uniccgeneralprocess:\n",
    "        uniccgeneralprocess.append(ccgeneralprocess[s])\n",
    "    if cccategory[s] not in unicccategory:\n",
    "        unicccategory.append(cccategory[s])\n",
    "\n",
    "#colnames=nsdfallclust.columns.tolist()[5:]\n",
    "allcolnames=nsdfallclust.columns.tolist()[5:]\n",
    "subcolnames=['Cluster 18','Cluster 26']\n",
    "colnames = [x for x in allcolnames if x not in subcolnames]\n",
    "print(colnames)\n",
    "\n",
    "haveclust=[0]*int(math.factorial(len(colnames))/(math.factorial(len(colnames)-2)*math.factorial(2)))\n",
    "setnames=[]\n",
    "print(len(haveclust))\n",
    "for i in range(0,len(unicccategory)):\n",
    "    dftmp=nsdfallclust[nsdfallclust['Category']==unicccategory[i]]\n",
    "    #print(dftmp)\n",
    "    count=-1\n",
    "    for j in range(0,len(colnames)):\n",
    "        for k in range(j+1,len(colnames)):\n",
    "            count=count+1\n",
    "            tmplist1=dftmp[colnames[j]].tolist()\n",
    "            tmplist2=dftmp[colnames[k]].tolist()\n",
    "            if i==0:\n",
    "                setnames.append(colnames[j]+', '+colnames[k])\n",
    "            #print(str(i)+': '+str(count))\n",
    "            if 'Yes' in tmplist1 or 'Yes' in tmplist2:\n",
    "                haveclust[count]=haveclust[count]+1\n",
    "                \n",
    "#print(haveclust)\n",
    "print(max(haveclust))\n",
    "print(np.mean(haveclust))\n",
    "\n",
    "haveclustfrac=[]\n",
    "for i in range(0,len(haveclust)):\n",
    "    haveclustfrac.append(haveclust[i]/len(unicccategory))\n",
    "print(np.mean(haveclustfrac))\n",
    "\n",
    "print(len(setnames))\n",
    "print(len(haveclustfrac))"
   ]
  },
  {
   "cell_type": "markdown",
   "metadata": {},
   "source": [
    "## 3.6 - Plot distribution of number of occurences"
   ]
  },
  {
   "cell_type": "code",
   "execution_count": 39,
   "metadata": {
    "scrolled": true
   },
   "outputs": [
    {
     "data": {
      "text/plain": [
       "(-0.05, 1.05)"
      ]
     },
     "execution_count": 39,
     "metadata": {},
     "output_type": "execute_result"
    },
    {
     "data": {
      "image/png": "[encoded data removed]",
      "text/plain": [
       "<Figure size 432x288 with 1 Axes>"
      ]
     },
     "metadata": {
      "needs_background": "light"
     },
     "output_type": "display_data"
    }
   ],
   "source": [
    "plt.hist(haveclustfrac,color='#d7d7d7',edgecolor='black')\n",
    "\n",
    "mycolor=['#000000','#1d9bd7','#7c2880']\n",
    "for i in range(0,len(haveclustmainfrac)):\n",
    "    plt.plot([haveclustmainfrac[i],haveclustmainfrac[i]],[0,700],'--',color=mycolor[i])\n",
    "    \n",
    "plt.ylim([0,120])\n",
    "plt.ylabel('Number of Occurences',fontsize=12)\n",
    "plt.xlabel('Fraction of Discrete Processes Housing IDR Sets',fontsize=12)\n",
    "plt.xlim([-0.05,1.05])\n",
    "\n",
    "#plt.savefig('Figures/2024_02/speckles/Fraction_discrete_spliceosome_processes_housing_2_IDR_sets_'+str(minidrlinkerlength)+'_and_nonlinkers_gte_'+str(minidrlength)+'.pdf', transparent=True, bbox_inches = \"tight\") \n"
   ]
  },
  {
   "cell_type": "markdown",
   "metadata": {},
   "source": [
    "## 3.7 - Save data to excel"
   ]
  },
  {
   "cell_type": "code",
   "execution_count": 40,
   "metadata": {},
   "outputs": [
    {
     "name": "stdout",
     "output_type": "stream",
     "text": [
      "381\n",
      "381\n",
      "             Which Clusters  Fraction of Processes\n",
      "0      Cluster 0, Cluster 1               0.625000\n",
      "1      Cluster 0, Cluster 2               0.333333\n",
      "2      Cluster 0, Cluster 3               0.250000\n",
      "3      Cluster 0, Cluster 4               0.250000\n",
      "4      Cluster 0, Cluster 5               0.291667\n",
      "..                      ...                    ...\n",
      "376  Cluster 27, Cluster 29               0.416667\n",
      "377  Cluster 28, Cluster 29               0.291667\n",
      "378              Cluster 18               0.625000\n",
      "379              Cluster 26               0.625000\n",
      "380  Cluster 18, Cluster 26               0.750000\n",
      "\n",
      "[381 rows x 2 columns]\n"
     ]
    }
   ],
   "source": [
    "setnames.append('Cluster 18')\n",
    "setnames.append('Cluster 26')\n",
    "setnames.append('Cluster 18, Cluster 26')\n",
    "\n",
    "haveclustfracall=haveclustfrac\n",
    "for i in range(0,len(haveclustmainfrac)):\n",
    "    haveclustfracall.append(haveclustmainfrac[i])\n",
    "\n",
    "print(len(haveclustfrac))\n",
    "print(len(haveclustfracall))\n",
    "    \n",
    "tmpdf=pd.DataFrame()\n",
    "tmpdf['Which Clusters']=setnames\n",
    "tmpdf['Fraction of Processes']=haveclustfracall\n",
    "print(tmpdf)\n",
    "\n",
    "#with pd.ExcelWriter('../Supplementary_Tables/Table_S3.xlsx', engine='openpyxl',mode='a') as writer:\n",
    "#    tmpdf.to_excel(writer,sheet_name='Fig_S3E')"
   ]
  },
  {
   "cell_type": "code",
   "execution_count": null,
   "metadata": {},
   "outputs": [],
   "source": []
  },
  {
   "cell_type": "markdown",
   "metadata": {},
   "source": [
    "# Part 5 - Analyze Transcriptional complex IDRs"
   ]
  },
  {
   "cell_type": "markdown",
   "metadata": {},
   "source": [
    "## 5.1 - Determine if have cluster 10, 11, or 28 IDRs in each transcriptional complex protein"
   ]
  },
  {
   "cell_type": "code",
   "execution_count": 35,
   "metadata": {},
   "outputs": [
    {
     "name": "stdout",
     "output_type": "stream",
     "text": [
      "    Accession   Gene                           General Process  \\\n",
      "0      P24863   CCNC  RNA polymerase II-mediated transcription   \n",
      "1      P49336   CDK8  RNA polymerase II-mediated transcription   \n",
      "2      Q9BWU1  CDK19  RNA polymerase II-mediated transcription   \n",
      "3      Q15648   MED1  RNA polymerase II-mediated transcription   \n",
      "4      Q9NX70  MED29  RNA polymerase II-mediated transcription   \n",
      "..        ...    ...                                       ...   \n",
      "265    Q04206   RELA                             Enhanceosomes   \n",
      "266    P19838  NFKB1                             Enhanceosomes   \n",
      "267    Q15788  NCOA1                 Histone modifying complex   \n",
      "268    Q15596  NCOA2                 Histone modifying complex   \n",
      "269    Q9Y6Q9  NCOA3                 Histone modifying complex   \n",
      "\n",
      "                                           Category  \\\n",
      "0                                  Mediator complex   \n",
      "1                                  Mediator complex   \n",
      "2                                  Mediator complex   \n",
      "3                                  Mediator complex   \n",
      "4                                  Mediator complex   \n",
      "..                                              ...   \n",
      "265            Interferon-beta enhanceosome complex   \n",
      "266            Interferon-beta enhanceosome complex   \n",
      "267  p160 steroid receptor coactivator (SRC) family   \n",
      "268  p160 steroid receptor coactivator (SRC) family   \n",
      "269  p160 steroid receptor coactivator (SRC) family   \n",
      "\n",
      "                        Location  Cluster Number Test  \\\n",
      "0                    Nucleoplasm                  1.0   \n",
      "1                    Nucleoplasm                 28.0   \n",
      "2                        Cytosol                 21.0   \n",
      "3                    Nucleoplasm                  6.0   \n",
      "4                    Nucleoplasm                 11.0   \n",
      "..                           ...                  ...   \n",
      "265                      Cytosol                  9.0   \n",
      "266                  Nucleoplasm                  3.0   \n",
      "267                  Nucleoplasm                  4.0   \n",
      "268  Nuclear bodies, Nucleoplasm                  4.0   \n",
      "269                  Nucleoplasm                  3.0   \n",
      "\n",
      "                                         Source  \n",
      "0                                          HGNC  \n",
      "1                                          HGNC  \n",
      "2                                          HGNC  \n",
      "3                                          HGNC  \n",
      "4                                          HGNC  \n",
      "..                                          ...  \n",
      "265  https://doi.org/10.1016/j.cell.2007.05.019  \n",
      "266  https://doi.org/10.1016/j.cell.2007.05.019  \n",
      "267                      10.1210/endocr/bqaa083  \n",
      "268                      10.1210/endocr/bqaa083  \n",
      "269                      10.1210/endocr/bqaa083  \n",
      "\n",
      "[270 rows x 7 columns]\n",
      "    Accession     Gene General Process                            Category  \\\n",
      "0      Q96BT7   ALKBH8     RNA binding  RNA binding motif containing (RBM)   \n",
      "1      Q86V81   ALYREF     RNA binding  RNA binding motif containing (RBM)   \n",
      "2      Q9NQ94     A1CF     RNA binding  RNA binding motif containing (RBM)   \n",
      "3      Q8N9W6     BOLL     RNA binding  RNA binding motif containing (RBM)   \n",
      "4      Q92879    CELF1     RNA binding  RNA binding motif containing (RBM)   \n",
      "..        ...      ...             ...                                 ...   \n",
      "208    O15042   U2SURP     RNA binding  RNA binding motif containing (RBM)   \n",
      "209    Q8TBF4    ZCRB1     RNA binding  RNA binding motif containing (RBM)   \n",
      "210    Q14966   ZNF638     RNA binding  RNA binding motif containing (RBM)   \n",
      "211    Q15695  ZRSR2P1     RNA binding  RNA binding motif containing (RBM)   \n",
      "212    Q15696    ZRSR2     RNA binding  RNA binding motif containing (RBM)   \n",
      "\n",
      "        Location  Cluster Number Test Source  \n",
      "0    Nucleoplasm                 17.0   HGNC  \n",
      "1              0                  0.0   HGNC  \n",
      "2            NaN                  NaN   HGNC  \n",
      "3            NaN                  NaN   HGNC  \n",
      "4    Nucleoplasm                  6.0   HGNC  \n",
      "..           ...                  ...    ...  \n",
      "208  Nucleoplasm                 17.0   HGNC  \n",
      "209            0                 18.0   HGNC  \n",
      "210  Nucleoplasm                  9.0   HGNC  \n",
      "211            0                 19.0   HGNC  \n",
      "212            0                 23.0   HGNC  \n",
      "\n",
      "[213 rows x 7 columns]\n",
      "483\n",
      "    Accession     Gene                           General Process  \\\n",
      "0      P24863     CCNC  RNA polymerase II-mediated transcription   \n",
      "1      P49336     CDK8  RNA polymerase II-mediated transcription   \n",
      "2      Q9BWU1    CDK19  RNA polymerase II-mediated transcription   \n",
      "3      Q15648     MED1  RNA polymerase II-mediated transcription   \n",
      "4      Q9NX70    MED29  RNA polymerase II-mediated transcription   \n",
      "..        ...      ...                                       ...   \n",
      "478    O15042   U2SURP                               RNA binding   \n",
      "479    Q8TBF4    ZCRB1                               RNA binding   \n",
      "480    Q14966   ZNF638                               RNA binding   \n",
      "481    Q15695  ZRSR2P1                               RNA binding   \n",
      "482    Q15696    ZRSR2                               RNA binding   \n",
      "\n",
      "                               Category     Location  Cluster Number Test  \\\n",
      "0                      Mediator complex  Nucleoplasm                  1.0   \n",
      "1                      Mediator complex  Nucleoplasm                 28.0   \n",
      "2                      Mediator complex      Cytosol                 21.0   \n",
      "3                      Mediator complex  Nucleoplasm                  6.0   \n",
      "4                      Mediator complex  Nucleoplasm                 11.0   \n",
      "..                                  ...          ...                  ...   \n",
      "478  RNA binding motif containing (RBM)  Nucleoplasm                 17.0   \n",
      "479  RNA binding motif containing (RBM)            0                 18.0   \n",
      "480  RNA binding motif containing (RBM)  Nucleoplasm                  9.0   \n",
      "481  RNA binding motif containing (RBM)            0                 19.0   \n",
      "482  RNA binding motif containing (RBM)            0                 23.0   \n",
      "\n",
      "    Source  IDR Cluster 10 Cluster 11 Cluster 28 Cluster 10, 11, or 28  \n",
      "0     HGNC   No         No         No         No                    No  \n",
      "1     HGNC  Yes         No         No        Yes                   Yes  \n",
      "2     HGNC  Yes         No         No         No                    No  \n",
      "3     HGNC  Yes         No         No         No                    No  \n",
      "4     HGNC  Yes         No        Yes         No                   Yes  \n",
      "..     ...  ...        ...        ...        ...                   ...  \n",
      "478   HGNC  Yes         No         No         No                    No  \n",
      "479   HGNC  Yes         No         No         No                    No  \n",
      "480   HGNC  Yes         No         No         No                    No  \n",
      "481   HGNC  Yes         No         No         No                    No  \n",
      "482   HGNC  Yes         No         No         No                    No  \n",
      "\n",
      "[483 rows x 12 columns]\n"
     ]
    }
   ],
   "source": [
    "tcdf=pd.read_excel('Nucleoplasm_processes.xlsx',sheet_name='Nucleoplasm_processes')\n",
    "print(tcdf)\n",
    "\n",
    "tcdf2=pd.read_excel('Nucleoplasm_processes.xlsx',sheet_name='RNA_binding_motif')\n",
    "print(tcdf2)\n",
    "\n",
    "tcaccs=tcdf['Accession'].tolist()+tcdf2['Accession'].tolist()\n",
    "print(len(tcaccs))\n",
    "\n",
    "tcdffull=tcdf.append(tcdf2, ignore_index=True)\n",
    "\n",
    "tchasIDR=[]\n",
    "tcclustertypes=[]\n",
    "tc10=[]\n",
    "tc11=[]\n",
    "tc28=[]\n",
    "tc101128=[]\n",
    "for s in range(0,len(tcaccs)):\n",
    "    pos=[i for i, x in enumerate(subaccsNODIST) if x == tcaccs[s]]\n",
    "    if not pos:\n",
    "        tchasIDR.append('No')\n",
    "        tc10.append('No')\n",
    "        tc11.append('No')\n",
    "        tc28.append('No')\n",
    "        tc101128.append('No')\n",
    "    else:\n",
    "        tchasIDR.append('Yes')\n",
    "        tmplist=[]\n",
    "        for p in pos:\n",
    "            tmplist.append(subclustersNODIST[p])\n",
    "        #print(subgeneswnumsNODIST[p])\n",
    "        #print(tmplist)\n",
    "        \n",
    "        if 10 in tmplist:\n",
    "            tc10.append('Yes')\n",
    "        else:\n",
    "            tc10.append('No')\n",
    "            \n",
    "        if 11 in tmplist:\n",
    "            tc11.append('Yes')\n",
    "        else:\n",
    "            tc11.append('No')\n",
    "                        \n",
    "        if 28 in tmplist:\n",
    "            tc28.append('Yes')\n",
    "        else:\n",
    "            tc28.append('No')\n",
    "            \n",
    "        if 10 in tmplist or 11 in tmplist or 28 in tmplist:\n",
    "            tc101128.append('Yes')\n",
    "        else:\n",
    "            tc101128.append('No')\n",
    "\n",
    "tcdfwclust=tcdffull\n",
    "tcdfwclust['IDR']=tchasIDR\n",
    "tcdfwclust['Cluster 10']=tc10\n",
    "tcdfwclust['Cluster 11']=tc11\n",
    "tcdfwclust['Cluster 28']=tc28\n",
    "tcdfwclust['Cluster 10, 11, or 28']=tc101128\n",
    "\n",
    "print(tcdfwclust)\n",
    "\n",
    "#tcdfwclust.to_excel('Nucleoplasm_processes_w_clusters_IDRs_gte_'+str(minidrlinkerlength)+'_and_nonlinkers_gte_'+str(minidrlength)+'.xlsx')\n"
   ]
  },
  {
   "cell_type": "markdown",
   "metadata": {},
   "source": [
    "## 5.2 - Determine number of discreate processes with 10, 11, 28 or any"
   ]
  },
  {
   "cell_type": "code",
   "execution_count": 36,
   "metadata": {},
   "outputs": [
    {
     "name": "stdout",
     "output_type": "stream",
     "text": [
      "19\n",
      "[13, 12, 8, 17]\n",
      "[0.6842105263157895, 0.631578947368421, 0.42105263157894735, 0.8947368421052632]\n"
     ]
    }
   ],
   "source": [
    "cccategory=tcdfwclust['Category'].tolist()\n",
    "ccgeneralprocess=tcdfwclust['General Process'].tolist()\n",
    "\n",
    "uniccgeneralprocess=[]\n",
    "unicccategory=[]\n",
    "for s in range(0,len(ccgeneralprocess)):\n",
    "    if ccgeneralprocess[s] not in uniccgeneralprocess:\n",
    "        uniccgeneralprocess.append(ccgeneralprocess[s])\n",
    "    if cccategory[s] not in unicccategory:\n",
    "        unicccategory.append(cccategory[s])\n",
    "print(len(unicccategory))\n",
    "\n",
    "colnames=['Cluster 10','Cluster 11','Cluster 28','Cluster 10, 11, or 28']\n",
    "haveclustmain=[0]*len(colnames)\n",
    "#print(haveclustmain)\n",
    "for i in range(0,len(unicccategory)):\n",
    "    dftmp=tcdfwclust[tcdfwclust['Category']==unicccategory[i]]\n",
    "    #print(dftmp)\n",
    "    for j in range(0,len(colnames)):\n",
    "        tmplist=dftmp[colnames[j]].tolist()\n",
    "        if 'Yes' in tmplist:\n",
    "            haveclustmain[j]=haveclustmain[j]+1\n",
    "            \n",
    "print(haveclustmain)\n",
    "haveclustmainfrac=[]\n",
    "for i in range(0,len(colnames)):\n",
    "    haveclustmainfrac.append(haveclustmain[i]/len(unicccategory))\n",
    "print(haveclustmainfrac)"
   ]
  },
  {
   "cell_type": "markdown",
   "metadata": {},
   "source": [
    "## 5.3 - Determine which IDRs in each transcriptional complex protein"
   ]
  },
  {
   "cell_type": "code",
   "execution_count": 38,
   "metadata": {},
   "outputs": [
    {
     "name": "stdout",
     "output_type": "stream",
     "text": [
      "    Accession   Gene                           General Process  \\\n",
      "0      P24863   CCNC  RNA polymerase II-mediated transcription   \n",
      "1      P49336   CDK8  RNA polymerase II-mediated transcription   \n",
      "2      Q9BWU1  CDK19  RNA polymerase II-mediated transcription   \n",
      "3      Q15648   MED1  RNA polymerase II-mediated transcription   \n",
      "4      Q9NX70  MED29  RNA polymerase II-mediated transcription   \n",
      "..        ...    ...                                       ...   \n",
      "265    Q04206   RELA                             Enhanceosomes   \n",
      "266    P19838  NFKB1                             Enhanceosomes   \n",
      "267    Q15788  NCOA1                 Histone modifying complex   \n",
      "268    Q15596  NCOA2                 Histone modifying complex   \n",
      "269    Q9Y6Q9  NCOA3                 Histone modifying complex   \n",
      "\n",
      "                                           Category  \\\n",
      "0                                  Mediator complex   \n",
      "1                                  Mediator complex   \n",
      "2                                  Mediator complex   \n",
      "3                                  Mediator complex   \n",
      "4                                  Mediator complex   \n",
      "..                                              ...   \n",
      "265            Interferon-beta enhanceosome complex   \n",
      "266            Interferon-beta enhanceosome complex   \n",
      "267  p160 steroid receptor coactivator (SRC) family   \n",
      "268  p160 steroid receptor coactivator (SRC) family   \n",
      "269  p160 steroid receptor coactivator (SRC) family   \n",
      "\n",
      "                        Location  Cluster Number Test  \\\n",
      "0                    Nucleoplasm                  1.0   \n",
      "1                    Nucleoplasm                 28.0   \n",
      "2                        Cytosol                 21.0   \n",
      "3                    Nucleoplasm                  6.0   \n",
      "4                    Nucleoplasm                 11.0   \n",
      "..                           ...                  ...   \n",
      "265                      Cytosol                  9.0   \n",
      "266                  Nucleoplasm                  3.0   \n",
      "267                  Nucleoplasm                  4.0   \n",
      "268  Nuclear bodies, Nucleoplasm                  4.0   \n",
      "269                  Nucleoplasm                  3.0   \n",
      "\n",
      "                                         Source  \n",
      "0                                          HGNC  \n",
      "1                                          HGNC  \n",
      "2                                          HGNC  \n",
      "3                                          HGNC  \n",
      "4                                          HGNC  \n",
      "..                                          ...  \n",
      "265  https://doi.org/10.1016/j.cell.2007.05.019  \n",
      "266  https://doi.org/10.1016/j.cell.2007.05.019  \n",
      "267                      10.1210/endocr/bqaa083  \n",
      "268                      10.1210/endocr/bqaa083  \n",
      "269                      10.1210/endocr/bqaa083  \n",
      "\n",
      "[270 rows x 7 columns]\n",
      "    Accession     Gene General Process                            Category  \\\n",
      "0      Q96BT7   ALKBH8     RNA binding  RNA binding motif containing (RBM)   \n",
      "1      Q86V81   ALYREF     RNA binding  RNA binding motif containing (RBM)   \n",
      "2      Q9NQ94     A1CF     RNA binding  RNA binding motif containing (RBM)   \n",
      "3      Q8N9W6     BOLL     RNA binding  RNA binding motif containing (RBM)   \n",
      "4      Q92879    CELF1     RNA binding  RNA binding motif containing (RBM)   \n",
      "..        ...      ...             ...                                 ...   \n",
      "208    O15042   U2SURP     RNA binding  RNA binding motif containing (RBM)   \n",
      "209    Q8TBF4    ZCRB1     RNA binding  RNA binding motif containing (RBM)   \n",
      "210    Q14966   ZNF638     RNA binding  RNA binding motif containing (RBM)   \n",
      "211    Q15695  ZRSR2P1     RNA binding  RNA binding motif containing (RBM)   \n",
      "212    Q15696    ZRSR2     RNA binding  RNA binding motif containing (RBM)   \n",
      "\n",
      "        Location  Cluster Number Test Source  \n",
      "0    Nucleoplasm                 17.0   HGNC  \n",
      "1              0                  0.0   HGNC  \n",
      "2            NaN                  NaN   HGNC  \n",
      "3            NaN                  NaN   HGNC  \n",
      "4    Nucleoplasm                  6.0   HGNC  \n",
      "..           ...                  ...    ...  \n",
      "208  Nucleoplasm                 17.0   HGNC  \n",
      "209            0                 18.0   HGNC  \n",
      "210  Nucleoplasm                  9.0   HGNC  \n",
      "211            0                 19.0   HGNC  \n",
      "212            0                 23.0   HGNC  \n",
      "\n",
      "[213 rows x 7 columns]\n",
      "483\n",
      "    Accession     Gene                           General Process  \\\n",
      "0      P24863     CCNC  RNA polymerase II-mediated transcription   \n",
      "1      P49336     CDK8  RNA polymerase II-mediated transcription   \n",
      "2      Q9BWU1    CDK19  RNA polymerase II-mediated transcription   \n",
      "3      Q15648     MED1  RNA polymerase II-mediated transcription   \n",
      "4      Q9NX70    MED29  RNA polymerase II-mediated transcription   \n",
      "..        ...      ...                                       ...   \n",
      "478    O15042   U2SURP                               RNA binding   \n",
      "479    Q8TBF4    ZCRB1                               RNA binding   \n",
      "480    Q14966   ZNF638                               RNA binding   \n",
      "481    Q15695  ZRSR2P1                               RNA binding   \n",
      "482    Q15696    ZRSR2                               RNA binding   \n",
      "\n",
      "                               Category     Location  Cluster Number Test  \\\n",
      "0                      Mediator complex  Nucleoplasm                  1.0   \n",
      "1                      Mediator complex  Nucleoplasm                 28.0   \n",
      "2                      Mediator complex      Cytosol                 21.0   \n",
      "3                      Mediator complex  Nucleoplasm                  6.0   \n",
      "4                      Mediator complex  Nucleoplasm                 11.0   \n",
      "..                                  ...          ...                  ...   \n",
      "478  RNA binding motif containing (RBM)  Nucleoplasm                 17.0   \n",
      "479  RNA binding motif containing (RBM)            0                 18.0   \n",
      "480  RNA binding motif containing (RBM)  Nucleoplasm                  9.0   \n",
      "481  RNA binding motif containing (RBM)            0                 19.0   \n",
      "482  RNA binding motif containing (RBM)            0                 23.0   \n",
      "\n",
      "    Source  IDR Cluster 0 Cluster 1  ... Cluster 20 Cluster 21 Cluster 22  \\\n",
      "0     HGNC   No        No        No  ...         No         No         No   \n",
      "1     HGNC  Yes        No        No  ...         No         No         No   \n",
      "2     HGNC  Yes        No        No  ...         No        Yes         No   \n",
      "3     HGNC  Yes        No        No  ...         No         No         No   \n",
      "4     HGNC  Yes        No        No  ...         No         No         No   \n",
      "..     ...  ...       ...       ...  ...        ...        ...        ...   \n",
      "478   HGNC  Yes        No        No  ...         No         No         No   \n",
      "479   HGNC  Yes        No        No  ...         No         No         No   \n",
      "480   HGNC  Yes        No        No  ...         No         No         No   \n",
      "481   HGNC  Yes        No        No  ...         No         No         No   \n",
      "482   HGNC  Yes        No        No  ...         No         No         No   \n",
      "\n",
      "    Cluster 23 Cluster 24 Cluster 25 Cluster 26 Cluster 27 Cluster 28  \\\n",
      "0           No         No         No         No         No         No   \n",
      "1           No         No         No         No         No        Yes   \n",
      "2           No         No         No         No         No         No   \n",
      "3           No         No         No         No         No         No   \n",
      "4           No         No         No         No         No         No   \n",
      "..         ...        ...        ...        ...        ...        ...   \n",
      "478        Yes         No         No         No         No         No   \n",
      "479         No         No         No         No         No         No   \n",
      "480         No         No         No        Yes         No         No   \n",
      "481        Yes         No         No        Yes         No         No   \n",
      "482        Yes         No         No        Yes         No         No   \n",
      "\n",
      "    Cluster 29  \n",
      "0           No  \n",
      "1           No  \n",
      "2           No  \n",
      "3           No  \n",
      "4           No  \n",
      "..         ...  \n",
      "478         No  \n",
      "479         No  \n",
      "480         No  \n",
      "481         No  \n",
      "482         No  \n",
      "\n",
      "[483 rows x 38 columns]\n"
     ]
    }
   ],
   "source": [
    "numkclusts=max(fullclusternum)+1\n",
    "\n",
    "tcdf=pd.read_excel('Nucleoplasm_processes.xlsx',sheet_name='Nucleoplasm_processes')\n",
    "print(tcdf)\n",
    "\n",
    "tcdf2=pd.read_excel('Nucleoplasm_processes.xlsx',sheet_name='RNA_binding_motif')\n",
    "print(tcdf2)\n",
    "\n",
    "tcaccs=tcdf['Accession'].tolist()+tcdf2['Accession'].tolist()\n",
    "print(len(tcaccs))\n",
    "\n",
    "tcdffull=tcdf.append(tcdf2, ignore_index=True)\n",
    "\n",
    "tchasIDR=[]\n",
    "tcclustertypes=[]\n",
    "tcc=[[] for _ in range(numkclusts)]\n",
    "for s in range(0,len(tcaccs)):\n",
    "    pos=[i for i, x in enumerate(subaccsNODIST) if x == tcaccs[s]]\n",
    "    if not pos:\n",
    "        tchasIDR.append('No')\n",
    "        for i in range(0,numkclusts):\n",
    "            tcc[i].append('No')\n",
    "        \n",
    "    else:\n",
    "        tchasIDR.append('Yes')\n",
    "\n",
    "        tmplist=[]\n",
    "        for p in pos:\n",
    "            tmplist.append(subclustersNODIST[p])\n",
    "        #print(subgeneswnumsNODIST[p])\n",
    "        #print(tmplist)\n",
    "        \n",
    "        for i in range(0,numkclusts):\n",
    "            if i in tmplist:\n",
    "                tcc[i].append('Yes')\n",
    "            else:\n",
    "                tcc[i].append('No')\n",
    "\n",
    "\n",
    "tcdfallclust=tcdffull\n",
    "tcdfallclust['IDR']=tchasIDR\n",
    "for i in range(0,numkclusts):\n",
    "    tcdfallclust['Cluster '+str(i)]=tcc[i]\n",
    "    \n",
    "\n",
    "print(tcdfallclust)"
   ]
  },
  {
   "cell_type": "markdown",
   "metadata": {},
   "source": [
    "## 5.4 - Determine number of discreate processes with each IDR cluster type"
   ]
  },
  {
   "cell_type": "code",
   "execution_count": 42,
   "metadata": {},
   "outputs": [
    {
     "name": "stdout",
     "output_type": "stream",
     "text": [
      "['Cluster 0', 'Cluster 1', 'Cluster 2', 'Cluster 3', 'Cluster 4', 'Cluster 5', 'Cluster 6', 'Cluster 7', 'Cluster 8', 'Cluster 9', 'Cluster 10', 'Cluster 11', 'Cluster 12', 'Cluster 13', 'Cluster 14', 'Cluster 15', 'Cluster 16', 'Cluster 17', 'Cluster 18', 'Cluster 19', 'Cluster 20', 'Cluster 21', 'Cluster 22', 'Cluster 23', 'Cluster 24', 'Cluster 25', 'Cluster 26', 'Cluster 27', 'Cluster 28', 'Cluster 29']\n",
      "[4, 9, 4, 9, 11, 2, 10, 9, 4, 11, 13, 12, 11, 7, 11, 5, 8, 3, 10, 8, 8, 10, 1, 12, 10, 10, 1, 8, 8, 3]\n",
      "[0.21052631578947367, 0.47368421052631576, 0.21052631578947367, 0.47368421052631576, 0.5789473684210527, 0.10526315789473684, 0.5263157894736842, 0.47368421052631576, 0.21052631578947367, 0.5789473684210527, 0.6842105263157895, 0.631578947368421, 0.5789473684210527, 0.3684210526315789, 0.5789473684210527, 0.2631578947368421, 0.42105263157894735, 0.15789473684210525, 0.5263157894736842, 0.42105263157894735, 0.42105263157894735, 0.5263157894736842, 0.05263157894736842, 0.631578947368421, 0.5263157894736842, 0.5263157894736842, 0.05263157894736842, 0.42105263157894735, 0.42105263157894735, 0.15789473684210525]\n",
      "0.018251457119467348\n",
      "0.060373291977647764\n",
      "0.9999999999999996\n"
     ]
    },
    {
     "data": {
      "text/plain": [
       "(array([3., 2., 3., 1., 0., 6., 3., 5., 4., 3.]),\n",
       " array([0.05263158, 0.11578947, 0.17894737, 0.24210526, 0.30526316,\n",
       "        0.36842105, 0.43157895, 0.49473684, 0.55789474, 0.62105263,\n",
       "        0.68421053]),\n",
       " <BarContainer object of 10 artists>)"
      ]
     },
     "execution_count": 42,
     "metadata": {},
     "output_type": "execute_result"
    },
    {
     "data": {
      "image/png": "[encoded data removed]",
      "text/plain": [
       "<Figure size 432x288 with 1 Axes>"
      ]
     },
     "metadata": {
      "needs_background": "light"
     },
     "output_type": "display_data"
    },
    {
     "data": {
      "image/png": "[encoded data removed]",
      "text/plain": [
       "<Figure size 432x288 with 1 Axes>"
      ]
     },
     "metadata": {
      "needs_background": "light"
     },
     "output_type": "display_data"
    }
   ],
   "source": [
    "cccategory=tcdfallclust['Category'].tolist()\n",
    "ccgeneralprocess=tcdfallclust['General Process'].tolist()\n",
    "\n",
    "uniccgeneralprocess=[]\n",
    "unicccategory=[]\n",
    "for s in range(0,len(ccgeneralprocess)):\n",
    "    if ccgeneralprocess[s] not in uniccgeneralprocess:\n",
    "        uniccgeneralprocess.append(ccgeneralprocess[s])\n",
    "    if cccategory[s] not in unicccategory:\n",
    "        unicccategory.append(cccategory[s])\n",
    "\n",
    "colnames=tcdfallclust.columns.tolist()[8:]\n",
    "print(colnames)\n",
    "\n",
    "haveclust=[0]*len(colnames)\n",
    "for i in range(0,len(unicccategory)):\n",
    "    dftmp=tcdfallclust[tcdfallclust['Category']==unicccategory[i]]\n",
    "    #print(dftmp)\n",
    "    for j in range(0,len(colnames)):\n",
    "        tmplist=dftmp[colnames[j]].tolist()\n",
    "        if 'Yes' in tmplist:\n",
    "            haveclust[j]=haveclust[j]+1\n",
    "            \n",
    "print(haveclust)\n",
    "haveclustfrac=[]\n",
    "for i in range(0,len(colnames)):\n",
    "    haveclustfrac.append(haveclust[i]/len(unicccategory))\n",
    "print(haveclustfrac)\n",
    "\n",
    "plt.bar(np.arange(0,numkclusts,1),haveclustfrac)\n",
    "\n",
    "print(scipy.stats.binom_test(haveclust[10], len(unicccategory), p=np.mean(haveclustfrac)))\n",
    "print(scipy.stats.binom_test(haveclust[11], len(unicccategory), p=np.mean(haveclustfrac)))\n",
    "print(scipy.stats.binom_test(haveclust[28], len(unicccategory), p=np.mean(haveclustfrac)))\n",
    "\n",
    "plt.figure()\n",
    "plt.hist(haveclustfrac)\n"
   ]
  },
  {
   "cell_type": "markdown",
   "metadata": {},
   "source": [
    "## 5.5 - Determine number of discreate processes with any 3 IDR cluster type"
   ]
  },
  {
   "cell_type": "code",
   "execution_count": 55,
   "metadata": {},
   "outputs": [
    {
     "name": "stdout",
     "output_type": "stream",
     "text": [
      "['Cluster 0', 'Cluster 1', 'Cluster 2', 'Cluster 3', 'Cluster 4', 'Cluster 5', 'Cluster 6', 'Cluster 7', 'Cluster 8', 'Cluster 9', 'Cluster 12', 'Cluster 13', 'Cluster 14', 'Cluster 15', 'Cluster 16', 'Cluster 17', 'Cluster 18', 'Cluster 19', 'Cluster 20', 'Cluster 21', 'Cluster 22', 'Cluster 23', 'Cluster 24', 'Cluster 25', 'Cluster 26', 'Cluster 27', 'Cluster 29']\n",
      "2925\n",
      "18\n",
      "13.215042735042735\n",
      "0.6955285650022492\n"
     ]
    }
   ],
   "source": [
    "cccategory=tcdfallclust['Category'].tolist()\n",
    "ccgeneralprocess=tcdfallclust['General Process'].tolist()\n",
    "\n",
    "uniccgeneralprocess=[]\n",
    "unicccategory=[]\n",
    "for s in range(0,len(ccgeneralprocess)):\n",
    "    if ccgeneralprocess[s] not in uniccgeneralprocess:\n",
    "        uniccgeneralprocess.append(ccgeneralprocess[s])\n",
    "    if cccategory[s] not in unicccategory:\n",
    "        unicccategory.append(cccategory[s])\n",
    "\n",
    "#colnames=tcdfallclust.columns.tolist()[8:]\n",
    "allcolnames=tcdfallclust.columns.tolist()[8:]\n",
    "subcolnames=['Cluster 10','Cluster 11','Cluster 28']\n",
    "colnames = [x for x in allcolnames if x not in subcolnames]\n",
    "print(colnames)\n",
    "\n",
    "haveclust=[0]*int(math.factorial(len(colnames))/(math.factorial(len(colnames)-3)*math.factorial(3)))\n",
    "print(len(haveclust))\n",
    "for i in range(0,len(unicccategory)):\n",
    "    dftmp=tcdfallclust[tcdfallclust['Category']==unicccategory[i]]\n",
    "    #print(dftmp)\n",
    "    count=-1\n",
    "    for j in range(0,len(colnames)):\n",
    "        for k in range(j+1,len(colnames)):\n",
    "            for l in range(k+1,len(colnames)):\n",
    "                count=count+1\n",
    "                tmplist1=dftmp[colnames[j]].tolist()\n",
    "                tmplist2=dftmp[colnames[k]].tolist()\n",
    "                tmplist3=dftmp[colnames[l]].tolist()\n",
    "                #print(str(i)+': '+str(count))\n",
    "                if 'Yes' in tmplist1 or 'Yes' in tmplist2 or 'Yes' in tmplist3:\n",
    "                    haveclust[count]=haveclust[count]+1\n",
    "                \n",
    "#print(haveclust)\n",
    "print(max(haveclust))\n",
    "print(np.mean(haveclust))\n",
    "\n",
    "haveclustfrac=[]\n",
    "for i in range(0,len(haveclust)):\n",
    "    haveclustfrac.append(haveclust[i]/len(unicccategory))\n",
    "print(np.mean(haveclustfrac))\n"
   ]
  },
  {
   "cell_type": "code",
   "execution_count": 56,
   "metadata": {
    "scrolled": true
   },
   "outputs": [
    {
     "name": "stderr",
     "output_type": "stream",
     "text": [
      "meta NOT subset; don't know how to subset; dropped\n"
     ]
    },
    {
     "data": {
      "image/png": "[encoded data removed]",
      "text/plain": [
       "<Figure size 432x288 with 1 Axes>"
      ]
     },
     "metadata": {
      "needs_background": "light"
     },
     "output_type": "display_data"
    }
   ],
   "source": [
    "plt.hist(haveclustfrac,color='#d7d7d7',edgecolor='black')\n",
    "\n",
    "mycolor=['#1d9bd7','#1f8241','#f58220','#7c2880']\n",
    "for i in range(0,len(haveclustmainfrac)):\n",
    "    plt.plot([haveclustmainfrac[i],haveclustmainfrac[i]],[0,1000],'--',color=mycolor[i])\n",
    "    \n",
    "plt.ylim([0,1000])\n",
    "plt.ylabel('Number of Occurences',fontsize=12)\n",
    "plt.xlabel('Fraction of Discrete Processes Housing IDR Sets',fontsize=12)\n",
    "plt.xlim([-0.05, 1.05])\n",
    "#plt.savefig('Figures/2024_02/nucleoplasm/Fraction_discrete_nucleoplasm_processes_housing_3_IDR_sets_'+str(minidrlinkerlength)+'_and_nonlinkers_gte_'+str(minidrlength)+'.pdf', transparent=True, bbox_inches = \"tight\") \n"
   ]
  },
  {
   "cell_type": "code",
   "execution_count": null,
   "metadata": {},
   "outputs": [],
   "source": []
  }
 ],
 "metadata": {
  "kernelspec": {
   "display_name": "Python 3",
   "language": "python",
   "name": "python3"
  },
  "language_info": {
   "codemirror_mode": {
    "name": "ipython",
    "version": 3
   },
   "file_extension": ".py",
   "mimetype": "text/x-python",
   "name": "python",
   "nbconvert_exporter": "python",
   "pygments_lexer": "ipython3",
   "version": "3.7.7"
  }
 },
 "nbformat": 4,
 "nbformat_minor": 4
}
