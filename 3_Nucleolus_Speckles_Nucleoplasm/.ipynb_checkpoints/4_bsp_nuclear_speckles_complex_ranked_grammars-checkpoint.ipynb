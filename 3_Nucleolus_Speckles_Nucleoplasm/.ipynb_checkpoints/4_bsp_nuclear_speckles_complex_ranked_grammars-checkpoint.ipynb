{
 "cells": [
  {
   "cell_type": "markdown",
   "metadata": {},
   "source": [
    "# Part 0: Load in libraries"
   ]
  },
  {
   "cell_type": "code",
   "execution_count": 1,
   "metadata": {},
   "outputs": [
    {
     "name": "stdout",
     "output_type": "stream",
     "text": [
      "/home/research/kiersten.ruff/fonts/ARIAL.TTF\n"
     ]
    }
   ],
   "source": [
    "import numpy as np\n",
    "import pandas as pd\n",
    "import seaborn as sbn\n",
    "import matplotlib as mpl\n",
    "import matplotlib.pyplot as plt\n",
    "from matplotlib import cm\n",
    "import re\n",
    "import math\n",
    "import scipy\n",
    "from scipy.stats import ks_2samp\n",
    "from matplotlib.patches import Rectangle\n",
    "import pathlib\n",
    "from matplotlib import font_manager\n",
    "from scipy.stats import fisher_exact\n",
    "import localcider\n",
    "from localcider.sequenceParameters import SequenceParameters\n",
    "\n",
    "\n",
    "\n",
    "# Setup the fonts\n",
    "fonts_path = pathlib.Path.home().joinpath('fonts') # i.e. `~/fonts` (update as needed)\n",
    "font_filename = 'ARIAL.TTF'\n",
    "font_path = fonts_path.joinpath(font_filename)\n",
    "print(font_path)\n",
    "\n",
    "font_manager.fontManager.addfont(str(font_path))\n",
    "prop = font_manager.FontProperties(fname=font_path)\n",
    "\n",
    "plt.rcParams['font.family'] = 'sans-serif'\n",
    "plt.rcParams['font.sans-serif'] = prop.get_name()\n",
    "plt.rcParams['pdf.fonttype'] = 42 # Makes text editiable\n",
    "plt.rcParams['ps.fonttype'] = 42\n",
    "\n",
    "COLOR_MAP = dict()\n",
    "COLOR_MAP['A']         = '#8c8c8c'\n",
    "COLOR_MAP['CHNQST']    = '#077a15'\n",
    "COLOR_MAP['DE']        = '#e23a36'\n",
    "COLOR_MAP['FWY']       = '#f58220'\n",
    "COLOR_MAP['G']         = '#86bd8d'\n",
    "COLOR_MAP['ILMV']      = '#231f20'\n",
    "COLOR_MAP['KR']        = '#1725c2'\n",
    "COLOR_MAP['P']         = '#c25fc9'\n",
    "\n",
    "\n",
    "# Using the global color map, we convert the colormap of amino acid\n",
    "# groups, to a map against individual amino acids. This\n",
    "# serves as our internal color map which is used for styling.\n",
    "aacolor_map=dict()\n",
    "for amino_acids in COLOR_MAP:\n",
    "    for amino_acid in amino_acids:\n",
    "        aacolor_map[amino_acid] = COLOR_MAP[amino_acids]"
   ]
  },
  {
   "cell_type": "markdown",
   "metadata": {},
   "source": [
    "# Part 1: Get and Analyze IDRs"
   ]
  },
  {
   "cell_type": "markdown",
   "metadata": {},
   "source": [
    "## 1.1 - Load in all IDR information"
   ]
  },
  {
   "cell_type": "code",
   "execution_count": 2,
   "metadata": {},
   "outputs": [
    {
     "name": "stdout",
     "output_type": "stream",
     "text": [
      "Unnamed: 0              False\n",
      "Uniprot                 False\n",
      "Uniprot w IDRnum        False\n",
      "Gene                    False\n",
      "Cluster Number          False\n",
      "IDR Length              False\n",
      "Start Pos               False\n",
      "End Pos                 False\n",
      "Full Protein Length     False\n",
      "Min Inter Clust Dist    False\n",
      "IDR Position            False\n",
      "HPA Location             True\n",
      "Sequence                False\n",
      "dtype: bool\n",
      "       Unnamed: 0 Uniprot Uniprot w IDRnum            Gene  Cluster Number  \\\n",
      "0               0  G5E9R7         G5E9R7_1  KRTAP4-16 IDR1              27   \n",
      "1               1  Q9NRJ4         Q9NRJ4_1      TULP4 IDR1              17   \n",
      "2               2  Q9NRJ4         Q9NRJ4_2      TULP4 IDR2               1   \n",
      "3               3  Q9NRJ4         Q9NRJ4_3      TULP4 IDR3              27   \n",
      "4               4  Q9NRJ4         Q9NRJ4_4      TULP4 IDR4              27   \n",
      "...           ...     ...              ...             ...             ...   \n",
      "24503       24503  Q7Z739         Q7Z739_2     YTHDF3 IDR2              11   \n",
      "24504       24504  Q17RB8         Q17RB8_1     LONRF1 IDR1              29   \n",
      "24505       24505  Q17RB8         Q17RB8_2     LONRF1 IDR2              24   \n",
      "24506       24506  Q6P1J9         Q6P1J9_1      CDC73 IDR1              17   \n",
      "24507       24507  Q6P1J9         Q6P1J9_2      CDC73 IDR2              17   \n",
      "\n",
      "       IDR Length  Start Pos  End Pos  Full Protein Length  \\\n",
      "0              53        182      235                  235   \n",
      "1              50        527      577                 1543   \n",
      "2              43        767      810                 1543   \n",
      "3              34        828      862                 1543   \n",
      "4              36        993     1029                 1543   \n",
      "...           ...        ...      ...                  ...   \n",
      "24503         163        214      377                  585   \n",
      "24504          31          0       31                  773   \n",
      "24505          53        354      407                  773   \n",
      "24506          43        256      299                  531   \n",
      "24507          42        319      361                  531   \n",
      "\n",
      "       Min Inter Clust Dist    IDR Position              HPA Location  \\\n",
      "0                  8.592811  C-terminal IDR                             \n",
      "1                 14.569964      Linker IDR                             \n",
      "2                  4.777867      Linker IDR                             \n",
      "3                  0.753103      Linker IDR                             \n",
      "4                  3.491170      Linker IDR                             \n",
      "...                     ...             ...                       ...   \n",
      "24503             21.489673      Linker IDR                             \n",
      "24504              9.140638  N-terminal IDR  Cytosol, Plasma membrane   \n",
      "24505              2.253672      Linker IDR  Cytosol, Plasma membrane   \n",
      "24506              4.035674      Linker IDR               Nucleoplasm   \n",
      "24507              2.159379      Linker IDR               Nucleoplasm   \n",
      "\n",
      "                                                Sequence  \n",
      "0      LPSPPRPSPPLLSPVLIPSPSPSPSLPSLSPPLPSPPLPSPHFPSV...  \n",
      "1      KKSPKISRASKSPKLPRISIEARKSPKLPRAAQELSRSPRLPLRKP...  \n",
      "2            QNPPPLSLPPPPQGPMQLSTVGHGDRDHEHLQKSAKALRPTPQ  \n",
      "3                     TKINPPPPYPGTIPAAPTTAAPPPPLPPPQPPVD  \n",
      "4                   ATLKMAQLADSPRAPLQPLAKSKGGPGGVVTQLPAR  \n",
      "...                                                  ...  \n",
      "24503  SGMTSIATNSVPPVSSAAPKPTSWAAIARKPAKPQPKLKPKGNVGI...  \n",
      "24504                    MSSPAVARTSPGGSREMAPAPQGRGRFWEVG  \n",
      "24505  HSVMEESQSLNEPSPKQSEEIPEVTSEPVKGSLNRAQSAQSINSTE...  \n",
      "24506        KAREEGRAPEQRPAPNAAPVDPTLRTKQPIPAAYNRYDQERFK  \n",
      "24507         LKSVTEGASARKTQTPAAQPVPRPVSQARPPPNQKKGSRTPI  \n",
      "\n",
      "[24508 rows x 13 columns]\n"
     ]
    }
   ],
   "source": [
    "humandf=pd.read_excel('../general_data/All_sapiens_IDRs_clustermap_using_centroids.xlsx')\n",
    "\n",
    "print(humandf.isnull().any())\n",
    "humandf = humandf.fillna('')\n",
    "\n",
    "fullaccs=humandf['Uniprot'].tolist()\n",
    "fullaccswnums=humandf['Uniprot w IDRnum'].tolist()\n",
    "fullgeneswnums=humandf['Gene'].tolist()\n",
    "fullclusternum=humandf['Cluster Number'].tolist()\n",
    "fullseqlens=humandf['IDR Length'].tolist()\n",
    "fullstpos=humandf['Start Pos'].tolist()\n",
    "fullenpos=humandf['End Pos'].tolist()\n",
    "fullproteinlength=humandf['Full Protein Length'].tolist()\n",
    "fullmininterclustdist=humandf['Min Inter Clust Dist'].tolist()\n",
    "fulltermini=humandf['IDR Position'].tolist()\n",
    "fulllocationbyunistring=humandf['HPA Location'].tolist()\n",
    "fullseqs=humandf['Sequence'].tolist()\n",
    "\n",
    "print(humandf)\n"
   ]
  },
  {
   "cell_type": "markdown",
   "metadata": {},
   "source": [
    "## 1.2 - Load in all IDR z-score data"
   ]
  },
  {
   "cell_type": "code",
   "execution_count": 3,
   "metadata": {},
   "outputs": [
    {
     "name": "stdout",
     "output_type": "stream",
     "text": [
      "90\n",
      "(24508, 90)\n"
     ]
    }
   ],
   "source": [
    "# make sure features match\n",
    "myfeat=['pol-pol','pol-hyd','pol-pos','pol-neg','pol-aro','pol-ala','pol-pro','pol-gly','hyd-hyd','hyd-pos','hyd-neg','hyd-aro','hyd-ala','hyd-pro','hyd-gly','pos-pos','pos-neg','pos-aro','pos-ala','pos-pro','pos-gly','neg-neg','neg-aro','neg-ala','neg-pro','neg-gly','aro-aro','aro-ala','aro-pro','aro-gly','ala-ala','ala-pro','ala-gly','pro-pro','pro-gly','gly-gly','Frac A','Frac C','Frac D','Frac E','Frac F','Frac G','Frac H','Frac I','Frac K','Frac L','Frac M','Frac N','Frac P','Frac Q','Frac R','Frac S','Frac T','Frac V','Frac W','Frac Y','Frac K+R','Frac D+E','Frac Polar','Frac Aliphatic','Frac Aromatic','R/K Ratio','E/D Ratio','Frac Chain Expanding','FCR','NCPR','Hydrophobicity','Disorder Promoting','Iso point','PPII','A Patch','C Patch','D Patch','E Patch','F Patch','G Patch','H Patch','I Patch','K Patch','L Patch','M Patch','N Patch','P Patch','Q Patch','R Patch','S Patch','T Patch','V Patch','Y Patch','RG Frac']\n",
    "print(len(myfeat))\n",
    "\n",
    "# Load in z-scores for all human IDRs\n",
    "# Made in /project/fava/work/kiersten.ruff/Collaborations/Su/2023/Library_design/map_clusters_for_all_human_IDRs.ipynb\n",
    "fullzvec=np.load('../general_data/sapiens_full_idrome_gte_30_nardini_compositional_RtoK.npy')\n",
    "print(fullzvec.shape)"
   ]
  },
  {
   "cell_type": "markdown",
   "metadata": {},
   "source": [
    "## 1.3 Create subset of IDRs that want to analyze - all IDRs length gte 70 and non-linker IDRs gte 50 in length - used when don't care about cluster distance"
   ]
  },
  {
   "cell_type": "code",
   "execution_count": 4,
   "metadata": {},
   "outputs": [
    {
     "name": "stdout",
     "output_type": "stream",
     "text": [
      "Unnamed: 0              False\n",
      "Uniprot                 False\n",
      "Uniprot w IDRnum        False\n",
      "Gene                    False\n",
      "Cluster Number          False\n",
      "IDR Length              False\n",
      "Start Pos               False\n",
      "End Pos                 False\n",
      "Full Protein Length     False\n",
      "Min Inter Clust Dist    False\n",
      "IDR Position            False\n",
      "HPA Location            False\n",
      "Sequence                False\n",
      "dtype: bool\n",
      "       Unnamed: 0 Uniprot Uniprot w IDRnum            Gene  Cluster Number  \\\n",
      "0               0  G5E9R7         G5E9R7_1  KRTAP4-16 IDR1              27   \n",
      "7               7  Q9NRJ4         Q9NRJ4_7      TULP4 IDR7              23   \n",
      "8               8  Q5MIZ7         Q5MIZ7_1    PPP4R3B IDR1              18   \n",
      "12             12  Q9NQ76         Q9NQ76_1       MEPE IDR1               4   \n",
      "14             14  Q9NQ76         Q9NQ76_3       MEPE IDR3              24   \n",
      "...           ...     ...              ...             ...             ...   \n",
      "24498       24498  Q6ZSZ5         Q6ZSZ5_4   ARHGEF18 IDR4              27   \n",
      "24500       24500  Q6ZSZ5         Q6ZSZ5_6   ARHGEF18 IDR6               1   \n",
      "24501       24501  Q7Z2R9         Q7Z2R9_1  SSBP3-AS1 IDR1              29   \n",
      "24502       24502  Q7Z739         Q7Z739_1     YTHDF3 IDR1               3   \n",
      "24503       24503  Q7Z739         Q7Z739_2     YTHDF3 IDR2              11   \n",
      "\n",
      "       IDR Length  Start Pos  End Pos  Full Protein Length  \\\n",
      "0              53        182      235                  235   \n",
      "7              93       1362     1455                 1543   \n",
      "8             140        709      849                  849   \n",
      "12            112         20      132                  525   \n",
      "14             99        233      332                  525   \n",
      "...           ...        ...      ...                  ...   \n",
      "24498          77        952     1029                 1173   \n",
      "24500          92       1081     1173                 1173   \n",
      "24501          55         45      100                  100   \n",
      "24502          55          0       55                  585   \n",
      "24503         163        214      377                  585   \n",
      "\n",
      "       Min Inter Clust Dist    IDR Position                   HPA Location  \\\n",
      "0                  8.592811  C-terminal IDR                                  \n",
      "7                  6.154491      Linker IDR                                  \n",
      "8                 15.241590  C-terminal IDR  Nuclear speckles, Nucleoplasm   \n",
      "12                 3.322485      Linker IDR                                  \n",
      "14                 2.135569      Linker IDR                                  \n",
      "...                     ...             ...                            ...   \n",
      "24498              1.858534      Linker IDR                        Cytosol   \n",
      "24500             22.812167  C-terminal IDR                        Cytosol   \n",
      "24501              0.488506  C-terminal IDR                                  \n",
      "24502              7.864178  N-terminal IDR                                  \n",
      "24503             21.489673      Linker IDR                                  \n",
      "\n",
      "                                                Sequence  \n",
      "0      LPSPPRPSPPLLSPVLIPSPSPSPSLPSLSPPLPSPPLPSPHFPSV...  \n",
      "7      RTLSDFNSLISSPHLGREKKKVKSQKDQLKSKKLNKTNEFQDSSES...  \n",
      "8      EEDEEMWFNEDEEEEGKAVVAPVEKPKPEDDFPDNYEKFMETKKAK...  \n",
      "12     QPQTEKTKQSCVEEQRQEEKNKDNIGFHHLGKRINQELSSKENIVQ...  \n",
      "14     SDFEGSGYTDLQERGDNDISPFSGDGQPFKDIPGKGEATGPDLEGK...  \n",
      "...                                                  ...  \n",
      "24498  RRLKKQNTAPGALPPDTLAEAQPPSHPPSFNGEGLEGPRVSMLPSG...  \n",
      "24500  QLLLNKLMGKDESTSRNRRSLSPILPGRHSPAPPPDPGFPAPSPPP...  \n",
      "24501  RGLTRGVIRVSPQERSQQNQSAPKGPTPSTRPKPRTLGPQAHSLAL...  \n",
      "24502  MSATSVDQRPKGQGNKVSVQNGSIHQKDAVNDDDFEPYLSSQTNQS...  \n",
      "24503  SGMTSIATNSVPPVSSAAPKPTSWAAIARKPAKPQPKLKPKGNVGI...  \n",
      "\n",
      "[10091 rows x 13 columns]\n"
     ]
    }
   ],
   "source": [
    "minidrlength=50\n",
    "minidrlinkerlength=70\n",
    "\n",
    "subidrsdfNODIST=humandf[humandf['IDR Length']>=minidrlength]\n",
    "subidrsdfNODIST=subidrsdfNODIST[ (subidrsdfNODIST['IDR Length']>=minidrlinkerlength) | (subidrsdfNODIST['IDR Position'].isin(['IDR','N-terminal IDR','C-terminal IDR'])) ]\n",
    "print(subidrsdfNODIST.isnull().any())\n",
    "subidrsdfNODIST = subidrsdfNODIST.fillna('')\n",
    "print(subidrsdfNODIST)\n",
    "\n",
    "subaccsNODIST=subidrsdfNODIST['Uniprot'].tolist()\n",
    "subaccswnumsNODIST=subidrsdfNODIST['Uniprot w IDRnum'].tolist()\n",
    "subgeneswnumsNODIST=subidrsdfNODIST['Gene'].tolist()\n",
    "subclustersNODIST=subidrsdfNODIST['Cluster Number'].tolist()\n",
    "subseqlensNODIST=subidrsdfNODIST['IDR Length'].tolist()\n",
    "substposNODIST=subidrsdfNODIST['Start Pos'].tolist()\n",
    "subenposNODIST=subidrsdfNODIST['End Pos'].tolist()\n",
    "subproteinlengthNODIST=subidrsdfNODIST['Full Protein Length'].tolist()\n",
    "submininterclustdistNODIST=subidrsdfNODIST['Min Inter Clust Dist'].tolist()\n",
    "subterminiNODIST=subidrsdfNODIST['IDR Position'].tolist()\n",
    "subseqsNODIST=subidrsdfNODIST['Sequence'].tolist()\n",
    "sublocstringNODIST=subidrsdfNODIST['HPA Location'].tolist()\n",
    "\n",
    "\n",
    "sublocationbyunistringNODIST=sublocstringNODIST"
   ]
  },
  {
   "cell_type": "markdown",
   "metadata": {},
   "source": [
    "## 1.4 - Get number of X in all subset sequences"
   ]
  },
  {
   "cell_type": "code",
   "execution_count": 5,
   "metadata": {},
   "outputs": [
    {
     "name": "stdout",
     "output_type": "stream",
     "text": [
      "(20, 24508)\n"
     ]
    }
   ],
   "source": [
    "myaas=['A','C','D','E','F','G','H','I','K','L','M','N','P','Q','R','S','T','V','W','Y']\n",
    "\n",
    "aanumlistall=[[] for _ in range(len(myaas))]\n",
    "for s in range(0,len(fullseqs)):\n",
    "    #print(s)\n",
    "    currseq=fullseqs[s]\n",
    "    SeqOb=SequenceParameters(currseq)\n",
    "    aafrac=SeqOb.get_amino_acid_fractions()\n",
    "    slen=SeqOb.get_length()\n",
    "    \n",
    "    for a in range(0,len(myaas)):\n",
    "        aanumlistall[a].append(aafrac[myaas[a]]*slen)\n",
    "        \n",
    "print(np.shape(aanumlistall))"
   ]
  },
  {
   "cell_type": "markdown",
   "metadata": {},
   "source": [
    "## 1.5 - Get cumulative patch length for each subsequence sequence"
   ]
  },
  {
   "cell_type": "code",
   "execution_count": 6,
   "metadata": {},
   "outputs": [
    {
     "name": "stdout",
     "output_type": "stream",
     "text": [
      "20\n"
     ]
    }
   ],
   "source": [
    "numInt=2 # Number of allowable interruption residues\n",
    "minBlockLen=4 # Must have at least minBlockLen lysines in the block\n",
    "\n",
    "testaas=['A','C','D','E','F','G','H','I','K','L','M','N','P','Q','R','S','T','V','W','Y']\n",
    "\n",
    "xrichlen=[[] for _ in range(len(testaas))]\n",
    "\n",
    "for s in range(0,len(fullseqs)):\n",
    "    currseq=fullseqs[s]\n",
    "    \n",
    "    ## Fraction of sequence containing patches\n",
    "    counta=-1\n",
    "    for a in testaas:\n",
    "        counta=counta+1\n",
    "        justKs='0'*len(currseq) # Set string of zeros\n",
    "\n",
    "        pos=[i for i, ltr in enumerate(currseq) if ltr == a] # Find positions of the residue of interest\n",
    "\n",
    "        # If interruption length is less than or equal to numInt then say these positions are also the residue of interest\n",
    "        pos2=pos\n",
    "        for p in range(0,len(pos)-1):\n",
    "            tdi=pos[p+1]-pos[p]\n",
    "            if tdi > 1 and tdi<=numInt+1:\n",
    "                myt=list(range(pos[p]+1,pos[p+1]))\n",
    "                for item in myt:\n",
    "                    pos2.append(item)\n",
    "\n",
    "\n",
    "        # For positions make those 1 in string of zeros   \n",
    "        justKs = list(justKs)\n",
    "        for p in pos2:\n",
    "            justKs[p]='1'\n",
    "        justKs = ''.join(justKs)\n",
    "\n",
    "\n",
    "        the_ones = re.findall(r\"1+\", justKs) # Find all consecutive 1s\n",
    "        idx_ones=[[m.start(0), m.end(0)] for m in re.finditer(r\"1+\", justKs)] # Find indices of ones\n",
    "\n",
    "        numpatches=0\n",
    "        count=-1\n",
    "        patchescombined=''\n",
    "        for o in the_ones:\n",
    "            count=count+1\n",
    "            myrange=idx_ones[count] # Get indices for each consecutive strength\n",
    "            subseq=currseq[myrange[0]:myrange[1]] # Get subseq that corresponds to this stength\n",
    "            pos3=[i for i, ltr in enumerate(subseq) if ltr == a] # Get positions of the actual residue of interest in this subseq\n",
    "            # If the number of the actual residue of interest is greater than or equal to minBlockLen add to the number of patches and string patches together in string\n",
    "            if len(pos3)>=minBlockLen:\n",
    "                numpatches=numpatches+1\n",
    "                patchescombined+=subseq\n",
    "\n",
    "        xrichlen[counta].append(len(patchescombined))\n",
    "        \n",
    "print(len(xrichlen))"
   ]
  },
  {
   "cell_type": "markdown",
   "metadata": {},
   "source": [
    "## 1.6 - Add new data to dataframe - if want all IDRs"
   ]
  },
  {
   "cell_type": "code",
   "execution_count": null,
   "metadata": {},
   "outputs": [
    {
     "name": "stdout",
     "output_type": "stream",
     "text": [
      "0\n"
     ]
    }
   ],
   "source": [
    "dfrich=pd.DataFrame()\n",
    "dfrich['Gene']=fullgeneswnums\n",
    "dfrich['Cluster']=fullclusternum\n",
    "dfrich['Location']=fulllocationbyunistring\n",
    "dfrich['Uniprot']=fullaccs\n",
    "dfrich['Uniprot w Num']=fullaccswnums\n",
    "dfrich['IDR Length']=fullseqlens\n",
    "\n",
    "for a in range(0,len(myaas)):\n",
    "    dfrich['Num '+myaas[a]]=aanumlistall[a]\n",
    "    \n",
    "for a in range(0,len(myaas)):\n",
    "     dfrich['Cumulative Patch '+myaas[a]]=xrichlen[a]\n",
    "\n",
    "mysubfeat=['pos-neg','R Patch','Frac R']\n",
    "## Add in z-score data ##\n",
    "for f in range(0,len(mysubfeat)):\n",
    "    fidx=myfeat.index(mysubfeat[f])\n",
    "    print(f)\n",
    "    tmplist=[]\n",
    "    for s in range(0,len(fullaccswnums)):\n",
    "        idx=fullaccswnums.index(fullaccswnums[s])\n",
    "        tmplist.append(fullzvec[idx,fidx])\n",
    "    dfrich[mysubfeat[f]]=tmplist\n",
    "\n",
    "print(dfrich)"
   ]
  },
  {
   "cell_type": "markdown",
   "metadata": {},
   "source": [
    "## 1.7 - Load in nucleoli complex information"
   ]
  },
  {
   "cell_type": "code",
   "execution_count": 8,
   "metadata": {},
   "outputs": [
    {
     "name": "stdout",
     "output_type": "stream",
     "text": [
      "     Unnamed: 0 Accession     Gene    General Process  \\\n",
      "286         286    O00422    SAP18       ASAP complex   \n",
      "285         285    Q15287    RNPS1       ASAP complex   \n",
      "284         284    Q9UKV3    ACIN1       ASAP complex   \n",
      "0             0    Q13838   DDX39B  Major Spliceosome   \n",
      "170         170    Q15459    SF3A1  Major Spliceosome   \n",
      "..          ...       ...      ...                ...   \n",
      "365         365    Q9Y247   FAM50B   Splicing factors   \n",
      "366         366    Q8N1B3     CCNQ   Splicing factors   \n",
      "367         367    Q06787     FMR1   Splicing factors   \n",
      "401         401    O00425  IGF2BP3   Splicing factors   \n",
      "530         530    Q15695  ZRSR2P1   Splicing factors   \n",
      "\n",
      "                               Category  IDR Cluster 18 Cluster 26  \\\n",
      "286                        ASAP complex   No         No         No   \n",
      "285                        ASAP complex  Yes         No        Yes   \n",
      "284                        ASAP complex  Yes        Yes        Yes   \n",
      "0                Spliceosomal E complex   No         No         No   \n",
      "170  U2 small nuclear ribonucleoprotein  Yes         No         No   \n",
      "..                                  ...  ...        ...        ...   \n",
      "365     Other pre-mRNA splicing factors   No         No         No   \n",
      "366     Other pre-mRNA splicing factors   No         No         No   \n",
      "367     Other pre-mRNA splicing factors  Yes         No         No   \n",
      "401     Other pre-mRNA splicing factors   No         No         No   \n",
      "530     Other pre-mRNA splicing factors  Yes         No        Yes   \n",
      "\n",
      "    Cluster 18, or 26  \n",
      "286                No  \n",
      "285               Yes  \n",
      "284               Yes  \n",
      "0                  No  \n",
      "170                No  \n",
      "..                ...  \n",
      "365                No  \n",
      "366                No  \n",
      "367                No  \n",
      "401                No  \n",
      "530               Yes  \n",
      "\n",
      "[531 rows x 9 columns]\n",
      "['ASAP complex1', 'Major Spliceosome', 'Minor Spliceosome', 'RNA Modification', 'Other splicing factors1']\n",
      "['ASAP complex', 'Spliceosomal E complex', 'U2 small nuclear ribonucleoprotein', 'U1 small nuclear ribonucleoprotein', 'Spliceosomal P complex', 'NineTeen complex', 'tri-snRP complex', 'Exon junction complex', 'SF3b complex', 'LSm proteins', 'Sm spliceosomal proteins', 'NTC associated proteins', 'SF3a complex', 'U4/U6 small nuclear ribonucleoprotein particle', 'U5 small nuclear ribonucleoprotein', 'Spliceosomal B complex', 'Spliceosomal Bact complex', 'Spliceosomal A complex', 'Spliceosomal C complex', 'U11/U12 di-snRNP', 'WTAP complex', 'm6A methyltransferase complex', 'Other pre-mRNA splicing factors', 'Serine and arginine rich splicing factors']\n",
      "24\n"
     ]
    }
   ],
   "source": [
    "dfcompclust=pd.read_excel('Nuclear_speckles_complexes_w_clusters_IDRs_gte_70_and_nonlinkers_gte_50.xlsx', engine='openpyxl')\n",
    "dfcompclust=dfcompclust.sort_values(by=['General Process'])\n",
    "print(dfcompclust)\n",
    "\n",
    "ccgeneralprocess=dfcompclust['General Process'].tolist()\n",
    "cccategory=dfcompclust['Category'].tolist()\n",
    "ccgene=dfcompclust['Gene'].tolist()\n",
    "ccacc=dfcompclust['Accession'].tolist()\n",
    "\n",
    "ccgeneralprocess = [x if x != 'Splicing factors' else 'Other splicing factors1' for x in ccgeneralprocess]\n",
    "ccgeneralprocess = [x if x != 'ASAP complex' else 'ASAP complex1' for x in ccgeneralprocess]\n",
    "\n",
    "uniccgeneralprocess=[]\n",
    "unicccategory=[]\n",
    "for s in range(0,len(ccgeneralprocess)):\n",
    "    if ccgeneralprocess[s] not in uniccgeneralprocess:\n",
    "        uniccgeneralprocess.append(ccgeneralprocess[s])\n",
    "    if cccategory[s] not in unicccategory:\n",
    "        unicccategory.append(cccategory[s])\n",
    "\n",
    "print(uniccgeneralprocess)\n",
    "print(unicccategory)\n",
    "print(len(unicccategory))"
   ]
  },
  {
   "cell_type": "markdown",
   "metadata": {},
   "source": [
    "## Sort data by feature of interest"
   ]
  },
  {
   "cell_type": "code",
   "execution_count": 9,
   "metadata": {},
   "outputs": [
    {
     "name": "stdout",
     "output_type": "stream",
     "text": [
      "               Gene  Cluster                                        Location  \\\n",
      "13717    SRRM2 IDR2       26                                Nuclear speckles   \n",
      "8466      TCHH IDR2       19                                                   \n",
      "13256   ZC3H13 IDR2       26                                     Nucleoplasm   \n",
      "22431    SRRM1 IDR1       14                                Nuclear speckles   \n",
      "5668     RBM25 IDR4       18                                Nuclear speckles   \n",
      "6337   SNRNP70 IDR2       26                                     Nucleoplasm   \n",
      "5057     RSRC2 IDR1       26                                Nuclear speckles   \n",
      "16001    SRRM5 IDR1       26                                        Vesicles   \n",
      "17288     ENAH IDR1       14  Cytosol, Focal adhesion sites, Plasma membrane   \n",
      "4851   PRPF38B IDR2       26                                                   \n",
      "13333   CLASRP IDR2       26                                     Nucleoplasm   \n",
      "16519    EIF3A IDR1       26                            Cytosol, Nucleoplasm   \n",
      "4179     DDX46 IDR1       26                                Nuclear speckles   \n",
      "1954     ACIN1 IDR6       26                                     Nucleoplasm   \n",
      "15881   LUC7L3 IDR1       26                                Nuclear speckles   \n",
      "24173    SCAF1 IDR4        5                                     Nucleoplasm   \n",
      "5092    LUC7L2 IDR1       26                                     Nucleoplasm   \n",
      "7928   CCDC177 IDR3       26                                                   \n",
      "3590      PPIG IDR1       26                                Nuclear speckles   \n",
      "12427   ZC3H18 IDR4       14                                Nuclear speckles   \n",
      "15398    SRRM4 IDR1       26                                                   \n",
      "649      NCOA5 IDR1       26                    Actin filaments, Nucleoplasm   \n",
      "6328     LUC7L IDR1       26                                     Nucleoplasm   \n",
      "7230       SON IDR9       26                                Nuclear speckles   \n",
      "2562    SRSF11 IDR2       26                                Nuclear speckles   \n",
      "16525    SAFB2 IDR4       26                                     Nucleoplasm   \n",
      "14033   DIDO1 IDR10       14                                     Nucleoplasm   \n",
      "21937    PNISR IDR3       26                                Nuclear speckles   \n",
      "1161     NELFE IDR1       26                     Nuclear bodies, Nucleoplasm   \n",
      "904      CDK13 IDR2       20                                Nuclear speckles   \n",
      "\n",
      "      Uniprot Uniprot w Num  IDR Length  Num A  Num C  Num D  Num E  ...  \\\n",
      "13717  Q9UQ35      Q9UQ35_2        2077   95.0   11.0   49.0   99.0  ...   \n",
      "8466   Q07283      Q07283_2        1768   17.0    4.0   43.0  501.0  ...   \n",
      "13256  Q5T200      Q5T200_2        1461   44.0    4.0  149.0  198.0  ...   \n",
      "22431  Q8IYB3      Q8IYB3_1         771   43.0    0.0   15.0   46.0  ...   \n",
      "5668   P49756      P49756_4         464   16.0    2.0   40.0  115.0  ...   \n",
      "6337   P08621      P08621_2         252    9.0    0.0   31.0   33.0  ...   \n",
      "5057   Q7L4I2      Q7L4I2_1         264    9.0    0.0   11.0   27.0  ...   \n",
      "16001  B3KS81      B3KS81_1         715   28.0    4.0   24.0   26.0  ...   \n",
      "17288  Q8N8S7      Q8N8S7_1         279   16.0    0.0    3.0   50.0  ...   \n",
      "4851   Q5VTL8      Q5VTL8_2         319    3.0    0.0   25.0   44.0  ...   \n",
      "13333  Q8N2M8      Q8N2M8_2         440   37.0    0.0    8.0   33.0  ...   \n",
      "16519  Q14152      Q14152_1         602   20.0    0.0  104.0   88.0  ...   \n",
      "4179   Q7L014      Q7L014_1         234    6.0    0.0   25.0   34.0  ...   \n",
      "1954   Q9UKV3      Q9UKV3_6         245   12.0    1.0   16.0   47.0  ...   \n",
      "15881  O95232      O95232_1         205    1.0    1.0   17.0   36.0  ...   \n",
      "24173  Q9H7N4      Q9H7N4_4         722   82.0    4.0   37.0   57.0  ...   \n",
      "5092   Q9Y383      Q9Y383_1         164    4.0    1.0   10.0   20.0  ...   \n",
      "7928   Q9NQR7      Q9NQR7_3         274   35.0    1.0    3.0   54.0  ...   \n",
      "3590   Q13427      Q13427_1         578   10.0    2.0   35.0   66.0  ...   \n",
      "12427  Q86VM9      Q86VM9_4         546   39.0    0.0   21.0   46.0  ...   \n",
      "15398  A7MD48      A7MD48_1         580   22.0    8.0   14.0   24.0  ...   \n",
      "649    Q9HCD5      Q9HCD5_1          91    2.0    0.0   18.0    1.0  ...   \n",
      "6328   Q9NQ29      Q9NQ29_1         143    6.0    0.0    6.0   18.0  ...   \n",
      "7230   P18583      P18583_9         319    7.0    0.0   11.0   15.0  ...   \n",
      "2562   Q05519      Q05519_2         282    7.0    1.0   20.0   31.0  ...   \n",
      "16525  Q14151      Q14151_4         476   19.0    2.0   31.0   64.0  ...   \n",
      "14033  Q9BTC0     Q9BTC0_10         791   71.0    2.0   43.0   73.0  ...   \n",
      "21937  Q8TF01      Q8TF01_3         447   16.0    0.0   26.0   42.0  ...   \n",
      "1161   P18615      P18615_1         239   14.0    0.0   30.0   20.0  ...   \n",
      "904    Q14004      Q14004_2         486   60.0    1.0   12.0   27.0  ...   \n",
      "\n",
      "       Cumulative Patch Q  Cumulative Patch R  Cumulative Patch S  \\\n",
      "13717                   0                 334                 369   \n",
      "8466                   20                 330                   0   \n",
      "13256                   0                 236                  95   \n",
      "22431                   0                  95                  76   \n",
      "5668                    0                  94                  10   \n",
      "6337                    0                  92                   0   \n",
      "5057                    0                  90                  21   \n",
      "16001                   0                  84                 127   \n",
      "17288                  11                  83                   0   \n",
      "4851                    0                  81                   0   \n",
      "13333                   0                  80                 119   \n",
      "16519                   0                  77                   0   \n",
      "4179                    0                  75                  16   \n",
      "1954                    0                  73                   7   \n",
      "15881                   0                  71                  19   \n",
      "24173                   0                  71                  46   \n",
      "5092                    0                  70                  11   \n",
      "7928                    8                  67                   0   \n",
      "3590                    0                  66                  45   \n",
      "12427                   0                  66                 127   \n",
      "15398                   0                  66                 164   \n",
      "649                     0                  63                   0   \n",
      "6328                    0                  62                   7   \n",
      "7230                    0                  60                  45   \n",
      "2562                    0                  60                  24   \n",
      "16525                   0                  59                   0   \n",
      "14033                   5                  58                   6   \n",
      "21937                   0                  57                  75   \n",
      "1161                    0                  56                  13   \n",
      "904                     0                  54                 113   \n",
      "\n",
      "       Cumulative Patch T  Cumulative Patch V  Cumulative Patch W  \\\n",
      "13717                   0                   0                   0   \n",
      "8466                    0                   0                   0   \n",
      "13256                  27                   0                   0   \n",
      "22431                   0                   0                   0   \n",
      "5668                    0                   0                   0   \n",
      "6337                    0                   0                   0   \n",
      "5057                    0                   0                   0   \n",
      "16001                   0                   0                   0   \n",
      "17288                   0                   0                   0   \n",
      "4851                    0                   0                   0   \n",
      "13333                   0                   0                   0   \n",
      "16519                   0                   0                   0   \n",
      "4179                    0                   0                   0   \n",
      "1954                    0                   0                   0   \n",
      "15881                   0                   0                   0   \n",
      "24173                   7                   0                   0   \n",
      "5092                    0                   0                   0   \n",
      "7928                    0                   0                   0   \n",
      "3590                    0                   0                   0   \n",
      "12427                   0                   0                   0   \n",
      "15398                   0                   0                   0   \n",
      "649                     0                   0                   0   \n",
      "6328                    0                   0                   0   \n",
      "7230                    0                   0                   0   \n",
      "2562                    0                   0                   0   \n",
      "16525                   0                   0                   0   \n",
      "14033                   0                   0                   0   \n",
      "21937                   0                   0                   0   \n",
      "1161                    0                   0                   0   \n",
      "904                     0                   0                   0   \n",
      "\n",
      "       Cumulative Patch Y   pos-neg    R Patch    Frac R  \n",
      "13717                   0  0.000000   3.515359  2.505251  \n",
      "8466                    0 -0.567008   4.120045  3.305697  \n",
      "13256                   0 -3.305525   3.532307  2.279054  \n",
      "22431                   0  0.000000   2.635748  2.296590  \n",
      "5668                    0 -0.604916   4.492895  2.670390  \n",
      "6337                    0 -1.151987   8.295027  4.204302  \n",
      "5057                    0 -1.051801   7.729474  3.953903  \n",
      "16001                   0  0.000000   2.501578  2.384476  \n",
      "17288                   0 -4.506336   6.713547  1.680922  \n",
      "4851                    0 -1.402386   5.694005  3.855470  \n",
      "13333                   0  0.000000   4.006950  2.932273  \n",
      "16519                   0 -1.747219   2.745497  4.032267  \n",
      "4179                    0  2.904773   7.252227  3.441547  \n",
      "1954                    0 -2.558539   6.724501  3.714133  \n",
      "15881                   0 -0.667869   7.856584  4.209677  \n",
      "24173                   0  7.898878   2.053620  1.112667  \n",
      "5092                    0 -1.500285   9.739896  5.104519  \n",
      "7928                    0 -2.015989   5.474222  3.689613  \n",
      "3590                    0 -0.103405   2.424464  1.955039  \n",
      "12427                   0 -3.268725   2.581054  1.710214  \n",
      "15398                   0  0.000000   2.415250  2.148954  \n",
      "649                     0 -2.575863  15.951751  4.797556  \n",
      "6328                    0 -0.921866   9.897537  5.490970  \n",
      "7230                    0  0.000000   4.153650  4.539319  \n",
      "2562                    0  2.338475   4.731088  2.774362  \n",
      "16525                   0 -5.126650   2.652899  2.111889  \n",
      "14033                   0 -4.345596   1.468346  1.152531  \n",
      "21937                   0 -0.330810   2.736367  2.022970  \n",
      "1161                    0 -1.420941   5.235183  2.429504  \n",
      "904                     0  0.000000   2.352495  1.511117  \n",
      "\n",
      "[30 rows x 49 columns]\n"
     ]
    },
    {
     "name": "stdout",
     "output_type": "stream",
     "text": [
      "               Gene  Cumulative Patch R\n",
      "13717    SRRM2 IDR2                 334\n",
      "8466      TCHH IDR2                 330\n",
      "13256   ZC3H13 IDR2                 236\n",
      "22431    SRRM1 IDR1                  95\n",
      "5668     RBM25 IDR4                  94\n",
      "6337   SNRNP70 IDR2                  92\n",
      "5057     RSRC2 IDR1                  90\n",
      "16001    SRRM5 IDR1                  84\n",
      "17288     ENAH IDR1                  83\n",
      "4851   PRPF38B IDR2                  81\n",
      "13333   CLASRP IDR2                  80\n",
      "16519    EIF3A IDR1                  77\n",
      "4179     DDX46 IDR1                  75\n",
      "1954     ACIN1 IDR6                  73\n",
      "15881   LUC7L3 IDR1                  71\n",
      "24173    SCAF1 IDR4                  71\n",
      "5092    LUC7L2 IDR1                  70\n",
      "7928   CCDC177 IDR3                  67\n",
      "3590      PPIG IDR1                  66\n",
      "12427   ZC3H18 IDR4                  66\n",
      "15398    SRRM4 IDR1                  66\n",
      "649      NCOA5 IDR1                  63\n",
      "6328     LUC7L IDR1                  62\n",
      "7230       SON IDR9                  60\n",
      "2562    SRSF11 IDR2                  60\n",
      "16525    SAFB2 IDR4                  59\n",
      "14033   DIDO1 IDR10                  58\n",
      "21937    PNISR IDR3                  57\n",
      "1161     NELFE IDR1                  56\n",
      "904      CDK13 IDR2                  54\n"
     ]
    }
   ],
   "source": [
    "curraa='R'\n",
    "#sortbyval='Num '+curraa\n",
    "sortbyval='Cumulative Patch '+curraa\n",
    "#sortbyval='pos-neg'\n",
    "topnum=30\n",
    "\n",
    "dfrichsorted = dfrich.sort_values(by=[sortbyval], ascending=False)\n",
    "print(dfrichsorted.head(topnum))\n",
    "\n",
    "topidrsval=dfrichsorted[sortbyval].tolist()[:topnum]\n",
    "topidrsgene=dfrichsorted['Gene'].tolist()[:topnum]\n",
    "topidrsuni=dfrichsorted['Uniprot'].tolist()[:topnum]\n",
    "topidrslen=dfrichsorted['IDR Length'].tolist()[:topnum]\n",
    "\n",
    "print(dfrichsorted[['Gene',sortbyval]].head(topnum))"
   ]
  },
  {
   "cell_type": "markdown",
   "metadata": {},
   "source": [
    "## Create data for plotting"
   ]
  },
  {
   "cell_type": "code",
   "execution_count": 33,
   "metadata": {},
   "outputs": [
    {
     "name": "stdout",
     "output_type": "stream",
     "text": [
      "{'25: ZC3H4 IDR1': '#1725c2', 'Other pre-mRNA splicing factors': '#3d2663'}\n"
     ]
    }
   ],
   "source": [
    "source=[]\n",
    "target=[]\n",
    "weight=[]\n",
    "\n",
    "#for i in range(len(uniccgeneralprocess)-1,-1,-1): #range(0,len(uniccgeneralprocess)):\n",
    "#    print(i)\n",
    "#    for j in range(len(unicccategory)-1,-1,-1): #range(0,len(unicccategory)):\n",
    "#        pos1=[m for m, x in enumerate(ccgeneralprocess) if x == uniccgeneralprocess[i]]\n",
    "#        pos2=[m for m, x in enumerate(cccategory) if x == unicccategory[j]]\n",
    "#        posinter=list(set(pos1) & set(pos2))\n",
    "\n",
    "\n",
    "#        if posinter:\n",
    "#            source.append(uniccgeneralprocess[i])\n",
    "#            target.append(unicccategory[j])\n",
    "#            weight.append(len(posinter))\n",
    "\n",
    "#for j in range(len(unicccategory)-1,-1,-1): #range(0,len(unicccategory)):\n",
    "#    pos2=[m for m, x in enumerate(cccategory) if x == unicccategory[j]]  \n",
    "#    tmpsum=0\n",
    "#    for p in pos2:\n",
    "#        if ccacc[p] in topidrsuni:\n",
    "#            myidx=[i for i, x in enumerate(topidrsuni) if x==ccacc[p]]\n",
    "#            for i in myidx:\n",
    "#                source.append(unicccategory[j])\n",
    "#                target.append(str(i+1)+': '+topidrsgene[i])\n",
    "#                weight.append(1/(i+1))\n",
    "#                tmpsum=tmpsum+1/(i+1)\n",
    "    #if tmpsum>0:\n",
    "    #    source.append('All')\n",
    "    #    target.append(unicccategory[j])\n",
    "    #    weight.append(tmpsum)\n",
    "\n",
    "mygeneralcolors={'Major Spliceosome':'#276026', 'Other splicing factors1':'#3d2663', 'RNA Modification':'#cb3f73', 'Minor Spliceosome':'#872f74', 'ASAP complex1':'#ff6361'}\n",
    "\n",
    "\n",
    "mykeyslist=[]\n",
    "mycolorslist=[]\n",
    "for s in range(0,len(topidrsuni)):\n",
    "    if topidrsuni[s] in ccacc:\n",
    "        myidxlist=[i for i, x in enumerate(ccacc) if x==topidrsuni[s]]\n",
    "        for myidx in myidxlist:\n",
    "            source.append(cccategory[myidx])\n",
    "            target.append(str(s+1)+': '+topidrsgene[s])\n",
    "            weight.append(1/(s+1))\n",
    "            mykeyslist.append(str(s+1)+': '+topidrsgene[s])\n",
    "            mycolorslist.append(aacolor_map[curraa])\n",
    "            mykeyslist.append(cccategory[myidx])\n",
    "            mycolorslist.append(mygeneralcolors[ccgeneralprocess[myidx]])\n",
    "        \n",
    "# create color dictionary\n",
    "mydictcolors = {}\n",
    " \n",
    "# adding items to the dictionary using a loop\n",
    "for key, value in zip(mykeyslist, mycolorslist):\n",
    "    mydictcolors[key] = value\n",
    "\n",
    "# print output\n",
    "print(mydictcolors)"
   ]
  },
  {
   "cell_type": "code",
   "execution_count": 18,
   "metadata": {},
   "outputs": [
    {
     "name": "stdout",
     "output_type": "stream",
     "text": [
      "[5.0, 3.333333333333333, 2.5, 1.0, 10.0]\n"
     ]
    }
   ],
   "source": [
    "#source=['BAF','BAF','BAF','BAF','POL']\n",
    "#target=['ARID1A IDR1','SS18 IDR1','SS18L1 IDR2','ARID1B IDR4','POLR2A IDR1']\n",
    "#tmp=[2,3,4,10,1]\n",
    "\n",
    "#weight=[]\n",
    "#for i in range(0,len(tmp)):\n",
    "#    weight.append((1/tmp[i])*10)\n",
    "    \n",
    "#print(weight)"
   ]
  },
  {
   "cell_type": "markdown",
   "metadata": {},
   "source": [
    "## Plot data"
   ]
  },
  {
   "cell_type": "code",
   "execution_count": 34,
   "metadata": {},
   "outputs": [
    {
     "name": "stderr",
     "output_type": "stream",
     "text": [
      "[d3blocks] >INFO> Cleaning edge_properties and config parameters..\n",
      "[d3blocks] >INFO> Initializing [Sankey]\n",
      "[d3blocks] >INFO> filepath is set to [/tmp/d3blocks/sankey.html]\n",
      "[d3blocks] >INFO> Convert to DataFrame.\n",
      "[d3blocks] >INFO> Node properties are set.\n",
      "[d3blocks] >INFO> Edge properties are set.\n",
      "[d3blocks] >INFO> File already exists and will be overwritten: [/tmp/d3blocks/sankey.html]\n"
     ]
    },
    {
     "name": "stdout",
     "output_type": "stream",
     "text": [
      "                            source          target  weight\n",
      "0  Other pre-mRNA splicing factors  25: ZC3H4 IDR1    0.04\n"
     ]
    },
    {
     "name": "stderr",
     "output_type": "stream",
     "text": [
      "[d3blocks] >INFO> Open browser: /tmp/d3blocks/sankey.html\n"
     ]
    }
   ],
   "source": [
    "dftmp=pd.DataFrame()\n",
    "\n",
    "dftmp['source']=source[:]\n",
    "dftmp['target']=target[:]\n",
    "dftmp['weight']=weight[:]\n",
    "print(dftmp)\n",
    "\n",
    "\n",
    "from d3blocks import D3Blocks\n",
    "d3 = D3Blocks(chart='SanKey', frame=True)\n",
    "\n",
    "#tmpcolorlist=['#3d2663', '#872f74', '#cb3f73', '#ff6361','#276026', '#008770', '#00aabe', '#64c8ff']\n",
    "\n",
    "\n",
    "d3.set_node_properties(dftmp,color=mydictcolors)\n",
    "#d3.set_node_properties(dftmp, padding=1, color={'IDRs in complex in 10':'#1d9bd7','IDRs in complex in 11':'#218342', 'IDRs in complex in 28':'#f58220','IDRs in complex not in 10, 11, or 28':'#dddddd','No IDRs in Complex':'#dddddd', \\\n",
    "#                                     'RNA binding':'#276026', 'Enhanceosomes':'#3d2663', 'Chromatin remodeling complex':'#872f74', 'Histone modifying complex':'#cb3f73', 'RNA polymerase II-mediated transcription':'#ff6361'})\n",
    "#d3.set_node_properties(dftmp, color=mycolorsdict)\n",
    "d3.set_edge_properties(dftmp, color='target', opacity='target')\n",
    "d3.show()\n",
    "#d3.show(figsize=[400, 500])\n",
    "#d3.show(figsize=[500, 800])"
   ]
  },
  {
   "cell_type": "markdown",
   "metadata": {},
   "source": [
    "## Plot rank order circles"
   ]
  },
  {
   "cell_type": "code",
   "execution_count": 10,
   "metadata": {
    "scrolled": true
   },
   "outputs": [
    {
     "data": {
      "text/plain": [
       "Text(0.5, 0, 'Rank Order')"
      ]
     },
     "execution_count": 10,
     "metadata": {},
     "output_type": "execute_result"
    },
    {
     "data": {
      "image/png": "[encoded data removed]",
      "text/plain": [
       "<Figure size 360x144 with 1 Axes>"
      ]
     },
     "metadata": {
      "needs_background": "light"
     },
     "output_type": "display_data"
    }
   ],
   "source": [
    "mygeneralcolors={'Major Spliceosome':'#276026', 'Other splicing factors1':'#3d2663', 'RNA Modification':'#cb3f73', 'Minor Spliceosome':'#872f74', 'ASAP complex1':'#ff6361'}\n",
    "\n",
    "plt.figure(figsize=(5,2))\n",
    "\n",
    "tmp = np.argsort(topidrslen)\n",
    "sort_index2 = tmp[::-1] \n",
    "\n",
    "for s in sort_index2:\n",
    "    if topidrsuni[s] in ccacc:\n",
    "        myidx=ccacc.index(topidrsuni[s])\n",
    "        mycurrcolor=mygeneralcolors[ccgeneralprocess[myidx]]\n",
    "        plt.plot(s+1,topidrsval[s],'o',markersize=(topidrslen[s])/40,markerfacecolor=mycurrcolor,markeredgecolor='black')\n",
    "    else:\n",
    "        plt.plot(s+1,topidrsval[s],'o',markersize=(topidrslen[s])/40,markerfacecolor='lightgrey',markeredgecolor='black')\n",
    "    \n",
    "plt.xticks(np.arange(1,len(topidrsgene)+1,1),topidrsgene,rotation=90)\n",
    "\n",
    "plt.ylabel(sortbyval)\n",
    "plt.xlabel('Rank Order')\n",
    "\n",
    "#plt.savefig('Figures/2024_02/top_idrs_sorted_all_locations/All_sapien_IDRs_feature_'+sortbyval+'_w_process.pdf', transparent=True, bbox_inches = \"tight\") \n"
   ]
  },
  {
   "cell_type": "code",
   "execution_count": 10,
   "metadata": {},
   "outputs": [
    {
     "data": {
      "text/plain": [
       "Text(0.5, 0, 'Rank Order')"
      ]
     },
     "execution_count": 10,
     "metadata": {},
     "output_type": "execute_result"
    },
    {
     "data": {
      "image/png": "[encoded data removed]",
      "text/plain": [
       "<Figure size 360x144 with 1 Axes>"
      ]
     },
     "metadata": {
      "needs_background": "light"
     },
     "output_type": "display_data"
    }
   ],
   "source": [
    "mygeneralcolors={'Major Spliceosome':'#276026', 'Other splicing factors1':'#3d2663', 'RNA Modification':'#cb3f73', 'Minor Spliceosome':'#872f74', 'ASAP complex1':'#ff6361'}\n",
    "\n",
    "plt.figure(figsize=(5,2))\n",
    "\n",
    "tmp = np.argsort(topidrslen)\n",
    "sort_index2 = tmp[::-1] \n",
    "\n",
    "for s in sort_index2:\n",
    "    if topidrsuni[s] in ccacc:\n",
    "        myidx=ccacc.index(topidrsuni[s])\n",
    "        mycurrcolor=mygeneralcolors[ccgeneralprocess[myidx]]\n",
    "        plt.plot(topnum-s+1,topidrsval[s],'o',markersize=(topidrslen[s])/40,markerfacecolor=mycurrcolor,markeredgecolor='black')\n",
    "    else:\n",
    "        plt.plot(topnum-s+1,topidrsval[s],'o',markersize=(topidrslen[s])/40,markerfacecolor='lightgrey',markeredgecolor='black')\n",
    "    \n",
    "plt.xticks(np.arange(len(topidrsgene)+1,1,-1),topidrsgene,rotation=90)\n",
    "\n",
    "plt.ylabel(sortbyval)\n",
    "plt.xlabel('Rank Order')\n",
    "\n",
    "#plt.savefig('Figures/2024_02/top_idrs_sorted_all_locations/All_sapien_IDRs_feature_'+sortbyval+'_w_process_reversed.pdf', transparent=True, bbox_inches = \"tight\") \n"
   ]
  },
  {
   "cell_type": "markdown",
   "metadata": {},
   "source": [
    "## Get number in top 80 for each process"
   ]
  },
  {
   "cell_type": "code",
   "execution_count": 11,
   "metadata": {},
   "outputs": [
    {
     "name": "stdout",
     "output_type": "stream",
     "text": [
      "Cumulative Patch R\n",
      "CCAR1 IDR2: 71\n",
      "DDX46 IDR1: 13\n",
      "U2AF1 IDR1: 80\n",
      "RBM25 IDR4: 5\n",
      "pos-neg\n",
      "80\n"
     ]
    }
   ],
   "source": [
    "sortbyval=['Cumulative Patch R','pos-neg']\n",
    "#sortbyval=['R Patch','pos-neg']\n",
    "topnum=80 #30 for plotting, 80 for visualization\n",
    "\n",
    "topgenesbytype=[[] for _ in range(len(sortbyval))]\n",
    "topunibytype=[[] for _ in range(len(sortbyval))]\n",
    "for v in range(0,len(sortbyval)):\n",
    "    print(sortbyval[v])\n",
    "    dfrichsorted = dfrich.sort_values(by=sortbyval[v], ascending=False)\n",
    "\n",
    "\n",
    "    topidrsval=dfrichsorted[sortbyval[v]].tolist()[:topnum]\n",
    "    topidrsgene=dfrichsorted['Gene'].tolist()[:topnum]\n",
    "    topidrsuni=dfrichsorted['Uniprot'].tolist()[:topnum]\n",
    "    topidrslen=dfrichsorted['IDR Length'].tolist()[:topnum]\n",
    "    \n",
    "    #print(dfrichsorted[['Gene',sortbyval[v]]].head(topnum))\n",
    "    \n",
    "    for i in range(0,len(topidrsgene)):\n",
    "        topgenesbytype[v].append(topidrsgene[i])\n",
    "        topunibytype[v].append(topidrsuni[i])\n",
    "\n",
    "    #pos=[i for i, x in enumerate(ccgeneralprocess) if x=='Major Spliceosome']\n",
    "    pos=[i for i, x in enumerate(cccategory) if x=='Spliceosomal A complex']\n",
    "    #pos=[i for i, x in enumerate(cccategory) if x=='Serine and arginine rich splicing factors']\n",
    "\n",
    "    for p in pos:\n",
    "        curracc=ccacc[p]\n",
    "        if curracc in topidrsuni:\n",
    "            myidx=topidrsuni.index(curracc)\n",
    "            print(topidrsgene[myidx]+': '+str(myidx+1))\n",
    "            \n",
    "print(len(topgenesbytype[0]))"
   ]
  },
  {
   "cell_type": "code",
   "execution_count": 12,
   "metadata": {},
   "outputs": [
    {
     "name": "stdout",
     "output_type": "stream",
     "text": [
      "Serine and arginine rich splicing factors\n",
      "12\n",
      "Cumulative Patch R\n",
      "SRSF2 IDR1: 32\n",
      "Cumulative Patch R\n",
      "SRSF4 IDR1: 38\n",
      "Cumulative Patch R\n",
      "SRSF5 IDR2: 42\n",
      "Cumulative Patch R\n",
      "SRSF6 IDR2: 50\n",
      "Cumulative Patch R\n",
      "SRSF7 IDR1: 58\n",
      "Cumulative Patch R\n",
      "SRSF8 IDR1: 47\n",
      "Cumulative Patch R\n",
      "SRSF11 IDR2: 25\n",
      "[7. 0. 5.]\n",
      "12.0=12\n",
      "U1 small nuclear ribonucleoprotein\n",
      "3\n",
      "Cumulative Patch R\n",
      "SNRNP70 IDR2: 6\n",
      "[1. 0. 2.]\n",
      "3.0=3\n",
      "Sm spliceosomal proteins\n",
      "8\n",
      "[0. 0. 8.]\n",
      "8.0=8\n",
      "Spliceosomal E complex\n",
      "4\n",
      "Cumulative Patch R\n",
      "U2AF1 IDR1: 80\n",
      "[1. 0. 3.]\n",
      "4.0=4\n",
      "U2 small nuclear ribonucleoprotein\n",
      "5\n",
      "[0. 0. 5.]\n",
      "5.0=5\n",
      "SF3a complex\n",
      "3\n",
      "[0. 0. 3.]\n",
      "3.0=3\n",
      "SF3b complex\n",
      "7\n",
      "[0. 0. 7.]\n",
      "7.0=7\n",
      "Spliceosomal A complex\n",
      "19\n",
      "Cumulative Patch R\n",
      "CCAR1 IDR2: 71\n",
      "Cumulative Patch R\n",
      "DDX46 IDR1: 13\n",
      "Cumulative Patch R\n",
      "U2AF1 IDR1: 80\n",
      "Cumulative Patch R\n",
      "RBM25 IDR4: 5\n",
      "[ 4.  0. 15.]\n",
      "19.0=19\n",
      "tri-snRP complex\n",
      "4\n",
      "Cumulative Patch R\n",
      "SNRNP27 IDR1: 36\n",
      "[1. 0. 3.]\n",
      "4.0=4\n",
      "U5 small nuclear ribonucleoprotein\n",
      "8\n",
      "Cumulative Patch R\n",
      "DDX23 IDR1: 64\n",
      "pos-neg\n",
      "CD2BP2 IDR1: 56\n",
      "[1. 1. 6.]\n",
      "8.0=8\n",
      "U4/U6 small nuclear ribonucleoprotein particle\n",
      "5\n",
      "[0. 0. 5.]\n",
      "5.0=5\n",
      "LSm proteins\n",
      "14\n",
      "[ 0.  0. 14.]\n",
      "14.0=14\n",
      "NineTeen complex\n",
      "6\n",
      "[0. 0. 6.]\n",
      "6.0=6\n",
      "NTC associated proteins\n",
      "16\n",
      "Cumulative Patch R\n",
      "SRRM2 IDR2: 1\n",
      "[ 1.  0. 15.]\n",
      "16.0=16\n",
      "Spliceosomal B complex\n",
      "19\n",
      "Cumulative Patch R\n",
      "PRPF38A IDR1: 53\n",
      "Cumulative Patch R\n",
      "IK IDR2: 70\n",
      "[ 2.  0. 17.]\n",
      "19.0=19\n",
      "Spliceosomal Bact complex\n",
      "27\n",
      "[ 0.  0. 27.]\n",
      "27.0=27\n",
      "Spliceosomal C complex\n",
      "51\n",
      "Cumulative Patch R\n",
      "PPIG IDR1: 19\n",
      "Cumulative Patch R\n",
      "SRRM2 IDR2: 1\n",
      "Cumulative Patch R\n",
      "CACTIN IDR1: 40\n",
      "Cumulative Patch R\n",
      "DHX8 IDR1: 49\n",
      "[ 4.  0. 47.]\n",
      "51.0=51\n",
      "Exon junction complex\n",
      "5\n",
      "[0. 0. 5.]\n",
      "5.0=5\n",
      "Spliceosomal P complex\n",
      "47\n",
      "Cumulative Patch R\n",
      "SRRM2 IDR2: 1\n",
      "Cumulative Patch R\n",
      "DHX8 IDR1: 49\n",
      "Cumulative Patch R\n",
      "PPIG IDR1: 19\n",
      "Cumulative Patch R\n",
      "CACTIN IDR1: 40\n",
      "[ 4.  0. 43.]\n",
      "47.0=47\n"
     ]
    },
    {
     "data": {
      "text/plain": [
       "Text(0, 0.5, 'Number of Proteins in Spliceosome Complex')"
      ]
     },
     "execution_count": 12,
     "metadata": {},
     "output_type": "execute_result"
    },
    {
     "data": {
      "image/png": "[encoded data removed]",
      "text/plain": [
       "<Figure size 432x288 with 1 Axes>"
      ]
     },
     "metadata": {
      "needs_background": "light"
     },
     "output_type": "display_data"
    }
   ],
   "source": [
    "## Right now this looks at each protein as one so if had two idrs that each had a top feature would only pick the top IDR\n",
    "mysorteduniccgeneralprocess=['Serine and arginine rich splicing factors','U1 small nuclear ribonucleoprotein','Sm spliceosomal proteins','Spliceosomal E complex','U2 small nuclear ribonucleoprotein','SF3a complex','SF3b complex','Spliceosomal A complex','tri-snRP complex', 'U5 small nuclear ribonucleoprotein','U4/U6 small nuclear ribonucleoprotein particle', 'LSm proteins', 'NineTeen complex', 'NTC associated proteins', 'Spliceosomal B complex', 'Spliceosomal Bact complex','Spliceosomal C complex','Exon junction complex','Spliceosomal P complex']\n",
    "#mysorteduniccgeneralprocess=unicccategory\n",
    "\n",
    "\n",
    "#['ASAP complex', 'U11/U12 di-snRNP', 'WTAP complex', 'm6A methyltransferase complex', 'Other pre-mRNA splicing factors']\n",
    "\n",
    "f = plt.figure()\n",
    "ax = f.add_subplot(111)\n",
    "ax.yaxis.tick_right()\n",
    "ax.yaxis.set_ticks_position('both')\n",
    "\n",
    "for s in range(0,len(mysorteduniccgeneralprocess)):\n",
    "    count=np.zeros((len(sortbyval)+1))\n",
    "    print(mysorteduniccgeneralprocess[s])\n",
    "    pos=[i for i, x in enumerate(cccategory) if x==mysorteduniccgeneralprocess[s]]\n",
    "    print(len(pos))\n",
    "\n",
    "    for p in pos:\n",
    "        curracc=ccacc[p]\n",
    "        tmpidx=[100, 100, 100]\n",
    "        for v in range(0,len(sortbyval)):\n",
    "            if curracc in topunibytype[v]:\n",
    "                tmpidx[v]=topunibytype[v].index(curracc)\n",
    "                print(sortbyval[v])\n",
    "                print(topgenesbytype[v][tmpidx[v]]+': '+str(tmpidx[v]+1))\n",
    "        minidx=tmpidx.index(min(tmpidx))\n",
    "        if tmpidx[minidx]==100:\n",
    "            count[len(sortbyval)]=count[len(sortbyval)]+1\n",
    "        else:\n",
    "            count[minidx]=count[minidx]+1\n",
    "\n",
    "    print(count)\n",
    "    print(str(sum(count))+'='+str(len(pos)))\n",
    "    count=count/sum(count)\n",
    "\n",
    "    plt.bar(s, count[0], color='#209bd7')\n",
    "    plt.bar(s, count[1], bottom=count[0], color='#000000')\n",
    "    plt.bar(s, count[2], bottom=count[0]+count[1], color='#e5e5e5')\n",
    "    plt.text(s,sum(count),len(pos),rotation=90)\n",
    "    \n",
    "plt.xticks(np.arange(0,len(mysorteduniccgeneralprocess),1),mysorteduniccgeneralprocess,rotation=90)\n",
    "plt.ylabel('Fraction of Proteins in Spliceosome Complex')\n",
    "#plt.savefig('Figures/2024_02/top_idrs_sorted_all_locations/All_sapien_IDRs_feature_'+sortbyval[0]+'_'+sortbyval[1]+'_fraction_exceptional_by_major_spliceosome_complex.pdf', transparent=True, bbox_inches = \"tight\") \n",
    "\n",
    "plt.ylabel('Number of Proteins in Spliceosome Complex')\n",
    "#plt.savefig('Figures/2024_02/top_idrs_sorted_all_locations/All_sapien_IDRs_feature_'+sortbyval[0]+'_'+sortbyval[1]+'_number_exceptional_by_major_spliceosome_complex.pdf', transparent=True, bbox_inches = \"tight\") \n"
   ]
  },
  {
   "cell_type": "code",
   "execution_count": null,
   "metadata": {},
   "outputs": [],
   "source": []
  },
  {
   "cell_type": "markdown",
   "metadata": {},
   "source": [
    "## Nuclear speckles location IDRs"
   ]
  },
  {
   "cell_type": "code",
   "execution_count": 11,
   "metadata": {},
   "outputs": [
    {
     "name": "stdout",
     "output_type": "stream",
     "text": [
      "6\n",
      "               Gene  Cluster                      Location Uniprot  \\\n",
      "649      NCOA5 IDR1       26  Actin filaments, Nucleoplasm  Q9HCD5   \n",
      "4851   PRPF38B IDR2       26                                Q5VTL8   \n",
      "5092    LUC7L2 IDR1       26                   Nucleoplasm  Q9Y383   \n",
      "6328     LUC7L IDR1       26                   Nucleoplasm  Q9NQ29   \n",
      "6337   SNRNP70 IDR2       26                   Nucleoplasm  P08621   \n",
      "13596    ZRSR2 IDR2       26                                Q15696   \n",
      "\n",
      "      Uniprot w Num  IDR Length  Num A  Num C  Num D  Num E  ...  \\\n",
      "649        Q9HCD5_1          91    2.0    0.0   18.0    1.0  ...   \n",
      "4851       Q5VTL8_2         319    3.0    0.0   25.0   44.0  ...   \n",
      "5092       Q9Y383_1         164    4.0    1.0   10.0   20.0  ...   \n",
      "6328       Q9NQ29_1         143    6.0    0.0    6.0   18.0  ...   \n",
      "6337       P08621_2         252    9.0    0.0   31.0   33.0  ...   \n",
      "13596      Q15696_2         134    0.0    0.0    7.0    5.0  ...   \n",
      "\n",
      "       Cumulative Patch Q  Cumulative Patch R  Cumulative Patch S  \\\n",
      "649                     0                  63                   0   \n",
      "4851                    0                  81                   0   \n",
      "5092                    0                  70                  11   \n",
      "6328                    0                  62                   7   \n",
      "6337                    0                  92                   0   \n",
      "13596                   0                  49                  25   \n",
      "\n",
      "       Cumulative Patch T  Cumulative Patch V  Cumulative Patch W  \\\n",
      "649                     0                   0                   0   \n",
      "4851                    0                   0                   0   \n",
      "5092                    0                   0                   0   \n",
      "6328                    0                   0                   0   \n",
      "6337                    0                   0                   0   \n",
      "13596                   0                   0                   0   \n",
      "\n",
      "       Cumulative Patch Y   pos-neg    R Patch    Frac R  \n",
      "649                     0 -2.575863  15.951751  4.797556  \n",
      "4851                    0 -1.402386   5.694005  3.855470  \n",
      "5092                    0 -1.500285   9.739896  5.104519  \n",
      "6328                    0 -0.921866   9.897537  5.490970  \n",
      "6337                    0 -1.151987   8.295027  4.204302  \n",
      "13596                   0  0.000000   8.308886  4.763403  \n",
      "\n",
      "[6 rows x 49 columns]\n"
     ]
    },
    {
     "name": "stderr",
     "output_type": "stream",
     "text": [
      "meta NOT subset; don't know how to subset; dropped\n"
     ]
    },
    {
     "data": {
      "image/png": "[encoded data removed]",
      "text/plain": [
       "<Figure size 360x216 with 1 Axes>"
      ]
     },
     "metadata": {
      "needs_background": "light"
     },
     "output_type": "display_data"
    }
   ],
   "source": [
    "testidrs=['LUC7L2 IDR1','LUC7L IDR1','NCOA5 IDR1','ZRSR2 IDR2','PRPF38B IDR2','SNRNP70 IDR2']\n",
    "coloridrs=['#1f8241','#7c2880','#f58220','#000000','#000000','#000000']\n",
    "print(len(testidrs))\n",
    "\n",
    "dfloc=dfrich\n",
    "dfloc=dfloc[dfloc['Gene'].isin(testidrs)]\n",
    "print(dfloc)\n",
    "\n",
    "locgene=dfloc['Gene'].tolist()\n",
    "locrblocklen=dfloc['Cumulative Patch R'].tolist()\n",
    "locrblock=dfloc['R Patch'].tolist()\n",
    "locrfrac=dfloc['Frac R'].tolist()\n",
    "\n",
    "plt.figure(figsize=(5,3))\n",
    "for i in range(0,len(testidrs)):\n",
    "    idx=locgene.index(testidrs[i])\n",
    "    plt.plot(locrfrac[idx],locrblocklen[idx],'o',markerfacecolor=coloridrs[i],markeredgecolor='black',markersize=12)\n",
    "    plt.text(locrfrac[idx],locrblocklen[idx],locgene[idx])\n",
    "    \n",
    "plt.ylabel('Cumulative Length of R Patches')\n",
    "plt.xlabel('Frac R z-score')\n",
    "\n",
    "#plt.savefig('Figures/2024_02/localization_oocytes_cluster_26_IDRs.pdf', transparent=True, bbox_inches = \"tight\") \n"
   ]
  },
  {
   "cell_type": "code",
   "execution_count": null,
   "metadata": {},
   "outputs": [],
   "source": []
  }
 ],
 "metadata": {
  "kernelspec": {
   "display_name": "Python 3",
   "language": "python",
   "name": "python3"
  },
  "language_info": {
   "codemirror_mode": {
    "name": "ipython",
    "version": 3
   },
   "file_extension": ".py",
   "mimetype": "text/x-python",
   "name": "python",
   "nbconvert_exporter": "python",
   "pygments_lexer": "ipython3",
   "version": "3.7.7"
  }
 },
 "nbformat": 4,
 "nbformat_minor": 5
}
