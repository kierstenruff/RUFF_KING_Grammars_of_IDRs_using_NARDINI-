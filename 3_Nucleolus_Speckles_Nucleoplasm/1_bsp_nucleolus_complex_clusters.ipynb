{
 "cells": [
  {
   "cell_type": "markdown",
   "id": "c77d9117",
   "metadata": {},
   "source": [
    "# Part 0: Load in libraries"
   ]
  },
  {
   "cell_type": "markdown",
   "id": "0a7c6322",
   "metadata": {},
   "source": [
    "## runs using graph_env - needs d3blocks"
   ]
  },
  {
   "cell_type": "code",
   "execution_count": 1,
   "id": "39a44c7d",
   "metadata": {},
   "outputs": [
    {
     "name": "stdout",
     "output_type": "stream",
     "text": [
      "/home/research/kiersten.ruff/fonts/ARIAL.TTF\n"
     ]
    }
   ],
   "source": [
    "import numpy as np\n",
    "import pandas as pd\n",
    "import seaborn as sbn\n",
    "import matplotlib as mpl\n",
    "import matplotlib.pyplot as plt\n",
    "from matplotlib import cm\n",
    "import re\n",
    "import math\n",
    "import scipy\n",
    "from scipy.stats import ks_2samp\n",
    "from matplotlib.patches import Rectangle\n",
    "import pathlib\n",
    "from matplotlib import font_manager\n",
    "from scipy.stats import fisher_exact\n",
    "\n",
    "\n",
    "# Setup the fonts\n",
    "fonts_path = pathlib.Path.home().joinpath('fonts') # i.e. `~/fonts` (update as needed)\n",
    "font_filename = 'ARIAL.TTF'\n",
    "font_path = fonts_path.joinpath(font_filename)\n",
    "print(font_path)\n",
    "\n",
    "font_manager.fontManager.addfont(str(font_path))\n",
    "prop = font_manager.FontProperties(fname=font_path)\n",
    "\n",
    "plt.rcParams['font.family'] = 'sans-serif'\n",
    "plt.rcParams['font.sans-serif'] = prop.get_name()\n",
    "plt.rcParams['pdf.fonttype'] = 42 # Makes text editiable\n",
    "plt.rcParams['ps.fonttype'] = 42\n",
    "\n",
    "COLOR_MAP = dict()\n",
    "COLOR_MAP['A']         = '#8c8c8c'\n",
    "COLOR_MAP['CHNQST']    = '#077a15'\n",
    "COLOR_MAP['DE']        = '#e23a36'\n",
    "COLOR_MAP['FWY']       = '#f58220'\n",
    "COLOR_MAP['G']         = '#86bd8d'\n",
    "COLOR_MAP['ILMV']      = '#231f20'\n",
    "COLOR_MAP['KR']        = '#1725c2'\n",
    "COLOR_MAP['P']         = '#c25fc9'\n",
    "\n",
    "\n",
    "# Using the global color map, we convert the colormap of amino acid\n",
    "# groups, to a map against individual amino acids. This\n",
    "# serves as our internal color map which is used for styling.\n",
    "aacolor_map=dict()\n",
    "for amino_acids in COLOR_MAP:\n",
    "    for amino_acid in amino_acids:\n",
    "        aacolor_map[amino_acid] = COLOR_MAP[amino_acids]"
   ]
  },
  {
   "cell_type": "markdown",
   "id": "b4b65e6f",
   "metadata": {},
   "source": [
    "# Part 1: Connect ribosomal biogenesis processes to IDR grammars"
   ]
  },
  {
   "cell_type": "markdown",
   "id": "9472adda",
   "metadata": {},
   "source": [
    "## 1.1 - Load in nucleoli complex information"
   ]
  },
  {
   "cell_type": "code",
   "execution_count": 2,
   "id": "9cbaf4b8",
   "metadata": {
    "scrolled": true
   },
   "outputs": [
    {
     "name": "stdout",
     "output_type": "stream",
     "text": [
      "     Unnamed: 0 Accession    Gene  \\\n",
      "0             0    P19388  POLR2E   \n",
      "1             1    P61218  POLR2F   \n",
      "2             2    P52434  POLR2H   \n",
      "3             3    P62875  POLR2L   \n",
      "4             4    P53803  POLR2K   \n",
      "..          ...       ...     ...   \n",
      "269         269    Q92499    DDX1   \n",
      "270         270    Q9ULT8  HECTD1   \n",
      "271         271    Q9P275   USP36   \n",
      "272         272    O95071    UBR5   \n",
      "273         273    Q9Y4B6   DCAF1   \n",
      "\n",
      "                                   General Process                   Category  \\\n",
      "0                               rDNA Transcription  RNA Polymerase I subunits   \n",
      "1                               rDNA Transcription  RNA Polymerase I subunits   \n",
      "2                               rDNA Transcription  RNA Polymerase I subunits   \n",
      "3                               rDNA Transcription  RNA Polymerase I subunits   \n",
      "4                               rDNA Transcription  RNA Polymerase I subunits   \n",
      "..                                             ...                        ...   \n",
      "269  Other factors involved in ribosome biogenesis               Other factor   \n",
      "270  Other factors involved in ribosome biogenesis               Other factor   \n",
      "271  Other factors involved in ribosome biogenesis               Other factor   \n",
      "272  Other factors involved in ribosome biogenesis               Other factor   \n",
      "273  Other factors involved in ribosome biogenesis               Other factor   \n",
      "\n",
      "     IDR Cluster 7 Cluster 18 Cluster 23 Cluster 7, 18, or 23  \n",
      "0     No        No         No         No                   No  \n",
      "1    Yes       Yes         No         No                  Yes  \n",
      "2     No        No         No         No                   No  \n",
      "3     No        No         No         No                   No  \n",
      "4     No        No         No         No                   No  \n",
      "..   ...       ...        ...        ...                  ...  \n",
      "269   No        No         No         No                   No  \n",
      "270  Yes        No        Yes         No                  Yes  \n",
      "271  Yes        No         No         No                   No  \n",
      "272  Yes        No         No         No                   No  \n",
      "273  Yes       Yes         No         No                  Yes  \n",
      "\n",
      "[274 rows x 10 columns]\n",
      "['rDNA Transcription', 'rRNA Modification', 'Factors involved in pre‐rRNA processing', 'Chaperones of ribosomal proteins', 'SSU processome subcomplexes and early assembly factors', 'Factors involved in nucleolar steps of 60S maturation', 'Other factors involved in ribosome biogenesis']\n",
      "['RNA Polymerase I subunits', 'PIC formation/promoter escape', 'Elongation', 'Termination', 'rDNA organization', 'Factors acting both in rRNA transcription and early processing steps', 'snoRNP components - Box C/D', 'snoRNP components - Box H/ACA', 'Stand‐alone enzymes', 'General factor involved in pre‐rRNA processing', 'MRP complex', 'Nuclear exosome', 'Cofactor of nuclear exosome', 'Chaperone of ribosomal proteins', 'UTP-A complex', 'UTP-B complex', 'U3 snoRNP complex', 'Mpp10‐Imp3‐Imp4 complex', 'UTP-C complex', 'Sof1‐Utp7 complex', 'Rcl1‐Bms1 complex', 'NOP14‐NOC4L‐UTP14A‐EMG1 complex', 'ANN complex', 'XND complex', 'Utp30‐Rrt14 complex', 'Assembly factor', 'Rrp5‐Noc1‐Noc2 complex', 'Npa1‐Npa2‐Nop8‐Rsa3‐Dbp6 complex', 'DEAD box RNA helicases', 'Nsa1 module', '60S assembly factor', '60S chaperone of ribosomal proteins', 'Rrp15‐Ssf1 complex', 'A3 factor Erb1‐Ytm1‐Nop7/PeBoW complex', 'A3 factor Nop15‐Rlp7‐Cic complex', 'A3 factor', 'A3 factor Brx1‐Ebp2 complex', 'B factor Nip7‐Nop2 complex', 'B factor Rpf2‐Rrs1 complex', 'B factor', '60S other factor', 'Other factor']\n",
      "42\n"
     ]
    }
   ],
   "source": [
    "dfcompclust=pd.read_excel('data/Ribosomal_biogeneis_factors_w_clusters.xlsx', engine='openpyxl')\n",
    "print(dfcompclust)\n",
    "\n",
    "ccgeneralprocess=dfcompclust['General Process'].tolist()\n",
    "cccategory=dfcompclust['Category'].tolist()\n",
    "ccIDR=dfcompclust['IDR'].tolist()\n",
    "cccluster7=dfcompclust['Cluster 7'].tolist()\n",
    "cccluster18=dfcompclust['Cluster 18'].tolist()\n",
    "cccluster23=dfcompclust['Cluster 23'].tolist()\n",
    "ccclusterany=dfcompclust['Cluster 7, 18, or 23'].tolist()\n",
    "ccgene=dfcompclust['Gene'].tolist()\n",
    "ccacc=dfcompclust['Accession'].tolist()\n",
    "\n",
    "uniccgeneralprocess=[]\n",
    "unicccategory=[]\n",
    "for s in range(0,len(ccgeneralprocess)):\n",
    "    if ccgeneralprocess[s] not in uniccgeneralprocess:\n",
    "        uniccgeneralprocess.append(ccgeneralprocess[s])\n",
    "    if cccategory[s] not in unicccategory:\n",
    "        unicccategory.append(cccategory[s])\n",
    "\n",
    "print(uniccgeneralprocess)\n",
    "print(unicccategory)\n",
    "print(len(unicccategory))"
   ]
  },
  {
   "cell_type": "markdown",
   "id": "d9d7ab22",
   "metadata": {},
   "source": [
    "## 1.2 - Create data for plotting"
   ]
  },
  {
   "cell_type": "code",
   "execution_count": 3,
   "id": "3ee0818a",
   "metadata": {},
   "outputs": [
    {
     "name": "stdout",
     "output_type": "stream",
     "text": [
      "6\n",
      "5\n",
      "4\n",
      "3\n",
      "2\n",
      "1\n",
      "0\n"
     ]
    }
   ],
   "source": [
    "source=[]\n",
    "target=[]\n",
    "weight=[]\n",
    "\n",
    "for i in range(len(uniccgeneralprocess)-1,-1,-1): #range(0,len(uniccgeneralprocess)):\n",
    "    print(i)\n",
    "    for j in range(len(unicccategory)-1,-1,-1): #range(0,len(unicccategory)):\n",
    "        pos1=[m for m, x in enumerate(ccgeneralprocess) if x == uniccgeneralprocess[i]]\n",
    "        pos2=[m for m, x in enumerate(cccategory) if x == unicccategory[j]]\n",
    "        posinter=list(set(pos1) & set(pos2))\n",
    "\n",
    "\n",
    "        if posinter:\n",
    "            source.append(uniccgeneralprocess[i])\n",
    "            target.append(unicccategory[j])\n",
    "            weight.append(len(posinter))\n",
    "\n",
    "for j in range(len(unicccategory)-1,-1,-1): #range(0,len(unicccategory)):\n",
    "    pos2=[m for m, x in enumerate(cccategory) if x == unicccategory[j]]        \n",
    "    tmpidr=0\n",
    "    tmp7=0\n",
    "    tmp18=0\n",
    "    tmp23=0\n",
    "    for p in pos2:\n",
    "        if ccIDR[p]=='Yes':\n",
    "            tmpidr=tmpidr+1\n",
    "        if cccluster7[p]=='Yes':\n",
    "            tmp7=tmp7+1\n",
    "        if cccluster18[p]=='Yes':\n",
    "            tmp18=tmp18+1\n",
    "        if cccluster23[p]=='Yes':\n",
    "            tmp23=tmp23+1\n",
    "\n",
    "    if tmpidr==0:\n",
    "        source.append(unicccategory[j])\n",
    "        target.append('No IDRs in Complex')\n",
    "        weight.append(1)\n",
    "\n",
    "    elif tmpidr>0 and tmp7+tmp18+tmp23==0:\n",
    "        source.append(unicccategory[j])\n",
    "        target.append('IDRs in complex not in 7, 18, or 23')\n",
    "        weight.append(tmpidr)\n",
    "\n",
    "    elif tmpidr>0 and tmp7+tmp18+tmp23>0:\n",
    "        if tmp18>0:\n",
    "            source.append(unicccategory[j])\n",
    "            target.append('IDRs in complex in 18')\n",
    "            weight.append(tmp18)\n",
    "        if tmp23>0:\n",
    "            source.append(unicccategory[j])\n",
    "            target.append('IDRs in complex in 23')\n",
    "            weight.append(tmp23)\n",
    "        if tmp7>0:\n",
    "            source.append(unicccategory[j])\n",
    "            target.append('IDRs in complex in 7')\n",
    "            weight.append(tmp7)\n"
   ]
  },
  {
   "cell_type": "markdown",
   "id": "0aefdc88",
   "metadata": {},
   "source": [
    "## 1.3 - Plot data"
   ]
  },
  {
   "cell_type": "code",
   "execution_count": 4,
   "id": "e7e838bd",
   "metadata": {},
   "outputs": [
    {
     "name": "stdout",
     "output_type": "stream",
     "text": [
      "                                                source  \\\n",
      "0        Other factors involved in ribosome biogenesis   \n",
      "1    Factors involved in nucleolar steps of 60S mat...   \n",
      "2    Factors involved in nucleolar steps of 60S mat...   \n",
      "3    Factors involved in nucleolar steps of 60S mat...   \n",
      "4    Factors involved in nucleolar steps of 60S mat...   \n",
      "..                                                 ...   \n",
      "103                      PIC formation/promoter escape   \n",
      "104                      PIC formation/promoter escape   \n",
      "105                      PIC formation/promoter escape   \n",
      "106                          RNA Polymerase I subunits   \n",
      "107                          RNA Polymerase I subunits   \n",
      "\n",
      "                         target  weight  \n",
      "0                  Other factor       7  \n",
      "1              60S other factor      13  \n",
      "2                      B factor      11  \n",
      "3    B factor Rpf2‐Rrs1 complex       2  \n",
      "4    B factor Nip7‐Nop2 complex       2  \n",
      "..                          ...     ...  \n",
      "103       IDRs in complex in 18       1  \n",
      "104       IDRs in complex in 23       1  \n",
      "105        IDRs in complex in 7       1  \n",
      "106       IDRs in complex in 23       2  \n",
      "107        IDRs in complex in 7       2  \n",
      "\n",
      "[108 rows x 3 columns]\n",
      "         source                 target  weight\n",
      "100  Elongation  IDRs in complex in 18       4\n",
      "101  Elongation  IDRs in complex in 23       1\n",
      "102  Elongation   IDRs in complex in 7       2\n"
     ]
    },
    {
     "name": "stderr",
     "output_type": "stream",
     "text": [
      "[d3blocks] >INFO> Cleaning edge_properties and config parameters..\n",
      "[d3blocks] >INFO> Initializing [Sankey]\n",
      "[d3blocks] >INFO> Create directory: [/tmp/d3blocks]\n",
      "[d3blocks] >INFO> filepath is set to [/tmp/d3blocks/sankey.html]\n",
      "[d3blocks] >INFO> Convert to DataFrame.\n",
      "[d3blocks] >INFO> Node properties are set.\n",
      "[d3blocks] >INFO> Convert to DataFrame.\n",
      "[d3blocks] >INFO> Node properties are set.\n",
      "[d3blocks] >INFO> Edge properties are set.\n",
      "[d3blocks] >INFO> Set [figsize]: [500, 1500]\n",
      "[d3blocks] >INFO> Open browser: /tmp/d3blocks/sankey.html\n"
     ]
    }
   ],
   "source": [
    "dftmp=pd.DataFrame()\n",
    "\n",
    "dftmp['source']=source\n",
    "dftmp['target']=target\n",
    "dftmp['weight']=weight\n",
    "\n",
    "print(dftmp)\n",
    "print(dftmp[dftmp['source']=='Elongation'])\n",
    "\n",
    "import d3blocks\n",
    "from d3blocks import D3Blocks\n",
    "d3 = D3Blocks(chart='Sankey', frame=True)\n",
    "\n",
    "tmpcolorlist=['#3d2663', '#872f74', '#cb3f73', '#ff6361','#276026', '#008770', '#00aabe', '#64c8ff']\n",
    "\n",
    "\n",
    "d3.set_node_properties(dftmp)\n",
    "d3.set_node_properties(dftmp, padding=1, color={'IDRs in complex in 7': '#e23c36', 'IDRs in complex in 18':'#000000', 'IDRs in complex in 23':'#1d9bd7','IDRs in complex not in 7, 18, or 23':'#dddddd','No IDRs in Complex':'#dddddd', \\\n",
    "                                     'rDNA Transcription':'#ff6361', 'rRNA Modification':'#872f74', 'Factors involved in pre‐rRNA processing':'#3d2663', 'Chaperones of ribosomal proteins':'#cb3f73', \\\n",
    "                                     'SSU processome subcomplexes and early assembly factors':'#276026','Factors involved in nucleolar steps of 60S maturation':'#008770', 'Other factors involved in ribosome biogenesis':'#00aabe'})\n",
    "#d3.set_node_properties(dftmp, color=mycolorsdict)\n",
    "d3.set_edge_properties(dftmp, color='target', opacity='target')\n",
    "#d3.show(figsize=[600, 600])\n",
    "d3.show(figsize=[500, 1500])"
   ]
  },
  {
   "cell_type": "markdown",
   "id": "b9003479",
   "metadata": {},
   "source": [
    "## 1.4 - Save data to excel file"
   ]
  },
  {
   "cell_type": "code",
   "execution_count": 5,
   "id": "39ed7940",
   "metadata": {},
   "outputs": [],
   "source": [
    "with pd.ExcelWriter('../Supplementary_Tables/Table_S2.xlsx', engine='openpyxl',mode='a') as writer:\n",
    "    dftmp.to_excel(writer,sheet_name='Fig_2D')"
   ]
  },
  {
   "cell_type": "code",
   "execution_count": null,
   "id": "d6b42fc9",
   "metadata": {},
   "outputs": [],
   "source": []
  },
  {
   "cell_type": "code",
   "execution_count": null,
   "id": "01cc00c1",
   "metadata": {},
   "outputs": [
    {
     "name": "stdout",
     "output_type": "stream",
     "text": [
      "\n",
      "Please wait a moment while I gather a list of all available modules...\n",
      "\n"
     ]
    },
    {
     "name": "stderr",
     "output_type": "stream",
     "text": [
      "/home/research/kiersten.ruff/.local/lib/python3.7/site-packages/Bio/PDB/QCPSuperimposer/__init__.py:27: BiopythonDeprecationWarning: The QCPSuperimposer module will be removed soon in favor of qcprot. The API will remain largely the same.\n",
      "  BiopythonDeprecationWarning,\n",
      "/home/research/kiersten.ruff/.local/lib/python3.7/site-packages/Bio/SearchIO/_legacy/__init__.py:17: BiopythonDeprecationWarning: The 'Bio.SearchIO._legacy' module for parsing BLAST plain text output is deprecated and will be removed in a future release of Biopython. Consider generating your BLAST output for parsing as XML or tabular format instead.\n",
      "  BiopythonDeprecationWarning,\n",
      "/home/research/kiersten.ruff/.local/lib/python3.7/site-packages/Bio/Wise/__init__.py:31: BiopythonDeprecationWarning: The 'Bio.Wise' module is deprecated and will be removed in a future release of Biopython.\n",
      "  BiopythonDeprecationWarning,\n",
      "/home/research/kiersten.ruff/.local/lib/python3.7/site-packages/Bio/codonalign/__init__.py:26: BiopythonExperimentalWarning: Bio.codonalign is an experimental module which may undergo significant changes prior to its future official release.\n",
      "  BiopythonExperimentalWarning,\n",
      "/home/research/kiersten.ruff/.local/lib/python3.7/site-packages/nxviz/__init__.py:29: UserWarning: \n",
      "nxviz has a new API! Version 0.7.4 onwards, the old class-based API is being\n",
      "deprecated in favour of a new API focused on advancing a grammar of network\n",
      "graphics. If your plotting code depends on the old API, please consider\n",
      "pinning nxviz at version 0.7.4, as the new API will break your old code.\n",
      "\n",
      "To check out the new API, please head over to the docs at\n",
      "https://ericmjl.github.io/nxviz/ to learn more. We hope you enjoy using it!\n",
      "\n",
      "(This deprecation message will go away in version 1.0.)\n",
      "\n",
      "  \"\"\"\n",
      "/project/engineering/anaconda3/lib/python3.7/site-packages/IPython/kernel/__init__.py:13: ShimWarning: The `IPython.kernel` package has been deprecated since IPython 4.0.You should import from ipykernel or jupyter_client instead.\n",
      "  \"You should import from ipykernel or jupyter_client instead.\", ShimWarning)\n",
      "distributed.dashboard.proxy - INFO - To route to workers diagnostics web server please install jupyter-server-proxy: python -m pip install jupyter-server-proxy\n",
      "Using TensorFlow backend.\n"
     ]
    }
   ],
   "source": [
    "help('modules')"
   ]
  },
  {
   "cell_type": "code",
   "execution_count": null,
   "id": "6fa78aff",
   "metadata": {},
   "outputs": [],
   "source": []
  }
 ],
 "metadata": {
  "kernelspec": {
   "display_name": "Python 3",
   "language": "python",
   "name": "python3"
  },
  "language_info": {
   "codemirror_mode": {
    "name": "ipython",
    "version": 3
   },
   "file_extension": ".py",
   "mimetype": "text/x-python",
   "name": "python",
   "nbconvert_exporter": "python",
   "pygments_lexer": "ipython3",
   "version": "3.6.8"
  }
 },
 "nbformat": 4,
 "nbformat_minor": 5
}
