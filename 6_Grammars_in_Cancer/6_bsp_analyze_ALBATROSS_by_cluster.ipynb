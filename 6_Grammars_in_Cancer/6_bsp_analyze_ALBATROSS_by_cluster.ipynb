{
 "cells": [
  {
   "cell_type": "markdown",
   "metadata": {},
   "source": [
    "# Part 0: Load in Libraries"
   ]
  },
  {
   "cell_type": "code",
   "execution_count": 1,
   "metadata": {},
   "outputs": [
    {
     "name": "stdout",
     "output_type": "stream",
     "text": [
      "/home/research/kiersten.ruff/fonts/ARIAL.TTF\n"
     ]
    }
   ],
   "source": [
    "import numpy as np\n",
    "import pandas as pd\n",
    "import seaborn as sbn\n",
    "import matplotlib as mpl\n",
    "import matplotlib.pyplot as plt\n",
    "from matplotlib import cm\n",
    "import localcider\n",
    "from localcider.sequenceParameters import SequenceParameters\n",
    "import re\n",
    "import math\n",
    "import scipy\n",
    "from scipy.stats import ks_2samp\n",
    "from matplotlib.patches import Rectangle\n",
    "import pathlib\n",
    "from matplotlib import font_manager\n",
    "from scipy.stats import fisher_exact\n",
    "\n",
    "\n",
    "# Setup the fonts\n",
    "fonts_path = pathlib.Path.home().joinpath('fonts') # i.e. `~/fonts` (update as needed)\n",
    "font_filename = 'ARIAL.TTF'\n",
    "font_path = fonts_path.joinpath(font_filename)\n",
    "print(font_path)\n",
    "\n",
    "font_manager.fontManager.addfont(str(font_path))\n",
    "prop = font_manager.FontProperties(fname=font_path)\n",
    "\n",
    "plt.rcParams['font.family'] = 'sans-serif'\n",
    "plt.rcParams['font.sans-serif'] = prop.get_name()\n",
    "plt.rcParams['pdf.fonttype'] = 42 # Makes text editiable\n",
    "plt.rcParams['ps.fonttype'] = 42\n",
    "\n",
    "COLOR_MAP = dict()\n",
    "COLOR_MAP['A']         = '#8c8c8c'\n",
    "COLOR_MAP['CHNQST']    = '#077a15'\n",
    "COLOR_MAP['DE']        = '#e23a36'\n",
    "COLOR_MAP['FWY']       = '#f58220'\n",
    "COLOR_MAP['G']         = '#86bd8d'\n",
    "COLOR_MAP['ILMV']      = '#231f20'\n",
    "COLOR_MAP['KR']        = '#1725c2'\n",
    "COLOR_MAP['P']         = '#c25fc9'\n",
    "\n",
    "\n",
    "# Using the global color map, we convert the colormap of amino acid\n",
    "# groups, to a map against individual amino acids. This\n",
    "# serves as our internal color map which is used for styling.\n",
    "aacolor_map=dict()\n",
    "for amino_acids in COLOR_MAP:\n",
    "    for amino_acid in amino_acids:\n",
    "        aacolor_map[amino_acid] = COLOR_MAP[amino_acids]"
   ]
  },
  {
   "cell_type": "markdown",
   "metadata": {},
   "source": [
    "# Part 1: Get and Analyze IDR clusters"
   ]
  },
  {
   "cell_type": "markdown",
   "metadata": {},
   "source": [
    "## 1.1 - Load in IDR information"
   ]
  },
  {
   "cell_type": "code",
   "execution_count": 3,
   "metadata": {
    "scrolled": true
   },
   "outputs": [
    {
     "name": "stdout",
     "output_type": "stream",
     "text": [
      "Unnamed: 0              False\n",
      "Uniprot                 False\n",
      "Uniprot w IDRnum        False\n",
      "Gene                    False\n",
      "Cluster Number          False\n",
      "IDR Length              False\n",
      "Start Pos               False\n",
      "End Pos                 False\n",
      "Full Protein Length     False\n",
      "Min Inter Clust Dist    False\n",
      "IDR Position            False\n",
      "HPA Location             True\n",
      "Sequence                False\n",
      "dtype: bool\n",
      "       Unnamed: 0 Uniprot Uniprot w IDRnum            Gene  Cluster Number  \\\n",
      "0               0  G5E9R7         G5E9R7_1  KRTAP4-16 IDR1              27   \n",
      "1               1  Q9NRJ4         Q9NRJ4_1      TULP4 IDR1              17   \n",
      "2               2  Q9NRJ4         Q9NRJ4_2      TULP4 IDR2               1   \n",
      "3               3  Q9NRJ4         Q9NRJ4_3      TULP4 IDR3              27   \n",
      "4               4  Q9NRJ4         Q9NRJ4_4      TULP4 IDR4              27   \n",
      "...           ...     ...              ...             ...             ...   \n",
      "24503       24503  Q7Z739         Q7Z739_2     YTHDF3 IDR2              11   \n",
      "24504       24504  Q17RB8         Q17RB8_1     LONRF1 IDR1              29   \n",
      "24505       24505  Q17RB8         Q17RB8_2     LONRF1 IDR2              24   \n",
      "24506       24506  Q6P1J9         Q6P1J9_1      CDC73 IDR1              17   \n",
      "24507       24507  Q6P1J9         Q6P1J9_2      CDC73 IDR2              17   \n",
      "\n",
      "       IDR Length  Start Pos  End Pos  Full Protein Length  \\\n",
      "0              53        182      235                  235   \n",
      "1              50        527      577                 1543   \n",
      "2              43        767      810                 1543   \n",
      "3              34        828      862                 1543   \n",
      "4              36        993     1029                 1543   \n",
      "...           ...        ...      ...                  ...   \n",
      "24503         163        214      377                  585   \n",
      "24504          31          0       31                  773   \n",
      "24505          53        354      407                  773   \n",
      "24506          43        256      299                  531   \n",
      "24507          42        319      361                  531   \n",
      "\n",
      "       Min Inter Clust Dist    IDR Position              HPA Location  \\\n",
      "0                  8.592811  C-terminal IDR                             \n",
      "1                 14.569964      Linker IDR                             \n",
      "2                  4.777867      Linker IDR                             \n",
      "3                  0.753103      Linker IDR                             \n",
      "4                  3.491170      Linker IDR                             \n",
      "...                     ...             ...                       ...   \n",
      "24503             21.489673      Linker IDR                             \n",
      "24504              9.140638  N-terminal IDR  Cytosol, Plasma membrane   \n",
      "24505              2.253672      Linker IDR  Cytosol, Plasma membrane   \n",
      "24506              4.035674      Linker IDR               Nucleoplasm   \n",
      "24507              2.159379      Linker IDR               Nucleoplasm   \n",
      "\n",
      "                                                Sequence  \n",
      "0      LPSPPRPSPPLLSPVLIPSPSPSPSLPSLSPPLPSPPLPSPHFPSV...  \n",
      "1      KKSPKISRASKSPKLPRISIEARKSPKLPRAAQELSRSPRLPLRKP...  \n",
      "2            QNPPPLSLPPPPQGPMQLSTVGHGDRDHEHLQKSAKALRPTPQ  \n",
      "3                     TKINPPPPYPGTIPAAPTTAAPPPPLPPPQPPVD  \n",
      "4                   ATLKMAQLADSPRAPLQPLAKSKGGPGGVVTQLPAR  \n",
      "...                                                  ...  \n",
      "24503  SGMTSIATNSVPPVSSAAPKPTSWAAIARKPAKPQPKLKPKGNVGI...  \n",
      "24504                    MSSPAVARTSPGGSREMAPAPQGRGRFWEVG  \n",
      "24505  HSVMEESQSLNEPSPKQSEEIPEVTSEPVKGSLNRAQSAQSINSTE...  \n",
      "24506        KAREEGRAPEQRPAPNAAPVDPTLRTKQPIPAAYNRYDQERFK  \n",
      "24507         LKSVTEGASARKTQTPAAQPVPRPVSQARPPPNQKKGSRTPI  \n",
      "\n",
      "[24508 rows x 13 columns]\n"
     ]
    }
   ],
   "source": [
    "humandf=pd.read_excel('../general_data/All_sapiens_IDRs_clustermap_using_centroids.xlsx')\n",
    "\n",
    "print(humandf.isnull().any())\n",
    "humandf = humandf.fillna('')\n",
    "\n",
    "fullaccs=humandf['Uniprot'].tolist()\n",
    "fullaccswnums=humandf['Uniprot w IDRnum'].tolist()\n",
    "fullgeneswnums=humandf['Gene'].tolist()\n",
    "fullclusternum=humandf['Cluster Number'].tolist()\n",
    "fullseqlens=humandf['IDR Length'].tolist()\n",
    "fullstpos=humandf['Start Pos'].tolist()\n",
    "fullenpos=humandf['End Pos'].tolist()\n",
    "fullproteinlength=humandf['Full Protein Length'].tolist()\n",
    "fullmininterclustdist=humandf['Min Inter Clust Dist'].tolist()\n",
    "fulltermini=humandf['IDR Position'].tolist()\n",
    "fulllocationbyunistring=humandf['HPA Location'].tolist()\n",
    "fullseqs=humandf['Sequence'].tolist()\n",
    "\n",
    "\n",
    "\n",
    "print(humandf)"
   ]
  },
  {
   "cell_type": "markdown",
   "metadata": {},
   "source": [
    "## 1.2 - Load in ALBATROSS information"
   ]
  },
  {
   "cell_type": "code",
   "execution_count": 4,
   "metadata": {},
   "outputs": [
    {
     "name": "stdout",
     "output_type": "stream",
     "text": [
      "      Unnamed: 0 fasta_header  lengths  radius_of_gyration  \\\n",
      "0              0     G5E9R7_1       53           24.443001   \n",
      "1              1     Q9NRJ4_1       50           23.400517   \n",
      "2              2     Q9NRJ4_2       43           19.119770   \n",
      "3              3     Q9NRJ4_3       34           20.125533   \n",
      "4              4     Q9NRJ4_4       36           18.128783   \n",
      "...          ...          ...      ...                 ...   \n",
      "4503        4503     Q7Z739_2      163           42.133990   \n",
      "4504        4504     Q17RB8_1       31           15.312613   \n",
      "4505        4505     Q17RB8_2       53           21.881011   \n",
      "4506        4506     Q6P1J9_1       43           19.178411   \n",
      "4507        4507     Q6P1J9_2       42           20.381902   \n",
      "\n",
      "      end_to_end_distance  scaling_exponent  asphericity  prefactor  \\\n",
      "0               60.458677          0.573448     0.462206   6.957920   \n",
      "1               57.301122          0.597782     0.467122   6.362150   \n",
      "2               48.957815          0.570681     0.411120   6.293370   \n",
      "3               50.866705          0.587838     0.481409   7.509545   \n",
      "4               44.884020          0.592739     0.471377   6.077088   \n",
      "...                   ...               ...          ...        ...   \n",
      "4503            95.383753          0.533514     0.421376   7.289112   \n",
      "4504            36.707041          0.582798     0.450988   6.552978   \n",
      "4505            53.623729          0.568999     0.452416   6.268149   \n",
      "4506            47.087698          0.559632     0.457511   6.340995   \n",
      "4507            49.976486          0.561657     0.498345   6.865181   \n",
      "\n",
      "                                               sequence  \n",
      "0     LPSPPRPSPP\\nLLSPVLIPSP\\nSPSPSLPSLS\\nPPLPSPPLPS...  \n",
      "1     KKSPKISRAS\\nKSPKLPRISI\\nEARKSPKLPR\\nAAQELSRSPR...  \n",
      "2     QNPPPLSLPP\\nPPQGPMQLST\\nVGHGDRDHEH\\nLQKSAKALRP...  \n",
      "3              TKINPPPPYP\\nGTIPAAPTTA\\nAPPPPLPPPQ\\nPPVD  \n",
      "4            ATLKMAQLAD\\nSPRAPLQPLA\\nKSKGGPGGVV\\nTQLPAR  \n",
      "...                                                 ...  \n",
      "4503  SGMTSIATNS\\nVPPVSSAAPK\\nPTSWAAIARK\\nPAKPQPKLKP...  \n",
      "4504              MSSPAVARTS\\nPGGSREMAPA\\nPQGRGRFWEV\\nG  \n",
      "4505  HSVMEESQSL\\nNEPSPKQSEE\\nIPEVTSEPVK\\nGSLNRAQSAQ...  \n",
      "4506  KAREEGRAPE\\nQRPAPNAAPV\\nDPTLRTKQPI\\nPAAYNRYDQE...  \n",
      "4507  LKSVTEGASA\\nRKTQTPAAQP\\nVPRPVSQARP\\nPPNQKKGSRT...  \n",
      "\n",
      "[24508 rows x 9 columns]\n",
      "3.357504367828369\n",
      "24508\n"
     ]
    }
   ],
   "source": [
    "df1=pd.read_csv('data/All_sapiens_IDRs_1_20000_ALBATROSS.csv')\n",
    "df2=pd.read_csv('data/All_sapiens_IDRs_20001_24508_ALBATROSS.csv')\n",
    "\n",
    "albatrossdf=pd.concat([df1,df2],axis=0)\n",
    "print(albatrossdf)\n",
    "\n",
    "albuni=albatrossdf['fasta_header'].tolist()\n",
    "albrg=albatrossdf['radius_of_gyration'].tolist()\n",
    "alblen=albatrossdf['lengths'].tolist()\n",
    "albscalexp=albatrossdf['scaling_exponent'].tolist()\n",
    "\n",
    "fullalbatrossNormRg=[]\n",
    "fullscalexp=[]\n",
    "for i in range(0,len(fullaccswnums)):\n",
    "    idx=albuni.index(fullaccswnums[i])\n",
    "    fullalbatrossNormRg.append(albrg[idx]/np.sqrt(alblen[idx]))\n",
    "    fullscalexp.append(albscalexp[idx])\n",
    "    \n",
    "print(fullalbatrossNormRg[0])\n",
    "print(len(fullalbatrossNormRg))"
   ]
  },
  {
   "cell_type": "markdown",
   "metadata": {},
   "source": [
    "## 1.3 - Create data for boxplot"
   ]
  },
  {
   "cell_type": "code",
   "execution_count": 8,
   "metadata": {},
   "outputs": [
    {
     "name": "stdout",
     "output_type": "stream",
     "text": [
      "8560\n"
     ]
    }
   ],
   "source": [
    "clusterRgdf=pd.DataFrame()\n",
    "clusterRgdf['Gene']=fullgeneswnums\n",
    "clusterRgdf['Uniprot w IDRnum']=fullaccswnums\n",
    "clusterRgdf['Cluster Num']=fullclusternum\n",
    "clusterRgdf['Normalized Rg']=fullalbatrossNormRg\n",
    "clusterRgdf['Scaling exponent']=fullscalexp\n",
    "clusterRgdf['IDR Length']=fullseqlens\n",
    "clusterRgdf['IDR Position']=fulltermini\n",
    "clusterRgdf['Min Inter Clust Dist']=fullmininterclustdist\n",
    "\n",
    "# For all IDRs\n",
    "#minidrlength=0\n",
    "#minidrlinkerlength=0\n",
    "#mininterclustdist=0\n",
    "\n",
    "# For well-mapped IDRs >= 50 or linker >=70\n",
    "minidrlength=50\n",
    "minidrlinkerlength=70\n",
    "mininterclustdist=1.5\n",
    "\n",
    "clusterRgdf=clusterRgdf[clusterRgdf['IDR Length']>=minidrlength]\n",
    "clusterRgdf=clusterRgdf[ (clusterRgdf['IDR Length']>=minidrlinkerlength) | (clusterRgdf['IDR Position'].isin(['IDR','N-terminal IDR','C-terminal IDR'])) ]\n",
    "clusterRgdf=clusterRgdf[clusterRgdf['Min Inter Clust Dist']>=mininterclustdist]\n",
    "print(len(clusterRgdf))"
   ]
  },
  {
   "cell_type": "code",
   "execution_count": 9,
   "metadata": {},
   "outputs": [
    {
     "data": {
      "text/plain": [
       "Text(0.5, 0, 'GIN Cluster Number')"
      ]
     },
     "execution_count": 9,
     "metadata": {},
     "output_type": "execute_result"
    },
    {
     "data": {
      "image/png": "[encoded data removed]",
      "text/plain": [
       "<Figure size 648x360 with 1 Axes>"
      ]
     },
     "metadata": {
      "needs_background": "light"
     },
     "output_type": "display_data"
    }
   ],
   "source": [
    "colorhex=['#d865a6','#7c2880','#e23a36','#e23a36','#e23a36','#231f20','#1f8241','#e23a36','#e23a36','#231f20','#189bd7','#1f8241','#231f20','#e23a36','#189bd7','#1f8241','#1f8241','#189bd7','#231f20','#e23a36','#8c8c8c','#7c2880','#d865a6','#231f20','#e23a36','#189bd7','#189bd7','#7c2880','#f58220','#189bd7']\n",
    "\n",
    "grouped = clusterRgdf.loc[:,['Cluster Num', 'Normalized Rg']] \\\n",
    "    .groupby(['Cluster Num']) \\\n",
    "    .median() \\\n",
    "    .sort_values(by='Normalized Rg',ascending=True)\n",
    "\n",
    "mypalette=[]\n",
    "for i in range(0,len(grouped.index)):\n",
    "    mypalette.append(colorhex[grouped.index[i]])\n",
    "\n",
    "plt.figure(figsize=(9,5))\n",
    "plt.plot([-0.5,30+0.5],[2.5,2.5],'--k')\n",
    "sbn.boxplot(data=clusterRgdf,x='Cluster Num',y='Normalized Rg', order=grouped.index, palette=mypalette)\n",
    "\n",
    "plt.title('ALBATROSS Prediction',fontsize=20)\n",
    "plt.ylabel('Rg/sqrt(N)',fontsize=20)\n",
    "plt.xlabel('GIN Cluster Number',fontsize=20)"
   ]
  },
  {
   "cell_type": "code",
   "execution_count": 10,
   "metadata": {},
   "outputs": [
    {
     "data": {
      "text/plain": [
       "Text(0.5, 0, 'GIN Cluster Number')"
      ]
     },
     "execution_count": 10,
     "metadata": {},
     "output_type": "execute_result"
    },
    {
     "data": {
      "image/png": "[encoded data removed]",
      "text/plain": [
       "<Figure size 648x360 with 1 Axes>"
      ]
     },
     "metadata": {
      "needs_background": "light"
     },
     "output_type": "display_data"
    }
   ],
   "source": [
    "colorhex=['#d865a6','#7c2880','#e23a36','#e23a36','#e23a36','#231f20','#1f8241','#e23a36','#e23a36','#231f20','#189bd7','#1f8241','#231f20','#e23a36','#189bd7','#1f8241','#1f8241','#189bd7','#231f20','#e23a36','#8c8c8c','#7c2880','#d865a6','#231f20','#e23a36','#189bd7','#189bd7','#7c2880','#f58220','#189bd7']\n",
    "\n",
    "grouped = clusterRgdf.loc[:,['Cluster Num', 'Scaling exponent']] \\\n",
    "    .groupby(['Cluster Num']) \\\n",
    "    .median() \\\n",
    "    .sort_values(by='Scaling exponent',ascending=True)\n",
    "\n",
    "mypalette=[]\n",
    "for i in range(0,len(grouped.index)):\n",
    "    mypalette.append(colorhex[grouped.index[i]])\n",
    "\n",
    "plt.figure(figsize=(9,5))\n",
    "plt.plot([-0.5,30+0.5],[0.5,0.5],'--k')\n",
    "sbn.boxplot(data=clusterRgdf,x='Cluster Num',y='Scaling exponent', order=grouped.index, palette=mypalette)\n",
    "\n",
    "plt.title('ALBATROSS Prediction',fontsize=20)\n",
    "plt.ylabel('Scaling Exponent',fontsize=20)\n",
    "plt.xlabel('GIN Cluster Number',fontsize=20)\n",
    "\n",
    "#plt.savefig('Figures/2024_02/ALBATROSS_scaling_exponent_by_cluster_human_gte_'+str(minidrlinkerlength)+'_and_nonlinkers_gte_'+str(minidrlength)+'_idrs_dist_gte_'+str(mininterclustdist)+'.pdf', transparent=True, bbox_inches = \"tight\") \n"
   ]
  },
  {
   "cell_type": "code",
   "execution_count": 12,
   "metadata": {},
   "outputs": [
    {
     "name": "stdout",
     "output_type": "stream",
     "text": [
      "                 Gene Uniprot w IDRnum  Cluster Num  Normalized Rg  \\\n",
      "0      KRTAP4-16 IDR1         G5E9R7_1           27       3.357504   \n",
      "1          TULP4 IDR1         Q9NRJ4_1           17       3.309333   \n",
      "2          TULP4 IDR2         Q9NRJ4_2            1       2.915738   \n",
      "3          TULP4 IDR3         Q9NRJ4_3           27       3.451500   \n",
      "4          TULP4 IDR4         Q9NRJ4_4           27       3.021464   \n",
      "...               ...              ...          ...            ...   \n",
      "24503     YTHDF3 IDR2         Q7Z739_2           11       3.300189   \n",
      "24504     LONRF1 IDR1         Q17RB8_1           29       2.750226   \n",
      "24505     LONRF1 IDR2         Q17RB8_2           24       3.005588   \n",
      "24506      CDC73 IDR1         Q6P1J9_1           17       2.924680   \n",
      "24507      CDC73 IDR2         Q6P1J9_2           17       3.144996   \n",
      "\n",
      "       Scaling exponent  IDR Length    IDR Position  Min Inter Clust Dist  \n",
      "0              0.573448          53  C-terminal IDR              8.592811  \n",
      "1              0.597782          50      Linker IDR             14.569964  \n",
      "2              0.570681          43      Linker IDR              4.777867  \n",
      "3              0.587838          34      Linker IDR              0.753103  \n",
      "4              0.592739          36      Linker IDR              3.491170  \n",
      "...                 ...         ...             ...                   ...  \n",
      "24503          0.533514         163      Linker IDR             21.489673  \n",
      "24504          0.582798          31  N-terminal IDR              9.140638  \n",
      "24505          0.568999          53      Linker IDR              2.253672  \n",
      "24506          0.559632          43      Linker IDR              4.035674  \n",
      "24507          0.561657          42      Linker IDR              2.159379  \n",
      "\n",
      "[24508 rows x 8 columns]\n"
     ]
    }
   ],
   "source": [
    "print(clusterRgdf)\n",
    "\n",
    "#clusterRgdf.to_excel('all_human_IDRome_w_ALBATROSS_predictions.xlsx')"
   ]
  },
  {
   "cell_type": "code",
   "execution_count": 36,
   "metadata": {},
   "outputs": [
    {
     "name": "stdout",
     "output_type": "stream",
     "text": [
      "<bound method NDFrame._add_numeric_operations.<locals>.var of              Scaling exponent\n",
      "Cluster Num                  \n",
      "15                   0.000199\n",
      "22                   0.000208\n",
      "20                   0.000288\n",
      "24                   0.000338\n",
      "25                   0.000357\n",
      "17                   0.000380\n",
      "6                    0.000382\n",
      "27                   0.000386\n",
      "29                   0.000392\n",
      "4                    0.000413\n",
      "16                   0.000456\n",
      "21                   0.000472\n",
      "3                    0.000484\n",
      "10                   0.000543\n",
      "14                   0.000546\n",
      "1                    0.000558\n",
      "13                   0.000560\n",
      "19                   0.000565\n",
      "8                    0.000573\n",
      "9                    0.000610\n",
      "0                    0.000665\n",
      "2                    0.000755\n",
      "12                   0.000797\n",
      "23                   0.000883\n",
      "5                    0.001173\n",
      "7                    0.001190\n",
      "26                   0.001463\n",
      "28                   0.001531\n",
      "11                   0.002037\n",
      "18                   0.002163>\n"
     ]
    }
   ],
   "source": [
    "print(grouped.var)"
   ]
  },
  {
   "cell_type": "code",
   "execution_count": null,
   "metadata": {},
   "outputs": [],
   "source": []
  },
  {
   "cell_type": "code",
   "execution_count": null,
   "metadata": {},
   "outputs": [],
   "source": []
  },
  {
   "cell_type": "code",
   "execution_count": null,
   "metadata": {},
   "outputs": [],
   "source": []
  },
  {
   "cell_type": "code",
   "execution_count": null,
   "metadata": {},
   "outputs": [],
   "source": []
  },
  {
   "cell_type": "code",
   "execution_count": null,
   "metadata": {},
   "outputs": [],
   "source": []
  }
 ],
 "metadata": {
  "kernelspec": {
   "display_name": "Python 3",
   "language": "python",
   "name": "python3"
  },
  "language_info": {
   "codemirror_mode": {
    "name": "ipython",
    "version": 3
   },
   "file_extension": ".py",
   "mimetype": "text/x-python",
   "name": "python",
   "nbconvert_exporter": "python",
   "pygments_lexer": "ipython3",
   "version": "3.7.7"
  }
 },
 "nbformat": 4,
 "nbformat_minor": 4
}
