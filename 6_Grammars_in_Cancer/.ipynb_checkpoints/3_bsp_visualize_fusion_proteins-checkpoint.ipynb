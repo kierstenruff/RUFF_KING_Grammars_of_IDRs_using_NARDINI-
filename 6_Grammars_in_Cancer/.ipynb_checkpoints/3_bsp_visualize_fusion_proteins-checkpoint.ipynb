{
 "cells": [
  {
   "cell_type": "markdown",
   "metadata": {},
   "source": [
    "# Part 0: Load in libraries"
   ]
  },
  {
   "cell_type": "code",
   "execution_count": 1,
   "metadata": {},
   "outputs": [
    {
     "name": "stdout",
     "output_type": "stream",
     "text": [
      "/home/research/kiersten.ruff/fonts/ARIAL.TTF\n"
     ]
    }
   ],
   "source": [
    "import numpy as np\n",
    "import pandas as pd\n",
    "import seaborn as sbn\n",
    "import matplotlib as mpl\n",
    "import matplotlib.pyplot as plt\n",
    "from matplotlib import cm\n",
    "import localcider\n",
    "from localcider.sequenceParameters import SequenceParameters\n",
    "import re\n",
    "import math\n",
    "import scipy\n",
    "from scipy.stats import ks_2samp\n",
    "from matplotlib.patches import Rectangle\n",
    "import pathlib\n",
    "from matplotlib import font_manager\n",
    "from scipy.stats import fisher_exact\n",
    "\n",
    "\n",
    "# Setup the fonts\n",
    "fonts_path = pathlib.Path.home().joinpath('fonts') # i.e. `~/fonts` (update as needed)\n",
    "font_filename = 'ARIAL.TTF'\n",
    "font_path = fonts_path.joinpath(font_filename)\n",
    "print(font_path)\n",
    "\n",
    "font_manager.fontManager.addfont(str(font_path))\n",
    "prop = font_manager.FontProperties(fname=font_path)\n",
    "\n",
    "plt.rcParams['font.family'] = 'sans-serif'\n",
    "plt.rcParams['font.sans-serif'] = prop.get_name()\n",
    "plt.rcParams['pdf.fonttype'] = 42 # Makes text editiable\n",
    "plt.rcParams['ps.fonttype'] = 42\n",
    "\n",
    "COLOR_MAP = dict()\n",
    "COLOR_MAP['A']         = '#8c8c8c'\n",
    "COLOR_MAP['CHNQST']    = '#077a15'\n",
    "COLOR_MAP['DE']        = '#e23a36'\n",
    "COLOR_MAP['FWY']       = '#f58220'\n",
    "COLOR_MAP['G']         = '#86bd8d'\n",
    "COLOR_MAP['ILMV']      = '#231f20'\n",
    "COLOR_MAP['KR']        = '#1725c2'\n",
    "COLOR_MAP['P']         = '#c25fc9'\n",
    "\n",
    "\n",
    "# Using the global color map, we convert the colormap of amino acid\n",
    "# groups, to a map against individual amino acids. This\n",
    "# serves as our internal color map which is used for styling.\n",
    "aacolor_map=dict()\n",
    "for amino_acids in COLOR_MAP:\n",
    "    for amino_acid in amino_acids:\n",
    "        aacolor_map[amino_acid] = COLOR_MAP[amino_acids]"
   ]
  },
  {
   "cell_type": "code",
   "execution_count": null,
   "metadata": {},
   "outputs": [],
   "source": []
  },
  {
   "cell_type": "markdown",
   "metadata": {},
   "source": [
    "# Part 1: UBTF"
   ]
  },
  {
   "cell_type": "markdown",
   "metadata": {},
   "source": [
    "## 1.1 - UBTF WT"
   ]
  },
  {
   "cell_type": "code",
   "execution_count": 2,
   "metadata": {},
   "outputs": [
    {
     "data": {
      "text/plain": [
       "Text(0.5, 1.0, 'UBTF')"
      ]
     },
     "execution_count": 2,
     "metadata": {},
     "output_type": "execute_result"
    },
    {
     "data": {
      "image/png": "[encoded data removed]",
      "text/plain": [
       "<Figure size 550.08x108 with 1 Axes>"
      ]
     },
     "metadata": {
      "needs_background": "light"
     },
     "output_type": "display_data"
    }
   ],
   "source": [
    "ubtffullseq='MNGEADCPTDLEMAAPKGQDRWSQEDMLTLLECMKNNLPSNDSSKFKTTESHMDWEKVAFKDFSGDMCKLKWVEISNEVRKFRTLTELILDAQEHVKNPYKGKKLKKHPDFPKKPLTPYFRFFMEKRAKYAKLHPEMSNLDLTKILSKKYKELPEKKKMKYIQDFQREKQEFERNLARFREDHPDLIQNAKKSDIPEKPKTPQQLWYTHEKKVYLKVRPDATTKEVKDSLGKQWSQLSDKKRLKWIHKALEQRKEYEEIMRDYIQKHPELNISEEGITKSTLTKAERQLKDKFDGRPTKPPPNSYSLYCAELMANMKDVPSTERMVLCSQQWKLLSQKEKDAYHKKCDQKKKDYEVELLRFLESLPEEEQQRVLGEEKMLNINKKQATSPASKKPAQEGGKGGSEKPKRPVSAMFIFSEEKRRQLQEERPELSESELTRLLARMWNDLSEKKKAKYKAREAALKAQSERKPGGEREERGKLPESPKRAEEIWQQSVIGDYLARFKNDRVKALKAMEMTWNNMEKKEKLMWIKKAAEDQKRYERELSEMRAPPAATNSSKKMKFQGEPKKPPMNGYQKFSQELLSNGELNHLPLKERMVEIGSRWQRISQSQKEHYKKLAEEQQKQYKVHLDLWVKSLSPQDRAAYKEYISNKRKSMTKLRGPNPKSSRTTLQSKSESEEDDEEDEDDEDEDEEEEDDENGDSSEDGGDSSESSSEDESEDGDENEEDDEDEDDDEDDDEDEDNESEGSSSSSSSSGDSSDSDSN'\n",
    "\n",
    "hmgpos=[[112,180],[196,264],[298,362],[407,475],[482,549],[568,634]]\n",
    "#idrpos=[[376,417],[451,490],[541,581],[634,764]]\n",
    "idrpos=[634,764]\n",
    "\n",
    "\n",
    "#myaa=['ED','K']\n",
    "myaa=['EDK']\n",
    "\n",
    "myaalist='_'\n",
    "for a in range(0,len(myaa)):\n",
    "    subaa=myaa[a]\n",
    "    for i in range(0,len(subaa)):\n",
    "        myaalist=myaalist+subaa[i]+'_'\n",
    "\n",
    "shift=0.03\n",
    "\n",
    "currseq=ubtffullseq\n",
    "\n",
    "## define Matplotlib figure and axis\n",
    "fig, ax = plt.subplots()\n",
    "fig.set_size_inches(len(currseq)*0.01,1+len(myaa)/2) # may need to change 0.05 to something smaller if using long IDRs\n",
    "\n",
    "## Plot particular amino acids\n",
    "for a in range(0,len(myaa)):\n",
    "\n",
    "    #tmp=0\n",
    "    tmp=a\n",
    "\n",
    "    #ax.plot([0, len(currseq)+1],[tmp+1, tmp+1.8],color='grey')\n",
    "\n",
    "    #add rectangle to plot for length of full sequence\n",
    "    ax.add_patch(Rectangle((0, tmp+1), len(currseq), 0.8, edgecolor = 'black', facecolor='#dddddd'))\n",
    "    \n",
    "    # Add domains\n",
    "    for i in range(0,len(hmgpos)):\n",
    "        ax.add_patch(Rectangle((hmgpos[i][0]-1, tmp+1-0.1), hmgpos[i][1]-hmgpos[i][0], 0.8+2*0.1, edgecolor = 'black', facecolor='#1f8241'))\n",
    "\n",
    "    # Add IDR features\n",
    "    posaa=[i for i, ltr in enumerate(currseq) if ltr in myaa[a]]\n",
    "    for i in posaa:\n",
    "        if i>=idrpos[0]-1:\n",
    "            ax.add_patch(Rectangle((i, tmp+1+shift), 1, 0.8-2*shift, color=aacolor_map[currseq[i]]))\n",
    "\n",
    "\n",
    "ax.set_xlim([-5, len(currseq)+5])\n",
    "ax.set_ylim([0.5, tmp+2])\n",
    "plt.yticks(np.arange(1+0.4,len(myaa)+1,1),myaa)\n",
    "ax.spines[['left','right', 'top']].set_visible(False)\n",
    "plt.title('UBTF')\n",
    "\n",
    "#whichsequnderscore=subgenes[whichseqpos].replace(\": \", \"_\")\n",
    "#plt.savefig('exceptional_grammar_top_genes/figures/exceptional_grammar_specific_proteins/UBTF.pdf', transparent=True, bbox_inches = \"tight\")\n"
   ]
  },
  {
   "cell_type": "markdown",
   "metadata": {},
   "source": [
    "## 1.2 - UBTF-ATXNL3"
   ]
  },
  {
   "cell_type": "code",
   "execution_count": 4,
   "metadata": {},
   "outputs": [
    {
     "data": {
      "text/plain": [
       "Text(0.5, 1.0, 'UBTF::ATXN7L3')"
      ]
     },
     "execution_count": 4,
     "metadata": {},
     "output_type": "execute_result"
    },
    {
     "data": {
      "image/png": "[encoded data removed]",
      "text/plain": [
       "<Figure size 705.6x108 with 1 Axes>"
      ]
     },
     "metadata": {
      "needs_background": "light"
     },
     "output_type": "display_data"
    }
   ],
   "source": [
    "ubtfNterm='MNGEADCPTDLEMAAPKGQDRWSQEDMLTLLECMKNNLPSNDSSKFKTTESHMDWEKVAFKDFSGDMCKLKWVEISNEVRKFRTLTELILDAQEHVKNPYKGKKLKKHPDFPKKPLTPYFRFFMEKRAKYAKLHPEMSNLDLTKILSKKYKELPEKKKMKYIQDFQREKQEFERNLARFREDHPDLIQNAKKSDIPEKPKTPQQLWYTHEKKVYLKVRPDATTKEVKDSLGKQWSQLSDKKRLKWIHKALEQRKEYEEIMRDYIQKHPELNISEEGITKSTLTKAERQLKDKFDGRPTKPPPNSYSLYCAELMANMKDVPSTERMVLCSQQWKLLSQKEKDAYHKKCDQKKKDYEVELLRFLESLPEEEQQRVLGEEKMLNINKKQATSPASKKPAQEGGKGGSEKPKRPVSAMFIFSEEKRRQLQEERPELSESELTRLLARMWNDLSEKKKAKYKAREAALKAQSERKPGGEREERGKLPESPKRAEEIWQQSVIGDYLARFKNDRVKALKAMEMTWNNMEKKEKLMWIKKAAEDQKRYERELSEMRAPPAATNSSKKMKFQGEPKKPPMNGYQKFSQELLSNGELNHLPLKERMVEIGSRWQRISQSQKEHYKKLAEEQQKQYKVHLDLW'\n",
    "atxn7l3='MKMEEMSLSGLDNSKLEAIAQEIYADLVEDSCLGFCFEVHRAVKCGYFFLDDTDPDSMKDFEIVDQPGLDIFGQVFNQWKSKECVCPNCSRSIAASRFAPHLEKCLGMGRNSSRIANRRIANSNNMNKSESDQEDNDDINDNDWSYGSEKKAKKRKSDKNPNSPRRSKSLKHKNGELSNSDPFKYNNSTGISYETLGPEELRSLLTTQCGVISEHTKKMCTRSLRCPQHTDEQRRTVRIYFLGPSAVLPEVESSLDNDSFDMTDSQALISRLQWDGSSDLSPSDSGSSKTSENQGWGLGTNSSESRKTKKKKSHLSLVGTASGLGSNKKKKPKPPAPPTPSIYDDIN'\n",
    "ubtfatxn7l3fullseq=ubtfNterm+atxn7l3\n",
    "\n",
    "sca7=[[196+len(ubtfNterm),263+len(ubtfNterm)]]\n",
    "atxn7l3idr1=[106+len(ubtfNterm),192+len(ubtfNterm)]\n",
    "atxn7l3idr2=[273+len(ubtfNterm),347+len(ubtfNterm)]\n",
    "\n",
    "\n",
    "#myaa=['ED','K']\n",
    "myaa=['EDK']\n",
    "#myaa=['EDKN']\n",
    "#myaa=['EDKSNQ']\n",
    "\n",
    "myaalist='_'\n",
    "for a in range(0,len(myaa)):\n",
    "    subaa=myaa[a]\n",
    "    for i in range(0,len(subaa)):\n",
    "        myaalist=myaalist+subaa[i]+'_'\n",
    "\n",
    "shift=0.03\n",
    "\n",
    "currseq=ubtfatxn7l3fullseq\n",
    "\n",
    "## define Matplotlib figure and axis\n",
    "fig, ax = plt.subplots()\n",
    "fig.set_size_inches(len(currseq)*0.01,1+len(myaa)/2) # may need to change 0.05 to something smaller if using long IDRs\n",
    "\n",
    "## Plot particular amino acids\n",
    "for a in range(0,len(myaa)):\n",
    "\n",
    "    #tmp=0\n",
    "    tmp=a\n",
    "\n",
    "    #ax.plot([0, len(currseq)+1],[tmp+1, tmp+1.8],color='grey')\n",
    "\n",
    "    #add rectangle to plot for length of full sequence\n",
    "    ax.add_patch(Rectangle((0, tmp+1), len(currseq), 0.8, edgecolor = 'black', facecolor='#dddddd'))\n",
    "    \n",
    "    # Add UBTF domains\n",
    "    for i in range(0,len(hmgpos)):\n",
    "        ax.add_patch(Rectangle((hmgpos[i][0]-1, tmp+1-0.1), hmgpos[i][1]-hmgpos[i][0], 0.8+2*0.1, edgecolor = 'black', facecolor='#1f8241'))\n",
    "\n",
    "    \n",
    "    # Add ATXN7L3 domains\n",
    "    for i in range(0,len(sca7)):\n",
    "        ax.add_patch(Rectangle((sca7[i][0]-1, tmp+1-0.1), sca7[i][1]-sca7[i][0], 0.8+2*0.1, edgecolor = 'black', facecolor='#7c297e'))\n",
    "\n",
    "    # Add IDR features\n",
    "    posaa=[i for i, ltr in enumerate(currseq) if ltr in myaa[a]]\n",
    "    for i in posaa:\n",
    "        if i>=atxn7l3idr2[0]-1 and i <=atxn7l3idr2[1]:\n",
    "            ax.add_patch(Rectangle((i, tmp+1+shift), 1, 0.8-2*shift, color=aacolor_map[currseq[i]]))\n",
    "        elif i>=atxn7l3idr1[0]-1 and i <=atxn7l3idr1[1]:\n",
    "            ax.add_patch(Rectangle((i, tmp+1+shift), 1, 0.8-2*shift, color=aacolor_map[currseq[i]]))\n",
    "\n",
    "\n",
    "ax.set_xlim([-5, len(currseq)+5])\n",
    "ax.set_ylim([0.5, tmp+2])\n",
    "plt.yticks(np.arange(1+0.4,len(myaa)+1,1),myaa)\n",
    "ax.spines[['left','right', 'top']].set_visible(False)\n",
    "plt.title('UBTF::ATXN7L3')\n",
    "\n",
    "#whichsequnderscore=subgenes[whichseqpos].replace(\": \", \"_\")\n",
    "#plt.savefig('exceptional_grammar_top_genes/figures/exceptional_grammar_specific_proteins/UBTF::ATXN7L3.pdf', transparent=True, bbox_inches = \"tight\")\n"
   ]
  },
  {
   "cell_type": "markdown",
   "metadata": {},
   "source": [
    "## 1.3 - UBTF-MAML3"
   ]
  },
  {
   "cell_type": "code",
   "execution_count": 5,
   "metadata": {},
   "outputs": [
    {
     "data": {
      "text/plain": [
       "Text(0.5, 1.0, 'UBTF::MAML3')"
      ]
     },
     "execution_count": 5,
     "metadata": {},
     "output_type": "execute_result"
    },
    {
     "data": {
      "image/png": "[encoded data removed]",
      "text/plain": [
       "<Figure size 1167.84x108 with 1 Axes>"
      ]
     },
     "metadata": {
      "needs_background": "light"
     },
     "output_type": "display_data"
    }
   ],
   "source": [
    "## maml3cterm - starts 157-1138\n",
    "ubtfNterm='MDSWRMNGEADCPTDLEMAAPKGQDRWSQEDMLTLLECMKNNLPSNDSSKFKTTESHMDWEKVAFKDFSGDMCKLKWVEISNEVRKFRTLTELILDAQEHVKNPYKGKKLKKHPDFPKKPLTPYFRFFMEKRAKYAKLHPEMSNLDLTKILSKKYKELPEKKKMKYIQDFQREKQEFERNLARFREDHPDLIQNAKKSDIPEKPKTPQQLWYTHEKKVYLKVRPDATTKEVKDSLGKQWSQLSDKKRLKWIHKALEQRKEYEEIMRDYIQKHPELNISEEGITKSTLTKAERQLKDKFDGRPTKPPPNSYSLYCAELMANMKDVPSTERMVLCSQQWKLLSQKEKDAYHKKCDQKKKDYEVELLRFLESLPEEEQQRVLGEEKMLNINKKQATSPASKKPAQEGGKGGSEKPKRPVSAMFIFSEEKRRQLQEERPELSESELTRLLARMWNDLSEKKKAKYKAREAALKAQSERKPGGEREERGKLPESPKRAEEIWQQSVIGDYLARFKNDRVKALKAMEMTWNNMEKKEKLMWIKKAAEDQKRYERELSEMRAPPAATNSSKKMKFQGEPKKPPMNGYQKFSQELLSNGELNHLPLKERMVEIGSRWQRISQSQKEHYKKLAEEQQKQYKVHLDLWVK'\n",
    "maml3Cterm='LQETVKRKLEGARSPLNGDQQNGACDGNFSPTSKRIRKDISAGMEAINNLPSNMPLPSASPLHQLDLKPSLPLQNSGTHTPGLLEDLSKNGRLPEIKLPVNGCSDLEDSFTILQSKDLKQEPLDDPTCIDTSETSLSNQNKLFSDINLNDQEWQELIDELANTVPEDDIQDLFNEDFEEKKEPEFSQPATETPLSQESASVKSDPSHSPFAHVSMGSPQARPSSSGPPFSTVSTATSLPSVASTPAAPNPASSPANCAVQSPQTPNQAHTPGQAPPRPGNGYLLNPAAVTVAGSASGPVAVPSSDMSPAEQLKQMAAQQQQRAKLMQQKQQQQQQQQQQQQQQQQQQQQQQQQQHSNQTSNWSPLGPPSSPYGAAFTAEKPNSPMMYPQAFNNQNPIVPPMANNLQKTTMNNYLPQNHMNMINQQPNNLGTNSLNKQHNILTYGNTKPLTHFNADLSQRMTPPVANPNKNPLMPYIQQQQQQQQQQQQQQQQQQPPPPQLQAPRAHLSEDQKRLLLMKQKGVMNQPMAYAALPSHGQEQHPVGLPRTTGPMQSSVPPGSGGMVSGASPAGPGFLGSQPQAAIMKQMLIDQRAQLIEQQKQQFLREQRQQQQQQQQQILAEQQLQQSHLPRQHLQPQRNPYPVQQVNQFQGSPQDIAAVRSQAALQSMRTSRLMAQNAGMMGIGPSQNPGTMATAAAQSEMGLAPYSTTPTSQPGMYNMSTGMTQMLQHPNQSGMSITHNQAQGPRQPASGQGVGMVSGFGQSMLVNSAITQQHPQMKGPVGQALPRPQAPPRLQSLMGTVQQGAQSWQQRSLQGMPGRTSGELGPFNNGASYPLQAGQPRLTKQHFPQGLSQSVVDANTGTVRTLNPAAMGRQMMPSLPGQQGTSQARPMVMSGLSQGVPGMPAFSQPPAQQQIPSGSFAPSSQSQAYERNAPQDVSYNYSGDGAGGSFPGLPDGADLVDSIIKGGPGDEWMQELDELFGNP'\n",
    "ubtfmaml3fullseq=ubtfNterm+maml3Cterm\n",
    "\n",
    "maml3idr1=[1+len(ubtfNterm),len(maml3Cterm)+len(ubtfNterm)]\n",
    "hmgpos2=[[115,183],[199,267],[301,365],[410,478],[485,552],[571,637]]\n",
    "\n",
    "#myaa=['ED','K']\n",
    "myaa=['Q']\n",
    "\n",
    "myaalist='_'\n",
    "for a in range(0,len(myaa)):\n",
    "    subaa=myaa[a]\n",
    "    for i in range(0,len(subaa)):\n",
    "        myaalist=myaalist+subaa[i]+'_'\n",
    "\n",
    "shift=0.03\n",
    "\n",
    "currseq=ubtfmaml3fullseq\n",
    "\n",
    "## define Matplotlib figure and axis\n",
    "fig, ax = plt.subplots()\n",
    "fig.set_size_inches(len(currseq)*0.01,1+len(myaa)/2) # may need to change 0.05 to something smaller if using long IDRs\n",
    "\n",
    "## Plot particular amino acids\n",
    "for a in range(0,len(myaa)):\n",
    "\n",
    "    #tmp=0\n",
    "    tmp=a\n",
    "\n",
    "    #ax.plot([0, len(currseq)+1],[tmp+1, tmp+1.8],color='grey')\n",
    "\n",
    "    #add rectangle to plot for length of full sequence\n",
    "    ax.add_patch(Rectangle((0, tmp+1), len(currseq), 0.8, edgecolor = 'black', facecolor='#dddddd'))\n",
    "    \n",
    "    # Add UBTF domains\n",
    "    for i in range(0,len(hmgpos2)):\n",
    "        ax.add_patch(Rectangle((hmgpos2[i][0]-1, tmp+1-0.1), hmgpos2[i][1]-hmgpos2[i][0], 0.8+2*0.1, edgecolor = 'black', facecolor='#1f8241'))\n",
    "\n",
    "    \n",
    "    # Add IDR features\n",
    "    posaa=[i for i, ltr in enumerate(currseq) if ltr in myaa[a]]\n",
    "    for i in posaa:\n",
    "        if i>=maml3idr1[0]-1 and i <=maml3idr1[1]:\n",
    "            ax.add_patch(Rectangle((i, tmp+1+shift), 1, 0.8-2*shift, color=aacolor_map[currseq[i]]))\n",
    "\n",
    "\n",
    "ax.set_xlim([-5, len(currseq)+5])\n",
    "ax.set_ylim([0.5, tmp+2])\n",
    "plt.yticks(np.arange(1+0.4,len(myaa)+1,1),myaa)\n",
    "ax.spines[['left','right', 'top']].set_visible(False)\n",
    "plt.title('UBTF::MAML3')\n",
    "\n",
    "#whichsequnderscore=subgenes[whichseqpos].replace(\": \", \"_\")\n",
    "#plt.savefig('exceptional_grammar_top_genes/figures/exceptional_grammar_specific_proteins/UBTF::MAML3_Tripathi.pdf', transparent=True, bbox_inches = \"tight\")\n"
   ]
  },
  {
   "cell_type": "code",
   "execution_count": null,
   "metadata": {},
   "outputs": [],
   "source": []
  },
  {
   "cell_type": "markdown",
   "metadata": {},
   "source": [
    "# Part 2: CREBBP"
   ]
  },
  {
   "cell_type": "markdown",
   "metadata": {},
   "source": [
    "## Part 2.1 - Load in IDR seqs, mutations, and visualize data"
   ]
  },
  {
   "cell_type": "code",
   "execution_count": 2,
   "metadata": {},
   "outputs": [],
   "source": [
    "crebbpfullseq='MAENLLDGPPNPKRAKLSSPGFSANDSTDFGSLFDLENDLPDELIPNGGELGLLNSGNLVPDAASKHKQLSELLRGGSGSSINPGIGNVSASSPVQQGLGGQAQGQPNSANMASLSAMGKSPLSQGDSSAPSLPKQAASTSGPTPAASQALNPQAQKQVGLATSSPATSQTGPGICMNANFNQTHPGLLNSNSGHSLINQASQGQAQVMNGSLGAAGRGRGAGMPYPTPAMQGASSSVLAETLTQVSPQMTGHAGLNTAQAGGMAKMGITGNTSPFGQPFSQAGGQPMGATGVNPQLASKQSMVNSLPTFPTDIKNTSVTNVPNMSQMQTSVGIVPTQAIATGPTADPEKRKLIQQQLVLLLHAHKCQRREQANGEVRACSLPHCRTMKNVLNHMTHCQAGKACQVAHCASSRQIISHWKNCTRHDCPVCLPLKNASDKRNQQTILGSPASGIQNTIGSVGTGQQNATSLSNPNPIDPSSMQRAYAALGLPYMNQPQTQLQPQVPGQQPAQPQTHQQMRTLNPLGNNPMNIPAGGITTDQQPPNLISESALPTSLGATNPLMNDGSNSGNIGTLSTIPTAAPPSSTGVRKGWHEHVTQDLRSHLVHKLVQAIFPTPDPAALKDRRMENLVAYAKKVEGDMYESANSRDEYYHLLAEKIYKIQKELEEKRRSRLHKQGILGNQPALPAPGAQPPVIPQAQPVRPPNGPLSLPVNRMQVSQGMNSFNPMSLGNVQLPQAPMGPRAASPMNHSVQMNSMGSVPGMAISPSRMPQPPNMMGAHTNNMMAQAPAQSQFLPQNQFPSSSGAMSVGMGQPPAQTGVSQGQVPGAALPNPLNMLGPQASQLPCPPVTQSPLHPTPPPASTAAGMPSLQHTTPPGMTPPQPAAPTQPSTPVSSSGQTPTPTPGSVPSATQTQSTPTVQAAAQAQVTPQPQTPVQPPSVATPQSSQQQPTPVHAQPPGTPLSQAAASIDNRVPTPSSVASAETNSQQPGPDVPVLEMKTETQAEDTEPDPGESKGEPRSEMMEEDLQGASQVKEETDIAEQKSEPMEVDEKKPEVKVEVKEEEESSSNGTASQSTSPSQPRKKIFKPEELRQALMPTLEALYRQDPESLPFRQPVDPQLLGIPDYFDIVKNPMDLSTIKRKLDTGQYQEPWQYVDDVWLMFNNAWLYNRKTSRVYKFCSKLAEVFEQEIDPVMQSLGYCCGRKYEFSPQTLCCYGKQLCTIPRDAAYYSYQNRYHFCEKCFTEIQGENVTLGDDPSQPQTTISKDQFEKKKNDTLDPEPFVDCKECGRKMHQICVLHYDIIWPSGFVCDNCLKKTGRPRKENKFSAKRLQTTRLGNHLEDRVNKFLRRQNHPEAGEVFVRVVASSDKTVEVKPGMKSRFVDSGEMSESFPYRTKALFAFEEIDGVDVCFFGMHVQEYGSDCPPPNTRRVYISYLDSIHFFRPRCLRTAVYHEILIGYLEYVKKLGYVTGHIWACPPSEGDDYIFHCHPPDQKIPKPKRLQEWYKKMLDKAFAERIIHDYKDIFKQATEDRLTSAKELPYFEGDFWPNVLEESIKELEQEEEERKKEESTAASETTEGSQGDSKNAKKKNNKKTNKNKSSISRANKKKPSMPNVSNDLSQKLYATMEKHKEVFFVIHLHAGPVINTLPPIVDPDPLLSCDLMDGRDAFLTLARDKHWEFSSLRRSKWSTLCMLVELHTQGQDRFVYTCNECKHHVETRWHCTVCEDYDLCINCYNTKSHAHKMVKWGLGLDDEGSSQGEPQSKSPQESRRLSIQRCIQSLVHACQCRNANCSLPSCQKMKRVVQHTKGCKRKTNGGCPVCKQLIALCCYHAKHCQENKCPVPFCLNIKHKLRQQQIQHRLQQAQLMRRRMATMNTRNVPQQSLPSPTSAPPGTPTQQPSTPQTPQPPAQPQPSPVSMSPAGFPSVARTQPPTTVSTGKPTSQVPAPPPPAQPPPAAVEAARQIEREAQQQQHLYRVNINNSMPPGRTGMGTPGSQMAPVSLNVPRPNQVSGPVMPSMPPGQWQQAPLPQQQPMPGLPRPVISMQAQAAVAGPRMPSVQPPRSISPSALQDLLRTLKSPSSPQQQQQVLNILKSNPQLMAAFIKQRTAKYVANQPGMQPQPGLQSQPGMQPQPGMHQQPSLQNLNAMQAGVPRPGVPPQQQAMGGLNPQGQALNIMNPGHNPNMASMNPQYREMLRRQLLQQQQQQQQQQQQQQQQQQGSAGMAGGMAGHGQFQQPQGPGGYPPAMQQQQRMQQHLPLQGSSMGQMAAQMGQLGQMGQPGLGADSTPNIQQALQQRILQQQQMKQQIGSPGQPNPMSPQQHMLSGQPQASHLPGQQIATSLSNQVRSPAPVQSPRPQSQPPHSSPSPRIQPQPSPHHVSPQTGSPHPGLAVTMASSIDQGHLGNPEQSAMLPQLNTPSRSALSSELSLVGDTTGDTLEKFVEGL'\n",
    "crebbpidr9seq='VANQPGMQPQPGLQSQPGMQPQPGMHQQPSLQNLNAMQAGVPRPGVPPQQQAMGGLNPQGQALNIMNPGHNPNMASMNPQYREMLRRQLLQQQQQQQQQQQQQQQQQQGSAGMAGGMAGHGQFQQPQGPGGYPPAMQQQQRMQQHLPLQGSSMGQMAAQMGQLGQMGQPGLGADSTPNIQQALQQRILQQQQMKQQIGSPGQPNPMSPQQHMLSGQPQASHLPGQQIATSLSNQVRSPAPVQSPRPQSQPPHSSPSPRIQPQPSPHHVSPQTGSPHPGLAVTMASSIDQGHLGNPEQSAMLPQLNTPSRSALSSELSLVGDTTGDTLEKFVEGL'\n",
    "crebbpidr2210term='VANQPGMQPQPGLQSQPGMQPQPGMHQQPSLQNLNAMQAGVPRPGVPPQQQAMGGLNPQGQALNIMNPGHNPNMASMNPQYREMLRRQLLQQQQQQQQQQQ'\n",
    "\n",
    "idrpos=[2109, 2442]"
   ]
  },
  {
   "cell_type": "code",
   "execution_count": 3,
   "metadata": {},
   "outputs": [
    {
     "name": "stdout",
     "output_type": "stream",
     "text": [
      "2        Q2411Sfs*2\n",
      "5            G2398*\n",
      "7       H2384Tfs*12\n",
      "9       H2384Pfs*63\n",
      "13           Q2379*\n",
      "36      L2256Sfs*46\n",
      "43           Q2210*\n",
      "44           Q2204*\n",
      "47      Q2199Hfs*99\n",
      "48     R2194Cfs*104\n",
      "67           Q2085*\n",
      "68     Q2081Sfs*260\n",
      "78      Q2028Sfs*12\n",
      "88      P1983Qfs*16\n",
      "90      P1946Hfs*30\n",
      "97      R1858Afs*15\n",
      "103          C1819*\n",
      "105          C1808*\n",
      "110    N1789Ifs*172\n",
      "116          S1778*\n",
      "120      S1761Rfs*9\n",
      "121          S1761*\n",
      "124          Q1756*\n",
      "143        S1680del\n",
      "144        S1680del\n",
      "145        S1680del\n",
      "146        S1680del\n",
      "158    X1630_splice\n",
      "159    X1630_splice\n",
      "165     Q1619Rfs*16\n",
      "Name: Protein Change, dtype: object\n",
      "['Q2411Sfs*2', 'G2398*', 'H2384Tfs*12', 'H2384Pfs*63', 'Q2379*', 'L2256Sfs*46', 'Q2210*', 'Q2204*', 'Q2199Hfs*99', 'R2194Cfs*104']\n",
      "Index(['Study of Origin', 'Sample ID', 'Cancer Type', 'Cancer Type Detailed',\n",
      "       'Protein Change', 'Annotation', 'Custom Driver', 'Custom Driver Tiers',\n",
      "       'Functional Impact', 'Mutation Type', 'Variant Type', 'Copy #',\n",
      "       'COSMIC', 'MS', 'VS', 'Center', 'Chromosome', 'Start Pos', 'End Pos',\n",
      "       'Ref', 'Var', 'HGVSg', 'HGVSc', 'Allele Freq (T)', 'Allele Freq (N)',\n",
      "       'Variant Reads', 'Ref Reads', 'Variant Reads (Normal)',\n",
      "       'Ref Reads (Normal)', '# Mut in Sample', 'Exon', 'gnomAD', 'ClinVar',\n",
      "       'dbSNP', 'SIGNAL', 'Diagnosis Age',\n",
      "       'Neoplasm Disease Stage American Joint Committee on Cancer Code',\n",
      "       'American Joint Committee on Cancer Publication Version Type',\n",
      "       'Aneuploidy Score', 'TCGA PanCanAtlas Cancer Type Acronym',\n",
      "       'Last Communication Contact from Initial Pathologic Diagnosis Date',\n",
      "       'Birth from Initial Pathologic Diagnosis Date',\n",
      "       'Last Alive Less Initial Pathologic Diagnosis Date Calculated Day Value',\n",
      "       'Disease Free (Months)', 'Disease Free Status',\n",
      "       'Months of disease-specific survival',\n",
      "       'Disease-specific Survival status', 'Ethnicity Category',\n",
      "       'Form completion date', 'Fraction Genome Altered',\n",
      "       'Genetic Ancestry Label', 'Neoplasm Histologic Grade',\n",
      "       'Neoadjuvant Therapy Type Administered Prior To Resection Text',\n",
      "       'ICD-10 Classification',\n",
      "       'International Classification of Diseases for Oncology, Third Edition ICD-O-3 Histology Code',\n",
      "       'International Classification of Diseases for Oncology, Third Edition ICD-O-3 Site Code',\n",
      "       'Informed consent verified', 'In PanCan Pathway Analysis',\n",
      "       'MSI MANTIS Score', 'MSIsensor Score',\n",
      "       'New Neoplasm Event Post Initial Therapy Indicator', 'Oncotree Code',\n",
      "       'Overall Survival (Months)', 'Overall Survival Status',\n",
      "       'Other Patient ID',\n",
      "       'American Joint Committee on Cancer Metastasis Stage Code',\n",
      "       'Neoplasm Disease Lymph Node Stage American Joint Committee on Cancer Code',\n",
      "       'American Joint Committee on Cancer Tumor Stage Code',\n",
      "       'Person Neoplasm Cancer Status', 'Progress Free Survival (Months)',\n",
      "       'Progression Free Status', 'Primary Lymph Node Presentation Assessment',\n",
      "       'Prior Diagnosis', 'Race Category', 'Radiation Therapy',\n",
      "       'Number of Samples Per Patient', 'Sample Type', 'Sex', 'Somatic Status',\n",
      "       'Subtype', 'Tissue Prospective Collection Indicator',\n",
      "       'Tissue Retrospective Collection Indicator', 'Tissue Source Site',\n",
      "       'Tissue Source Site Code', 'TMB (nonsynonymous)',\n",
      "       'Tumor Disease Anatomic Site', 'Tumor Type', 'Patient Weight',\n",
      "       'Buffa Hypoxia Score', 'Ragnum Hypoxia Score', 'Winter Hypoxia Score'],\n",
      "      dtype='object')\n",
      "['Q2411Sfs*2', 'G2398*', 'H2384Tfs*12', 'H2384Pfs*63', 'Q2379*', 'L2256Sfs*46', 'Q2210*', 'Q2204*', 'Q2199Hfs*99', 'R2194Cfs*104']\n",
      "10\n",
      "10\n",
      "['Q', 'G', 'H', 'H', 'Q', 'L', 'Q', 'Q', 'Q', 'R']\n",
      "[2411, 2398, 2384, 2384, 2379, 2256, 2210, 2204, 2199, 2194]\n",
      "[302, 289, 275, 275, 270, 147, 101, 95, 90, 85]\n",
      "[1, 1, 1, 1, 1, 1, 1, 1, 1, 1]\n",
      "Q\n",
      "G\n",
      "H\n",
      "H\n",
      "Q\n",
      "L\n",
      "Q\n",
      "Q\n",
      "Q\n",
      "R\n"
     ]
    }
   ],
   "source": [
    "crebbpdf=pd.read_table('data/CREBBP_cBioPortal_Driver_Mutations.tsv')\n",
    "crebbpdfdriver=crebbpdf[crebbpdf['Annotation'].str.contains('OncoKB: Likely Oncogenic')]\n",
    "crebbpdfVUS=crebbpdf[crebbpdf['Annotation'].str.contains('OncoKB: Unknown')]\n",
    "print(crebbpdfdriver['Protein Change'].head(30))\n",
    "print(crebbpdfdriver['Protein Change'].tolist()[0:10])\n",
    "\n",
    "print(crebbpdf.columns)\n",
    "#print(crebbpdf[['Protein Change','Annotation','Custom Driver','Custom Driver Tiers','Start Pos','End Pos']])\n",
    "#print(list(set(crebbpdf['Annotation'].tolist())))\n",
    "\n",
    "crebbpidr9drivermuts=crebbpdfdriver['Protein Change'].tolist()[0:10]\n",
    "print(crebbpidr9drivermuts)\n",
    "\n",
    "\n",
    "fromaa=[]\n",
    "fromaanum=[]\n",
    "fromaanuminidr=[]\n",
    "muttypelist=[]\n",
    "mutnumoccur=[]\n",
    "unicrebbpidr9drivermuts=[]\n",
    "count=-1\n",
    "for i in range(0,len(crebbpidr9drivermuts)):\n",
    "    if crebbpidr9drivermuts[i] not in unicrebbpidr9drivermuts:\n",
    "        fromaa.append(crebbpidr9drivermuts[i][0])\n",
    "        fromaanum.append(int(crebbpidr9drivermuts[i][1:5]))\n",
    "        fromaanuminidr.append(int(crebbpidr9drivermuts[i][1:5])-idrpos[0])\n",
    "        if crebbpidr9drivermuts[i][5]=='*':\n",
    "            muttypelist.append('Nonsense')\n",
    "        elif crebbpidr9drivermuts[i][6:8]=='fs':\n",
    "            muttypelist.append('Frameshift')\n",
    "        mutnumoccur.append(1)\n",
    "        count=count+1\n",
    "        unicrebbpidr9drivermuts.append(crebbpidr9drivermuts[i])\n",
    "    else:\n",
    "        mutnumoccur[count]=mutnumoccur[count]+1\n",
    "\n",
    "print(len(muttypelist))\n",
    "print(len(fromaa))\n",
    "print(fromaa)\n",
    "print(fromaanum)\n",
    "print(fromaanuminidr)\n",
    "print(mutnumoccur)\n",
    "\n",
    "for i in range(0,len(fromaanuminidr)):\n",
    "    print(crebbpidr9seq[fromaanuminidr[i]])\n",
    "    \n",
    "    \n",
    "    "
   ]
  },
  {
   "cell_type": "code",
   "execution_count": 4,
   "metadata": {},
   "outputs": [
    {
     "data": {
      "text/plain": [
       "Text(0.5, 1.0, 'CREBBP C-terminal IDR')"
      ]
     },
     "execution_count": 4,
     "metadata": {},
     "output_type": "execute_result"
    },
    {
     "data": {
      "image/png": "[encoded data removed]",
      "text/plain": [
       "<Figure size 721.44x108 with 1 Axes>"
      ]
     },
     "metadata": {
      "needs_background": "light"
     },
     "output_type": "display_data"
    }
   ],
   "source": [
    "#myaa=['ED','K']\n",
    "myaa=['QM']\n",
    "\n",
    "myaalist='_'\n",
    "for a in range(0,len(myaa)):\n",
    "    subaa=myaa[a]\n",
    "    for i in range(0,len(subaa)):\n",
    "        myaalist=myaalist+subaa[i]+'_'\n",
    "\n",
    "shift=0.03\n",
    "\n",
    "currseq=crebbpidr9seq\n",
    "\n",
    "## define Matplotlib figure and axis\n",
    "fig, ax = plt.subplots()\n",
    "fig.set_size_inches(len(currseq)*0.03,1+len(myaa)/2) # may need to change 0.05 to something smaller if using long IDRs\n",
    "\n",
    "## Plot particular amino acids\n",
    "for a in range(0,len(myaa)):\n",
    "\n",
    "    #tmp=0\n",
    "    tmp=a\n",
    "\n",
    "    #ax.plot([0, len(currseq)+1],[tmp+1, tmp+1.8],color='grey')\n",
    "\n",
    "    #add rectangle to plot for length of full sequence\n",
    "    ax.add_patch(Rectangle((0, tmp+1), len(currseq), 0.8, edgecolor = 'black', facecolor='#dddddd'))\n",
    "    \n",
    "    # Add IDR features\n",
    "    posaa=[i for i, ltr in enumerate(currseq) if ltr in myaa[a]]\n",
    "    for i in posaa:\n",
    "        ax.add_patch(Rectangle((i, tmp+1+shift), 1, 0.8-2*shift, color=aacolor_map[currseq[i]]))\n",
    "    \n",
    "\n",
    "    # Add mutations\n",
    "    ## ! Make size relative to number of occurrences ! ##\n",
    "    ## ! Make shape frame shift or nonsense ! ##\n",
    "    for i in range(0,len(fromaanuminidr)):\n",
    "        ax.plot([fromaanuminidr[i]+0.5,fromaanuminidr[i]+0.5],[tmp+1+0.8,tmp+1+1.2],'-',color='black')\n",
    "        if muttypelist[i]=='Nonsense':\n",
    "            ax.plot(fromaanuminidr[i]+0.5,tmp+1+1.2,'o',markerfacecolor='#dddddd',markeredgecolor='black',markersize=8+4*(mutnumoccur[i]-1))\n",
    "        elif muttypelist[i]=='Frameshift':\n",
    "            ax.plot(fromaanuminidr[i]+0.5,tmp+1+1.2,'D',markerfacecolor='#dddddd',markeredgecolor='black',markersize=8+4*(mutnumoccur[i]-1))\n",
    "        plt.text(fromaanuminidr[i]+0.7,tmp+1+1.4,crebbpidr9drivermuts[i],rotation=45) \n",
    "        \n",
    "ax.set_xlim([-5, len(currseq)+5])\n",
    "#ax.set_xlim([50,150])\n",
    "ax.set_ylim([0.5, tmp+3])\n",
    "plt.yticks(np.arange(1+0.4,len(myaa)+1,1),myaa)\n",
    "plt.xticks(np.arange(1,len(currseq),50),np.arange(idrpos[0],idrpos[1],50))\n",
    "ax.spines[['left','right', 'top']].set_visible(False)\n",
    "plt.title('CREBBP C-terminal IDR')\n",
    "\n",
    "#whichsequnderscore=subgenes[whichseqpos].replace(\": \", \"_\")\n",
    "#plt.savefig('exceptional_grammar_top_genes/figures/exceptional_grammar_specific_proteins/CREBBP_IDR9_Q_M_mutations_full_protein_pos.pdf', transparent=True, bbox_inches = \"tight\")\n"
   ]
  },
  {
   "cell_type": "code",
   "execution_count": 5,
   "metadata": {},
   "outputs": [
    {
     "name": "stdout",
     "output_type": "stream",
     "text": [
      "VANQPGMQPQPGLQSQPGMQPQPGMHQQPSLQNLNAMQAGVPRPGVPPQQQAMGGLNPQGQALNIMNPGHNPNMASMNPQYREMLRRQLLQQQQQQQQQQQ\n",
      " \n",
      "QLLQQQQQQQQQQQ\n",
      " \n",
      "[[14]]\n"
     ]
    },
    {
     "data": {
      "image/png": "[encoded data removed]",
      "text/plain": [
       "<Figure size 218.16x108 with 1 Axes>"
      ]
     },
     "metadata": {
      "needs_background": "light"
     },
     "output_type": "display_data"
    }
   ],
   "source": [
    "#myaa=['ED','K']\n",
    "myaa=['QM']\n",
    "\n",
    "myaalist='_'\n",
    "for a in range(0,len(myaa)):\n",
    "    subaa=myaa[a]\n",
    "    for i in range(0,len(subaa)):\n",
    "        myaalist=myaalist+subaa[i]+'_'\n",
    "\n",
    "shift=0.03\n",
    "\n",
    "currseq=crebbpidr2210term\n",
    "\n",
    "## define Matplotlib figure and axis\n",
    "fig, ax = plt.subplots()\n",
    "fig.set_size_inches(len(currseq)*0.03,1+len(myaa)/2) # may need to change 0.05 to something smaller if using long IDRs\n",
    "\n",
    "## Plot particular amino acids\n",
    "for a in range(0,len(myaa)):\n",
    "\n",
    "    #tmp=0\n",
    "    tmp=a\n",
    "\n",
    "    #ax.plot([0, len(currseq)+1],[tmp+1, tmp+1.8],color='grey')\n",
    "\n",
    "    #add rectangle to plot for length of full sequence\n",
    "    ax.add_patch(Rectangle((0, tmp+1), len(currseq), 0.8, edgecolor = 'black', facecolor='#dddddd'))\n",
    "    \n",
    "    # Add IDR features\n",
    "    posaa=[i for i, ltr in enumerate(currseq) if ltr in myaa[a]]\n",
    "    for i in posaa:\n",
    "        ax.add_patch(Rectangle((i, tmp+1+shift), 1, 0.8-2*shift, color=aacolor_map[currseq[i]]))\n",
    "\n",
    "ax.set_xlim([-5, len(currseq)+5])\n",
    "#ax.set_xlim([50,150])\n",
    "ax.set_ylim([0.5, tmp+3])\n",
    "plt.yticks(np.arange(1+0.4,len(myaa)+1,1),myaa)\n",
    "ax.spines[['left','right', 'top']].set_visible(False)\n",
    "plt.title('CREBBP C-terminal IDR')\n",
    "\n",
    "tmpseqs=[crebbpidr2210term]\n",
    "numInt=2 # Number of allowable interruption residues\n",
    "minBlockLen=4 # Must have at least minBlockLen lysines in the block\n",
    "\n",
    "testaas=['Q']\n",
    "\n",
    "xrichlen=[[] for _ in range(len(testaas))]\n",
    "\n",
    "for s in range(0,len(tmpseqs)):\n",
    "    currseq=tmpseqs[s]\n",
    "    print(currseq)\n",
    "    \n",
    "    ## Fraction of sequence containing patches\n",
    "    counta=-1\n",
    "    for a in testaas:\n",
    "        counta=counta+1\n",
    "        justKs='0'*len(currseq) # Set string of zeros\n",
    "\n",
    "        pos=[i for i, ltr in enumerate(currseq) if ltr == a] # Find positions of the residue of interest\n",
    "\n",
    "        # If interruption length is less than or equal to numInt then say these positions are also the residue of interest\n",
    "        pos2=pos\n",
    "        for p in range(0,len(pos)-1):\n",
    "            tdi=pos[p+1]-pos[p]\n",
    "            if tdi > 1 and tdi<=numInt+1:\n",
    "                myt=list(range(pos[p]+1,pos[p+1]))\n",
    "                for item in myt:\n",
    "                    pos2.append(item)\n",
    "\n",
    "\n",
    "        # For positions make those 1 in string of zeros   \n",
    "        justKs = list(justKs)\n",
    "        for p in pos2:\n",
    "            justKs[p]='1'\n",
    "        justKs = ''.join(justKs)\n",
    "\n",
    "\n",
    "        the_ones = re.findall(r\"1+\", justKs) # Find all consecutive 1s\n",
    "        idx_ones=[[m.start(0), m.end(0)] for m in re.finditer(r\"1+\", justKs)] # Find indices of ones\n",
    "\n",
    "        numpatches=0\n",
    "        count=-1\n",
    "        patchescombined=''\n",
    "        for o in the_ones:\n",
    "            count=count+1\n",
    "            myrange=idx_ones[count] # Get indices for each consecutive strength\n",
    "            subseq=currseq[myrange[0]:myrange[1]] # Get subseq that corresponds to this stength\n",
    "            pos3=[i for i, ltr in enumerate(subseq) if ltr == a] # Get positions of the actual residue of interest in this subseq\n",
    "            # If the number of the actual residue of interest is greater than or equal to minBlockLen add to the number of patches and string patches together in string\n",
    "            if len(pos3)>=minBlockLen:\n",
    "                numpatches=numpatches+1\n",
    "                patchescombined+=subseq\n",
    "        print(' ')\n",
    "        print(patchescombined)\n",
    "        print(' ')\n",
    "\n",
    "        xrichlen[counta].append(len(patchescombined))\n",
    "        \n",
    "print(xrichlen)\n",
    "\n",
    "#plt.savefig('exceptional_grammar_top_genes/figures/exceptional_grammar_specific_proteins/CREBBP_IDR9_Q_M_mutations_Q2210ter.pdf', transparent=True, bbox_inches = \"tight\")\n"
   ]
  },
  {
   "cell_type": "markdown",
   "metadata": {},
   "source": [
    "## 2.2 - Get number of Qs"
   ]
  },
  {
   "cell_type": "code",
   "execution_count": 6,
   "metadata": {},
   "outputs": [
    {
     "name": "stdout",
     "output_type": "stream",
     "text": [
      "VANQPGMQPQPGLQSQPGMQPQPGMHQQPSLQNLNAMQAGVPRPGVPPQQQAMGGLNPQGQALNIMNPGHNPNMASMNPQYREMLRRQLLQQQQQQQQQQQQQQQQQQGSAGMAGGMAGHGQFQQPQGPGGYPPAMQQQQRMQQHLPLQGSSMGQMAAQMGQLGQMGQPGLGADSTPNIQQALQQRILQQQQMKQQIGSPGQPNPMSPQQHMLSGQPQASHLPGQQIATSLSNQVRSPAPVQSPRPQSQPPHSSPSPRIQPQPSPHHVSPQTGSPHPGLAVTMASSIDQGHLGNPEQSAMLPQLNTPSRSALSSELSLVGDTTGDTLEKFVEGL\n",
      "G2398*\n",
      "VANQPGMQPQPGLQSQPGMQPQPGMHQQPSLQNLNAMQAGVPRPGVPPQQQAMGGLNPQGQALNIMNPGHNPNMASMNPQYREMLRRQLLQQQQQQQQQQQQQQQQQQGSAGMAGGMAGHGQFQQPQGPGGYPPAMQQQQRMQQHLPLQGSSMGQMAAQMGQLGQMGQPGLGADSTPNIQQALQQRILQQQQMKQQIGSPGQPNPMSPQQHMLSGQPQASHLPGQQIATSLSNQVRSPAPVQSPRPQSQPPHSSPSPRIQPQPSPHHVSPQTGSPHPGLAVTMASSIDQ\n",
      "Q2379*\n",
      "VANQPGMQPQPGLQSQPGMQPQPGMHQQPSLQNLNAMQAGVPRPGVPPQQQAMGGLNPQGQALNIMNPGHNPNMASMNPQYREMLRRQLLQQQQQQQQQQQQQQQQQQGSAGMAGGMAGHGQFQQPQGPGGYPPAMQQQQRMQQHLPLQGSSMGQMAAQMGQLGQMGQPGLGADSTPNIQQALQQRILQQQQMKQQIGSPGQPNPMSPQQHMLSGQPQASHLPGQQIATSLSNQVRSPAPVQSPRPQSQPPHSSPSPRIQPQPSPHHVSP\n",
      "Q2210*\n",
      "VANQPGMQPQPGLQSQPGMQPQPGMHQQPSLQNLNAMQAGVPRPGVPPQQQAMGGLNPQGQALNIMNPGHNPNMASMNPQYREMLRRQLLQQQQQQQQQQQ\n",
      "Q2204*\n",
      "VANQPGMQPQPGLQSQPGMQPQPGMHQQPSLQNLNAMQAGVPRPGVPPQQQAMGGLNPQGQALNIMNPGHNPNMASMNPQYREMLRRQLLQQQQQ\n",
      "  Seq Name  Num Q\n",
      "0       WT     79\n",
      "1   G2398*     77\n",
      "2   Q2379*     75\n",
      "3   Q2210*     29\n",
      "4   Q2204*     23\n"
     ]
    },
    {
     "data": {
      "text/plain": [
       "([<matplotlib.axis.XTick at 0x1480f6bbdd90>,\n",
       "  <matplotlib.axis.XTick at 0x1480f6bbd650>,\n",
       "  <matplotlib.axis.XTick at 0x1480f6bb4c10>,\n",
       "  <matplotlib.axis.XTick at 0x1480f6b6cdd0>,\n",
       "  <matplotlib.axis.XTick at 0x1480f6b0d150>],\n",
       " [Text(0, 0, 'WT'),\n",
       "  Text(1, 0, 'G2398*'),\n",
       "  Text(2, 0, 'Q2379*'),\n",
       "  Text(3, 0, 'Q2210*'),\n",
       "  Text(4, 0, 'Q2204*')])"
      ]
     },
     "execution_count": 6,
     "metadata": {},
     "output_type": "execute_result"
    },
    {
     "data": {
      "image/png": "[encoded data removed]",
      "text/plain": [
       "<Figure size 360x216 with 1 Axes>"
      ]
     },
     "metadata": {
      "needs_background": "light"
     },
     "output_type": "display_data"
    }
   ],
   "source": [
    "tmpseqnamelist=['WT']\n",
    "tmpnumQ=[crebbpidr9seq.count('Q')]\n",
    "tmpseqs=[crebbpidr9seq]\n",
    "print(crebbpidr9seq)\n",
    "\n",
    "for i in range(0,len(crebbpidr9drivermuts)):\n",
    "    if muttypelist[i]=='Nonsense':\n",
    "        tmpseqnamelist.append(crebbpidr9drivermuts[i])\n",
    "        tmpseq=crebbpidr9seq[0:fromaanuminidr[i]]\n",
    "        print(crebbpidr9drivermuts[i])\n",
    "        print(tmpseq)\n",
    "        tmpnumQ.append(tmpseq.count('Q'))\n",
    "        tmpseqs.append(tmpseq)\n",
    "\n",
    "dfnumQ=pd.DataFrame()\n",
    "dfnumQ['Seq Name']=tmpseqnamelist\n",
    "dfnumQ['Num Q']=tmpnumQ\n",
    "\n",
    "dfnumQ=dfnumQ.sort_values(by='Num Q',ascending=False)\n",
    "print(dfnumQ)\n",
    "\n",
    "plt.figure(figsize=(5,3))\n",
    "plt.bar(np.arange(0,len(tmpnumQ),1),dfnumQ['Num Q'].tolist(),edgecolor='black',facecolor='#dddddd')\n",
    "plt.ylabel('Number of Q')\n",
    "plt.xticks(np.arange(0,len(tmpnumQ),1),dfnumQ['Seq Name'].tolist())\n",
    "\n",
    "#plt.savefig('exceptional_grammar_top_genes/figures/exceptional_grammar_specific_proteins/CREBBP_IDR9_numQ_all_nonsense.pdf', transparent=True, bbox_inches = \"tight\")\n"
   ]
  },
  {
   "cell_type": "markdown",
   "metadata": {},
   "source": [
    "## 2.3 - Get length of cumulative Q patch"
   ]
  },
  {
   "cell_type": "code",
   "execution_count": 7,
   "metadata": {},
   "outputs": [
    {
     "name": "stdout",
     "output_type": "stream",
     "text": [
      "VANQPGMQPQPGLQSQPGMQPQPGMHQQPSLQNLNAMQAGVPRPGVPPQQQAMGGLNPQGQALNIMNPGHNPNMASMNPQYREMLRRQLLQQQQQQQQQQQQQQQQQQGSAGMAGGMAGHGQFQQPQGPGGYPPAMQQQQRMQQHLPLQGSSMGQMAAQMGQLGQMGQPGLGADSTPNIQQALQQRILQQQQMKQQIGSPGQPNPMSPQQHMLSGQPQASHLPGQQIATSLSNQVRSPAPVQSPRPQSQPPHSSPSPRIQPQPSPHHVSPQTGSPHPGLAVTMASSIDQGHLGNPEQSAMLPQLNTPSRSALSSELSLVGDTTGDTLEKFVEGL\n",
      " \n",
      "QLLQQQQQQQQQQQQQQQQQQQFQQPQQQQQRMQQQMGQLGQMGQQQALQQQQQQMKQQ\n",
      " \n",
      "VANQPGMQPQPGLQSQPGMQPQPGMHQQPSLQNLNAMQAGVPRPGVPPQQQAMGGLNPQGQALNIMNPGHNPNMASMNPQYREMLRRQLLQQQQQQQQQQQQQQQQQQGSAGMAGGMAGHGQFQQPQGPGGYPPAMQQQQRMQQHLPLQGSSMGQMAAQMGQLGQMGQPGLGADSTPNIQQALQQRILQQQQMKQQIGSPGQPNPMSPQQHMLSGQPQASHLPGQQIATSLSNQVRSPAPVQSPRPQSQPPHSSPSPRIQPQPSPHHVSPQTGSPHPGLAVTMASSIDQ\n",
      " \n",
      "QLLQQQQQQQQQQQQQQQQQQQFQQPQQQQQRMQQQMGQLGQMGQQQALQQQQQQMKQQ\n",
      " \n",
      "VANQPGMQPQPGLQSQPGMQPQPGMHQQPSLQNLNAMQAGVPRPGVPPQQQAMGGLNPQGQALNIMNPGHNPNMASMNPQYREMLRRQLLQQQQQQQQQQQQQQQQQQGSAGMAGGMAGHGQFQQPQGPGGYPPAMQQQQRMQQHLPLQGSSMGQMAAQMGQLGQMGQPGLGADSTPNIQQALQQRILQQQQMKQQIGSPGQPNPMSPQQHMLSGQPQASHLPGQQIATSLSNQVRSPAPVQSPRPQSQPPHSSPSPRIQPQPSPHHVSP\n",
      " \n",
      "QLLQQQQQQQQQQQQQQQQQQQFQQPQQQQQRMQQQMGQLGQMGQQQALQQQQQQMKQQ\n",
      " \n",
      "VANQPGMQPQPGLQSQPGMQPQPGMHQQPSLQNLNAMQAGVPRPGVPPQQQAMGGLNPQGQALNIMNPGHNPNMASMNPQYREMLRRQLLQQQQQQQQQQQ\n",
      " \n",
      "QLLQQQQQQQQQQQ\n",
      " \n",
      "VANQPGMQPQPGLQSQPGMQPQPGMHQQPSLQNLNAMQAGVPRPGVPPQQQAMGGLNPQGQALNIMNPGHNPNMASMNPQYREMLRRQLLQQQQQ\n",
      " \n",
      "QLLQQQQQ\n",
      " \n",
      "[[59, 59, 59, 14, 8]]\n",
      "  Seq Name  Num Q\n",
      "0       WT     59\n",
      "1   G2398*     59\n",
      "2   Q2379*     59\n",
      "3   Q2210*     14\n",
      "4   Q2204*      8\n"
     ]
    },
    {
     "data": {
      "text/plain": [
       "([<matplotlib.axis.XTick at 0x1480f6ac9c10>,\n",
       "  <matplotlib.axis.XTick at 0x1480f6ac94d0>,\n",
       "  <matplotlib.axis.XTick at 0x1480f6ac1a90>,\n",
       "  <matplotlib.axis.XTick at 0x1480f6a8e690>,\n",
       "  <matplotlib.axis.XTick at 0x1480f6a8e5d0>],\n",
       " [Text(0, 0, 'WT'),\n",
       "  Text(1, 0, 'G2398*'),\n",
       "  Text(2, 0, 'Q2379*'),\n",
       "  Text(3, 0, 'Q2210*'),\n",
       "  Text(4, 0, 'Q2204*')])"
      ]
     },
     "execution_count": 7,
     "metadata": {},
     "output_type": "execute_result"
    },
    {
     "data": {
      "image/png": "[encoded data removed]",
      "text/plain": [
       "<Figure size 360x216 with 1 Axes>"
      ]
     },
     "metadata": {
      "needs_background": "light"
     },
     "output_type": "display_data"
    }
   ],
   "source": [
    "## MUST RUN 2.2 right before this ##\n",
    "numInt=2 # Number of allowable interruption residues\n",
    "minBlockLen=4 # Must have at least minBlockLen lysines in the block\n",
    "\n",
    "testaas=['Q']\n",
    "\n",
    "xrichlen=[[] for _ in range(len(testaas))]\n",
    "\n",
    "for s in range(0,len(tmpseqs)):\n",
    "    currseq=tmpseqs[s]\n",
    "    print(currseq)\n",
    "    \n",
    "    ## Fraction of sequence containing patches\n",
    "    counta=-1\n",
    "    for a in testaas:\n",
    "        counta=counta+1\n",
    "        justKs='0'*len(currseq) # Set string of zeros\n",
    "\n",
    "        pos=[i for i, ltr in enumerate(currseq) if ltr == a] # Find positions of the residue of interest\n",
    "\n",
    "        # If interruption length is less than or equal to numInt then say these positions are also the residue of interest\n",
    "        pos2=pos\n",
    "        for p in range(0,len(pos)-1):\n",
    "            tdi=pos[p+1]-pos[p]\n",
    "            if tdi > 1 and tdi<=numInt+1:\n",
    "                myt=list(range(pos[p]+1,pos[p+1]))\n",
    "                for item in myt:\n",
    "                    pos2.append(item)\n",
    "\n",
    "\n",
    "        # For positions make those 1 in string of zeros   \n",
    "        justKs = list(justKs)\n",
    "        for p in pos2:\n",
    "            justKs[p]='1'\n",
    "        justKs = ''.join(justKs)\n",
    "\n",
    "\n",
    "        the_ones = re.findall(r\"1+\", justKs) # Find all consecutive 1s\n",
    "        idx_ones=[[m.start(0), m.end(0)] for m in re.finditer(r\"1+\", justKs)] # Find indices of ones\n",
    "\n",
    "        numpatches=0\n",
    "        count=-1\n",
    "        patchescombined=''\n",
    "        for o in the_ones:\n",
    "            count=count+1\n",
    "            myrange=idx_ones[count] # Get indices for each consecutive strength\n",
    "            subseq=currseq[myrange[0]:myrange[1]] # Get subseq that corresponds to this stength\n",
    "            pos3=[i for i, ltr in enumerate(subseq) if ltr == a] # Get positions of the actual residue of interest in this subseq\n",
    "            # If the number of the actual residue of interest is greater than or equal to minBlockLen add to the number of patches and string patches together in string\n",
    "            if len(pos3)>=minBlockLen:\n",
    "                numpatches=numpatches+1\n",
    "                patchescombined+=subseq\n",
    "        print(' ')\n",
    "        print(patchescombined)\n",
    "        print(' ')\n",
    "\n",
    "        xrichlen[counta].append(len(patchescombined))\n",
    "        \n",
    "print(xrichlen)\n",
    "\n",
    "dfnumQ=pd.DataFrame()\n",
    "dfnumQ['Seq Name']=tmpseqnamelist\n",
    "dfnumQ['Num Q']=xrichlen[0]\n",
    "\n",
    "dfnumQ=dfnumQ.sort_values(by='Num Q',ascending=False)\n",
    "print(dfnumQ)\n",
    "\n",
    "plt.figure(figsize=(5,3))\n",
    "plt.bar(np.arange(0,len(tmpnumQ),1),dfnumQ['Num Q'].tolist(),edgecolor='black',facecolor='#dddddd')\n",
    "plt.ylabel('Cumulative Length of Q Patches')\n",
    "plt.xticks(np.arange(0,len(tmpnumQ),1),dfnumQ['Seq Name'].tolist())\n",
    "\n",
    "#plt.savefig('exceptional_grammar_top_genes/figures/exceptional_grammar_specific_proteins/CREBBP_IDR9_cumQ_all_nonsense.pdf', transparent=True, bbox_inches = \"tight\")\n"
   ]
  },
  {
   "cell_type": "code",
   "execution_count": null,
   "metadata": {},
   "outputs": [],
   "source": []
  },
  {
   "cell_type": "markdown",
   "metadata": {},
   "source": [
    "# Part 3: EP300 "
   ]
  },
  {
   "cell_type": "markdown",
   "metadata": {},
   "source": [
    "## Part 3.1 - Load in IDR seqs, mutations, and visualize data"
   ]
  },
  {
   "cell_type": "code",
   "execution_count": 8,
   "metadata": {},
   "outputs": [],
   "source": [
    "ep300fullseq='MAENVVEPGPPSAKRPKLSSPALSASASDGTDFGSLFDLEHDLPDELINSTELGLTNGGDINQLQTSLGMVQDAASKHKQLSELLRSGSSPNLNMGVGGPGQVMASQAQQSSPGLGLINSMVKSPMTQAGLTSPNMGMGTSGPNQGPTQSTGMMNSPVNQPAMGMNTGMNAGMNPGMLAAGNGQGIMPNQVMNGSIGAGRGRQNMQYPNPGMGSAGNLLTEPLQQGSPQMGGQTGLRGPQPLKMGMMNNPNPYGSPYTQNPGQQIGASGLGLQIQTKTVLSNNLSPFAMDKKAVPGGGMPNMGQQPAPQVQQPGLVTPVAQGMGSGAHTADPEKRKLIQQQLVLLLHAHKCQRREQANGEVRQCNLPHCRTMKNVLNHMTHCQSGKSCQVAHCASSRQIISHWKNCTRHDCPVCLPLKNAGDKRNQQPILTGAPVGLGNPSSLGVGQQSAPNLSTVSQIDPSSIERAYAALGLPYQVNQMPTQPQVQAKNQQNQQPGQSPQGMRPMSNMSASPMGVNGGVGVQTPSLLSDSMLHSAINSQNPMMSENASVPSLGPMPTAAQPSTTGIRKQWHEDITQDLRNHLVHKLVQAIFPTPDPAALKDRRMENLVAYARKVEGDMYESANNRAEYYHLLAEKIYKIQKELEEKRRTRLQKQNMLPNAAGMVPVSMNPGPNMGQPQPGMTSNGPLPDPSMIRGSVPNQMMPRITPQSGLNQFGQMSMAQPPIVPRQTPPLQHHGQLAQPGALNPPMGYGPRMQQPSNQGQFLPQTQFPSQGMNVTNIPLAPSSGQAPVSQAQMSSSSCPVNSPIMPPGSQGSHIHCPQLPQPALHQNSPSPVPSRTPTPHHTPPSIGAQQPPATTIPAPVPTPPAMPPGPQSQALHPPPRQTPTPPTTQLPQQVQPSLPAAPSADQPQQQPRSQQSTAASVPTPTAPLLPPQPATPLSQPAVSIEGQVSNPPSTSSTEVNSQAIAEKQPSQEVKMEAKMEVDQPEPADTQPEDISESKVEDCKMESTETEERSTELKTEIKEEEDQPSTSATQSSPAPGQSKKKIFKPEELRQALMPTLEALYRQDPESLPFRQPVDPQLLGIPDYFDIVKSPMDLSTIKRKLDTGQYQEPWQYVDDIWLMFNNAWLYNRKTSRVYKYCSKLSEVFEQEIDPVMQSLGYCCGRKLEFSPQTLCCYGKQLCTIPRDATYYSYQNRYHFCEKCFNEIQGESVSLGDDPSQPQTTINKEQFSKRKNDTLDPELFVECTECGRKMHQICVLHHEIIWPAGFVCDGCLKKSARTRKENKFSAKRLPSTRLGTFLENRVNDFLRRQNHPESGEVTVRVVHASDKTVEVKPGMKARFVDSGEMAESFPYRTKALFAFEEIDGVDLCFFGMHVQEYGSDCPPPNQRRVYISYLDSVHFFRPKCLRTAVYHEILIGYLEYVKKLGYTTGHIWACPPSEGDDYIFHCHPPDQKIPKPKRLQEWYKKMLDKAVSERIVHDYKDIFKQATEDRLTSAKELPYFEGDFWPNVLEESIKELEQEEEERKREENTSNESTDVTKGDSKNAKKKNNKKTSKNKSSLSRGNKKKPGMPNVSNDLSQKLYATMEKHKEVFFVIRLIAGPAANSLPPIVDPDPLIPCDLMDGRDAFLTLARDKHLEFSSLRRAQWSTMCMLVELHTQSQDRFVYTCNECKHHVETRWHCTVCEDYDLCITCYNTKNHDHKMEKLGLGLDDESNNQQAAATQSPGDSRRLSIQRCIQSLVHACQCRNANCSLPSCQKMKRVVQHTKGCKRKTNGGCPICKQLIALCCYHAKHCQENKCPVPFCLNIKQKLRQQQLQHRLQQAQMLRRRMASMQRTGVVGQQQGLPSPTPATPTTPTGQQPTTPQTPQPTSQPQPTPPNSMPPYLPRTQAAGPVSQGKAAGQVTPPTPPQTAQPPLPGPPPAAVEMAMQIQRAAETQRQMAHVQIFQRPIQHQMPPMTPMAPMGMNPPPMTRGPSGHLEPGMGPTGMQQQPPWSQGGLPQPQQLQSGMPRPAMMSVAQHGQPLNMAPQPGLGQVGISPLKPGTVSQQALQNLLRTLRSPSSPLQQQQVLSILHANPQLLAAFIKQRAAKYANSNPQPIPGQPGMPQGQPGLQPPTMPGQQGVHSNPAMQNMNPMQAGVQRAGLPQQQPQQQLQPPMGGMSPQAQQMNMNHNTMPSQFRDILRRQQMMQQQQQQGAGPGIGPGMANHNQFQQPQGVGYPPQQQQRMQHHMQQMQQGNMGQIGQLPQALGAEAGASLQAYQQRLLQQQMGSPVQPNPMSPQQHMLPNQAQSPHLQGQQIPNSLSNQVRSPQPVPSPRPQSQPPHSSPSPRMQPQPSPHHVSPQTSSPHPGLVAAQANPMEQGHFASPDQNSMLSQLASNPGMANLHGASATDLGLSTDNSDLNSNLSQSTLDIH'\n",
    "ep300idr11seq='ANSNPQPIPGQPGMPQGQPGLQPPTMPGQQGVHSNPAMQNMNPMQAGVQRAGLPQQQPQQQLQPPMGGMSPQAQQMNMNHNTMPSQFRDILRRQQMMQQQQQQGAGPGIGPGMANHNQFQQPQGVGYPPQQQQRMQHHMQQMQQGNMGQIGQLPQALGAEAGASLQAYQQRLLQQQMGSPVQPNPMSPQQHMLPNQAQSPHLQGQQIPNSLSNQVRSPQPVPSPRPQSQPPHSSPSPRMQPQPSPHHVSPQTSSPHPGLVAAQANPMEQGHFASPDQNSMLSQLASNPGMANLHGASATDLGLSTDNSDLNSNLSQSTLDIH'\n",
    "\n",
    "idrpos=[2093, 2414]"
   ]
  },
  {
   "cell_type": "code",
   "execution_count": 9,
   "metadata": {},
   "outputs": [
    {
     "name": "stdout",
     "output_type": "stream",
     "text": [
      "3            S2400*\n",
      "18      H2348Tfs*31\n",
      "21      H2324Tfs*29\n",
      "22      H2324Tfs*29\n",
      "28      S2304Qfs*74\n",
      "30           Q2298*\n",
      "31           Q2288*\n",
      "34      M2269Ifs*33\n",
      "35           R2263*\n",
      "36           R2263*\n",
      "38           Q2258*\n",
      "39           E2252*\n",
      "40           E2252*\n",
      "42           G2216*\n",
      "44           Q2215*\n",
      "49           R2185*\n",
      "51      H2172Qfs*37\n",
      "53           Q2167*\n",
      "54       Q2151Sfs*7\n",
      "61           Q2121*\n",
      "71           Q2048*\n",
      "101          C1771*\n",
      "102          Q1766*\n",
      "104    C1753Wfs*130\n",
      "112          Q1719*\n",
      "116          E1672*\n",
      "117     Q1648Sfs*61\n",
      "119     R1645Pfs*28\n",
      "120          R1645*\n",
      "121          R1645*\n",
      "Name: Protein Change, dtype: object\n",
      "['S2400*', 'H2348Tfs*31', 'H2324Tfs*29', 'H2324Tfs*29', 'S2304Qfs*74', 'Q2298*', 'Q2288*', 'M2269Ifs*33', 'R2263*', 'R2263*']\n",
      "Index(['Study of Origin', 'Sample ID', 'Cancer Type', 'Cancer Type Detailed',\n",
      "       'Protein Change', 'Annotation', 'Custom Driver', 'Custom Driver Tiers',\n",
      "       'Functional Impact', 'Mutation Type', 'Variant Type', 'Copy #',\n",
      "       'COSMIC', 'MS', 'VS', 'Center', 'Chromosome', 'Start Pos', 'End Pos',\n",
      "       'Ref', 'Var', 'HGVSg', 'HGVSc', 'Allele Freq (T)', 'Allele Freq (N)',\n",
      "       'Variant Reads', 'Ref Reads', 'Variant Reads (Normal)',\n",
      "       'Ref Reads (Normal)', '# Mut in Sample', 'Exon', 'gnomAD', 'ClinVar',\n",
      "       'dbSNP', 'SIGNAL', 'Diagnosis Age',\n",
      "       'Neoplasm Disease Stage American Joint Committee on Cancer Code',\n",
      "       'American Joint Committee on Cancer Publication Version Type',\n",
      "       'Aneuploidy Score', 'TCGA PanCanAtlas Cancer Type Acronym',\n",
      "       'Last Communication Contact from Initial Pathologic Diagnosis Date',\n",
      "       'Birth from Initial Pathologic Diagnosis Date',\n",
      "       'Last Alive Less Initial Pathologic Diagnosis Date Calculated Day Value',\n",
      "       'Disease Free (Months)', 'Disease Free Status',\n",
      "       'Months of disease-specific survival',\n",
      "       'Disease-specific Survival status', 'Ethnicity Category',\n",
      "       'Form completion date', 'Fraction Genome Altered',\n",
      "       'Genetic Ancestry Label', 'Neoplasm Histologic Grade',\n",
      "       'Neoadjuvant Therapy Type Administered Prior To Resection Text',\n",
      "       'ICD-10 Classification',\n",
      "       'International Classification of Diseases for Oncology, Third Edition ICD-O-3 Histology Code',\n",
      "       'International Classification of Diseases for Oncology, Third Edition ICD-O-3 Site Code',\n",
      "       'Informed consent verified', 'In PanCan Pathway Analysis',\n",
      "       'MSI MANTIS Score', 'MSIsensor Score',\n",
      "       'New Neoplasm Event Post Initial Therapy Indicator', 'Oncotree Code',\n",
      "       'Overall Survival (Months)', 'Overall Survival Status',\n",
      "       'Other Patient ID',\n",
      "       'American Joint Committee on Cancer Metastasis Stage Code',\n",
      "       'Neoplasm Disease Lymph Node Stage American Joint Committee on Cancer Code',\n",
      "       'American Joint Committee on Cancer Tumor Stage Code',\n",
      "       'Person Neoplasm Cancer Status', 'Progress Free Survival (Months)',\n",
      "       'Progression Free Status', 'Primary Lymph Node Presentation Assessment',\n",
      "       'Prior Diagnosis', 'Race Category', 'Radiation Therapy',\n",
      "       'Number of Samples Per Patient', 'Sample Type', 'Sex', 'Somatic Status',\n",
      "       'Subtype', 'Tissue Prospective Collection Indicator',\n",
      "       'Tissue Retrospective Collection Indicator', 'Tissue Source Site',\n",
      "       'Tissue Source Site Code', 'TMB (nonsynonymous)',\n",
      "       'Tumor Disease Anatomic Site', 'Tumor Type', 'Patient Weight',\n",
      "       'Buffa Hypoxia Score', 'Ragnum Hypoxia Score', 'Winter Hypoxia Score'],\n",
      "      dtype='object')\n",
      "['S2400*', 'H2348Tfs*31', 'H2324Tfs*29', 'H2324Tfs*29', 'S2304Qfs*74', 'Q2298*', 'Q2288*', 'M2269Ifs*33', 'R2263*', 'R2263*', 'Q2258*', 'E2252*', 'E2252*', 'G2216*', 'Q2215*', 'R2185*', 'H2172Qfs*37', 'Q2167*', 'Q2151Sfs*7', 'Q2121*']\n",
      "17\n",
      "17\n",
      "['S', 'H', 'H', 'S', 'Q', 'Q', 'M', 'R', 'Q', 'E', 'G', 'Q', 'R', 'H', 'Q', 'Q', 'Q']\n",
      "[2400, 2348, 2324, 2304, 2298, 2288, 2269, 2263, 2258, 2252, 2216, 2215, 2185, 2172, 2167, 2151, 2121]\n",
      "[307, 255, 231, 211, 205, 195, 176, 170, 165, 159, 123, 122, 92, 79, 74, 58, 28]\n",
      "[1, 1, 2, 1, 1, 1, 1, 2, 1, 2, 1, 1, 1, 1, 1, 1, 1]\n",
      "S\n",
      "H\n",
      "H\n",
      "S\n",
      "Q\n",
      "Q\n",
      "M\n",
      "R\n",
      "Q\n",
      "E\n",
      "G\n",
      "Q\n",
      "R\n",
      "H\n",
      "Q\n",
      "Q\n",
      "Q\n"
     ]
    }
   ],
   "source": [
    "ep300df=pd.read_table('data/EP300_cBioPortal_Driver_Mutations.tsv')\n",
    "ep300dfdriver=ep300df[ep300df['Annotation'].str.contains('OncoKB: Likely Oncogenic')]\n",
    "ep300dfVUS=ep300df[ep300df['Annotation'].str.contains('OncoKB: Unknown')]\n",
    "print(ep300dfdriver['Protein Change'].head(30))\n",
    "print(ep300dfdriver['Protein Change'].tolist()[0:10])\n",
    "\n",
    "print(ep300df.columns)\n",
    "#print(ep300df[['Protein Change','Annotation','Custom Driver','Custom Driver Tiers','Start Pos','End Pos']])\n",
    "#print(list(set(ep300df['Annotation'].tolist())))\n",
    "\n",
    "ep300idr11drivermuts=ep300dfdriver['Protein Change'].tolist()[0:20]\n",
    "print(ep300idr11drivermuts)\n",
    "\n",
    "fromaa=[]\n",
    "fromaanum=[]\n",
    "fromaanuminidr=[]\n",
    "muttypelist=[]\n",
    "mutnumoccur=[]\n",
    "uniep300idr11drivermuts=[]\n",
    "count=-1\n",
    "for i in range(0,len(ep300idr11drivermuts)):\n",
    "    if ep300idr11drivermuts[i] not in uniep300idr11drivermuts:\n",
    "        fromaa.append(ep300idr11drivermuts[i][0])\n",
    "        fromaanum.append(int(ep300idr11drivermuts[i][1:5]))\n",
    "        fromaanuminidr.append(int(ep300idr11drivermuts[i][1:5])-idrpos[0])\n",
    "        if ep300idr11drivermuts[i][5]=='*':\n",
    "            muttypelist.append('Nonsense')\n",
    "        elif ep300idr11drivermuts[i][6:8]=='fs':\n",
    "            muttypelist.append('Frameshift')\n",
    "        mutnumoccur.append(1)\n",
    "        count=count+1\n",
    "        uniep300idr11drivermuts.append(ep300idr11drivermuts[i])\n",
    "    else:\n",
    "        mutnumoccur[count]=mutnumoccur[count]+1\n",
    "    \n",
    "print(len(muttypelist))\n",
    "print(len(fromaa))\n",
    "print(fromaa)\n",
    "print(fromaanum)\n",
    "print(fromaanuminidr)\n",
    "print(mutnumoccur)\n",
    "\n",
    "for i in range(0,len(fromaanuminidr)):\n",
    "    print(ep300idr11seq[fromaanuminidr[i]])"
   ]
  },
  {
   "cell_type": "code",
   "execution_count": 10,
   "metadata": {},
   "outputs": [
    {
     "data": {
      "text/plain": [
       "Text(0.5, 1.0, 'EP300 C-terminal IDR')"
      ]
     },
     "execution_count": 10,
     "metadata": {},
     "output_type": "execute_result"
    },
    {
     "data": {
      "image/png": "[encoded data removed]",
      "text/plain": [
       "<Figure size 695.52x108 with 1 Axes>"
      ]
     },
     "metadata": {
      "needs_background": "light"
     },
     "output_type": "display_data"
    }
   ],
   "source": [
    "#myaa=['ED','K']\n",
    "myaa=['QM']\n",
    "\n",
    "myaalist='_'\n",
    "for a in range(0,len(myaa)):\n",
    "    subaa=myaa[a]\n",
    "    for i in range(0,len(subaa)):\n",
    "        myaalist=myaalist+subaa[i]+'_'\n",
    "\n",
    "shift=0.03\n",
    "\n",
    "currseq=ep300idr11seq\n",
    "\n",
    "## define Matplotlib figure and axis\n",
    "fig, ax = plt.subplots()\n",
    "fig.set_size_inches(len(currseq)*0.03,1+len(myaa)/2) # may need to change 0.05 to something smaller if using long IDRs\n",
    "\n",
    "## Plot particular amino acids\n",
    "for a in range(0,len(myaa)):\n",
    "\n",
    "    #tmp=0\n",
    "    tmp=a\n",
    "\n",
    "    #ax.plot([0, len(currseq)+1],[tmp+1, tmp+1.8],color='grey')\n",
    "\n",
    "    #add rectangle to plot for length of full sequence\n",
    "    ax.add_patch(Rectangle((0, tmp+1), len(currseq), 0.8, edgecolor = 'black', facecolor='#dddddd'))\n",
    "    \n",
    "    # Add IDR features\n",
    "    posaa=[i for i, ltr in enumerate(currseq) if ltr in myaa[a]]\n",
    "    for i in posaa:\n",
    "        ax.add_patch(Rectangle((i, tmp+1+shift), 1, 0.8-2*shift, color=aacolor_map[currseq[i]]))\n",
    "    \n",
    "\n",
    "    # Add mutations\n",
    "    ## ! Make size relative to number of occurrences ! ##\n",
    "    ## ! Make shape frame shift or nonsense ! ##\n",
    "    for i in range(0,len(fromaanuminidr)):\n",
    "        ax.plot([fromaanuminidr[i]+0.5,fromaanuminidr[i]+0.5],[tmp+1+0.8,tmp+1+1.2],'-',color='black')\n",
    "        if muttypelist[i]=='Nonsense':\n",
    "            ax.plot(fromaanuminidr[i]+0.5,tmp+1+1.2,'o',markerfacecolor='#dddddd',markeredgecolor='black',markersize=8+4*(mutnumoccur[i]-1))\n",
    "        elif muttypelist[i]=='Frameshift':\n",
    "            ax.plot(fromaanuminidr[i]+0.5,tmp+1+1.2,'D',markerfacecolor='#dddddd',markeredgecolor='black',markersize=8+4*(mutnumoccur[i]-1))\n",
    "        plt.text(fromaanuminidr[i]+0.7,tmp+1+1.4,uniep300idr11drivermuts[i],rotation=45) \n",
    "        \n",
    "ax.set_xlim([-5, len(currseq)+5])\n",
    "#ax.set_xlim([50,150])\n",
    "ax.set_ylim([0.5, tmp+3])\n",
    "plt.yticks(np.arange(1+0.4,len(myaa)+1,1),myaa)\n",
    "plt.xticks(np.arange(1,len(currseq),50),np.arange(idrpos[0],idrpos[1],50))\n",
    "ax.spines[['left','right', 'top']].set_visible(False)\n",
    "plt.title('EP300 C-terminal IDR')\n",
    "\n",
    "#whichsequnderscore=subgenes[whichseqpos].replace(\": \", \"_\")\n",
    "#plt.savefig('exceptional_grammar_top_genes/figures/exceptional_grammar_specific_proteins/EP300_IDR11_Q_M_mutations_full_protein_pos.pdf', transparent=True, bbox_inches = \"tight\")\n"
   ]
  },
  {
   "cell_type": "markdown",
   "metadata": {},
   "source": [
    "## 3.2 - Get number of Ms"
   ]
  },
  {
   "cell_type": "code",
   "execution_count": 11,
   "metadata": {},
   "outputs": [
    {
     "name": "stdout",
     "output_type": "stream",
     "text": [
      "ANSNPQPIPGQPGMPQGQPGLQPPTMPGQQGVHSNPAMQNMNPMQAGVQRAGLPQQQPQQQLQPPMGGMSPQAQQMNMNHNTMPSQFRDILRRQQMMQQQQQQGAGPGIGPGMANHNQFQQPQGVGYPPQQQQRMQHHMQQMQQGNMGQIGQLPQALGAEAGASLQAYQQRLLQQQMGSPVQPNPMSPQQHMLPNQAQSPHLQGQQIPNSLSNQVRSPQPVPSPRPQSQPPHSSPSPRMQPQPSPHHVSPQTSSPHPGLVAAQANPMEQGHFASPDQNSMLSQLASNPGMANLHGASATDLGLSTDNSDLNSNLSQSTLDIH\n",
      "S2400*\n",
      "ANSNPQPIPGQPGMPQGQPGLQPPTMPGQQGVHSNPAMQNMNPMQAGVQRAGLPQQQPQQQLQPPMGGMSPQAQQMNMNHNTMPSQFRDILRRQQMMQQQQQQGAGPGIGPGMANHNQFQQPQGVGYPPQQQQRMQHHMQQMQQGNMGQIGQLPQALGAEAGASLQAYQQRLLQQQMGSPVQPNPMSPQQHMLPNQAQSPHLQGQQIPNSLSNQVRSPQPVPSPRPQSQPPHSSPSPRMQPQPSPHHVSPQTSSPHPGLVAAQANPMEQGHFASPDQNSMLSQLASNPGMANLHGASATDLGLSTDN\n",
      "Q2298*\n",
      "ANSNPQPIPGQPGMPQGQPGLQPPTMPGQQGVHSNPAMQNMNPMQAGVQRAGLPQQQPQQQLQPPMGGMSPQAQQMNMNHNTMPSQFRDILRRQQMMQQQQQQGAGPGIGPGMANHNQFQQPQGVGYPPQQQQRMQHHMQQMQQGNMGQIGQLPQALGAEAGASLQAYQQRLLQQQMGSPVQPNPMSPQQHMLPNQAQSPHLQGQ\n",
      "Q2288*\n",
      "ANSNPQPIPGQPGMPQGQPGLQPPTMPGQQGVHSNPAMQNMNPMQAGVQRAGLPQQQPQQQLQPPMGGMSPQAQQMNMNHNTMPSQFRDILRRQQMMQQQQQQGAGPGIGPGMANHNQFQQPQGVGYPPQQQQRMQHHMQQMQQGNMGQIGQLPQALGAEAGASLQAYQQRLLQQQMGSPVQPNPMSPQQHMLPN\n",
      "R2263*\n",
      "ANSNPQPIPGQPGMPQGQPGLQPPTMPGQQGVHSNPAMQNMNPMQAGVQRAGLPQQQPQQQLQPPMGGMSPQAQQMNMNHNTMPSQFRDILRRQQMMQQQQQQGAGPGIGPGMANHNQFQQPQGVGYPPQQQQRMQHHMQQMQQGNMGQIGQLPQALGAEAGASLQAYQQ\n",
      "Q2258*\n",
      "ANSNPQPIPGQPGMPQGQPGLQPPTMPGQQGVHSNPAMQNMNPMQAGVQRAGLPQQQPQQQLQPPMGGMSPQAQQMNMNHNTMPSQFRDILRRQQMMQQQQQQGAGPGIGPGMANHNQFQQPQGVGYPPQQQQRMQHHMQQMQQGNMGQIGQLPQALGAEAGASL\n",
      "E2252*\n",
      "ANSNPQPIPGQPGMPQGQPGLQPPTMPGQQGVHSNPAMQNMNPMQAGVQRAGLPQQQPQQQLQPPMGGMSPQAQQMNMNHNTMPSQFRDILRRQQMMQQQQQQGAGPGIGPGMANHNQFQQPQGVGYPPQQQQRMQHHMQQMQQGNMGQIGQLPQALGA\n",
      "G2216*\n",
      "ANSNPQPIPGQPGMPQGQPGLQPPTMPGQQGVHSNPAMQNMNPMQAGVQRAGLPQQQPQQQLQPPMGGMSPQAQQMNMNHNTMPSQFRDILRRQQMMQQQQQQGAGPGIGPGMANHNQFQQPQ\n",
      "Q2215*\n",
      "ANSNPQPIPGQPGMPQGQPGLQPPTMPGQQGVHSNPAMQNMNPMQAGVQRAGLPQQQPQQQLQPPMGGMSPQAQQMNMNHNTMPSQFRDILRRQQMMQQQQQQGAGPGIGPGMANHNQFQQP\n",
      "R2185*\n",
      "ANSNPQPIPGQPGMPQGQPGLQPPTMPGQQGVHSNPAMQNMNPMQAGVQRAGLPQQQPQQQLQPPMGGMSPQAQQMNMNHNTMPSQFRDILR\n",
      "Q2167*\n",
      "ANSNPQPIPGQPGMPQGQPGLQPPTMPGQQGVHSNPAMQNMNPMQAGVQRAGLPQQQPQQQLQPPMGGMSPQAQ\n",
      "Q2121*\n",
      "ANSNPQPIPGQPGMPQGQPGLQPPTMPG\n",
      "   Seq Name  Num M    Frac M\n",
      "0        WT     24  0.074534\n",
      "1    S2400*     24  0.078176\n",
      "2    Q2298*     20  0.097561\n",
      "3    Q2288*     20  0.102564\n",
      "4    R2263*     17  0.100000\n",
      "5    Q2258*     17  0.103030\n",
      "6    E2252*     17  0.106918\n",
      "7    G2216*     13  0.105691\n",
      "8    Q2215*     13  0.106557\n",
      "9    R2185*     10  0.108696\n",
      "10   Q2167*      7  0.094595\n",
      "11   Q2121*      2  0.071429\n"
     ]
    },
    {
     "data": {
      "text/plain": [
       "([<matplotlib.axis.XTick at 0x1480f6bc5f50>,\n",
       "  <matplotlib.axis.XTick at 0x1480f6bc5810>,\n",
       "  <matplotlib.axis.XTick at 0x1480f6bdf1d0>,\n",
       "  <matplotlib.axis.XTick at 0x1480f68e7f50>,\n",
       "  <matplotlib.axis.XTick at 0x1480f6883d10>,\n",
       "  <matplotlib.axis.XTick at 0x1480f6890910>,\n",
       "  <matplotlib.axis.XTick at 0x1480f689b310>,\n",
       "  <matplotlib.axis.XTick at 0x1480f689b250>,\n",
       "  <matplotlib.axis.XTick at 0x1480f689ba50>,\n",
       "  <matplotlib.axis.XTick at 0x1480f68a5610>,\n",
       "  <matplotlib.axis.XTick at 0x1480f68a5950>,\n",
       "  <matplotlib.axis.XTick at 0x1480f68a5e50>],\n",
       " [Text(0, 0, 'WT'),\n",
       "  Text(1, 0, 'S2400*'),\n",
       "  Text(2, 0, 'Q2298*'),\n",
       "  Text(3, 0, 'Q2288*'),\n",
       "  Text(4, 0, 'R2263*'),\n",
       "  Text(5, 0, 'Q2258*'),\n",
       "  Text(6, 0, 'E2252*'),\n",
       "  Text(7, 0, 'G2216*'),\n",
       "  Text(8, 0, 'Q2215*'),\n",
       "  Text(9, 0, 'R2185*'),\n",
       "  Text(10, 0, 'Q2167*'),\n",
       "  Text(11, 0, 'Q2121*')])"
      ]
     },
     "execution_count": 11,
     "metadata": {},
     "output_type": "execute_result"
    },
    {
     "data": {
      "image/png": "[encoded data removed]",
      "text/plain": [
       "<Figure size 360x216 with 1 Axes>"
      ]
     },
     "metadata": {
      "needs_background": "light"
     },
     "output_type": "display_data"
    }
   ],
   "source": [
    "whichaa='M'\n",
    "tmpseqnamelist=['WT']\n",
    "tmpnumQ=[ep300idr11seq.count(whichaa)]\n",
    "tmpseqs=[ep300idr11seq]\n",
    "tmpfracQ=[ep300idr11seq.count(whichaa)/len(ep300idr11seq)]\n",
    "print(ep300idr11seq)\n",
    "\n",
    "for i in range(0,len(uniep300idr11drivermuts)):\n",
    "    if muttypelist[i]=='Nonsense':\n",
    "        tmpseqnamelist.append(uniep300idr11drivermuts[i])\n",
    "        tmpseq=ep300idr11seq[0:fromaanuminidr[i]]\n",
    "        print(uniep300idr11drivermuts[i])\n",
    "        print(tmpseq)\n",
    "        tmpnumQ.append(tmpseq.count(whichaa))\n",
    "        tmpseqs.append(tmpseq)\n",
    "        tmpfracQ.append(tmpseq.count(whichaa)/len(tmpseq))\n",
    "\n",
    "dfnumQ=pd.DataFrame()\n",
    "dfnumQ['Seq Name']=tmpseqnamelist\n",
    "dfnumQ['Num '+whichaa]=tmpnumQ\n",
    "dfnumQ['Frac '+whichaa]=tmpfracQ\n",
    "\n",
    "dfnumQ=dfnumQ.sort_values(by='Num '+whichaa,ascending=False)\n",
    "print(dfnumQ)\n",
    "\n",
    "plt.figure(figsize=(5,3))\n",
    "plt.bar(np.arange(0,len(tmpnumQ),1),dfnumQ['Num '+whichaa].tolist(),edgecolor='black',facecolor='#dddddd')\n",
    "plt.ylabel('Number of '+whichaa)\n",
    "plt.xticks(np.arange(0,len(tmpnumQ),1),dfnumQ['Seq Name'].tolist(),rotation=45)\n",
    "\n",
    "#plt.savefig('exceptional_grammar_top_genes/figures/exceptional_grammar_specific_proteins/EP300_IDR11_numM_all_nonsense.pdf', transparent=True, bbox_inches = \"tight\")\n"
   ]
  },
  {
   "cell_type": "code",
   "execution_count": null,
   "metadata": {},
   "outputs": [],
   "source": []
  }
 ],
 "metadata": {
  "kernelspec": {
   "display_name": "Python 3",
   "language": "python",
   "name": "python3"
  },
  "language_info": {
   "codemirror_mode": {
    "name": "ipython",
    "version": 3
   },
   "file_extension": ".py",
   "mimetype": "text/x-python",
   "name": "python",
   "nbconvert_exporter": "python",
   "pygments_lexer": "ipython3",
   "version": "3.7.7"
  }
 },
 "nbformat": 4,
 "nbformat_minor": 4
}
