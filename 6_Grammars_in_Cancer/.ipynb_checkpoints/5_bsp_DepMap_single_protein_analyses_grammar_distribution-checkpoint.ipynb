{
 "cells": [
  {
   "cell_type": "markdown",
   "metadata": {},
   "source": [
    "# Part 0: Load in libraries"
   ]
  },
  {
   "cell_type": "code",
   "execution_count": 7,
   "metadata": {},
   "outputs": [
    {
     "name": "stdout",
     "output_type": "stream",
     "text": [
      "/home/research/kiersten.ruff/fonts/ARIAL.TTF\n"
     ]
    }
   ],
   "source": [
    "import numpy as np\n",
    "import pandas as pd\n",
    "import seaborn as sbn\n",
    "import matplotlib as mpl\n",
    "import matplotlib.pyplot as plt\n",
    "from matplotlib import cm\n",
    "import localcider\n",
    "from localcider.sequenceParameters import SequenceParameters\n",
    "import re\n",
    "import math\n",
    "import scipy\n",
    "from scipy.stats import ks_2samp\n",
    "from matplotlib.patches import Rectangle\n",
    "import pathlib\n",
    "from matplotlib import font_manager\n",
    "from scipy.stats import fisher_exact\n",
    "from sklearn.linear_model import LinearRegression\n",
    "import statsmodels.api as sm\n",
    "import statsmodels.formula.api as smf\n",
    "\n",
    "# Setup the fonts\n",
    "fonts_path = pathlib.Path.home().joinpath('fonts') # i.e. `~/fonts` (update as needed)\n",
    "font_filename = 'ARIAL.TTF'\n",
    "font_path = fonts_path.joinpath(font_filename)\n",
    "print(font_path)\n",
    "\n",
    "font_manager.fontManager.addfont(str(font_path))\n",
    "prop = font_manager.FontProperties(fname=font_path)\n",
    "\n",
    "plt.rcParams['font.family'] = 'sans-serif'\n",
    "plt.rcParams['font.sans-serif'] = prop.get_name()\n",
    "plt.rcParams['pdf.fonttype'] = 42 # Makes text editiable\n",
    "plt.rcParams['ps.fonttype'] = 42\n",
    "\n",
    "COLOR_MAP = dict()\n",
    "COLOR_MAP['A']         = '#8c8c8c'\n",
    "COLOR_MAP['CHNQST']    = '#077a15'\n",
    "COLOR_MAP['DE']        = '#e23a36'\n",
    "COLOR_MAP['FWY']       = '#f58220'\n",
    "COLOR_MAP['G']         = '#86bd8d'\n",
    "COLOR_MAP['ILMV']      = '#231f20'\n",
    "COLOR_MAP['KR']        = '#1725c2'\n",
    "COLOR_MAP['P']         = '#c25fc9'\n",
    "\n",
    "\n",
    "# Using the global color map, we convert the colormap of amino acid\n",
    "# groups, to a map against individual amino acids. This\n",
    "# serves as our internal color map which is used for styling.\n",
    "aacolor_map=dict()\n",
    "for amino_acids in COLOR_MAP:\n",
    "    for amino_acid in amino_acids:\n",
    "        aacolor_map[amino_acid] = COLOR_MAP[amino_acids]"
   ]
  },
  {
   "cell_type": "markdown",
   "metadata": {},
   "source": [
    "# Part 1: Load in human IDRome data"
   ]
  },
  {
   "cell_type": "code",
   "execution_count": 8,
   "metadata": {
    "scrolled": true
   },
   "outputs": [
    {
     "name": "stdout",
     "output_type": "stream",
     "text": [
      "Unnamed: 0              False\n",
      "Uniprot                 False\n",
      "Uniprot w IDRnum        False\n",
      "Gene                    False\n",
      "Cluster Number          False\n",
      "IDR Length              False\n",
      "Start Pos               False\n",
      "End Pos                 False\n",
      "Full Protein Length     False\n",
      "Min Inter Clust Dist    False\n",
      "IDR Position            False\n",
      "HPA Location             True\n",
      "Sequence                False\n",
      "dtype: bool\n",
      "       Unnamed: 0 Uniprot Uniprot w IDRnum            Gene  Cluster Number  \\\n",
      "0               0  G5E9R7         G5E9R7_1  KRTAP4-16 IDR1              27   \n",
      "1               1  Q9NRJ4         Q9NRJ4_1      TULP4 IDR1              17   \n",
      "2               2  Q9NRJ4         Q9NRJ4_2      TULP4 IDR2               1   \n",
      "3               3  Q9NRJ4         Q9NRJ4_3      TULP4 IDR3              27   \n",
      "4               4  Q9NRJ4         Q9NRJ4_4      TULP4 IDR4              27   \n",
      "...           ...     ...              ...             ...             ...   \n",
      "24503       24503  Q7Z739         Q7Z739_2     YTHDF3 IDR2              11   \n",
      "24504       24504  Q17RB8         Q17RB8_1     LONRF1 IDR1              29   \n",
      "24505       24505  Q17RB8         Q17RB8_2     LONRF1 IDR2              24   \n",
      "24506       24506  Q6P1J9         Q6P1J9_1      CDC73 IDR1              17   \n",
      "24507       24507  Q6P1J9         Q6P1J9_2      CDC73 IDR2              17   \n",
      "\n",
      "       IDR Length  Start Pos  End Pos  Full Protein Length  \\\n",
      "0              53        182      235                  235   \n",
      "1              50        527      577                 1543   \n",
      "2              43        767      810                 1543   \n",
      "3              34        828      862                 1543   \n",
      "4              36        993     1029                 1543   \n",
      "...           ...        ...      ...                  ...   \n",
      "24503         163        214      377                  585   \n",
      "24504          31          0       31                  773   \n",
      "24505          53        354      407                  773   \n",
      "24506          43        256      299                  531   \n",
      "24507          42        319      361                  531   \n",
      "\n",
      "       Min Inter Clust Dist    IDR Position              HPA Location  \\\n",
      "0                  8.592811  C-terminal IDR                             \n",
      "1                 14.569964      Linker IDR                             \n",
      "2                  4.777867      Linker IDR                             \n",
      "3                  0.753103      Linker IDR                             \n",
      "4                  3.491170      Linker IDR                             \n",
      "...                     ...             ...                       ...   \n",
      "24503             21.489673      Linker IDR                             \n",
      "24504              9.140638  N-terminal IDR  Cytosol, Plasma membrane   \n",
      "24505              2.253672      Linker IDR  Cytosol, Plasma membrane   \n",
      "24506              4.035674      Linker IDR               Nucleoplasm   \n",
      "24507              2.159379      Linker IDR               Nucleoplasm   \n",
      "\n",
      "                                                Sequence  \n",
      "0      LPSPPRPSPPLLSPVLIPSPSPSPSLPSLSPPLPSPPLPSPHFPSV...  \n",
      "1      KKSPKISRASKSPKLPRISIEARKSPKLPRAAQELSRSPRLPLRKP...  \n",
      "2            QNPPPLSLPPPPQGPMQLSTVGHGDRDHEHLQKSAKALRPTPQ  \n",
      "3                     TKINPPPPYPGTIPAAPTTAAPPPPLPPPQPPVD  \n",
      "4                   ATLKMAQLADSPRAPLQPLAKSKGGPGGVVTQLPAR  \n",
      "...                                                  ...  \n",
      "24503  SGMTSIATNSVPPVSSAAPKPTSWAAIARKPAKPQPKLKPKGNVGI...  \n",
      "24504                    MSSPAVARTSPGGSREMAPAPQGRGRFWEVG  \n",
      "24505  HSVMEESQSLNEPSPKQSEEIPEVTSEPVKGSLNRAQSAQSINSTE...  \n",
      "24506        KAREEGRAPEQRPAPNAAPVDPTLRTKQPIPAAYNRYDQERFK  \n",
      "24507         LKSVTEGASARKTQTPAAQPVPRPVSQARPPPNQKKGSRTPI  \n",
      "\n",
      "[24508 rows x 13 columns]\n"
     ]
    }
   ],
   "source": [
    "humandf=pd.read_excel('../general_data/All_sapiens_IDRs_clustermap_using_centroids.xlsx')\n",
    "\n",
    "print(humandf.isnull().any())\n",
    "humandf = humandf.fillna('')\n",
    "\n",
    "fullaccs=humandf['Uniprot'].tolist()\n",
    "fullaccswnums=humandf['Uniprot w IDRnum'].tolist()\n",
    "fullgeneswnums=humandf['Gene'].tolist()\n",
    "fullclusternum=humandf['Cluster Number'].tolist()\n",
    "fullseqlens=humandf['IDR Length'].tolist()\n",
    "fullstpos=humandf['Start Pos'].tolist()\n",
    "fullenpos=humandf['End Pos'].tolist()\n",
    "fullproteinlength=humandf['Full Protein Length'].tolist()\n",
    "fullmininterclustdist=humandf['Min Inter Clust Dist'].tolist()\n",
    "fulltermini=humandf['IDR Position'].tolist()\n",
    "fulllocationbyunistring=humandf['HPA Location'].tolist()\n",
    "fullseqs=humandf['Sequence'].tolist()\n",
    "\n",
    "print(humandf)\n",
    "\n",
    "fullgenes=[]\n",
    "for i in range(0,len(fullgeneswnums)):\n",
    "    tmp=fullgeneswnums[i].split(' ')\n",
    "    fullgenes.append(tmp[0])\n",
    "\n",
    "humandf['Gene no Num']=fullgenes"
   ]
  },
  {
   "cell_type": "code",
   "execution_count": 9,
   "metadata": {},
   "outputs": [
    {
     "name": "stdout",
     "output_type": "stream",
     "text": [
      "90\n",
      "(24508, 90)\n"
     ]
    }
   ],
   "source": [
    "# make sure features match\n",
    "myfeat=['pol-pol','pol-hyd','pol-pos','pol-neg','pol-aro','pol-ala','pol-pro','pol-gly','hyd-hyd','hyd-pos','hyd-neg','hyd-aro','hyd-ala','hyd-pro','hyd-gly','pos-pos','pos-neg','pos-aro','pos-ala','pos-pro','pos-gly','neg-neg','neg-aro','neg-ala','neg-pro','neg-gly','aro-aro','aro-ala','aro-pro','aro-gly','ala-ala','ala-pro','ala-gly','pro-pro','pro-gly','gly-gly','Frac A','Frac C','Frac D','Frac E','Frac F','Frac G','Frac H','Frac I','Frac K','Frac L','Frac M','Frac N','Frac P','Frac Q','Frac R','Frac S','Frac T','Frac V','Frac W','Frac Y','Frac K+R','Frac D+E','Frac Polar','Frac Aliphatic','Frac Aromatic','R/K Ratio','E/D Ratio','Frac Chain Expanding','FCR','NCPR','Hydrophobicity','Disorder Promoting','Iso point','PPII','A Patch','C Patch','D Patch','E Patch','F Patch','G Patch','H Patch','I Patch','K Patch','L Patch','M Patch','N Patch','P Patch','Q Patch','R Patch','S Patch','T Patch','V Patch','Y Patch','RG Frac']\n",
    "print(len(myfeat))\n",
    "\n",
    "# Load in z-scores for all human IDRs\n",
    "# Made in /project/fava/work/kiersten.ruff/Collaborations/Su/2023/Library_design/map_clusters_for_all_human_IDRs.ipynb\n",
    "fullzvec=np.load('../general_data/sapiens_full_idrome_gte_30_nardini_compositional_RtoK.npy')\n",
    "print(fullzvec.shape)"
   ]
  },
  {
   "cell_type": "code",
   "execution_count": 10,
   "metadata": {
    "scrolled": true
   },
   "outputs": [
    {
     "name": "stdout",
     "output_type": "stream",
     "text": [
      "Unnamed: 0              False\n",
      "Uniprot                 False\n",
      "Uniprot w IDRnum        False\n",
      "Gene                    False\n",
      "Cluster Number          False\n",
      "IDR Length              False\n",
      "Start Pos               False\n",
      "End Pos                 False\n",
      "Full Protein Length     False\n",
      "Min Inter Clust Dist    False\n",
      "IDR Position            False\n",
      "HPA Location            False\n",
      "Sequence                False\n",
      "Gene no Num             False\n",
      "dtype: bool\n",
      "       Unnamed: 0 Uniprot Uniprot w IDRnum            Gene  Cluster Number  \\\n",
      "0               0  G5E9R7         G5E9R7_1  KRTAP4-16 IDR1              27   \n",
      "7               7  Q9NRJ4         Q9NRJ4_7      TULP4 IDR7              23   \n",
      "8               8  Q5MIZ7         Q5MIZ7_1    PPP4R3B IDR1              18   \n",
      "12             12  Q9NQ76         Q9NQ76_1       MEPE IDR1               4   \n",
      "14             14  Q9NQ76         Q9NQ76_3       MEPE IDR3              24   \n",
      "...           ...     ...              ...             ...             ...   \n",
      "24498       24498  Q6ZSZ5         Q6ZSZ5_4   ARHGEF18 IDR4              27   \n",
      "24500       24500  Q6ZSZ5         Q6ZSZ5_6   ARHGEF18 IDR6               1   \n",
      "24501       24501  Q7Z2R9         Q7Z2R9_1  SSBP3-AS1 IDR1              29   \n",
      "24502       24502  Q7Z739         Q7Z739_1     YTHDF3 IDR1               3   \n",
      "24503       24503  Q7Z739         Q7Z739_2     YTHDF3 IDR2              11   \n",
      "\n",
      "       IDR Length  Start Pos  End Pos  Full Protein Length  \\\n",
      "0              53        182      235                  235   \n",
      "7              93       1362     1455                 1543   \n",
      "8             140        709      849                  849   \n",
      "12            112         20      132                  525   \n",
      "14             99        233      332                  525   \n",
      "...           ...        ...      ...                  ...   \n",
      "24498          77        952     1029                 1173   \n",
      "24500          92       1081     1173                 1173   \n",
      "24501          55         45      100                  100   \n",
      "24502          55          0       55                  585   \n",
      "24503         163        214      377                  585   \n",
      "\n",
      "       Min Inter Clust Dist    IDR Position                   HPA Location  \\\n",
      "0                  8.592811  C-terminal IDR                                  \n",
      "7                  6.154491      Linker IDR                                  \n",
      "8                 15.241590  C-terminal IDR  Nuclear speckles, Nucleoplasm   \n",
      "12                 3.322485      Linker IDR                                  \n",
      "14                 2.135569      Linker IDR                                  \n",
      "...                     ...             ...                            ...   \n",
      "24498              1.858534      Linker IDR                        Cytosol   \n",
      "24500             22.812167  C-terminal IDR                        Cytosol   \n",
      "24501              0.488506  C-terminal IDR                                  \n",
      "24502              7.864178  N-terminal IDR                                  \n",
      "24503             21.489673      Linker IDR                                  \n",
      "\n",
      "                                                Sequence Gene no Num  \n",
      "0      LPSPPRPSPPLLSPVLIPSPSPSPSLPSLSPPLPSPPLPSPHFPSV...   KRTAP4-16  \n",
      "7      RTLSDFNSLISSPHLGREKKKVKSQKDQLKSKKLNKTNEFQDSSES...       TULP4  \n",
      "8      EEDEEMWFNEDEEEEGKAVVAPVEKPKPEDDFPDNYEKFMETKKAK...     PPP4R3B  \n",
      "12     QPQTEKTKQSCVEEQRQEEKNKDNIGFHHLGKRINQELSSKENIVQ...        MEPE  \n",
      "14     SDFEGSGYTDLQERGDNDISPFSGDGQPFKDIPGKGEATGPDLEGK...        MEPE  \n",
      "...                                                  ...         ...  \n",
      "24498  RRLKKQNTAPGALPPDTLAEAQPPSHPPSFNGEGLEGPRVSMLPSG...    ARHGEF18  \n",
      "24500  QLLLNKLMGKDESTSRNRRSLSPILPGRHSPAPPPDPGFPAPSPPP...    ARHGEF18  \n",
      "24501  RGLTRGVIRVSPQERSQQNQSAPKGPTPSTRPKPRTLGPQAHSLAL...   SSBP3-AS1  \n",
      "24502  MSATSVDQRPKGQGNKVSVQNGSIHQKDAVNDDDFEPYLSSQTNQS...      YTHDF3  \n",
      "24503  SGMTSIATNSVPPVSSAAPKPTSWAAIARKPAKPQPKLKPKGNVGI...      YTHDF3  \n",
      "\n",
      "[10091 rows x 14 columns]\n"
     ]
    }
   ],
   "source": [
    "minidrlength=50\n",
    "minidrlinkerlength=70\n",
    "\n",
    "subidrsdfNODIST=humandf[humandf['IDR Length']>=minidrlength]\n",
    "subidrsdfNODIST=subidrsdfNODIST[ (subidrsdfNODIST['IDR Length']>=minidrlinkerlength) | (subidrsdfNODIST['IDR Position'].isin(['IDR','N-terminal IDR','C-terminal IDR'])) ]\n",
    "print(subidrsdfNODIST.isnull().any())\n",
    "subidrsdfNODIST = subidrsdfNODIST.fillna('')\n",
    "print(subidrsdfNODIST)\n",
    "\n",
    "subaccsNODIST=subidrsdfNODIST['Uniprot'].tolist()\n",
    "subaccswnumsNODIST=subidrsdfNODIST['Uniprot w IDRnum'].tolist()\n",
    "subgeneswnumsNODIST=subidrsdfNODIST['Gene'].tolist()\n",
    "subclustersNODIST=subidrsdfNODIST['Cluster Number'].tolist()\n",
    "subseqlensNODIST=subidrsdfNODIST['IDR Length'].tolist()\n",
    "substposNODIST=subidrsdfNODIST['Start Pos'].tolist()\n",
    "subenposNODIST=subidrsdfNODIST['End Pos'].tolist()\n",
    "subproteinlengthNODIST=subidrsdfNODIST['Full Protein Length'].tolist()\n",
    "submininterclustdistNODIST=subidrsdfNODIST['Min Inter Clust Dist'].tolist()\n",
    "subterminiNODIST=subidrsdfNODIST['IDR Position'].tolist()\n",
    "subseqsNODIST=subidrsdfNODIST['Sequence'].tolist()\n",
    "sublocstringNODIST=subidrsdfNODIST['HPA Location'].tolist()\n",
    "subgenesNODIST=subidrsdfNODIST['Gene no Num'].tolist()\n",
    "\n",
    "\n",
    "sublocationbyunistringNODIST=sublocstringNODIST\n",
    "\n",
    "#print(subgenesNODIST)"
   ]
  },
  {
   "cell_type": "code",
   "execution_count": 11,
   "metadata": {},
   "outputs": [
    {
     "name": "stdout",
     "output_type": "stream",
     "text": [
      "(10091, 90)\n"
     ]
    }
   ],
   "source": [
    "subzvec=np.zeros((len(subaccswnumsNODIST),len(myfeat)))\n",
    "\n",
    "for i in range(0,len(subaccswnumsNODIST)):\n",
    "    idx=fullaccswnums.index(subaccswnumsNODIST[i])\n",
    "    subzvec[i,:]=fullzvec[idx,:]\n",
    "    \n",
    "print(np.shape(subzvec))\n",
    "#print(subzvec[0,:])\n",
    "#print(fullzvec[0,:])\n",
    "#print(subzvec[10090,:])"
   ]
  },
  {
   "cell_type": "markdown",
   "metadata": {},
   "source": [
    "# Part 2: Load in DepMap Data"
   ]
  },
  {
   "cell_type": "markdown",
   "metadata": {},
   "source": [
    "## 2.1 - Current gene of interest"
   ]
  },
  {
   "cell_type": "code",
   "execution_count": 12,
   "metadata": {},
   "outputs": [],
   "source": [
    "currgene='MAML3'\n",
    "corrcoff=0.1"
   ]
  },
  {
   "cell_type": "markdown",
   "metadata": {},
   "source": [
    "## 2.2 - Load in correlated genes"
   ]
  },
  {
   "cell_type": "code",
   "execution_count": 13,
   "metadata": {
    "scrolled": true
   },
   "outputs": [
    {
     "name": "stdout",
     "output_type": "stream",
     "text": [
      "          Cor        PValue        QValue    label  numCellLines\n",
      "0    1.000000  0.000000e+00  0.000000e+00    MAML3          1150\n",
      "172  0.200424  6.933758e-12  2.965395e-08   KNSTRN          1150\n",
      "174  0.196789  1.672077e-11  4.623830e-08    OPRD1          1150\n",
      "176  0.196273  1.892021e-11  4.623830e-08     FLNA          1150\n",
      "189  0.185589  2.268695e-10  4.851321e-07     CTRC          1150\n",
      "..        ...           ...           ...      ...           ...\n",
      "873  0.100476  6.442753e-04  9.447256e-03  ADAMTS2          1150\n",
      "874  0.100474  6.444700e-04  9.447256e-03   ZNF304          1150\n",
      "875  0.100397  6.506837e-04  9.513886e-03    HERC6          1150\n",
      "876  0.100183  6.683651e-04  9.739116e-03    SLIRP          1150\n",
      "877  0.100160  6.702805e-04  9.758714e-03  SYNGAP1          1150\n",
      "\n",
      "[584 rows x 5 columns]\n",
      "583\n",
      "KNSTRN\n",
      "OPRD1\n",
      "FLNA\n",
      "CTRC\n",
      "MEGF9\n",
      "GPX3\n",
      "PLXND1\n",
      "IRX2\n",
      "GABRR1\n",
      "ISL1\n",
      "ACP1\n",
      "TNIK\n",
      "LRP11\n",
      "ZNF764\n",
      "GPR26\n",
      "ENPP6\n",
      "INSYN2B\n",
      "ZIC4\n",
      "SVOPL\n",
      "GSE1\n",
      "SLC8A1\n",
      "ZXDC\n",
      "EDEM1\n",
      "CREB1\n",
      "GPX6\n",
      "LDB1\n",
      "JAKMIP1\n",
      "SGSM2\n",
      "AMIGO3\n",
      "HTR5A\n",
      "CREB5\n",
      "ARHGAP39\n",
      "PCDHB10\n",
      "MAPK4\n",
      "HEXD\n",
      "THSD7A\n",
      "RHCE\n",
      "FAT1\n",
      "C14orf180\n",
      "WNT3\n",
      "COPS7B\n",
      "EDN3\n",
      "ABI3\n",
      "ITGAE\n",
      "MT1B\n",
      "SGK2\n",
      "RNF166\n",
      "P2RX6\n",
      "CBX2\n",
      "KRTAP10-10\n",
      "RALGDS\n",
      "RDH14\n",
      "ITPKB\n",
      "MADCAM1\n",
      "PIWIL2\n",
      "ZNF385B\n",
      "CPLX3\n",
      "PRKAR1B\n",
      "MSRB1\n",
      "GPR62\n",
      "LVRN\n",
      "PGRMC1\n",
      "CALU\n",
      "CARHSP1\n",
      "LTB\n",
      "LRBA\n",
      "PDCD4\n",
      "TRIM47\n",
      "DUSP5\n",
      "ATP13A5\n",
      "PSCA\n",
      "ATG4D\n",
      "PSD2\n",
      "C10orf67\n",
      "TYMP\n",
      "GDF6\n",
      "PRDM4\n",
      "WNT7B\n",
      "ADAMTS17\n",
      "FAM168A\n",
      "SNX20\n",
      "LBR\n",
      "WDR20\n",
      "BCL2\n",
      "GREM2\n",
      "ANKMY1\n",
      "GH2\n",
      "SLC25A38\n",
      "TRIB2\n",
      "COL4A2\n",
      "FGB\n",
      "CHRM3\n",
      "KCNF1\n",
      "C19orf84\n",
      "KAT2B\n",
      "FRMD8\n",
      "KRTAP9-6\n",
      "ZCCHC24\n",
      "CYGB\n",
      "SRL\n",
      "PFN3\n",
      "RNF43\n",
      "PLXNA4\n",
      "TRIM24\n",
      "AKAIN1\n",
      "LCMT2\n",
      "SLC10A3\n",
      "CLIP1\n",
      "ACAP3\n",
      "ZFPM1\n",
      "LTBP1\n",
      "RGS14\n",
      "EDA\n",
      "KLHL21\n",
      "C5orf46\n",
      "TECTA\n",
      "AKAP11\n",
      "ABCA7\n",
      "MYCN\n",
      "LIPT2\n",
      "SLC35A4\n",
      "ISG20\n",
      "TNNC2\n",
      "SYNGR3\n",
      "CRYAA\n",
      "SAMD5\n",
      "GSC\n",
      "ARHGAP45\n",
      "PARP12\n",
      "CRYM\n",
      "GPR27\n",
      "MPP4\n",
      "CYP11B2\n",
      "GALNT9\n",
      "LAMP1\n",
      "SH3BP1\n",
      "EVC\n",
      "RSF1\n",
      "FAT2\n",
      "MAFB\n",
      "MB21D2\n",
      "NRSN2\n",
      "NIPAL4\n",
      "HBM\n",
      "FAM43A\n",
      "PHLDA3\n",
      "PIM3\n",
      "SOX21\n",
      "PUSL1\n",
      "FAHD1\n",
      "BHLHE41\n",
      "SOX14\n",
      "MAL\n",
      "CACNA2D3\n",
      "SLC7A11\n",
      "NACC2\n",
      "LDLRAP1\n",
      "CATIP\n",
      "KCTD12\n",
      "UBTD1\n",
      "CYP26B1\n",
      "NAA30\n",
      "PCARE\n",
      "KIF17\n",
      "MFSD3\n",
      "NT5C2\n",
      "SLC38A8\n",
      "HAND1\n",
      "INSIG1\n",
      "PHOX2A\n",
      "NRG2\n",
      "THPO\n",
      "GEM\n",
      "LFNG\n",
      "AFF4\n",
      "STON1\n",
      "NDUFA9\n",
      "ANO7\n",
      "TRABD\n",
      "TMEM231\n",
      "WDFY4\n",
      "AQP5\n",
      "CAVIN1\n",
      "PDZRN3\n",
      "SNTB1\n",
      "ADAD2\n",
      "HPCAL1\n",
      "GAL3ST2\n",
      "MED22\n",
      "RYR3\n",
      "PDE3A\n",
      "HLA-G\n",
      "HBZ\n",
      "PRSS37\n",
      "PTPN14\n",
      "TNFRSF14\n",
      "NADK\n",
      "ASB15\n",
      "CHADL\n",
      "WDR33\n",
      "SAXO5\n",
      "GALR2\n",
      "AP3B2\n",
      "DCTD\n",
      "TPO\n",
      "LMNB2\n",
      "TENM3\n",
      "PRR23A\n",
      "C3orf52\n",
      "ITPRIPL2\n",
      "PSKH1\n",
      "RPEL1\n",
      "ANO9\n",
      "PILRA\n",
      "GPC4\n",
      "ZNF584\n",
      "ACTL10\n",
      "GJB5\n",
      "TTC39A\n",
      "TSKS\n",
      "SYNJ2\n",
      "CFAP141\n",
      "FBP1\n",
      "CALHM5\n",
      "CHST3\n",
      "TSHZ1\n",
      "FCRL6\n",
      "LRRN4\n",
      "ZNF84\n",
      "TCTN2\n",
      "EPHB2\n",
      "OTP\n",
      "SPAG1\n",
      "NCS1\n",
      "MSI2\n",
      "UNK\n",
      "ASB5\n",
      "AQP1\n",
      "TLNRD1\n",
      "LGMN\n",
      "E4F1\n",
      "AJAP1\n",
      "NEIL3\n",
      "GJC1\n",
      "DHRS2\n",
      "POU3F4\n",
      "DDO\n",
      "PTH2\n",
      "XKR8\n",
      "NFAM1\n",
      "ZFYVE28\n",
      "MCRS1\n",
      "PRSS58\n",
      "MANBA\n",
      "MICALL2\n",
      "KCNK13\n",
      "KNDC1\n",
      "ABHD17C\n",
      "GCAT\n",
      "ANOS1\n",
      "DENND1A\n",
      "RNF175\n",
      "JOSD2\n",
      "ZNF513\n",
      "EGFL6\n",
      "KLRG2\n",
      "COL6A3\n",
      "LRRK2\n",
      "MAMLD1\n",
      "MYO16\n",
      "ANKRD61\n",
      "CSF2RB\n",
      "LPAR5\n",
      "STMND1\n",
      "ERN1\n",
      "PLK3\n",
      "KL\n",
      "FRAS1\n",
      "INSM1\n",
      "HPGDS\n",
      "ADGRA2\n",
      "GJB1\n",
      "LAMA4\n",
      "CLDN15\n",
      "ATAD3C\n",
      "PMF1\n",
      "TTC13\n",
      "HAND2\n",
      "HLA-DPA1\n",
      "PHLPP1\n",
      "MMP14\n",
      "TNFRSF13C\n",
      "GFRA4\n",
      "ATP5MG\n",
      "ATP8B1\n",
      "DISP3\n",
      "EID3\n",
      "PATZ1\n",
      "ANHX\n",
      "ACOT7\n",
      "SDF4\n",
      "EIF2B5\n",
      "STOX2\n",
      "H4C13\n",
      "JPH3\n",
      "POPDC2\n",
      "FLT4\n",
      "QRICH2\n",
      "PIEZO1\n",
      "CBX8\n",
      "KCNJ5\n",
      "CDC42BPG\n",
      "CDH17\n",
      "TMEM88\n",
      "KRT85\n",
      "TMIGD2\n",
      "RNF2\n",
      "KCNK1\n",
      "PPM1H\n",
      "PTRHD1\n",
      "HSD17B8\n",
      "ERGIC1\n",
      "F10\n",
      "PTH1R\n",
      "NPHP4\n",
      "NBEA\n",
      "TAFA5\n",
      "TREX2\n",
      "ANK3\n",
      "MSGN1\n",
      "LGALS1\n",
      "MYB\n",
      "ESYT2\n",
      "NLRP11\n",
      "SPRY2\n",
      "HSPBP1\n",
      "TMEM268\n",
      "NLRP10\n",
      "PLXNC1\n",
      "GP5\n",
      "KIAA0930\n",
      "SLC13A4\n",
      "ATG2B\n",
      "C1orf53\n",
      "TMUB1\n",
      "CAV3\n",
      "ARHGEF10L\n",
      "KCNV2\n",
      "PRSS57\n",
      "MMP23B\n",
      "FZD5\n",
      "ANKFN1\n",
      "WSB2\n",
      "PABPN1L\n",
      "PLBD2\n",
      "SLC29A1\n",
      "FLNC\n",
      "MTCL1\n",
      "SRMS\n",
      "IL9\n",
      "ONECUT3\n",
      "GPX1\n",
      "LMNTD2\n",
      "THSD1\n",
      "MPPED1\n",
      "CDC34\n",
      "SLC36A1\n",
      "BEND5\n",
      "ALPK2\n",
      "MUC22\n",
      "KRT7\n",
      "FBLN5\n",
      "NYX\n",
      "ANKRD37\n",
      "NLRP5\n",
      "SFT2D3\n",
      "GNG7\n",
      "KIR3DL1\n",
      "PAPPA2\n",
      "RNF114\n",
      "MCUR1\n",
      "DPYSL2\n",
      "PLEKHA6\n",
      "CFHR2\n",
      "NOD2\n",
      "CADM1\n",
      "VIPR2\n",
      "CPN1\n",
      "FARP2\n",
      "GNS\n",
      "RUBCN\n",
      "PANX2\n",
      "PDXP\n",
      "GPER1\n",
      "GADD45B\n",
      "VEZF1\n",
      "LOXL1\n",
      "MAPK8IP3\n",
      "RLF\n",
      "SAC3D1\n",
      "PHETA2\n",
      "CHST14\n",
      "HLA-A\n",
      "CALHM2\n",
      "PURB\n",
      "NALCN\n",
      "NOX3\n",
      "ABHD5\n",
      "OAS3\n",
      "TMC4\n",
      "INA\n",
      "ABCG8\n",
      "CBLL2\n",
      "GFI1B\n",
      "SH3D19\n",
      "PRR18\n",
      "RAB19\n",
      "HMGB2\n",
      "C19orf81\n",
      "GPR141\n",
      "BTN3A1\n",
      "AS3MT\n",
      "CKMT2\n",
      "TNFRSF6B\n",
      "RSRP1\n",
      "DOT1L\n",
      "COL11A2\n",
      "FAM193B\n",
      "CHPF\n",
      "AMT\n",
      "RHOV\n",
      "APH1B\n",
      "AHDC1\n",
      "CD93\n",
      "GIPC1\n",
      "MCTP2\n",
      "MFSD10\n",
      "TMEM158\n",
      "TRIML1\n",
      "RPRML\n",
      "VWA7\n",
      "WNT9A\n",
      "FBXO31\n",
      "FBXO45\n",
      "GRPEL2\n",
      "SERPINA10\n",
      "AQP4\n",
      "FREM1\n",
      "PADI4\n",
      "SDHB\n",
      "ANXA4\n",
      "SLURP2\n",
      "B9D2\n",
      "NR1I2\n",
      "CCDC177\n",
      "EMC8\n",
      "GPR135\n",
      "CD99L2\n",
      "DPT\n",
      "PER3\n",
      "SLC16A10\n",
      "RBM15B\n",
      "UTRN\n",
      "CITED2\n",
      "CEMP1\n",
      "ZC3H12A\n",
      "ZNF813\n",
      "LIMS2\n",
      "FGF2\n",
      "VWA5A\n",
      "SETD7\n",
      "TUBAL3\n",
      "HMX1\n",
      "PIGR\n",
      "FAM83G\n",
      "PYHIN1\n",
      "BIK\n",
      "CREB3L2\n",
      "HES5\n",
      "CEP120\n",
      "BTN3A3\n",
      "FN1\n",
      "HS3ST1\n",
      "ADAMTSL3\n",
      "HCAR3\n",
      "NPTX2\n",
      "TNC\n",
      "UGT1A1\n",
      "OSBPL3\n",
      "S100A14\n",
      "TFR2\n",
      "H2BC1\n",
      "LRRTM2\n",
      "HARS1\n",
      "KCNMA1\n",
      "RYR2\n",
      "PRMT7\n",
      "OTULIN\n",
      "ST6GALNAC5\n",
      "CHST12\n",
      "UNC5C\n",
      "AP5S1\n",
      "ATP6V1G2\n",
      "RAB43\n",
      "PYCR3\n",
      "SP9\n",
      "MRGBP\n",
      "NKAIN1\n",
      "BLOC1S4\n",
      "MCCC2\n",
      "TMPO\n",
      "PFN4\n",
      "PGAP3\n",
      "FOXF1\n",
      "FZD2\n",
      "OPRK1\n",
      "H1-8\n",
      "ZNF548\n",
      "PDK3\n",
      "GPR156\n",
      "CCDC40\n",
      "FBXW5\n",
      "ULK1\n",
      "TRIM16\n",
      "FLRT2\n",
      "FUT7\n",
      "KCNA6\n",
      "ENOSF1\n",
      "KIAA1549\n",
      "BTLA\n",
      "CEL\n",
      "EXOC2\n",
      "PEPD\n",
      "H4C6\n",
      "ELFN1\n",
      "KLHL25\n",
      "HTRA1\n",
      "COLEC11\n",
      "SYNGR2\n",
      "CTNNAL1\n",
      "SAG\n",
      "CCDC167\n",
      "ATP4A\n",
      "CD164\n",
      "DOK7\n",
      "TMEM35A\n",
      "ZNF408\n",
      "PAK5\n",
      "UTS2R\n",
      "TMEM185A\n",
      "SLC25A29\n",
      "HK3\n",
      "RIMS4\n",
      "RELT\n",
      "STK35\n",
      "MED27\n",
      "SYNPO\n",
      "KIF3C\n",
      "PIM1\n",
      "MYOF\n",
      "EDNRB\n",
      "ACTBL2\n",
      "PRDX5\n",
      "HDAC5\n",
      "ACKR1\n",
      "HOXD13\n",
      "ITIH6\n",
      "RASSF7\n",
      "ATG7\n",
      "MUC4\n",
      "C10orf53\n",
      "ADAMTSL1\n",
      "COL6A1\n",
      "SLC5A11\n",
      "IRS2\n",
      "UQCRC1\n",
      "CCDC42\n",
      "ANO8\n",
      "ADAMTS2\n",
      "ZNF304\n",
      "HERC6\n",
      "SLIRP\n",
      "SYNGAP1\n"
     ]
    }
   ],
   "source": [
    "dmdf=pd.read_csv('data/DepMap/'+currgene+'_DepMap_Public_24Q2_Files_top_contain_'+str(corrcoff)+'.csv')\n",
    "\n",
    "dmdf=dmdf[dmdf['numCellLines']==1150]\n",
    "dmdf=dmdf[dmdf['Cor']>=corrcoff]\n",
    "print(dmdf)\n",
    "\n",
    "dmgenes=dmdf['label'].tolist()[1:]\n",
    "dmcorr=dmdf['Cor'].tolist()[1:]\n",
    "\n",
    "print(len(dmgenes))\n",
    "for i in range(0,len(dmgenes)):\n",
    "    print(dmgenes[i])"
   ]
  },
  {
   "cell_type": "markdown",
   "metadata": {},
   "source": [
    "## 2.3 - Map correlated genes to IDRome"
   ]
  },
  {
   "cell_type": "code",
   "execution_count": 14,
   "metadata": {},
   "outputs": [
    {
     "name": "stdout",
     "output_type": "stream",
     "text": [
      "340\n"
     ]
    }
   ],
   "source": [
    "allidx_nuc=[]\n",
    "for ns in dmgenes:\n",
    "    indices = [i for i, x in enumerate(subgenesNODIST) if x == ns]\n",
    "    for i in indices:\n",
    "        allidx_nuc.append(i)\n",
    "allidx_nuc = list(set(allidx_nuc)) # all unique indices\n",
    "\n",
    "print(len(allidx_nuc))"
   ]
  },
  {
   "cell_type": "markdown",
   "metadata": {},
   "source": [
    "# Part 3: Compare IDR grammar distributions between DepMap set and rest of IDRome"
   ]
  },
  {
   "cell_type": "markdown",
   "metadata": {},
   "source": [
    "## 3.1 - Compare grammar distributions"
   ]
  },
  {
   "cell_type": "code",
   "execution_count": 15,
   "metadata": {
    "scrolled": true
   },
   "outputs": [
    {
     "name": "stdout",
     "output_type": "stream",
     "text": [
      "340\n",
      "340\n",
      "10091\n",
      "9751\n",
      "Ks_2sampResult(statistic=0.03507996163289436, pvalue=0.7996183981839451)\n",
      "pol-pol\n",
      "0.0\n",
      "0.4636373081801321\n",
      "Ks_2sampResult(statistic=0.07006581527083196, pvalue=0.04594397671085837)\n",
      "pol-hyd\n",
      "0.0\n",
      "0.017442907393149496\n"
     ]
    },
    {
     "data": {
      "image/png": "[encoded data removed]",
      "text/plain": [
       "<Figure size 432x288 with 1 Axes>"
      ]
     },
     "metadata": {
      "needs_background": "light"
     },
     "output_type": "display_data"
    },
    {
     "name": "stdout",
     "output_type": "stream",
     "text": [
      "Ks_2sampResult(statistic=0.04696079436799846, pvalue=0.44944833516993843)\n",
      "pol-pos\n",
      "0.0\n",
      "0.41420705738656555\n",
      "Ks_2sampResult(statistic=0.038559846048972356, pvalue=0.6975815599612358)\n",
      "pol-neg\n",
      "0.0\n",
      "0.42590597460620017\n",
      "Ks_2sampResult(statistic=0.004614911291149625, pvalue=1.0)\n",
      "pol-aro\n",
      "0.0\n",
      "0.0020693348054933143\n",
      "Ks_2sampResult(statistic=0.05674440630523566, pvalue=0.2314711627191154)\n",
      "pol-ala\n",
      "0.0\n",
      "0.26742463015166856\n",
      "Ks_2sampResult(statistic=0.05431690264045316, pvalue=0.27652722028006604)\n",
      "pol-pro\n",
      "0.0\n",
      "0.36925374665408894\n",
      "Ks_2sampResult(statistic=0.040364789131733095, pvalue=0.6424798041269679)\n",
      "pol-gly\n",
      "0.0\n",
      "0.18566836171580164\n",
      "Ks_2sampResult(statistic=0.0580395977486472, pvalue=0.20980979168748415)\n",
      "hyd-hyd\n",
      "0.0\n",
      "0.002739265425660415\n",
      "Ks_2sampResult(statistic=0.06504310266820296, pvalue=0.1185464427385845)\n",
      "hyd-pos\n",
      "0.0\n",
      "0.0738825984302115\n",
      "Ks_2sampResult(statistic=0.06295523234419396, pvalue=0.14151744901850538)\n",
      "hyd-neg\n",
      "0.0\n",
      "0.153830822302656\n",
      "Ks_2sampResult(statistic=0.0023258549651016184, pvalue=1.0)\n",
      "hyd-aro\n",
      "0.0\n",
      "-0.0003837104095321711\n",
      "Ks_2sampResult(statistic=0.038348103060319605, pvalue=0.7040031103240731)\n",
      "hyd-ala\n",
      "0.0\n",
      "0.12527422928320073\n",
      "Ks_2sampResult(statistic=0.058667889266259265, pvalue=0.19987700926697172)\n",
      "hyd-pro\n",
      "0.0\n",
      "0.0798316131149574\n",
      "Ks_2sampResult(statistic=0.028088823469086126, pvalue=0.9510550747224279)\n",
      "hyd-gly\n",
      "0.0\n",
      "0.09936592982770148\n",
      "Ks_2sampResult(statistic=0.06467119511121032, pvalue=0.12240865991578942)\n",
      "pos-pos\n",
      "0.0\n",
      "0.3102188584491675\n",
      "Ks_2sampResult(statistic=0.09498090693563857, pvalue=0.005328459887293552)\n",
      "pos-neg\n",
      "0.0\n",
      "0.3062969392657274\n"
     ]
    },
    {
     "data": {
      "image/png": "[encoded data removed]",
      "text/plain": [
       "<Figure size 432x288 with 1 Axes>"
      ]
     },
     "metadata": {
      "needs_background": "light"
     },
     "output_type": "display_data"
    },
    {
     "name": "stdout",
     "output_type": "stream",
     "text": [
      "Ks_2sampResult(statistic=0.002223301380853849, pvalue=1.0)\n",
      "pos-aro\n",
      "0.0\n",
      "0.0031018609319992453\n",
      "Ks_2sampResult(statistic=0.023864520682644916, pvalue=0.989843011011737)\n",
      "pos-ala\n",
      "0.0\n",
      "0.1428802717334372\n",
      "Ks_2sampResult(statistic=0.061490827486773605, pvalue=0.159677022727147)\n",
      "pos-pro\n",
      "0.0\n",
      "0.3039203159618338\n",
      "Ks_2sampResult(statistic=0.018396303244916055, pvalue=0.9998033467832201)\n",
      "pos-gly\n",
      "0.0\n",
      "0.11263454680194321\n",
      "Ks_2sampResult(statistic=0.09180084093939084, pvalue=0.007872364798000934)\n",
      "neg-neg\n",
      "0.0\n",
      "0.30002327895169195\n"
     ]
    },
    {
     "data": {
      "image/png": "[encoded data removed]",
      "text/plain": [
       "<Figure size 432x288 with 1 Axes>"
      ]
     },
     "metadata": {
      "needs_background": "light"
     },
     "output_type": "display_data"
    },
    {
     "name": "stdout",
     "output_type": "stream",
     "text": [
      "Ks_2sampResult(statistic=0.0033842682801763922, pvalue=1.0)\n",
      "neg-aro\n",
      "0.0\n",
      "-0.00019924550346966648\n",
      "Ks_2sampResult(statistic=0.01729717012433114, pvalue=0.9999454887757592)\n",
      "neg-ala\n",
      "0.0\n",
      "0.19948371560714073\n",
      "Ks_2sampResult(statistic=0.028652264926070932, pvalue=0.9427670831611603)\n",
      "neg-pro\n",
      "0.0\n",
      "0.2860595127958472\n",
      "Ks_2sampResult(statistic=0.04294340851918657, pvalue=0.5643088127076533)\n",
      "neg-gly\n",
      "0.0\n",
      "0.12290657454318908\n",
      "Ks_2sampResult(statistic=0.007076197313096093, pvalue=1.0)\n",
      "aro-aro\n",
      "0.0\n",
      "0.0020377834215467767\n",
      "Ks_2sampResult(statistic=0.0008204286739821557, pvalue=1)\n",
      "aro-ala\n",
      "0.0\n",
      "0.0\n",
      "Ks_2sampResult(statistic=0.002428408549349388, pvalue=1.0)\n",
      "aro-pro\n",
      "0.0\n",
      "-0.0030656758376987107\n",
      "Ks_2sampResult(statistic=0.004204696954158548, pvalue=1.0)\n",
      "aro-gly\n",
      "0.0\n",
      "0.004502083585681509\n",
      "Ks_2sampResult(statistic=0.05991180391754692, pvalue=0.18128761083118028)\n",
      "ala-ala\n",
      "0.0\n",
      "0.23227907233023798\n",
      "Ks_2sampResult(statistic=0.055408796684502944, pvalue=0.25552635663170586)\n",
      "ala-pro\n",
      "0.0\n",
      "0.1385789378575622\n",
      "Ks_2sampResult(statistic=0.02947601151013169, pvalue=0.9292719596197428)\n",
      "ala-gly\n",
      "0.0\n",
      "0.12661055609435215\n",
      "Ks_2sampResult(statistic=0.08136601374218029, pvalue=0.025808221801865795)\n",
      "pro-pro\n",
      "0.0\n",
      "0.20726042634125816\n"
     ]
    },
    {
     "data": {
      "image/png": "[encoded data removed]",
      "text/plain": [
       "<Figure size 432x288 with 1 Axes>"
      ]
     },
     "metadata": {
      "needs_background": "light"
     },
     "output_type": "display_data"
    },
    {
     "name": "stdout",
     "output_type": "stream",
     "text": [
      "Ks_2sampResult(statistic=0.07051705104152213, pvalue=0.022628981876937404)\n",
      "pro-gly\n",
      "0.0\n",
      "0.007384417599755376\n"
     ]
    },
    {
     "data": {
      "image/png": "[encoded data removed]",
      "text/plain": [
       "<Figure size 432x288 with 1 Axes>"
      ]
     },
     "metadata": {
      "needs_background": "light"
     },
     "output_type": "display_data"
    },
    {
     "name": "stdout",
     "output_type": "stream",
     "text": [
      "Ks_2sampResult(statistic=0.042314815373385536, pvalue=0.5831715009642198)\n",
      "gly-gly\n",
      "0.0\n",
      "0.04655617476609279\n",
      "Ks_2sampResult(statistic=0.09299287554217667, pvalue=0.006811516184688895)\n",
      "Frac A\n",
      "2.166756207124872\n",
      "0.20621319060525406\n"
     ]
    },
    {
     "data": {
      "image/png": "[encoded data removed]",
      "text/plain": [
       "<Figure size 432x288 with 1 Axes>"
      ]
     },
     "metadata": {
      "needs_background": "light"
     },
     "output_type": "display_data"
    },
    {
     "name": "stdout",
     "output_type": "stream",
     "text": [
      "Ks_2sampResult(statistic=0.03310037582872345, pvalue=0.8519303652418676)\n",
      "Frac C\n",
      "0.0\n",
      "-0.02476765825654525\n",
      "Ks_2sampResult(statistic=0.0830328111143955, pvalue=0.021555670893229663)\n",
      "Frac D\n",
      "-1.666438455728518\n",
      "-0.16412640947906443\n"
     ]
    },
    {
     "data": {
      "image/png": "[encoded data removed]",
      "text/plain": [
       "<Figure size 432x288 with 1 Axes>"
      ]
     },
     "metadata": {
      "needs_background": "light"
     },
     "output_type": "display_data"
    },
    {
     "name": "stdout",
     "output_type": "stream",
     "text": [
      "Ks_2sampResult(statistic=0.08141155959871385, pvalue=0.02568280226230416)\n",
      "Frac E\n",
      "-1.5903575919482378\n",
      "-0.1534756812024443\n"
     ]
    },
    {
     "data": {
      "image/png": "[encoded data removed]",
      "text/plain": [
       "<Figure size 432x288 with 1 Axes>"
      ]
     },
     "metadata": {
      "needs_background": "light"
     },
     "output_type": "display_data"
    },
    {
     "name": "stdout",
     "output_type": "stream",
     "text": [
      "Ks_2sampResult(statistic=0.03227843901379647, pvalue=0.8718024866850821)\n",
      "Frac F\n",
      "0.0\n",
      "-0.0008365983099575898\n",
      "Ks_2sampResult(statistic=0.11255647987838352, pvalue=0.00048494191398130103)\n",
      "Frac G\n",
      "3.3143102777856526\n",
      "0.26061028866321123\n"
     ]
    },
    {
     "data": {
      "image/png": "[encoded data removed]",
      "text/plain": [
       "<Figure size 432x288 with 1 Axes>"
      ]
     },
     "metadata": {
      "needs_background": "light"
     },
     "output_type": "display_data"
    },
    {
     "name": "stdout",
     "output_type": "stream",
     "text": [
      "Ks_2sampResult(statistic=0.06523704959370683, pvalue=0.11657513529243246)\n",
      "Frac H\n",
      "0.0\n",
      "0.07124466016047765\n",
      "Ks_2sampResult(statistic=0.07754649598532881, pvalue=0.038456225794580266)\n",
      "Frac I\n",
      "-1.4150333409248543\n",
      "-0.1018194023134755\n"
     ]
    },
    {
     "data": {
      "image/png": "[encoded data removed]",
      "text/plain": [
       "<Figure size 432x288 with 1 Axes>"
      ]
     },
     "metadata": {
      "needs_background": "light"
     },
     "output_type": "display_data"
    },
    {
     "name": "stdout",
     "output_type": "stream",
     "text": [
      "Ks_2sampResult(statistic=0.14059523306810162, pvalue=4.5721182529810526e-06)\n",
      "Frac K\n",
      "-5.339882545566128\n",
      "-0.2604576833612967\n"
     ]
    },
    {
     "data": {
      "image/png": "[encoded data removed]",
      "text/plain": [
       "<Figure size 432x288 with 1 Axes>"
      ]
     },
     "metadata": {
      "needs_background": "light"
     },
     "output_type": "display_data"
    },
    {
     "name": "stdout",
     "output_type": "stream",
     "text": [
      "Ks_2sampResult(statistic=0.05297827673783081, pvalue=0.3039263018210394)\n",
      "Frac L\n",
      "0.0\n",
      "0.06169735378014176\n",
      "Ks_2sampResult(statistic=0.1069419727690071, pvalue=0.0010898648335053514)\n",
      "Frac M\n",
      "-2.9626273605022826\n",
      "-0.19531594019728002\n"
     ]
    },
    {
     "data": {
      "image/png": "[encoded data removed]",
      "text/plain": [
       "<Figure size 432x288 with 1 Axes>"
      ]
     },
     "metadata": {
      "needs_background": "light"
     },
     "output_type": "display_data"
    },
    {
     "name": "stdout",
     "output_type": "stream",
     "text": [
      "Ks_2sampResult(statistic=0.10945483721126642, pvalue=0.0007624219232233261)\n",
      "Frac N\n",
      "-3.117804624177146\n",
      "-0.22843813428024257\n"
     ]
    },
    {
     "data": {
      "image/png": "[encoded data removed]",
      "text/plain": [
       "<Figure size 432x288 with 1 Axes>"
      ]
     },
     "metadata": {
      "needs_background": "light"
     },
     "output_type": "display_data"
    },
    {
     "name": "stdout",
     "output_type": "stream",
     "text": [
      "Ks_2sampResult(statistic=0.10679327007184783, pvalue=0.001112865177759454)\n",
      "Frac P\n",
      "2.953557446718076\n",
      "0.24740930836239966\n"
     ]
    },
    {
     "data": {
      "image/png": "[encoded data removed]",
      "text/plain": [
       "<Figure size 432x288 with 1 Axes>"
      ]
     },
     "metadata": {
      "needs_background": "light"
     },
     "output_type": "display_data"
    },
    {
     "name": "stdout",
     "output_type": "stream",
     "text": [
      "Ks_2sampResult(statistic=0.06802137940603377, pvalue=0.08846733231894388)\n",
      "Frac Q\n",
      "0.0\n",
      "-0.11131932504171177\n",
      "Ks_2sampResult(statistic=0.05125839280435793, pvalue=0.34182845302037745)\n",
      "Frac R\n",
      "0.0\n",
      "0.06823407764582218\n",
      "Ks_2sampResult(statistic=0.028656789348905393, pvalue=0.942695880458901)\n",
      "Frac S\n",
      "0.0\n",
      "0.01347964641119833\n",
      "Ks_2sampResult(statistic=0.07941206633407132, pvalue=0.031725376477283275)\n",
      "Frac T\n",
      "1.4985932155362816\n",
      "0.0035876659980638003\n"
     ]
    },
    {
     "data": {
      "image/png": "[encoded data removed]",
      "text/plain": [
       "<Figure size 432x288 with 1 Axes>"
      ]
     },
     "metadata": {
      "needs_background": "light"
     },
     "output_type": "display_data"
    },
    {
     "name": "stdout",
     "output_type": "stream",
     "text": [
      "Ks_2sampResult(statistic=0.06609880132957706, pvalue=0.10802134508850192)\n",
      "Frac V\n",
      "0.0\n",
      "-0.06674854764011261\n",
      "Ks_2sampResult(statistic=0.03363425772318978, pvalue=0.8383973790787909)\n",
      "Frac W\n",
      "0.0\n",
      "-0.028144204329256378\n",
      "Ks_2sampResult(statistic=0.05435400290769574, pvalue=0.27579098453593065)\n",
      "Frac Y\n",
      "0.0\n",
      "-0.07276662155089746\n",
      "Ks_2sampResult(statistic=0.08029372553041317, pvalue=0.028921804529947664)\n",
      "Frac K+R\n",
      "-1.5387746134193665\n",
      "-0.14847335195249625\n"
     ]
    },
    {
     "data": {
      "image/png": "[encoded data removed]",
      "text/plain": [
       "<Figure size 432x288 with 1 Axes>"
      ]
     },
     "metadata": {
      "needs_background": "light"
     },
     "output_type": "display_data"
    },
    {
     "name": "stdout",
     "output_type": "stream",
     "text": [
      "Ks_2sampResult(statistic=0.09950804442379967, pvalue=0.0029877187916755505)\n",
      "Frac D+E\n",
      "-2.524660281344854\n",
      "-0.1960266537108015\n"
     ]
    },
    {
     "data": {
      "image/png": "[encoded data removed]",
      "text/plain": [
       "<Figure size 432x288 with 1 Axes>"
      ]
     },
     "metadata": {
      "needs_background": "light"
     },
     "output_type": "display_data"
    },
    {
     "name": "stdout",
     "output_type": "stream",
     "text": [
      "Ks_2sampResult(statistic=0.0701023122816966, pvalue=0.04377601470405501)\n",
      "Frac Polar\n",
      "1.3587637784195146\n",
      "0.06504381814202695\n"
     ]
    },
    {
     "data": {
      "image/png": "[encoded data removed]",
      "text/plain": [
       "<Figure size 432x288 with 1 Axes>"
      ]
     },
     "metadata": {
      "needs_background": "light"
     },
     "output_type": "display_data"
    },
    {
     "name": "stdout",
     "output_type": "stream",
     "text": [
      "Ks_2sampResult(statistic=0.055622651070478445, pvalue=0.2515594314699453)\n",
      "Frac Aliphatic\n",
      "0.0\n",
      "0.09381716989063421\n",
      "Ks_2sampResult(statistic=0.05992326578872755, pvalue=0.1811232102462247)\n",
      "Frac Aromatic\n",
      "0.0\n",
      "-0.05785881280127486\n",
      "Ks_2sampResult(statistic=0.11952167801794085, pvalue=0.0001676477492301463)\n",
      "R/K Ratio\n",
      "3.7756022728554366\n",
      "0.2873102437531764\n"
     ]
    },
    {
     "data": {
      "image/png": "[encoded data removed]",
      "text/plain": [
       "<Figure size 432x288 with 1 Axes>"
      ]
     },
     "metadata": {
      "needs_background": "light"
     },
     "output_type": "display_data"
    },
    {
     "name": "stdout",
     "output_type": "stream",
     "text": [
      "Ks_2sampResult(statistic=0.038155061019382625, pvalue=0.709844470159763)\n",
      "E/D Ratio\n",
      "0.0\n",
      "0.06685049305711226\n",
      "Ks_2sampResult(statistic=0.05808574686155869, pvalue=0.20906749698796023)\n",
      "Frac Chain Expanding\n",
      "0.0\n",
      "-0.10933975388258994\n",
      "Ks_2sampResult(statistic=0.1625573847629504, pvalue=5.75649029752049e-08)\n",
      "FCR\n",
      "-7.239842222998238\n",
      "-0.2447252724001248\n"
     ]
    },
    {
     "data": {
      "image/png": "[encoded data removed]",
      "text/plain": [
       "<Figure size 432x288 with 1 Axes>"
      ]
     },
     "metadata": {
      "needs_background": "light"
     },
     "output_type": "display_data"
    },
    {
     "name": "stdout",
     "output_type": "stream",
     "text": [
      "Ks_2sampResult(statistic=0.04539986849010961, pvalue=0.49269805652269205)\n",
      "NCPR\n",
      "0.0\n",
      "0.05055518118609309\n",
      "Ks_2sampResult(statistic=0.1036886111228411, pvalue=0.0017097180554523249)\n",
      "Hydrophobicity\n",
      "2.7670755019218145\n",
      "0.2361852976481219\n"
     ]
    },
    {
     "data": {
      "image/png": "[encoded data removed]",
      "text/plain": [
       "<Figure size 432x288 with 1 Axes>"
      ]
     },
     "metadata": {
      "needs_background": "light"
     },
     "output_type": "display_data"
    },
    {
     "name": "stdout",
     "output_type": "stream",
     "text": [
      "Ks_2sampResult(statistic=0.11065350763420946, pvalue=0.0006410680489632179)\n",
      "Disorder Promoting\n",
      "3.1930958679528865\n",
      "0.2609446913654265\n"
     ]
    },
    {
     "data": {
      "image/png": "[encoded data removed]",
      "text/plain": [
       "<Figure size 432x288 with 1 Axes>"
      ]
     },
     "metadata": {
      "needs_background": "light"
     },
     "output_type": "display_data"
    },
    {
     "name": "stdout",
     "output_type": "stream",
     "text": [
      "Ks_2sampResult(statistic=0.04321366737649834, pvalue=0.5562611431429714)\n",
      "Iso point\n",
      "0.0\n",
      "0.042621815360950235\n",
      "Ks_2sampResult(statistic=0.04725699324956113, pvalue=0.4414696173412328)\n",
      "PPII\n",
      "0.0\n",
      "0.07659383327861384\n",
      "Ks_2sampResult(statistic=0.0356934733692472, pvalue=0.7823639665506554)\n",
      "A Patch\n",
      "0.0\n",
      "0.10409912019372498\n",
      "Ks_2sampResult(statistic=0.00020510716849553892, pvalue=1)\n",
      "C Patch\n",
      "0.0\n",
      "-0.00891407723241319\n",
      "Ks_2sampResult(statistic=0.010218559785723334, pvalue=0.9999999999999316)\n",
      "D Patch\n",
      "0.0\n",
      "-0.02727104409994981\n",
      "Ks_2sampResult(statistic=0.06329969173599088, pvalue=0.1374990704499487)\n",
      "E Patch\n",
      "0.0\n",
      "-0.05787289399931936\n",
      "Ks_2sampResult(statistic=0.00041021433699107784, pvalue=1)\n",
      "F Patch\n",
      "0.0\n",
      "-0.011884826435931514\n",
      "Ks_2sampResult(statistic=0.05560998268654195, pvalue=0.25178896965365727)\n",
      "G Patch\n",
      "0.0\n",
      "0.3093643323622389\n",
      "Ks_2sampResult(statistic=0.007838713374797156, pvalue=1.0)\n",
      "H Patch\n",
      "0.0\n",
      "0.030254668379692394\n",
      "Ks_2sampResult(statistic=0.0006153215054866168, pvalue=1)\n",
      "I Patch\n",
      "0.0\n",
      "-0.010939108694405038\n",
      "Ks_2sampResult(statistic=0.07562421953706105, pvalue=0.04666459865099029)\n",
      "K Patch\n",
      "-1.331012465063512\n",
      "-0.14418767561384324\n"
     ]
    },
    {
     "data": {
      "image/png": "[encoded data removed]",
      "text/plain": [
       "<Figure size 432x288 with 1 Axes>"
      ]
     },
     "metadata": {
      "needs_background": "light"
     },
     "output_type": "display_data"
    },
    {
     "name": "stdout",
     "output_type": "stream",
     "text": [
      "Ks_2sampResult(statistic=0.008438350214457642, pvalue=1.0)\n",
      "L Patch\n",
      "0.0\n",
      "0.019202521357856196\n",
      "Ks_2sampResult(statistic=0.00413894200896439, pvalue=1.0)\n",
      "M Patch\n",
      "0.0\n",
      "0.011264208880865352\n",
      "Ks_2sampResult(statistic=0.01110866457135618, pvalue=0.99999999999169)\n",
      "N Patch\n",
      "0.0\n",
      "-0.052643802334836\n",
      "Ks_2sampResult(statistic=0.06309579108025119, pvalue=0.1398686257441779)\n",
      "P Patch\n",
      "0.0\n",
      "0.1528636495593637\n",
      "Ks_2sampResult(statistic=0.011085137572616987, pvalue=0.9999999999925888)\n",
      "Q Patch\n",
      "0.0\n",
      "-0.026035299031965973\n",
      "Ks_2sampResult(statistic=0.028174184246562945, pvalue=0.9498502001731677)\n",
      "R Patch\n",
      "0.0\n",
      "0.058509710322542985\n",
      "Ks_2sampResult(statistic=0.03596705013663757, pvalue=0.7745383792533278)\n",
      "S Patch\n",
      "0.0\n",
      "0.05167578522603306\n",
      "Ks_2sampResult(statistic=0.027581484855248632, pvalue=0.9578572852014764)\n",
      "T Patch\n",
      "0.0\n",
      "0.1455775572696745\n",
      "Ks_2sampResult(statistic=0.005365663853481091, pvalue=1.0)\n",
      "V Patch\n",
      "0.0\n",
      "-0.030371278316816658\n",
      "Ks_2sampResult(statistic=0.0018130870438627712, pvalue=1.0)\n",
      "Y Patch\n",
      "0.0\n",
      "-0.014505900232047782\n",
      "Ks_2sampResult(statistic=0.03174938317035357, pvalue=0.8839222962596709)\n",
      "RG Frac\n",
      "0.0\n",
      "0.28872737118314645\n",
      "[7.99618398e-01 4.59439767e-02 4.49448335e-01 6.97581560e-01\n",
      " 1.00000000e+00 2.31471163e-01 2.76527220e-01 6.42479804e-01\n",
      " 2.09809792e-01 1.18546443e-01 1.41517449e-01 1.00000000e+00\n",
      " 7.04003110e-01 1.99877009e-01 9.51055075e-01 1.22408660e-01\n",
      " 5.32845989e-03 1.00000000e+00 9.89843011e-01 1.59677023e-01\n",
      " 9.99803347e-01 7.87236480e-03 1.00000000e+00 9.99945489e-01\n",
      " 9.42767083e-01 5.64308813e-01 1.00000000e+00 1.00000000e+00\n",
      " 1.00000000e+00 1.00000000e+00 1.81287611e-01 2.55526357e-01\n",
      " 9.29271960e-01 2.58082218e-02 2.26289819e-02 5.83171501e-01\n",
      " 6.81151618e-03 8.51930365e-01 2.15556709e-02 2.56828023e-02\n",
      " 8.71802487e-01 4.84941914e-04 1.16575135e-01 3.84562258e-02\n",
      " 4.57211825e-06 3.03926302e-01 1.08986483e-03 7.62421923e-04\n",
      " 1.11286518e-03 8.84673323e-02 3.41828453e-01 9.42695880e-01\n",
      " 3.17253765e-02 1.08021345e-01 8.38397379e-01 2.75790985e-01\n",
      " 2.89218045e-02 2.98771879e-03 4.37760147e-02 2.51559431e-01\n",
      " 1.81123210e-01 1.67647749e-04 7.09844470e-01 2.09067497e-01\n",
      " 5.75649030e-08 4.92698057e-01 1.70971806e-03 6.41068049e-04\n",
      " 5.56261143e-01 4.41469617e-01 7.82363967e-01 1.00000000e+00\n",
      " 1.00000000e+00 1.37499070e-01 1.00000000e+00 2.51788970e-01\n",
      " 1.00000000e+00 1.00000000e+00 4.66645987e-02 1.00000000e+00\n",
      " 1.00000000e+00 1.00000000e+00 1.39868626e-01 1.00000000e+00\n",
      " 9.49850200e-01 7.74538379e-01 9.57857285e-01 1.00000000e+00\n",
      " 1.00000000e+00 8.83922296e-01]\n",
      "[ 0.          0.          0.          0.          0.          0.\n",
      "  0.          0.          0.          0.          0.          0.\n",
      "  0.          0.          0.          0.          0.          0.\n",
      "  0.          0.          0.          0.          0.          0.\n",
      "  0.          0.          0.          0.          0.          0.\n",
      "  0.          0.          0.          0.          0.          0.\n",
      "  2.16675621  0.         -1.66643846 -1.59035759  0.          3.31431028\n",
      "  0.         -1.41503334 -5.33988255  0.         -2.96262736 -3.11780462\n",
      "  2.95355745  0.          0.          0.          1.49859322  0.\n",
      "  0.          0.         -1.53877461 -2.52466028  1.35876378  0.\n",
      "  0.          3.77560227  0.          0.         -7.23984222  0.\n",
      "  2.7670755   3.19309587  0.          0.          0.          0.\n",
      "  0.          0.          0.          0.          0.          0.\n",
      " -1.33101247  0.          0.          0.          0.          0.\n",
      "  0.          0.          0.          0.          0.          0.        ]\n"
     ]
    }
   ],
   "source": [
    "#Performs the two-sample Kolmogorov-Smirnov test for goodness of fit.\n",
    "#This test compares the underlying continuous distributions F(x) and G(x) of two independent samples.\n",
    "#two-sided: The null hypothesis is that the two distributions are identical, F(x)=G(x) for all x; the alternative is that they are not identical.\n",
    "\n",
    "zcoff=0.0\n",
    "\n",
    "pvallks=np.zeros((len(myfeat)))\n",
    "pvallkslog=np.zeros((len(myfeat)))\n",
    "dfk = pd.DataFrame()\n",
    "\n",
    "for p in range(0,len(myfeat)): \n",
    "    \n",
    "    nnzvec=[]\n",
    "    nzvec=[]\n",
    "    for idx in range(0,len(subaccsNODIST)):\n",
    "        if idx in allidx_nuc:\n",
    "            nzvec.append(subzvec[idx,p])\n",
    "        else:\n",
    "            nnzvec.append(subzvec[idx,p])\n",
    "\n",
    "    if p==0:\n",
    "        print(len(allidx_nuc))\n",
    "        print(len(nzvec))\n",
    "        print(len(subaccsNODIST))\n",
    "        print(len(nnzvec))\n",
    "\n",
    "    tmp=ks_2samp(nnzvec, nzvec, alternative='two-sided', mode='auto')\n",
    "    print(tmp)\n",
    "    pvallks[p]=tmp.pvalue\n",
    "    \n",
    "    if tmp.pvalue<0.05 and np.mean(nzvec)>np.mean(nnzvec) and np.mean(nzvec)>zcoff:\n",
    "        pvallkslog[p]=-1*math.log10(tmp.pvalue)\n",
    "        print(myfeat[p])\n",
    "        print(pvallkslog[p])\n",
    "        print(np.mean(nzvec))\n",
    "    elif tmp.pvalue<0.05 and np.mean(nzvec)<np.mean(nnzvec) and np.mean(nzvec)<-zcoff:\n",
    "        pvallkslog[p]=math.log10(tmp.pvalue)\n",
    "        print(myfeat[p])\n",
    "        print(pvallkslog[p])\n",
    "        print(np.mean(nzvec))\n",
    "    else:\n",
    "        print(myfeat[p])\n",
    "        print(pvallkslog[p])\n",
    "        pvallkslog[p]=0\n",
    "        print(np.mean(nzvec))\n",
    "\n",
    "    result=[]\n",
    "    if tmp.pvalue<0.05 and abs(np.mean(nzvec))>zcoff:\n",
    "        for s in range(0,len(subzvec)):\n",
    "            if s in allidx_nuc:\n",
    "                result.append('Condensate')\n",
    "            else:\n",
    "                result.append('Rest')\n",
    "        dfk['Z-score']=subzvec[:,p]\n",
    "        dfk['Localization']=result  \n",
    "\n",
    "        #sbn.violinplot(x=\"Localization\", y=\"Z-score\", data=dfk, hue='Localization')\n",
    "        #sbn.boxplot(x=\"Localization\", y=\"Z-score\", data=dfk, hue='Localization')\n",
    "        sbn.ecdfplot(x=\"Z-score\", data=dfk, hue='Localization', stat=\"proportion\")\n",
    "        plt.xlim([-2, 4])\n",
    "        #hi\n",
    "\n",
    "        plt.title(myfeat[p])\n",
    "        plt.show() \n",
    "            \n",
    "            \n",
    "#np.savetxt('data/DepMap/single_protein_KS_data/'+currgene+'_number_of_corr_gte_'+str(corrcoff)+'_all_human_gte_'+str(minidrlinkerlength)+'_and_nonlinkers_gte_'+str(minidrlength)+'_and_abs_zscore_'+str(zcoff)+'_by_feature.txt',pvallkslog,header=currgene,comments='')\n",
    "\n",
    "print(pvallks)\n",
    "print(pvallkslog)"
   ]
  },
  {
   "cell_type": "markdown",
   "metadata": {},
   "source": [
    "## 3.2 - Plot significantly different grammars"
   ]
  },
  {
   "cell_type": "code",
   "execution_count": 16,
   "metadata": {},
   "outputs": [
    {
     "name": "stdout",
     "output_type": "stream",
     "text": [
      "['FCR', 'Frac K', 'Frac N', 'Frac M', 'Frac D+E', 'Frac D', 'Frac E', 'Frac K+R', 'Frac I', 'K Patch', 'Frac Polar', 'Frac T', 'Frac A', 'Hydrophobicity', 'Frac P', 'Disorder Promoting', 'Frac G', 'R/K Ratio']\n",
      "[-7.239842222998238, -5.339882545566128, -3.117804624177146, -2.9626273605022826, -2.524660281344854, -1.666438455728518, -1.5903575919482378, -1.5387746134193665, -1.4150333409248543, -1.331012465063512, 1.3587637784195146, 1.4985932155362816, 2.166756207124872, 2.7670755019218145, 2.953557446718076, 3.1930958679528865, 3.3143102777856526, 3.7756022728554366]\n"
     ]
    },
    {
     "name": "stderr",
     "output_type": "stream",
     "text": [
      "/project/engineering/anaconda3/lib/python3.7/site-packages/ipykernel_launcher.py:36: MatplotlibDeprecationWarning: Starting from Matplotlib 3.6, colorbar() will steal space from the mappable's axes, rather than from the current axes, to place the colorbar.  To silence this warning, explicitly pass the 'ax' argument to colorbar().\n"
     ]
    },
    {
     "data": {
      "text/plain": [
       "([], [])"
      ]
     },
     "execution_count": 16,
     "metadata": {},
     "output_type": "execute_result"
    },
    {
     "data": {
      "image/png": "[encoded data removed]",
      "text/plain": [
       "<Figure size 144x518.4 with 2 Axes>"
      ]
     },
     "metadata": {
      "needs_background": "light"
     },
     "output_type": "display_data"
    }
   ],
   "source": [
    "sigfeat=[]\n",
    "sigspval=[]\n",
    "for v in range(0,len(pvallkslog)):\n",
    "    if pvallkslog[v]!=0:\n",
    "        sigfeat.append(myfeat[v])\n",
    "        sigspval.append(pvallkslog[v])\n",
    "        \n",
    "sort_index = np.argsort(sigspval)\n",
    "\n",
    "ssigfeat=[]\n",
    "ssigspval=[]\n",
    "for s in sort_index:\n",
    "    ssigfeat.append(sigfeat[s])\n",
    "    ssigspval.append(sigspval[s])\n",
    "\n",
    "print(ssigfeat)\n",
    "print(ssigspval)\n",
    "    \n",
    "absssigspval = list(map(abs, ssigspval))\n",
    "\n",
    "from matplotlib import cm\n",
    "fig = plt.figure(figsize = (2, 0.4*len(ssigspval))) \n",
    "\n",
    "# If want to just use max and min of values\n",
    "#colors = cm.RdBu_r((ssigspval-(-1*max(absssigspval)))/(max(absssigspval)-(-1*max(absssigspval))))\n",
    "#tmp=[-1*max(absssigspval),max(absssigspval)]\n",
    "\n",
    "# If want to set own range\n",
    "minval=np.float64(-15)\n",
    "maxval=np.float64(15)\n",
    "colors = cm.PRGn((ssigspval-minval)/(maxval-minval))\n",
    "tmp=[minval,maxval]\n",
    "\n",
    "plot = plt.scatter(tmp, tmp, c = tmp, cmap = 'PRGn')\n",
    "plt.clf()\n",
    "plt.colorbar(plot)\n",
    "X = np.arange(len(ssigspval))\n",
    "plt.barh(X,ssigspval,color = colors)\n",
    "for i, v in enumerate(ssigspval):\n",
    "    if ssigspval[i]>0:\n",
    "        plt.text(v + 0.25, i - 0.25, str(ssigfeat[i]), color='black')\n",
    "    else:\n",
    "        plt.text(0 + 0.25, i - 0.25, str(ssigfeat[i]), color='black')\n",
    "\n",
    "plt.xticks([-15,-5,5,15])\n",
    "plt.yticks([])\n",
    "\n",
    "#plt.savefig('2022_06/Nucleolarome_vs_Proteome_Sig_Features.pdf', dpi=300, transparent=True, bbox_inches='tight')\n",
    "#plt.yticks(X,ssigfeat)"
   ]
  },
  {
   "cell_type": "markdown",
   "metadata": {},
   "source": [
    "# Part 4: Plot significantly different grammar distributions for all genes of interest"
   ]
  },
  {
   "cell_type": "code",
   "execution_count": 18,
   "metadata": {},
   "outputs": [
    {
     "name": "stdout",
     "output_type": "stream",
     "text": [
      "       Sequence Features      UBTF     MAML3\n",
      "2                pol-pos  2.321846  0.000000\n",
      "9                hyd-pos  3.131554  0.000000\n",
      "10               hyd-neg  1.466320  0.000000\n",
      "15               pos-pos  4.952985  0.000000\n",
      "16               pos-neg  4.290903  0.000000\n",
      "36                Frac A  0.000000  2.166756\n",
      "39                Frac E  1.602727 -1.590358\n",
      "41                Frac G -1.778431  3.314310\n",
      "44                Frac K  8.136268 -5.339883\n",
      "48                Frac P -3.311178  2.953557\n",
      "52                Frac T  0.000000  1.498593\n",
      "56              Frac K+R  4.564347 -1.538775\n",
      "58            Frac Polar -7.266057  1.358764\n",
      "61             R/K Ratio -2.800441  3.775602\n",
      "63  Frac Chain Expanding  7.774469  0.000000\n",
      "64                   FCR  9.289541 -7.239842\n",
      "65                  NCPR  2.155810  0.000000\n",
      "66        Hydrophobicity -4.855021  2.767076\n",
      "67    Disorder Promoting  2.485901  3.193096\n",
      "68             Iso point  2.018837  0.000000\n",
      "73               E Patch  1.922091  0.000000\n",
      "78               K Patch  3.389599 -1.331012\n",
      "       Sequence Features      UBTF     MAML3  Type\n",
      "15                   FCR  9.289541 -7.239842     9\n",
      "8                 Frac K  8.136268 -5.339883     9\n",
      "11              Frac K+R  4.564347 -1.538775     9\n",
      "21               K Patch  3.389599 -1.331012     9\n",
      "6                 Frac E  1.602727 -1.590358     9\n",
      "14  Frac Chain Expanding  7.774469  0.000000     8\n",
      "3                pos-pos  4.952985  0.000000     8\n",
      "4                pos-neg  4.290903  0.000000     8\n",
      "1                hyd-pos  3.131554  0.000000     8\n",
      "0                pol-pos  2.321846  0.000000     8\n",
      "16                  NCPR  2.155810  0.000000     8\n",
      "19             Iso point  2.018837  0.000000     8\n",
      "20               E Patch  1.922091  0.000000     8\n",
      "2                hyd-neg  1.466320  0.000000     8\n",
      "18    Disorder Promoting  2.485901  3.193096     5\n",
      "5                 Frac A  0.000000  2.166756     2\n",
      "10                Frac T  0.000000  1.498593     2\n",
      "7                 Frac G -1.778431  3.314310     1\n",
      "13             R/K Ratio -2.800441  3.775602     1\n",
      "9                 Frac P -3.311178  2.953557     1\n",
      "17        Hydrophobicity -4.855021  2.767076     1\n",
      "12            Frac Polar -7.266057  1.358764     1\n",
      "UBTF_MAML3\n"
     ]
    },
    {
     "data": {
      "image/png": "[encoded data removed]",
      "text/plain": [
       "<Figure size 864x72 with 2 Axes>"
      ]
     },
     "metadata": {
      "needs_background": "light"
     },
     "output_type": "display_data"
    }
   ],
   "source": [
    "tmpgenes=['UBTF','MAML3']\n",
    "zcoff=0.0\n",
    "corrcoff=0.1\n",
    "minidrlength=50\n",
    "minidrlinkerlength=70\n",
    "\n",
    "dffeature = pd.DataFrame(myfeat,columns =['Sequence Features'])\n",
    "dftmp=pd.DataFrame()\n",
    "for s in range(0,len(tmpgenes)):\n",
    "    dfcurr = pd.read_csv('data/DepMap/single_protein_KS_data/'+tmpgenes[s]+'_number_of_corr_gte_'+str(corrcoff)+'_all_human_gte_'+str(minidrlinkerlength)+'_and_nonlinkers_gte_'+str(minidrlength)+'_and_abs_zscore_'+str(zcoff)+'_by_feature.txt')\n",
    "    dftmp[tmpgenes[s]]=dfcurr[tmpgenes[s]].tolist()\n",
    "       \n",
    "#print(dftmp)\n",
    "dfr = pd.concat([dffeature, dftmp], axis=1)\n",
    "\n",
    "## Only save features that at least one idr has a z-score > 0 ##\n",
    "tmp=(dfr.select_dtypes(include=['number']) > 0).any(1)\n",
    "\n",
    "dfr= dfr.loc[tmp==True]\n",
    "print(dfr)\n",
    "\n",
    "\n",
    "typef=[]\n",
    "tmp1=dfr[tmpgenes[0]].tolist()\n",
    "tmp2=dfr[tmpgenes[1]].tolist()\n",
    "tmpfeat=dfr['Sequence Features'].tolist()\n",
    "for i in range(0,len(dfr)):\n",
    "    if tmp1[i]>0 and tmp2[i]>0:\n",
    "        typef.append(5)\n",
    "    elif tmp1[i]>0 and tmp2[i]==0:\n",
    "        typef.append(8)\n",
    "    elif tmp1[i]>0 and tmp2[i]<0:\n",
    "        typef.append(9)\n",
    "    elif tmp1[i]==0 and tmp2[i]>0:\n",
    "        typef.append(2)\n",
    "    elif tmp1[i]==0 and tmp2[i]==0:\n",
    "        typef.append(6)\n",
    "    elif tmp1[i]==0 and tmp2[i]<0:\n",
    "        typef.append(7)\n",
    "    elif tmp1[i]<0 and tmp2[i]>0:\n",
    "        typef.append(1)\n",
    "    elif tmp1[i]<0 and tmp2[i]==0:\n",
    "        typef.append(3)\n",
    "    elif tmp1[i]<0 and tmp2[i]<0:\n",
    "        typef.append(4)\n",
    "\n",
    "\n",
    "\n",
    "dfr2 = pd.DataFrame()\n",
    "dfr2['Sequence Features']=tmpfeat\n",
    "dfr2[tmpgenes[0]]=tmp1\n",
    "dfr2[tmpgenes[1]]=tmp2\n",
    "dfr2['Type']=typef\n",
    "\n",
    "final_dfr = dfr2.sort_values(by=['Type',tmpgenes[0]], ascending=False) # sorting by the first gene in your sublist\n",
    "#final_dfr = dfr2\n",
    "print(final_dfr)\n",
    "\n",
    "final_dfr2=final_dfr;\n",
    "mygroup=final_dfr2.pop('Sequence Features')\n",
    "mytype=final_dfr2.pop('Type')\n",
    "\n",
    "\n",
    "if len(tmpgenes)>1:\n",
    "    f,ax1 = plt.subplots(1,1,sharex=True,figsize = (12, len(tmpgenes)/2))\n",
    "    g1 = sbn.heatmap(final_dfr.T,cmap=\"PRGn\",cbar=True,ax=ax1,vmin=-3,vmax=3,square=True,linewidth=0.5)\n",
    "\n",
    "else:\n",
    "    f,ax1 = plt.subplots(1,1,sharex=True,figsize = (12, 1))\n",
    "    g1 = sbn.heatmap(final_dfr2[[tmpgenes[0]]].T,cmap=\"RdBu_r\",cbar=False,ax=ax1,vmin=-3,vmax=3,square=True,linewidth=0.5)\n",
    "\n",
    "plt.xticks(np.arange(0.5, len(mygroup), 1), mygroup,rotation=90) \n",
    "plt.yticks(np.arange(0.5, len(tmpgenes), 1), tmpgenes,rotation=0) \n",
    "\n",
    "genetxtlist=''\n",
    "for i in range(0,len(tmpgenes)):\n",
    "    genetxtlist+=tmpgenes[i]\n",
    "    if i<len(tmpgenes)-1:\n",
    "        genetxtlist+='_'\n",
    "\n",
    "print(genetxtlist)\n",
    "#plt.savefig('/project/fava/work/kiersten.ruff/Collaborations/Kadoch/2024/GIN_nucleus/DepMap/data/single_protein_KS_data/figures/signed_log10_pvalue_heatmap_'+genetxtlist+'_number_of_corr_gte_'+str(corrcoff)+'_all_human_gte_'+str(minidrlinkerlength)+'_and_nonlinkers_gte_'+str(minidrlength)+'_and_abs_zscore_'+str(zcoff)+'_by_feature_top_'+str(topnum)+'_sorted.pdf', transparent=False, bbox_inches = \"tight\")\n"
   ]
  },
  {
   "cell_type": "code",
   "execution_count": null,
   "metadata": {},
   "outputs": [],
   "source": []
  },
  {
   "cell_type": "markdown",
   "metadata": {},
   "source": [
    "# Part 5: Additional analyses to examine top correlated proteins - for Figures S7C-D"
   ]
  },
  {
   "cell_type": "code",
   "execution_count": 21,
   "metadata": {
    "scrolled": true
   },
   "outputs": [
    {
     "name": "stdout",
     "output_type": "stream",
     "text": [
      "17\n",
      "MAML3: 2.7\n",
      "KNSTRN: -0.21\n",
      "OPRD1: 0.55\n",
      "FLNA: 2.2\n",
      "CTRC not in list\n",
      "MEGF9: -0.13\n",
      "GPX3 not in list\n",
      "PLXND1 not in list\n",
      "IRX2: 1.65\n",
      "GABRR1: 0.12\n",
      "ISL1: 0.4\n",
      "ACP1 not in list\n",
      "TNIK: 0.39\n",
      "LRP11: 2.19\n",
      "ZNF764: -0.03\n",
      "GPR26 not in list\n",
      "ENPP6 not in list\n"
     ]
    }
   ],
   "source": [
    "currfeat='Frac G'\n",
    "#currgenelist=['ELMO2','DDX10','SPOUT1','UBTF','TAF1A','TAF1B','TAF1C','POLR1G','POLR1E','POLR1H','PAK1IP1','DKC1','NOP2','PES1','PWP2','WDR18','NAT10']\n",
    "currgenelist=['MAML3','KNSTRN','OPRD1','FLNA','CTRC','MEGF9','GPX3','PLXND1','IRX2','GABRR1','ISL1','ACP1','TNIK','LRP11','ZNF764','GPR26','ENPP6']\n",
    "print(len(currgenelist))\n",
    "idx=myfeat.index(currfeat)\n",
    "\n",
    "for g in currgenelist:\n",
    "    if g in fullgenes:\n",
    "        pos=[i for i, x in enumerate(fullgenes) if x==g]\n",
    "        tmpval=[]\n",
    "        for p in pos:\n",
    "            tmpval.append(round(fullzvec[p,idx],2))\n",
    "        \n",
    "        print(g+': '+str(max(tmpval)))\n",
    "    else:\n",
    "        print(g+' not in list')"
   ]
  },
  {
   "cell_type": "code",
   "execution_count": 22,
   "metadata": {},
   "outputs": [
    {
     "name": "stdout",
     "output_type": "stream",
     "text": [
      "              Gene  Cluster Number  IDR Length  \\\n",
      "1200    MEGF9 IDR1              15         172   \n",
      "2595     ISL1 IDR1              27          47   \n",
      "2596     ISL1 IDR2              10          37   \n",
      "2597     ISL1 IDR3               6          38   \n",
      "8151   GABRR1 IDR1              26          40   \n",
      "8152   GABRR1 IDR2               4          33   \n",
      "13848   LRP11 IDR1              19          32   \n",
      "13849   LRP11 IDR2              24          95   \n",
      "14302   MAML3 IDR1              21          52   \n",
      "14303   MAML3 IDR2              17         105   \n",
      "14304   MAML3 IDR3              10          45   \n",
      "14305   MAML3 IDR4              11         240   \n",
      "14306   MAML3 IDR5              10          31   \n",
      "14307   MAML3 IDR6              11          61   \n",
      "14308   MAML3 IDR7              10          52   \n",
      "14309   MAML3 IDR8              11          49   \n",
      "14310   MAML3 IDR9              10          55   \n",
      "14311  MAML3 IDR10              10         188   \n",
      "14427    IRX2 IDR1               5         207   \n",
      "14428    IRX2 IDR2              20          54   \n",
      "18607   OPRD1 IDR1               0          34   \n",
      "19031    FLNA IDR1               8          39   \n",
      "19032    FLNA IDR2               6          41   \n",
      "19048  ZNF764 IDR1              29          86   \n",
      "21958  KNSTRN IDR1              17          85   \n",
      "22261    TNIK IDR1               9          76   \n",
      "22262    TNIK IDR2              19          79   \n",
      "22263    TNIK IDR3              16         305   \n",
      "22264    TNIK IDR4               7          64   \n",
      "22265    TNIK IDR5               3         121   \n",
      "\n",
      "                                    HPA Location  \n",
      "1200                                 Nucleoplasm  \n",
      "2595                                 Nucleoplasm  \n",
      "2596                                 Nucleoplasm  \n",
      "2597                                 Nucleoplasm  \n",
      "8151                                              \n",
      "8152                                              \n",
      "13848                            Plasma membrane  \n",
      "13849                            Plasma membrane  \n",
      "14302                           Nuclear speckles  \n",
      "14303                           Nuclear speckles  \n",
      "14304                           Nuclear speckles  \n",
      "14305                           Nuclear speckles  \n",
      "14306                           Nuclear speckles  \n",
      "14307                           Nuclear speckles  \n",
      "14308                           Nuclear speckles  \n",
      "14309                           Nuclear speckles  \n",
      "14310                           Nuclear speckles  \n",
      "14311                           Nuclear speckles  \n",
      "14427                      Nucleoli, Nucleoplasm  \n",
      "14428                      Nucleoli, Nucleoplasm  \n",
      "18607                                             \n",
      "19031  Actin filaments, Cytosol, Plasma membrane  \n",
      "19032  Actin filaments, Cytosol, Plasma membrane  \n",
      "19048                                    Cytosol  \n",
      "21958      Centriolar satellite, Mitotic spindle  \n",
      "22261                                Nucleoplasm  \n",
      "22262                                Nucleoplasm  \n",
      "22263                                Nucleoplasm  \n",
      "22264                                Nucleoplasm  \n",
      "22265                                Nucleoplasm  \n"
     ]
    }
   ],
   "source": [
    "#tmpdf=subidrsdfNODIST[subidrsdfNODIST['Gene no Num'].isin(currgenelist)]\n",
    "tmpdf=humandf[humandf['Gene no Num'].isin(currgenelist)]\n",
    "\n",
    "print(tmpdf[['Gene','Cluster Number','IDR Length','HPA Location']])\n"
   ]
  },
  {
   "cell_type": "code",
   "execution_count": 23,
   "metadata": {},
   "outputs": [
    {
     "name": "stdout",
     "output_type": "stream",
     "text": [
      "KNSTRN\n",
      "FLNA\n",
      "LRP11\n"
     ]
    }
   ],
   "source": [
    "pmdf=pd.read_table('data/DepMap/subcell_location_Plasma.tsv')\n",
    "\n",
    "pmgenes=pmdf['Gene'].tolist()\n",
    "\n",
    "for i in range(0,len(currgenelist)):\n",
    "    if currgenelist[i] in pmgenes:\n",
    "        print(currgenelist[i])"
   ]
  },
  {
   "cell_type": "code",
   "execution_count": 24,
   "metadata": {},
   "outputs": [
    {
     "name": "stdout",
     "output_type": "stream",
     "text": [
      "     Accession    Gene       General Process              Category  \\\n",
      "0       Q9H2P0    ADNP  Transcription factor  Transcription factor   \n",
      "1       Q6IQ32   ADNP2  Transcription factor  Transcription factor   \n",
      "2       Q8IUX7   AEBP1  Transcription factor  Transcription factor   \n",
      "3       Q6ZN18   AEBP2  Transcription factor  Transcription factor   \n",
      "4       Q8WYP5  AHCTF1  Transcription factor  Transcription factor   \n",
      "...        ...     ...                   ...                   ...   \n",
      "1628    Q96AP4    ZUP1  Transcription factor  Transcription factor   \n",
      "1629    P98168    ZXDA  Transcription factor  Transcription factor   \n",
      "1630    P98169    ZXDB  Transcription factor  Transcription factor   \n",
      "1631    Q2QGD7    ZXDC  Transcription factor  Transcription factor   \n",
      "1632    Q8IYH5    ZZZ3  Transcription factor  Transcription factor   \n",
      "\n",
      "                                           Location  Cluster Number Test  \\\n",
      "0                                       Nucleoplasm                  1.0   \n",
      "1                             Cytosol, Mitochondria                 24.0   \n",
      "2                                          Vesicles                  7.0   \n",
      "3                                       Nucleoplasm                  8.0   \n",
      "4     Nuclear bodies, Nuclear membrane, Nucleoplasm                  3.0   \n",
      "...                                             ...                  ...   \n",
      "1628                                            NaN                  NaN   \n",
      "1629                                    Nucleoplasm                  0.0   \n",
      "1630                                    Nucleoplasm                  0.0   \n",
      "1631                                       Nucleoli                  8.0   \n",
      "1632            Nucleoli, Nucleoli rim, Nucleoplasm                  4.0   \n",
      "\n",
      "                                             Source  \n",
      "0     http://humantfs.ccbr.utoronto.ca/download.php  \n",
      "1     http://humantfs.ccbr.utoronto.ca/download.php  \n",
      "2     http://humantfs.ccbr.utoronto.ca/download.php  \n",
      "3     http://humantfs.ccbr.utoronto.ca/download.php  \n",
      "4     http://humantfs.ccbr.utoronto.ca/download.php  \n",
      "...                                             ...  \n",
      "1628  http://humantfs.ccbr.utoronto.ca/download.php  \n",
      "1629  http://humantfs.ccbr.utoronto.ca/download.php  \n",
      "1630  http://humantfs.ccbr.utoronto.ca/download.php  \n",
      "1631  http://humantfs.ccbr.utoronto.ca/download.php  \n",
      "1632  http://humantfs.ccbr.utoronto.ca/download.php  \n",
      "\n",
      "[1633 rows x 7 columns]\n",
      "IRX2\n",
      "ISL1\n",
      "ZNF764\n"
     ]
    }
   ],
   "source": [
    "tmpdf=pd.read_excel('../general_data/Nucleoplasm_processes.xlsx',sheet_name='Transcription_Factors')\n",
    "print(tmpdf)\n",
    "\n",
    "tfgenes=tmpdf['Gene'].tolist()\n",
    "\n",
    "for i in range(0,len(currgenelist)):\n",
    "    if currgenelist[i] in tfgenes:\n",
    "        print(currgenelist[i])"
   ]
  },
  {
   "cell_type": "code",
   "execution_count": 25,
   "metadata": {},
   "outputs": [
    {
     "name": "stdout",
     "output_type": "stream",
     "text": [
      "    Accession   Gene          General Process        Category  \\\n",
      "0      Q9NY61   AATF  Transcription co-factor  TcoF: class HC   \n",
      "1      O43707  ACTN4  Transcription co-factor  TcoF: class HC   \n",
      "2      Q08117   TLE5  Transcription co-factor  TcoF: class HC   \n",
      "3      Q96IF1  AJUBA  Transcription co-factor  TcoF: class HC   \n",
      "4      P31749   AKT1  Transcription co-factor  TcoF: class HC   \n",
      "..        ...    ...                      ...             ...   \n",
      "384    O00308   WWP2  Transcription co-factor  TcoF: class HC   \n",
      "385    Q9GZV5  WWTR1  Transcription co-factor  TcoF: class HC   \n",
      "386    Q8IY57   YAF2  Transcription co-factor  TcoF: class HC   \n",
      "387    P46937   YAP1  Transcription co-factor  TcoF: class HC   \n",
      "388    Q8NF64  ZMIZ2  Transcription co-factor  TcoF: class HC   \n",
      "\n",
      "                         Location  Cluster Number Test   Source  \n",
      "0                        Nucleoli                  7.0  TcoF-DB  \n",
      "1                             NaN                  NaN  TcoF-DB  \n",
      "2                     Nucleoplasm                  4.0  TcoF-DB  \n",
      "3    Golgi apparatus, Nucleoplasm                  0.0  TcoF-DB  \n",
      "4                     Nucleoplasm                  7.0  TcoF-DB  \n",
      "..                            ...                  ...      ...  \n",
      "384                             0                 27.0  TcoF-DB  \n",
      "385   Nuclear bodies, Nucleoplasm                 11.0  TcoF-DB  \n",
      "386                   Nucleoplasm                  6.0  TcoF-DB  \n",
      "387                   Nucleoplasm                 10.0  TcoF-DB  \n",
      "388                   Nucleoplasm                 10.0  TcoF-DB  \n",
      "\n",
      "[389 rows x 7 columns]\n",
      "MAML3\n",
      "FLNA\n"
     ]
    }
   ],
   "source": [
    "tmpdf=pd.read_excel('../general_data/Nucleoplasm_processes.xlsx',sheet_name='Transcriptional_CoFactor')\n",
    "print(tmpdf)\n",
    "\n",
    "tfgenes=tmpdf['Gene'].tolist()\n",
    "\n",
    "for i in range(0,len(currgenelist)):\n",
    "    if currgenelist[i] in tfgenes:\n",
    "        print(currgenelist[i])"
   ]
  },
  {
   "cell_type": "code",
   "execution_count": null,
   "metadata": {},
   "outputs": [],
   "source": []
  }
 ],
 "metadata": {
  "kernelspec": {
   "display_name": "Python 3",
   "language": "python",
   "name": "python3"
  },
  "language_info": {
   "codemirror_mode": {
    "name": "ipython",
    "version": 3
   },
   "file_extension": ".py",
   "mimetype": "text/x-python",
   "name": "python",
   "nbconvert_exporter": "python",
   "pygments_lexer": "ipython3",
   "version": "3.7.7"
  }
 },
 "nbformat": 4,
 "nbformat_minor": 4
}
